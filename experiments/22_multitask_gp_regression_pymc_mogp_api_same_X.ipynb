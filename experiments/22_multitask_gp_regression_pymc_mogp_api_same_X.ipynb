{
 "cells": [
  {
   "cell_type": "markdown",
   "id": "60e420cd-0986-4ae7-bc89-7b03fd37602c",
   "metadata": {},
   "source": [
    "# Multitask GP Regression using pymc with GP LatentKron\n",
    "Data Source: https://docs.gpytorch.ai/en/latest/examples/03_Multitask_Exact_GPs/Multitask_GP_Regression.html"
   ]
  },
  {
   "cell_type": "code",
   "execution_count": 53,
   "id": "4a200358",
   "metadata": {},
   "outputs": [],
   "source": [
    "import numpy as np\n",
    "import pymc as pm\n",
    "from pymc.gp.cov import Covariance\n",
    "import arviz as az\n",
    "import matplotlib.pyplot as plt\n",
    "# set the seed\n",
    "np.random.seed(1)"
   ]
  },
  {
   "cell_type": "code",
   "execution_count": 54,
   "id": "a71a8cdb-00c2-42b2-a90f-30727eee65ee",
   "metadata": {},
   "outputs": [
    {
     "name": "stdout",
     "output_type": "stream",
     "text": [
      "The autoreload extension is already loaded. To reload it, use:\n",
      "  %reload_ext autoreload\n"
     ]
    }
   ],
   "source": [
    "import math\n",
    "%matplotlib inline\n",
    "%load_ext autoreload\n",
    "%reload_ext autoreload\n",
    "%autoreload 2"
   ]
  },
  {
   "cell_type": "markdown",
   "id": "6e2a2775-0e11-483d-a1b8-f814e48406d9",
   "metadata": {
    "tags": []
   },
   "source": [
    "### Set up training data: same X, three Y outputs"
   ]
  },
  {
   "cell_type": "code",
   "execution_count": 55,
   "id": "de99c1b3-1299-4c67-8b56-ab041aff25c9",
   "metadata": {},
   "outputs": [],
   "source": [
    "train_x = np.linspace(0, 1, 50)\n",
    "\n",
    "train_y = np.stack([\n",
    "    np.sin(train_x * (2 * math.pi)) + np.random.randn(len(train_x)) * 0.2,\n",
    "    np.cos(train_x * (2 * math.pi)) + np.random.randn(len(train_x)) * 0.2,\n",
    "    np.cos(train_x * (1 * math.pi)) + np.random.randn(len(train_x)) * 0.1,\n",
    "], -1)"
   ]
  },
  {
   "cell_type": "code",
   "execution_count": 56,
   "id": "f046d8de-a5ee-4c63-b52a-ffba8bf535a8",
   "metadata": {},
   "outputs": [
    {
     "data": {
      "text/plain": [
       "((50,), (50, 3))"
      ]
     },
     "execution_count": 56,
     "metadata": {},
     "output_type": "execute_result"
    }
   ],
   "source": [
    "train_x.shape, train_y.shape"
   ]
  },
  {
   "cell_type": "code",
   "execution_count": 57,
   "id": "4fc07e29",
   "metadata": {},
   "outputs": [
    {
     "data": {
      "text/plain": [
       "<matplotlib.legend.Legend at 0x7fdedc3e3ca0>"
      ]
     },
     "execution_count": 57,
     "metadata": {},
     "output_type": "execute_result"
    },
    {
     "data": {
      "image/png": "[encoded data removed]",
      "text/plain": [
       "<Figure size 864x360 with 1 Axes>"
      ]
     },
     "metadata": {
      "needs_background": "light"
     },
     "output_type": "display_data"
    }
   ],
   "source": [
    "fig, ax = plt.subplots(1,1, figsize=(12,5))\n",
    "ax.scatter(train_x, train_y[:,0])\n",
    "ax.scatter(train_x, train_y[:,1])\n",
    "ax.scatter(train_x, train_y[:,2])\n",
    "plt.legend([\"y1\", \"y2\", \"y3\"])"
   ]
  },
  {
   "cell_type": "code",
   "execution_count": 58,
   "id": "c0508eb1",
   "metadata": {},
   "outputs": [
    {
     "data": {
      "text/plain": [
       "((50,), (50, 3))"
      ]
     },
     "execution_count": 58,
     "metadata": {},
     "output_type": "execute_result"
    }
   ],
   "source": [
    "train_x.shape, train_y.shape"
   ]
  },
  {
   "cell_type": "code",
   "execution_count": 59,
   "id": "13414811",
   "metadata": {},
   "outputs": [
    {
     "data": {
      "text/plain": [
       "((50, 1), (150, 1))"
      ]
     },
     "execution_count": 59,
     "metadata": {},
     "output_type": "execute_result"
    }
   ],
   "source": [
    "x = train_x.reshape(-1,1)\n",
    "y = train_y.reshape(-1,1)\n",
    "x.shape, y.shape"
   ]
  },
  {
   "cell_type": "code",
   "execution_count": 60,
   "id": "e1b57901-bb43-4156-b19e-50844983b1d6",
   "metadata": {},
   "outputs": [
    {
     "data": {
      "text/plain": [
       "((50, 1), (3, 1), (50, 1))"
      ]
     },
     "execution_count": 60,
     "metadata": {},
     "output_type": "execute_result"
    }
   ],
   "source": [
    "task_i = np.linspace(0, 2, 3)[:, None]\n",
    "Xs = [x, task_i] # For training\n",
    "Xs[0].shape, Xs[1].shape, x.shape"
   ]
  },
  {
   "cell_type": "code",
   "execution_count": 61,
   "id": "8c8cbe4a-08d4-4f24-a267-f552e9af00b3",
   "metadata": {},
   "outputs": [
    {
     "data": {
      "text/plain": [
       "(150, 2)"
      ]
     },
     "execution_count": 61,
     "metadata": {},
     "output_type": "execute_result"
    }
   ],
   "source": [
    "Xnew = pm.math.cartesian(x, task_i) # For prediction\n",
    "Xnew.shape"
   ]
  },
  {
   "cell_type": "markdown",
   "id": "65c4918f-41c5-448e-8338-bf94465753e2",
   "metadata": {},
   "source": [
    "### Option 1: Implement ICM (one kernel) by using LatentKron with Coregion kernel\n",
    "\n",
    "$$\n",
    "K = K_1(x, x') \\otimes K_2(o, o')\n",
    "$$"
   ]
  },
  {
   "cell_type": "markdown",
   "id": "45cb94fb-cbae-4d76-9525-08e70af594ac",
   "metadata": {},
   "source": [
    "#### Create a model"
   ]
  },
  {
   "cell_type": "code",
   "execution_count": 62,
   "id": "9c85d660-6ad3-49fa-b513-a0700e724a2c",
   "metadata": {},
   "outputs": [],
   "source": [
    "with pm.Model() as model:\n",
    "    # Kernel: K_1(x,x')\n",
    "    ell = pm.Gamma(\"ell\", alpha=2, beta=0.5)\n",
    "    eta = pm.Gamma(\"eta\", alpha=3, beta=1)\n",
    "    cov = eta**2 * pm.gp.cov.ExpQuad(input_dim=1, ls=ell)\n",
    "    \n",
    "    # Coregion B matrix: K_2(o,o')\n",
    "    W = pm.Normal(\"W\", mu=0, sigma=3, shape=(3,2), initval=np.random.randn(3,2))\n",
    "    kappa = pm.Gamma(\"kappa\", alpha=1.5, beta=1, shape=3)\n",
    "    coreg = pm.gp.cov.Coregion(input_dim=1, kappa=kappa, W=W)\n",
    "    \n",
    "    # Specify the GP.  The default mean function is `Zero`.\n",
    "    mogp = pm.gp.LatentKron(cov_funcs=[cov, coreg])\n",
    "    sigma = pm.HalfNormal(\"sigma\", sigma=3)\n",
    "    # Place a GP prior over the function f.\n",
    "    f = mogp.prior(\"f\", Xs=Xs)\n",
    "    y_ = pm.Normal(\"y_\", mu=f, sigma=sigma, observed=y.squeeze())    "
   ]
  },
  {
   "cell_type": "code",
   "execution_count": 63,
   "id": "18424242-d34f-4464-b943-68da3859d534",
   "metadata": {},
   "outputs": [
    {
     "data": {
      "text/plain": [
       "array([[11.09234154,  1.67862241, -8.9377234 ],\n",
       "       [ 1.67862241, 54.39746469, 10.42329995],\n",
       "       [-8.9377234 , 10.42329995, 12.58066715]])"
      ]
     },
     "execution_count": 63,
     "metadata": {},
     "output_type": "execute_result"
    }
   ],
   "source": [
    "coreg.full(task_i).eval()"
   ]
  },
  {
   "cell_type": "code",
   "execution_count": 64,
   "id": "4faa5e17-eab6-433e-b5ae-6df362de5bc5",
   "metadata": {},
   "outputs": [
    {
     "data": {
      "image/svg+xml": [
       "<?xml version=\"1.0\" encoding=\"UTF-8\" standalone=\"no\"?>\n",
       "<!DOCTYPE svg PUBLIC \"-//W3C//DTD SVG 1.1//EN\"\n",
       " \"http://www.w3.org/Graphics/SVG/1.1/DTD/svg11.dtd\">\n",
       "<!-- Generated by graphviz version 3.0.0 (20220315.2325)\n",
       " -->\n",
       "<!-- Pages: 1 -->\n",
       "<svg width=\"680pt\" height=\"363pt\"\n",
       " viewBox=\"0.00 0.00 679.69 362.86\" xmlns=\"http://www.w3.org/2000/svg\" xmlns:xlink=\"http://www.w3.org/1999/xlink\">\n",
       "<g id=\"graph0\" class=\"graph\" transform=\"scale(1 1) rotate(0) translate(4 358.86)\">\n",
       "<polygon fill=\"white\" stroke=\"transparent\" points=\"-4,4 -4,-358.86 675.69,-358.86 675.69,4 -4,4\"/>\n",
       "<g id=\"clust1\" class=\"cluster\">\n",
       "<title>cluster3 x 2</title>\n",
       "<path fill=\"none\" stroke=\"black\" d=\"M465.69,-232.91C465.69,-232.91 541.69,-232.91 541.69,-232.91 547.69,-232.91 553.69,-238.91 553.69,-244.91 553.69,-244.91 553.69,-334.86 553.69,-334.86 553.69,-340.86 547.69,-346.86 541.69,-346.86 541.69,-346.86 465.69,-346.86 465.69,-346.86 459.69,-346.86 453.69,-340.86 453.69,-334.86 453.69,-334.86 453.69,-244.91 453.69,-244.91 453.69,-238.91 459.69,-232.91 465.69,-232.91\"/>\n",
       "<text text-anchor=\"middle\" x=\"531.69\" y=\"-240.71\" font-family=\"Times,serif\" font-size=\"14.00\">3 x 2</text>\n",
       "</g>\n",
       "<g id=\"clust2\" class=\"cluster\">\n",
       "<title>cluster3</title>\n",
       "<path fill=\"none\" stroke=\"black\" d=\"M573.69,-232.91C573.69,-232.91 651.69,-232.91 651.69,-232.91 657.69,-232.91 663.69,-238.91 663.69,-244.91 663.69,-244.91 663.69,-334.86 663.69,-334.86 663.69,-340.86 657.69,-346.86 651.69,-346.86 651.69,-346.86 573.69,-346.86 573.69,-346.86 567.69,-346.86 561.69,-340.86 561.69,-334.86 561.69,-334.86 561.69,-244.91 561.69,-244.91 561.69,-238.91 567.69,-232.91 573.69,-232.91\"/>\n",
       "<text text-anchor=\"middle\" x=\"652.19\" y=\"-240.71\" font-family=\"Times,serif\" font-size=\"14.00\">3</text>\n",
       "</g>\n",
       "<g id=\"clust3\" class=\"cluster\">\n",
       "<title>cluster150</title>\n",
       "<path fill=\"none\" stroke=\"black\" d=\"M137.69,-8C137.69,-8 231.69,-8 231.69,-8 237.69,-8 243.69,-14 243.69,-20 243.69,-20 243.69,-334.86 243.69,-334.86 243.69,-340.86 237.69,-346.86 231.69,-346.86 231.69,-346.86 137.69,-346.86 137.69,-346.86 131.69,-346.86 125.69,-340.86 125.69,-334.86 125.69,-334.86 125.69,-20 125.69,-20 125.69,-14 131.69,-8 137.69,-8\"/>\n",
       "<text text-anchor=\"middle\" x=\"225.19\" y=\"-15.8\" font-family=\"Times,serif\" font-size=\"14.00\">150</text>\n",
       "</g>\n",
       "<!-- sigma -->\n",
       "<g id=\"node1\" class=\"node\">\n",
       "<title>sigma</title>\n",
       "<ellipse fill=\"none\" stroke=\"black\" cx=\"58.69\" cy=\"-187.43\" rx=\"58.88\" ry=\"37.45\"/>\n",
       "<text text-anchor=\"middle\" x=\"58.69\" y=\"-198.73\" font-family=\"Times,serif\" font-size=\"14.00\">sigma</text>\n",
       "<text text-anchor=\"middle\" x=\"58.69\" y=\"-183.73\" font-family=\"Times,serif\" font-size=\"14.00\">~</text>\n",
       "<text text-anchor=\"middle\" x=\"58.69\" y=\"-168.73\" font-family=\"Times,serif\" font-size=\"14.00\">HalfNormal</text>\n",
       "</g>\n",
       "<!-- y_ -->\n",
       "<g id=\"node7\" class=\"node\">\n",
       "<title>y_</title>\n",
       "<ellipse fill=\"lightgrey\" stroke=\"black\" cx=\"182.69\" cy=\"-76.48\" rx=\"41.94\" ry=\"37.45\"/>\n",
       "<text text-anchor=\"middle\" x=\"182.69\" y=\"-87.78\" font-family=\"Times,serif\" font-size=\"14.00\">y_</text>\n",
       "<text text-anchor=\"middle\" x=\"182.69\" y=\"-72.78\" font-family=\"Times,serif\" font-size=\"14.00\">~</text>\n",
       "<text text-anchor=\"middle\" x=\"182.69\" y=\"-57.78\" font-family=\"Times,serif\" font-size=\"14.00\">Normal</text>\n",
       "</g>\n",
       "<!-- sigma&#45;&gt;y_ -->\n",
       "<g id=\"edge6\" class=\"edge\">\n",
       "<title>sigma&#45;&gt;y_</title>\n",
       "<path fill=\"none\" stroke=\"black\" d=\"M92.57,-156.66C108.84,-142.36 128.39,-125.19 145.11,-110.5\"/>\n",
       "<polygon fill=\"black\" stroke=\"black\" points=\"147.87,-112.73 153.07,-103.5 143.25,-107.48 147.87,-112.73\"/>\n",
       "</g>\n",
       "<!-- eta -->\n",
       "<g id=\"node2\" class=\"node\">\n",
       "<title>eta</title>\n",
       "<ellipse fill=\"none\" stroke=\"black\" cx=\"296.69\" cy=\"-301.38\" rx=\"43.27\" ry=\"37.45\"/>\n",
       "<text text-anchor=\"middle\" x=\"296.69\" y=\"-312.68\" font-family=\"Times,serif\" font-size=\"14.00\">eta</text>\n",
       "<text text-anchor=\"middle\" x=\"296.69\" y=\"-297.68\" font-family=\"Times,serif\" font-size=\"14.00\">~</text>\n",
       "<text text-anchor=\"middle\" x=\"296.69\" y=\"-282.68\" font-family=\"Times,serif\" font-size=\"14.00\">Gamma</text>\n",
       "</g>\n",
       "<!-- f -->\n",
       "<g id=\"node8\" class=\"node\">\n",
       "<title>f</title>\n",
       "<polygon fill=\"none\" stroke=\"black\" points=\"235.19,-213.93 144.19,-213.93 144.19,-160.93 235.19,-160.93 235.19,-213.93\"/>\n",
       "<text text-anchor=\"middle\" x=\"189.69\" y=\"-198.73\" font-family=\"Times,serif\" font-size=\"14.00\">f</text>\n",
       "<text text-anchor=\"middle\" x=\"189.69\" y=\"-183.73\" font-family=\"Times,serif\" font-size=\"14.00\">~</text>\n",
       "<text text-anchor=\"middle\" x=\"189.69\" y=\"-168.73\" font-family=\"Times,serif\" font-size=\"14.00\">Deterministic</text>\n",
       "</g>\n",
       "<!-- eta&#45;&gt;f -->\n",
       "<g id=\"edge3\" class=\"edge\">\n",
       "<title>eta&#45;&gt;f</title>\n",
       "<path fill=\"none\" stroke=\"black\" d=\"M276.25,-268.33C268.06,-256.6 258.1,-243.59 247.69,-232.91 243.55,-228.66 238.99,-224.47 234.29,-220.48\"/>\n",
       "<polygon fill=\"black\" stroke=\"black\" points=\"236.28,-217.58 226.32,-213.95 231.84,-222.99 236.28,-217.58\"/>\n",
       "</g>\n",
       "<!-- ell -->\n",
       "<g id=\"node3\" class=\"node\">\n",
       "<title>ell</title>\n",
       "<ellipse fill=\"none\" stroke=\"black\" cx=\"400.69\" cy=\"-301.38\" rx=\"43.27\" ry=\"37.45\"/>\n",
       "<text text-anchor=\"middle\" x=\"400.69\" y=\"-312.68\" font-family=\"Times,serif\" font-size=\"14.00\">ell</text>\n",
       "<text text-anchor=\"middle\" x=\"400.69\" y=\"-297.68\" font-family=\"Times,serif\" font-size=\"14.00\">~</text>\n",
       "<text text-anchor=\"middle\" x=\"400.69\" y=\"-282.68\" font-family=\"Times,serif\" font-size=\"14.00\">Gamma</text>\n",
       "</g>\n",
       "<!-- ell&#45;&gt;f -->\n",
       "<g id=\"edge4\" class=\"edge\">\n",
       "<title>ell&#45;&gt;f</title>\n",
       "<path fill=\"none\" stroke=\"black\" d=\"M381.68,-267.41C373.05,-255 361.81,-241.76 348.69,-232.91 318.03,-212.22 277.88,-201.09 245.6,-195.13\"/>\n",
       "<polygon fill=\"black\" stroke=\"black\" points=\"245.87,-191.63 235.42,-193.38 244.68,-198.53 245.87,-191.63\"/>\n",
       "</g>\n",
       "<!-- W -->\n",
       "<g id=\"node4\" class=\"node\">\n",
       "<title>W</title>\n",
       "<ellipse fill=\"none\" stroke=\"black\" cx=\"503.69\" cy=\"-301.38\" rx=\"41.94\" ry=\"37.45\"/>\n",
       "<text text-anchor=\"middle\" x=\"503.69\" y=\"-312.68\" font-family=\"Times,serif\" font-size=\"14.00\">W</text>\n",
       "<text text-anchor=\"middle\" x=\"503.69\" y=\"-297.68\" font-family=\"Times,serif\" font-size=\"14.00\">~</text>\n",
       "<text text-anchor=\"middle\" x=\"503.69\" y=\"-282.68\" font-family=\"Times,serif\" font-size=\"14.00\">Normal</text>\n",
       "</g>\n",
       "<!-- W&#45;&gt;f -->\n",
       "<g id=\"edge5\" class=\"edge\">\n",
       "<title>W&#45;&gt;f</title>\n",
       "<path fill=\"none\" stroke=\"black\" d=\"M486.09,-267.4C477.65,-254.68 466.37,-241.21 452.69,-232.91 418.73,-212.29 312.16,-199.33 245.56,-193.03\"/>\n",
       "<polygon fill=\"black\" stroke=\"black\" points=\"245.51,-189.51 235.23,-192.07 244.86,-196.48 245.51,-189.51\"/>\n",
       "</g>\n",
       "<!-- kappa -->\n",
       "<g id=\"node5\" class=\"node\">\n",
       "<title>kappa</title>\n",
       "<ellipse fill=\"none\" stroke=\"black\" cx=\"612.69\" cy=\"-301.38\" rx=\"43.27\" ry=\"37.45\"/>\n",
       "<text text-anchor=\"middle\" x=\"612.69\" y=\"-312.68\" font-family=\"Times,serif\" font-size=\"14.00\">kappa</text>\n",
       "<text text-anchor=\"middle\" x=\"612.69\" y=\"-297.68\" font-family=\"Times,serif\" font-size=\"14.00\">~</text>\n",
       "<text text-anchor=\"middle\" x=\"612.69\" y=\"-282.68\" font-family=\"Times,serif\" font-size=\"14.00\">Gamma</text>\n",
       "</g>\n",
       "<!-- kappa&#45;&gt;f -->\n",
       "<g id=\"edge2\" class=\"edge\">\n",
       "<title>kappa&#45;&gt;f</title>\n",
       "<path fill=\"none\" stroke=\"black\" d=\"M593.64,-267.4C584.45,-254.52 572.25,-240.93 557.69,-232.91 505.3,-204.04 334.96,-193.65 245.59,-190.12\"/>\n",
       "<polygon fill=\"black\" stroke=\"black\" points=\"245.49,-186.61 235.36,-189.73 245.23,-193.6 245.49,-186.61\"/>\n",
       "</g>\n",
       "<!-- f_rotated_ -->\n",
       "<g id=\"node6\" class=\"node\">\n",
       "<title>f_rotated_</title>\n",
       "<ellipse fill=\"none\" stroke=\"black\" cx=\"184.69\" cy=\"-301.38\" rx=\"50.82\" ry=\"37.45\"/>\n",
       "<text text-anchor=\"middle\" x=\"184.69\" y=\"-312.68\" font-family=\"Times,serif\" font-size=\"14.00\">f_rotated_</text>\n",
       "<text text-anchor=\"middle\" x=\"184.69\" y=\"-297.68\" font-family=\"Times,serif\" font-size=\"14.00\">~</text>\n",
       "<text text-anchor=\"middle\" x=\"184.69\" y=\"-282.68\" font-family=\"Times,serif\" font-size=\"14.00\">Normal</text>\n",
       "</g>\n",
       "<!-- f_rotated_&#45;&gt;f -->\n",
       "<g id=\"edge1\" class=\"edge\">\n",
       "<title>f_rotated_&#45;&gt;f</title>\n",
       "<path fill=\"none\" stroke=\"black\" d=\"M186.33,-263.73C186.89,-251.07 187.52,-236.92 188.09,-224.32\"/>\n",
       "<polygon fill=\"black\" stroke=\"black\" points=\"191.59,-224.33 188.54,-214.18 184.6,-224.01 191.59,-224.33\"/>\n",
       "</g>\n",
       "<!-- f&#45;&gt;y_ -->\n",
       "<g id=\"edge7\" class=\"edge\">\n",
       "<title>f&#45;&gt;y_</title>\n",
       "<path fill=\"none\" stroke=\"black\" d=\"M188.05,-160.89C187.35,-149.98 186.51,-136.89 185.7,-124.35\"/>\n",
       "<polygon fill=\"black\" stroke=\"black\" points=\"189.17,-123.76 185.04,-114 182.18,-124.21 189.17,-123.76\"/>\n",
       "</g>\n",
       "</g>\n",
       "</svg>\n"
      ],
      "text/plain": [
       "<graphviz.graphs.Digraph at 0x7fdedc9c2c10>"
      ]
     },
     "execution_count": 64,
     "metadata": {},
     "output_type": "execute_result"
    }
   ],
   "source": [
    "pm.model_to_graphviz(model)"
   ]
  },
  {
   "cell_type": "code",
   "execution_count": 65,
   "id": "cf3f19ed-7b03-4f2d-b329-4a9c8ad829fd",
   "metadata": {},
   "outputs": [
    {
     "name": "stderr",
     "output_type": "stream",
     "text": [
      "Auto-assigning NUTS sampler...\n",
      "Initializing NUTS using jitter+adapt_diag...\n",
      "Sequential sampling (1 chains in 1 job)\n",
      "NUTS: [ell, eta, W, kappa, sigma, f_rotated_]\n"
     ]
    },
    {
     "data": {
      "text/html": [
       "\n",
       "<style>\n",
       "    /* Turns off some styling */\n",
       "    progress {\n",
       "        /* gets rid of default border in Firefox and Opera. */\n",
       "        border: none;\n",
       "        /* Needs to be in here for Safari polyfill so background images work as expected. */\n",
       "        background-size: auto;\n",
       "    }\n",
       "    .progress-bar-interrupted, .progress-bar-interrupted::-webkit-progress-bar {\n",
       "        background: #F44336;\n",
       "    }\n",
       "</style>\n"
      ],
      "text/plain": [
       "<IPython.core.display.HTML object>"
      ]
     },
     "metadata": {},
     "output_type": "display_data"
    },
    {
     "data": {
      "text/html": [
       "\n",
       "    <div>\n",
       "      <progress value='1500' class='' max='1500' style='width:300px; height:20px; vertical-align: middle;'></progress>\n",
       "      100.00% [1500/1500 04:09<00:00 Sampling chain 0, 37 divergences]\n",
       "    </div>\n",
       "    "
      ],
      "text/plain": [
       "<IPython.core.display.HTML object>"
      ]
     },
     "metadata": {},
     "output_type": "display_data"
    },
    {
     "name": "stderr",
     "output_type": "stream",
     "text": [
      "Sampling 1 chain for 1_000 tune and 500 draw iterations (1_000 + 500 draws total) took 250 seconds.\n",
      "There were 37 divergences after tuning. Increase `target_accept` or reparameterize.\n"
     ]
    },
    {
     "name": "stdout",
     "output_type": "stream",
     "text": [
      "CPU times: user 10min 40s, sys: 22min 18s, total: 32min 59s\n",
      "Wall time: 4min 14s\n"
     ]
    }
   ],
   "source": [
    "%%time\n",
    "with model:\n",
    "    gp_trace = pm.sample(500, chains=1)"
   ]
  },
  {
   "cell_type": "markdown",
   "id": "bdf37234-46f0-44a1-a969-25ab2b869439",
   "metadata": {},
   "source": [
    "#### Prediction"
   ]
  },
  {
   "cell_type": "code",
   "execution_count": 66,
   "id": "509d6f65-0b06-4851-b0ba-744d8daa06d2",
   "metadata": {},
   "outputs": [
    {
     "data": {
      "text/html": [
       "\n",
       "<style>\n",
       "    /* Turns off some styling */\n",
       "    progress {\n",
       "        /* gets rid of default border in Firefox and Opera. */\n",
       "        border: none;\n",
       "        /* Needs to be in here for Safari polyfill so background images work as expected. */\n",
       "        background-size: auto;\n",
       "    }\n",
       "    .progress-bar-interrupted, .progress-bar-interrupted::-webkit-progress-bar {\n",
       "        background: #F44336;\n",
       "    }\n",
       "</style>\n"
      ],
      "text/plain": [
       "<IPython.core.display.HTML object>"
      ]
     },
     "metadata": {},
     "output_type": "display_data"
    },
    {
     "data": {
      "text/html": [
       "\n",
       "    <div>\n",
       "      <progress value='500' class='' max='500' style='width:300px; height:20px; vertical-align: middle;'></progress>\n",
       "      100.00% [500/500 00:03<00:00]\n",
       "    </div>\n",
       "    "
      ],
      "text/plain": [
       "<IPython.core.display.HTML object>"
      ]
     },
     "metadata": {},
     "output_type": "display_data"
    }
   ],
   "source": [
    "with model:\n",
    "    preds = mogp.conditional(\"preds\", Xnew, jitter=1e-6)\n",
    "    gp_samples = pm.sample_posterior_predictive(gp_trace, var_names=['preds'])"
   ]
  },
  {
   "cell_type": "code",
   "execution_count": 67,
   "id": "1e1eb87f-38f8-4a58-9e16-cc3674431617",
   "metadata": {},
   "outputs": [
    {
     "data": {
      "image/svg+xml": [
       "<?xml version=\"1.0\" encoding=\"UTF-8\" standalone=\"no\"?>\n",
       "<!DOCTYPE svg PUBLIC \"-//W3C//DTD SVG 1.1//EN\"\n",
       " \"http://www.w3.org/Graphics/SVG/1.1/DTD/svg11.dtd\">\n",
       "<!-- Generated by graphviz version 3.0.0 (20220315.2325)\n",
       " -->\n",
       "<!-- Pages: 1 -->\n",
       "<svg width=\"684pt\" height=\"363pt\"\n",
       " viewBox=\"0.00 0.00 683.69 362.86\" xmlns=\"http://www.w3.org/2000/svg\" xmlns:xlink=\"http://www.w3.org/1999/xlink\">\n",
       "<g id=\"graph0\" class=\"graph\" transform=\"scale(1 1) rotate(0) translate(4 358.86)\">\n",
       "<polygon fill=\"white\" stroke=\"transparent\" points=\"-4,4 -4,-358.86 679.69,-358.86 679.69,4 -4,4\"/>\n",
       "<g id=\"clust1\" class=\"cluster\">\n",
       "<title>cluster3 x 2</title>\n",
       "<path fill=\"none\" stroke=\"black\" d=\"M469.69,-232.91C469.69,-232.91 545.69,-232.91 545.69,-232.91 551.69,-232.91 557.69,-238.91 557.69,-244.91 557.69,-244.91 557.69,-334.86 557.69,-334.86 557.69,-340.86 551.69,-346.86 545.69,-346.86 545.69,-346.86 469.69,-346.86 469.69,-346.86 463.69,-346.86 457.69,-340.86 457.69,-334.86 457.69,-334.86 457.69,-244.91 457.69,-244.91 457.69,-238.91 463.69,-232.91 469.69,-232.91\"/>\n",
       "<text text-anchor=\"middle\" x=\"535.69\" y=\"-240.71\" font-family=\"Times,serif\" font-size=\"14.00\">3 x 2</text>\n",
       "</g>\n",
       "<g id=\"clust2\" class=\"cluster\">\n",
       "<title>cluster3</title>\n",
       "<path fill=\"none\" stroke=\"black\" d=\"M577.69,-232.91C577.69,-232.91 655.69,-232.91 655.69,-232.91 661.69,-232.91 667.69,-238.91 667.69,-244.91 667.69,-244.91 667.69,-334.86 667.69,-334.86 667.69,-340.86 661.69,-346.86 655.69,-346.86 655.69,-346.86 577.69,-346.86 577.69,-346.86 571.69,-346.86 565.69,-340.86 565.69,-334.86 565.69,-334.86 565.69,-244.91 565.69,-244.91 565.69,-238.91 571.69,-232.91 577.69,-232.91\"/>\n",
       "<text text-anchor=\"middle\" x=\"656.19\" y=\"-240.71\" font-family=\"Times,serif\" font-size=\"14.00\">3</text>\n",
       "</g>\n",
       "<g id=\"clust3\" class=\"cluster\">\n",
       "<title>cluster150</title>\n",
       "<path fill=\"none\" stroke=\"black\" d=\"M137.69,-8C137.69,-8 341.69,-8 341.69,-8 347.69,-8 353.69,-14 353.69,-20 353.69,-20 353.69,-334.86 353.69,-334.86 353.69,-340.86 347.69,-346.86 341.69,-346.86 341.69,-346.86 137.69,-346.86 137.69,-346.86 131.69,-346.86 125.69,-340.86 125.69,-334.86 125.69,-334.86 125.69,-20 125.69,-20 125.69,-14 131.69,-8 137.69,-8\"/>\n",
       "<text text-anchor=\"middle\" x=\"335.19\" y=\"-15.8\" font-family=\"Times,serif\" font-size=\"14.00\">150</text>\n",
       "</g>\n",
       "<!-- sigma -->\n",
       "<g id=\"node1\" class=\"node\">\n",
       "<title>sigma</title>\n",
       "<ellipse fill=\"none\" stroke=\"black\" cx=\"58.69\" cy=\"-187.43\" rx=\"58.88\" ry=\"37.45\"/>\n",
       "<text text-anchor=\"middle\" x=\"58.69\" y=\"-198.73\" font-family=\"Times,serif\" font-size=\"14.00\">sigma</text>\n",
       "<text text-anchor=\"middle\" x=\"58.69\" y=\"-183.73\" font-family=\"Times,serif\" font-size=\"14.00\">~</text>\n",
       "<text text-anchor=\"middle\" x=\"58.69\" y=\"-168.73\" font-family=\"Times,serif\" font-size=\"14.00\">HalfNormal</text>\n",
       "</g>\n",
       "<!-- y_ -->\n",
       "<g id=\"node7\" class=\"node\">\n",
       "<title>y_</title>\n",
       "<ellipse fill=\"lightgrey\" stroke=\"black\" cx=\"175.69\" cy=\"-76.48\" rx=\"41.94\" ry=\"37.45\"/>\n",
       "<text text-anchor=\"middle\" x=\"175.69\" y=\"-87.78\" font-family=\"Times,serif\" font-size=\"14.00\">y_</text>\n",
       "<text text-anchor=\"middle\" x=\"175.69\" y=\"-72.78\" font-family=\"Times,serif\" font-size=\"14.00\">~</text>\n",
       "<text text-anchor=\"middle\" x=\"175.69\" y=\"-57.78\" font-family=\"Times,serif\" font-size=\"14.00\">Normal</text>\n",
       "</g>\n",
       "<!-- sigma&#45;&gt;y_ -->\n",
       "<g id=\"edge6\" class=\"edge\">\n",
       "<title>sigma&#45;&gt;y_</title>\n",
       "<path fill=\"none\" stroke=\"black\" d=\"M91.28,-156.08C106.39,-142.01 124.39,-125.25 139.87,-110.83\"/>\n",
       "<polygon fill=\"black\" stroke=\"black\" points=\"142.32,-113.34 147.25,-103.96 137.55,-108.21 142.32,-113.34\"/>\n",
       "</g>\n",
       "<!-- eta -->\n",
       "<g id=\"node2\" class=\"node\">\n",
       "<title>eta</title>\n",
       "<ellipse fill=\"none\" stroke=\"black\" cx=\"74.69\" cy=\"-301.38\" rx=\"43.27\" ry=\"37.45\"/>\n",
       "<text text-anchor=\"middle\" x=\"74.69\" y=\"-312.68\" font-family=\"Times,serif\" font-size=\"14.00\">eta</text>\n",
       "<text text-anchor=\"middle\" x=\"74.69\" y=\"-297.68\" font-family=\"Times,serif\" font-size=\"14.00\">~</text>\n",
       "<text text-anchor=\"middle\" x=\"74.69\" y=\"-282.68\" font-family=\"Times,serif\" font-size=\"14.00\">Gamma</text>\n",
       "</g>\n",
       "<!-- f -->\n",
       "<g id=\"node8\" class=\"node\">\n",
       "<title>f</title>\n",
       "<polygon fill=\"none\" stroke=\"black\" points=\"337.19,-213.93 246.19,-213.93 246.19,-160.93 337.19,-160.93 337.19,-213.93\"/>\n",
       "<text text-anchor=\"middle\" x=\"291.69\" y=\"-198.73\" font-family=\"Times,serif\" font-size=\"14.00\">f</text>\n",
       "<text text-anchor=\"middle\" x=\"291.69\" y=\"-183.73\" font-family=\"Times,serif\" font-size=\"14.00\">~</text>\n",
       "<text text-anchor=\"middle\" x=\"291.69\" y=\"-168.73\" font-family=\"Times,serif\" font-size=\"14.00\">Deterministic</text>\n",
       "</g>\n",
       "<!-- eta&#45;&gt;f -->\n",
       "<g id=\"edge3\" class=\"edge\">\n",
       "<title>eta&#45;&gt;f</title>\n",
       "<path fill=\"none\" stroke=\"black\" d=\"M90.56,-266.32C98.18,-253.75 108.54,-240.69 121.69,-232.91 150.54,-215.83 164.1,-232.76 196.69,-224.91 209.83,-221.74 223.6,-217.21 236.45,-212.41\"/>\n",
       "<polygon fill=\"black\" stroke=\"black\" points=\"238,-215.57 246.07,-208.71 235.48,-209.03 238,-215.57\"/>\n",
       "</g>\n",
       "<!-- preds -->\n",
       "<g id=\"node9\" class=\"node\">\n",
       "<title>preds</title>\n",
       "<ellipse fill=\"none\" stroke=\"black\" cx=\"290.69\" cy=\"-76.48\" rx=\"55.31\" ry=\"37.45\"/>\n",
       "<text text-anchor=\"middle\" x=\"290.69\" y=\"-87.78\" font-family=\"Times,serif\" font-size=\"14.00\">preds</text>\n",
       "<text text-anchor=\"middle\" x=\"290.69\" y=\"-72.78\" font-family=\"Times,serif\" font-size=\"14.00\">~</text>\n",
       "<text text-anchor=\"middle\" x=\"290.69\" y=\"-57.78\" font-family=\"Times,serif\" font-size=\"14.00\">MvNormal</text>\n",
       "</g>\n",
       "<!-- eta&#45;&gt;preds -->\n",
       "<g id=\"edge10\" class=\"edge\">\n",
       "<title>eta&#45;&gt;preds</title>\n",
       "<path fill=\"none\" stroke=\"black\" d=\"M95.08,-268.07C102.89,-256.56 112.21,-243.77 121.69,-232.91 160.93,-187.96 212.06,-142.44 247.76,-112.38\"/>\n",
       "<polygon fill=\"black\" stroke=\"black\" points=\"250.16,-114.93 255.58,-105.83 245.67,-109.57 250.16,-114.93\"/>\n",
       "</g>\n",
       "<!-- ell -->\n",
       "<g id=\"node3\" class=\"node\">\n",
       "<title>ell</title>\n",
       "<ellipse fill=\"none\" stroke=\"black\" cx=\"404.69\" cy=\"-301.38\" rx=\"43.27\" ry=\"37.45\"/>\n",
       "<text text-anchor=\"middle\" x=\"404.69\" y=\"-312.68\" font-family=\"Times,serif\" font-size=\"14.00\">ell</text>\n",
       "<text text-anchor=\"middle\" x=\"404.69\" y=\"-297.68\" font-family=\"Times,serif\" font-size=\"14.00\">~</text>\n",
       "<text text-anchor=\"middle\" x=\"404.69\" y=\"-282.68\" font-family=\"Times,serif\" font-size=\"14.00\">Gamma</text>\n",
       "</g>\n",
       "<!-- ell&#45;&gt;f -->\n",
       "<g id=\"edge4\" class=\"edge\">\n",
       "<title>ell&#45;&gt;f</title>\n",
       "<path fill=\"none\" stroke=\"black\" d=\"M385.39,-267.6C377.63,-255.91 368.07,-243.12 357.69,-232.91 353.17,-228.45 348.14,-224.17 342.94,-220.13\"/>\n",
       "<polygon fill=\"black\" stroke=\"black\" points=\"344.79,-217.14 334.67,-214 340.62,-222.77 344.79,-217.14\"/>\n",
       "</g>\n",
       "<!-- ell&#45;&gt;preds -->\n",
       "<g id=\"edge11\" class=\"edge\">\n",
       "<title>ell&#45;&gt;preds</title>\n",
       "<path fill=\"none\" stroke=\"black\" d=\"M394.19,-264.74C384.21,-233.41 367.64,-187.15 346.69,-149.95 340.41,-138.8 332.54,-127.5 324.71,-117.24\"/>\n",
       "<polygon fill=\"black\" stroke=\"black\" points=\"327.38,-114.98 318.46,-109.26 321.87,-119.29 327.38,-114.98\"/>\n",
       "</g>\n",
       "<!-- W -->\n",
       "<g id=\"node4\" class=\"node\">\n",
       "<title>W</title>\n",
       "<ellipse fill=\"none\" stroke=\"black\" cx=\"507.69\" cy=\"-301.38\" rx=\"41.94\" ry=\"37.45\"/>\n",
       "<text text-anchor=\"middle\" x=\"507.69\" y=\"-312.68\" font-family=\"Times,serif\" font-size=\"14.00\">W</text>\n",
       "<text text-anchor=\"middle\" x=\"507.69\" y=\"-297.68\" font-family=\"Times,serif\" font-size=\"14.00\">~</text>\n",
       "<text text-anchor=\"middle\" x=\"507.69\" y=\"-282.68\" font-family=\"Times,serif\" font-size=\"14.00\">Normal</text>\n",
       "</g>\n",
       "<!-- W&#45;&gt;f -->\n",
       "<g id=\"edge5\" class=\"edge\">\n",
       "<title>W&#45;&gt;f</title>\n",
       "<path fill=\"none\" stroke=\"black\" d=\"M489.21,-267.35C480.76,-254.92 469.72,-241.69 456.69,-232.91 424.26,-211.03 381.46,-199.89 347.58,-194.23\"/>\n",
       "<polygon fill=\"black\" stroke=\"black\" points=\"347.79,-190.72 337.37,-192.64 346.72,-197.64 347.79,-190.72\"/>\n",
       "</g>\n",
       "<!-- W&#45;&gt;preds -->\n",
       "<g id=\"edge12\" class=\"edge\">\n",
       "<title>W&#45;&gt;preds</title>\n",
       "<path fill=\"none\" stroke=\"black\" d=\"M485.6,-269.55C476.89,-257.83 466.61,-244.52 456.69,-232.91 423.41,-193.97 414.1,-184.94 376.69,-149.95 363.1,-137.24 347.71,-123.95 333.74,-112.28\"/>\n",
       "<polygon fill=\"black\" stroke=\"black\" points=\"335.64,-109.3 325.71,-105.6 331.17,-114.68 335.64,-109.3\"/>\n",
       "</g>\n",
       "<!-- kappa -->\n",
       "<g id=\"node5\" class=\"node\">\n",
       "<title>kappa</title>\n",
       "<ellipse fill=\"none\" stroke=\"black\" cx=\"616.69\" cy=\"-301.38\" rx=\"43.27\" ry=\"37.45\"/>\n",
       "<text text-anchor=\"middle\" x=\"616.69\" y=\"-312.68\" font-family=\"Times,serif\" font-size=\"14.00\">kappa</text>\n",
       "<text text-anchor=\"middle\" x=\"616.69\" y=\"-297.68\" font-family=\"Times,serif\" font-size=\"14.00\">~</text>\n",
       "<text text-anchor=\"middle\" x=\"616.69\" y=\"-282.68\" font-family=\"Times,serif\" font-size=\"14.00\">Gamma</text>\n",
       "</g>\n",
       "<!-- kappa&#45;&gt;f -->\n",
       "<g id=\"edge2\" class=\"edge\">\n",
       "<title>kappa&#45;&gt;f</title>\n",
       "<path fill=\"none\" stroke=\"black\" d=\"M597.46,-267.71C588.25,-254.87 576.07,-241.24 561.69,-232.91 526.16,-212.32 415.49,-199.26 347.37,-192.94\"/>\n",
       "<polygon fill=\"black\" stroke=\"black\" points=\"347.5,-189.44 337.23,-192.02 346.87,-196.41 347.5,-189.44\"/>\n",
       "</g>\n",
       "<!-- kappa&#45;&gt;preds -->\n",
       "<g id=\"edge8\" class=\"edge\">\n",
       "<title>kappa&#45;&gt;preds</title>\n",
       "<path fill=\"none\" stroke=\"black\" d=\"M594.59,-268.9C585.25,-256.84 573.74,-243.46 561.69,-232.91 495.39,-174.88 404.1,-127.9 346.24,-101.32\"/>\n",
       "<polygon fill=\"black\" stroke=\"black\" points=\"347.45,-98.03 336.9,-97.08 344.55,-104.4 347.45,-98.03\"/>\n",
       "</g>\n",
       "<!-- f_rotated_ -->\n",
       "<g id=\"node6\" class=\"node\">\n",
       "<title>f_rotated_</title>\n",
       "<ellipse fill=\"none\" stroke=\"black\" cx=\"291.69\" cy=\"-301.38\" rx=\"50.82\" ry=\"37.45\"/>\n",
       "<text text-anchor=\"middle\" x=\"291.69\" y=\"-312.68\" font-family=\"Times,serif\" font-size=\"14.00\">f_rotated_</text>\n",
       "<text text-anchor=\"middle\" x=\"291.69\" y=\"-297.68\" font-family=\"Times,serif\" font-size=\"14.00\">~</text>\n",
       "<text text-anchor=\"middle\" x=\"291.69\" y=\"-282.68\" font-family=\"Times,serif\" font-size=\"14.00\">Normal</text>\n",
       "</g>\n",
       "<!-- f_rotated_&#45;&gt;f -->\n",
       "<g id=\"edge1\" class=\"edge\">\n",
       "<title>f_rotated_&#45;&gt;f</title>\n",
       "<path fill=\"none\" stroke=\"black\" d=\"M291.69,-263.73C291.69,-251.07 291.69,-236.92 291.69,-224.32\"/>\n",
       "<polygon fill=\"black\" stroke=\"black\" points=\"295.19,-224.18 291.69,-214.18 288.19,-224.18 295.19,-224.18\"/>\n",
       "</g>\n",
       "<!-- f&#45;&gt;y_ -->\n",
       "<g id=\"edge7\" class=\"edge\">\n",
       "<title>f&#45;&gt;y_</title>\n",
       "<path fill=\"none\" stroke=\"black\" d=\"M264.49,-160.89C248.81,-146.16 228.9,-127.46 211.91,-111.5\"/>\n",
       "<polygon fill=\"black\" stroke=\"black\" points=\"214.02,-108.68 204.33,-104.38 209.23,-113.78 214.02,-108.68\"/>\n",
       "</g>\n",
       "<!-- f&#45;&gt;preds -->\n",
       "<g id=\"edge9\" class=\"edge\">\n",
       "<title>f&#45;&gt;preds</title>\n",
       "<path fill=\"none\" stroke=\"black\" d=\"M291.46,-160.89C291.36,-149.98 291.24,-136.89 291.12,-124.35\"/>\n",
       "<polygon fill=\"black\" stroke=\"black\" points=\"294.62,-123.97 291.03,-114 287.62,-124.03 294.62,-123.97\"/>\n",
       "</g>\n",
       "</g>\n",
       "</svg>\n"
      ],
      "text/plain": [
       "<graphviz.graphs.Digraph at 0x7fded99849d0>"
      ]
     },
     "execution_count": 67,
     "metadata": {},
     "output_type": "execute_result"
    }
   ],
   "source": [
    "pm.model_to_graphviz(model)"
   ]
  },
  {
   "cell_type": "code",
   "execution_count": 68,
   "id": "5cd6b855-29dc-4091-9923-d12f56978444",
   "metadata": {},
   "outputs": [
    {
     "data": {
      "text/plain": [
       "(500, 150)"
      ]
     },
     "execution_count": 68,
     "metadata": {},
     "output_type": "execute_result"
    }
   ],
   "source": [
    "f_pred = gp_samples.posterior_predictive[\"preds\"].sel(chain=0)\n",
    "f_pred.shape"
   ]
  },
  {
   "cell_type": "markdown",
   "id": "a559944a-3b65-4644-b92a-f1a8369fc9bb",
   "metadata": {},
   "source": [
    "#### Plot the first GP"
   ]
  },
  {
   "cell_type": "code",
   "execution_count": 69,
   "id": "acc0be0d-17f6-4803-a130-0aaf070e0443",
   "metadata": {},
   "outputs": [
    {
     "data": {
      "image/png": "[encoded data removed]",
      "text/plain": [
       "<Figure size 576x288 with 1 Axes>"
      ]
     },
     "metadata": {
      "needs_background": "light"
     },
     "output_type": "display_data"
    }
   ],
   "source": [
    "from pymc.gp.util import plot_gp_dist\n",
    "fig, axes = plt.subplots(1,1, figsize=(8,4))\n",
    "plt.plot(x, train_y[:,0], 'ok', ms=3, alpha=0.5, label=\"Data 1\");\n",
    "plot_gp_dist(axes, f_pred[:, 0:50], x)\n",
    "plt.show()\n",
    "# The result seems wrong!"
   ]
  },
  {
   "cell_type": "markdown",
   "id": "095bb8a4-8220-4a23-9e71-a3f5ef73eab9",
   "metadata": {},
   "source": [
    "#### Plot the second GP"
   ]
  },
  {
   "cell_type": "code",
   "execution_count": 70,
   "id": "309b8fef-36fd-4ebd-99d0-6a014008ee69",
   "metadata": {},
   "outputs": [
    {
     "data": {
      "image/png": "[encoded data removed]",
      "text/plain": [
       "<Figure size 576x288 with 1 Axes>"
      ]
     },
     "metadata": {
      "needs_background": "light"
     },
     "output_type": "display_data"
    }
   ],
   "source": [
    "from pymc.gp.util import plot_gp_dist\n",
    "fig, axes = plt.subplots(1,1, figsize=(8,4))\n",
    "plt.plot(x, train_y[:,1], 'ok', ms=3, alpha=0.5, label=\"Data 1\");\n",
    "plot_gp_dist(axes, f_pred[:, 50:100], x)\n",
    "plt.show()\n",
    "# The result seems wrong!"
   ]
  },
  {
   "cell_type": "markdown",
   "id": "80de256f-f348-4622-bc82-3cfae999cc1f",
   "metadata": {},
   "source": [
    "### Option2: Implement ICM (one kernel) by using LatentKron with CoregionMatrix\n",
    "\n",
    "$$\n",
    "K = K_1(x, x') \\otimes K_2(o, o')\n",
    "$$"
   ]
  },
  {
   "cell_type": "code",
   "execution_count": 71,
   "id": "a2d14de4-c9af-4d17-84ab-fe312fea3499",
   "metadata": {},
   "outputs": [],
   "source": [
    "class CoregionMatrix(Covariance):\n",
    "    r\"\"\"\n",
    "    Coregion Matrix valued covariance function.\n",
    "\n",
    "    .. math::\n",
    "\n",
    "       k(x, x') = B(x, x')    \"\"\"\n",
    "    \n",
    "    def __init__(self, W, B):\n",
    "        super().__init__(1, None)\n",
    "        self.W = W\n",
    "        self.B = B\n",
    "\n",
    "    def diag(self, X):\n",
    "        return at.alloc(self.B, X.shape[0])\n",
    "\n",
    "    def full(self, X, Xs=None):\n",
    "        if Xs is None:\n",
    "            return at.alloc(self.B, X.shape[0], X.shape[0])\n",
    "        else:\n",
    "            return at.alloc(self.B, X.shape[0], Xs.shape[0])"
   ]
  },
  {
   "cell_type": "markdown",
   "id": "5dfd5c1e-e8d7-471b-bea0-c60bf853053e",
   "metadata": {},
   "source": [
    "#### Create a model"
   ]
  },
  {
   "cell_type": "code",
   "execution_count": 72,
   "id": "ddd97806-679d-4e00-b96a-05feb59552dd",
   "metadata": {},
   "outputs": [],
   "source": [
    "import aesara.tensor as at\n",
    "\n",
    "with pm.Model() as model:\n",
    "    # Kernel: K_1(x,x')\n",
    "    ell = pm.Gamma(\"ell\", alpha=2, beta=0.5)\n",
    "    eta = pm.Gamma(\"eta\", alpha=3, beta=1)\n",
    "    cov = eta**2 * pm.gp.cov.ExpQuad(input_dim=1, ls=ell)\n",
    "    \n",
    "    # Coregion B matrix: K_2(o,o')\n",
    "    W = pm.Normal(\"W\", mu=0, sigma=3, shape=(3,2), initval=np.random.randn(3,2))\n",
    "    kappa = pm.Gamma(\"kappa\", alpha=1.5, beta=1, shape=3)\n",
    "    B = W @ W.T + kappa\n",
    "    B = B + at.identity_like(B)\n",
    "    coreg = CoregionMatrix(W=W,B=B)\n",
    "    \n",
    "    # Specify the GP.  The default mean function is `Zero`.\n",
    "    mogp = pm.gp.LatentKron(cov_funcs=[cov, coreg])\n",
    "    sigma = pm.HalfNormal(\"sigma\", sigma=3)\n",
    "    # Place a GP prior over the function f.\n",
    "    f = mogp.prior(\"f\", Xs=Xs)\n",
    "    y_ = pm.Normal(\"y_\", mu=f, sigma=sigma, observed=y.squeeze())    "
   ]
  },
  {
   "cell_type": "code",
   "execution_count": 73,
   "id": "2199b0ba-f035-4eca-acca-72177e750e69",
   "metadata": {},
   "outputs": [
    {
     "data": {
      "text/plain": [
       "array([[ 67.63692996,  -9.64114925,  20.29208658],\n",
       "       [-10.08392291,   7.33428088,  11.55083737],\n",
       "       [ 18.98657951,  10.68810397,  64.14558826]])"
      ]
     },
     "execution_count": 73,
     "metadata": {},
     "output_type": "execute_result"
    }
   ],
   "source": [
    "coreg.full(task_i).eval()"
   ]
  },
  {
   "cell_type": "code",
   "execution_count": 74,
   "id": "38bad5c5-3833-473d-85e3-ac6a4acf6125",
   "metadata": {},
   "outputs": [
    {
     "data": {
      "image/svg+xml": [
       "<?xml version=\"1.0\" encoding=\"UTF-8\" standalone=\"no\"?>\n",
       "<!DOCTYPE svg PUBLIC \"-//W3C//DTD SVG 1.1//EN\"\n",
       " \"http://www.w3.org/Graphics/SVG/1.1/DTD/svg11.dtd\">\n",
       "<!-- Generated by graphviz version 3.0.0 (20220315.2325)\n",
       " -->\n",
       "<!-- Pages: 1 -->\n",
       "<svg width=\"680pt\" height=\"363pt\"\n",
       " viewBox=\"0.00 0.00 679.69 362.86\" xmlns=\"http://www.w3.org/2000/svg\" xmlns:xlink=\"http://www.w3.org/1999/xlink\">\n",
       "<g id=\"graph0\" class=\"graph\" transform=\"scale(1 1) rotate(0) translate(4 358.86)\">\n",
       "<polygon fill=\"white\" stroke=\"transparent\" points=\"-4,4 -4,-358.86 675.69,-358.86 675.69,4 -4,4\"/>\n",
       "<g id=\"clust1\" class=\"cluster\">\n",
       "<title>cluster3 x 2</title>\n",
       "<path fill=\"none\" stroke=\"black\" d=\"M465.69,-232.91C465.69,-232.91 541.69,-232.91 541.69,-232.91 547.69,-232.91 553.69,-238.91 553.69,-244.91 553.69,-244.91 553.69,-334.86 553.69,-334.86 553.69,-340.86 547.69,-346.86 541.69,-346.86 541.69,-346.86 465.69,-346.86 465.69,-346.86 459.69,-346.86 453.69,-340.86 453.69,-334.86 453.69,-334.86 453.69,-244.91 453.69,-244.91 453.69,-238.91 459.69,-232.91 465.69,-232.91\"/>\n",
       "<text text-anchor=\"middle\" x=\"531.69\" y=\"-240.71\" font-family=\"Times,serif\" font-size=\"14.00\">3 x 2</text>\n",
       "</g>\n",
       "<g id=\"clust2\" class=\"cluster\">\n",
       "<title>cluster3</title>\n",
       "<path fill=\"none\" stroke=\"black\" d=\"M573.69,-232.91C573.69,-232.91 651.69,-232.91 651.69,-232.91 657.69,-232.91 663.69,-238.91 663.69,-244.91 663.69,-244.91 663.69,-334.86 663.69,-334.86 663.69,-340.86 657.69,-346.86 651.69,-346.86 651.69,-346.86 573.69,-346.86 573.69,-346.86 567.69,-346.86 561.69,-340.86 561.69,-334.86 561.69,-334.86 561.69,-244.91 561.69,-244.91 561.69,-238.91 567.69,-232.91 573.69,-232.91\"/>\n",
       "<text text-anchor=\"middle\" x=\"652.19\" y=\"-240.71\" font-family=\"Times,serif\" font-size=\"14.00\">3</text>\n",
       "</g>\n",
       "<g id=\"clust3\" class=\"cluster\">\n",
       "<title>cluster150</title>\n",
       "<path fill=\"none\" stroke=\"black\" d=\"M137.69,-8C137.69,-8 231.69,-8 231.69,-8 237.69,-8 243.69,-14 243.69,-20 243.69,-20 243.69,-334.86 243.69,-334.86 243.69,-340.86 237.69,-346.86 231.69,-346.86 231.69,-346.86 137.69,-346.86 137.69,-346.86 131.69,-346.86 125.69,-340.86 125.69,-334.86 125.69,-334.86 125.69,-20 125.69,-20 125.69,-14 131.69,-8 137.69,-8\"/>\n",
       "<text text-anchor=\"middle\" x=\"225.19\" y=\"-15.8\" font-family=\"Times,serif\" font-size=\"14.00\">150</text>\n",
       "</g>\n",
       "<!-- sigma -->\n",
       "<g id=\"node1\" class=\"node\">\n",
       "<title>sigma</title>\n",
       "<ellipse fill=\"none\" stroke=\"black\" cx=\"58.69\" cy=\"-187.43\" rx=\"58.88\" ry=\"37.45\"/>\n",
       "<text text-anchor=\"middle\" x=\"58.69\" y=\"-198.73\" font-family=\"Times,serif\" font-size=\"14.00\">sigma</text>\n",
       "<text text-anchor=\"middle\" x=\"58.69\" y=\"-183.73\" font-family=\"Times,serif\" font-size=\"14.00\">~</text>\n",
       "<text text-anchor=\"middle\" x=\"58.69\" y=\"-168.73\" font-family=\"Times,serif\" font-size=\"14.00\">HalfNormal</text>\n",
       "</g>\n",
       "<!-- y_ -->\n",
       "<g id=\"node7\" class=\"node\">\n",
       "<title>y_</title>\n",
       "<ellipse fill=\"lightgrey\" stroke=\"black\" cx=\"182.69\" cy=\"-76.48\" rx=\"41.94\" ry=\"37.45\"/>\n",
       "<text text-anchor=\"middle\" x=\"182.69\" y=\"-87.78\" font-family=\"Times,serif\" font-size=\"14.00\">y_</text>\n",
       "<text text-anchor=\"middle\" x=\"182.69\" y=\"-72.78\" font-family=\"Times,serif\" font-size=\"14.00\">~</text>\n",
       "<text text-anchor=\"middle\" x=\"182.69\" y=\"-57.78\" font-family=\"Times,serif\" font-size=\"14.00\">Normal</text>\n",
       "</g>\n",
       "<!-- sigma&#45;&gt;y_ -->\n",
       "<g id=\"edge6\" class=\"edge\">\n",
       "<title>sigma&#45;&gt;y_</title>\n",
       "<path fill=\"none\" stroke=\"black\" d=\"M92.57,-156.66C108.84,-142.36 128.39,-125.19 145.11,-110.5\"/>\n",
       "<polygon fill=\"black\" stroke=\"black\" points=\"147.87,-112.73 153.07,-103.5 143.25,-107.48 147.87,-112.73\"/>\n",
       "</g>\n",
       "<!-- eta -->\n",
       "<g id=\"node2\" class=\"node\">\n",
       "<title>eta</title>\n",
       "<ellipse fill=\"none\" stroke=\"black\" cx=\"296.69\" cy=\"-301.38\" rx=\"43.27\" ry=\"37.45\"/>\n",
       "<text text-anchor=\"middle\" x=\"296.69\" y=\"-312.68\" font-family=\"Times,serif\" font-size=\"14.00\">eta</text>\n",
       "<text text-anchor=\"middle\" x=\"296.69\" y=\"-297.68\" font-family=\"Times,serif\" font-size=\"14.00\">~</text>\n",
       "<text text-anchor=\"middle\" x=\"296.69\" y=\"-282.68\" font-family=\"Times,serif\" font-size=\"14.00\">Gamma</text>\n",
       "</g>\n",
       "<!-- f -->\n",
       "<g id=\"node8\" class=\"node\">\n",
       "<title>f</title>\n",
       "<polygon fill=\"none\" stroke=\"black\" points=\"235.19,-213.93 144.19,-213.93 144.19,-160.93 235.19,-160.93 235.19,-213.93\"/>\n",
       "<text text-anchor=\"middle\" x=\"189.69\" y=\"-198.73\" font-family=\"Times,serif\" font-size=\"14.00\">f</text>\n",
       "<text text-anchor=\"middle\" x=\"189.69\" y=\"-183.73\" font-family=\"Times,serif\" font-size=\"14.00\">~</text>\n",
       "<text text-anchor=\"middle\" x=\"189.69\" y=\"-168.73\" font-family=\"Times,serif\" font-size=\"14.00\">Deterministic</text>\n",
       "</g>\n",
       "<!-- eta&#45;&gt;f -->\n",
       "<g id=\"edge3\" class=\"edge\">\n",
       "<title>eta&#45;&gt;f</title>\n",
       "<path fill=\"none\" stroke=\"black\" d=\"M276.25,-268.33C268.06,-256.6 258.1,-243.59 247.69,-232.91 243.55,-228.66 238.99,-224.47 234.29,-220.48\"/>\n",
       "<polygon fill=\"black\" stroke=\"black\" points=\"236.28,-217.58 226.32,-213.95 231.84,-222.99 236.28,-217.58\"/>\n",
       "</g>\n",
       "<!-- ell -->\n",
       "<g id=\"node3\" class=\"node\">\n",
       "<title>ell</title>\n",
       "<ellipse fill=\"none\" stroke=\"black\" cx=\"400.69\" cy=\"-301.38\" rx=\"43.27\" ry=\"37.45\"/>\n",
       "<text text-anchor=\"middle\" x=\"400.69\" y=\"-312.68\" font-family=\"Times,serif\" font-size=\"14.00\">ell</text>\n",
       "<text text-anchor=\"middle\" x=\"400.69\" y=\"-297.68\" font-family=\"Times,serif\" font-size=\"14.00\">~</text>\n",
       "<text text-anchor=\"middle\" x=\"400.69\" y=\"-282.68\" font-family=\"Times,serif\" font-size=\"14.00\">Gamma</text>\n",
       "</g>\n",
       "<!-- ell&#45;&gt;f -->\n",
       "<g id=\"edge4\" class=\"edge\">\n",
       "<title>ell&#45;&gt;f</title>\n",
       "<path fill=\"none\" stroke=\"black\" d=\"M381.68,-267.41C373.05,-255 361.81,-241.76 348.69,-232.91 318.03,-212.22 277.88,-201.09 245.6,-195.13\"/>\n",
       "<polygon fill=\"black\" stroke=\"black\" points=\"245.87,-191.63 235.42,-193.38 244.68,-198.53 245.87,-191.63\"/>\n",
       "</g>\n",
       "<!-- W -->\n",
       "<g id=\"node4\" class=\"node\">\n",
       "<title>W</title>\n",
       "<ellipse fill=\"none\" stroke=\"black\" cx=\"503.69\" cy=\"-301.38\" rx=\"41.94\" ry=\"37.45\"/>\n",
       "<text text-anchor=\"middle\" x=\"503.69\" y=\"-312.68\" font-family=\"Times,serif\" font-size=\"14.00\">W</text>\n",
       "<text text-anchor=\"middle\" x=\"503.69\" y=\"-297.68\" font-family=\"Times,serif\" font-size=\"14.00\">~</text>\n",
       "<text text-anchor=\"middle\" x=\"503.69\" y=\"-282.68\" font-family=\"Times,serif\" font-size=\"14.00\">Normal</text>\n",
       "</g>\n",
       "<!-- W&#45;&gt;f -->\n",
       "<g id=\"edge5\" class=\"edge\">\n",
       "<title>W&#45;&gt;f</title>\n",
       "<path fill=\"none\" stroke=\"black\" d=\"M486.09,-267.4C477.65,-254.68 466.37,-241.21 452.69,-232.91 418.73,-212.29 312.16,-199.33 245.56,-193.03\"/>\n",
       "<polygon fill=\"black\" stroke=\"black\" points=\"245.51,-189.51 235.23,-192.07 244.86,-196.48 245.51,-189.51\"/>\n",
       "</g>\n",
       "<!-- kappa -->\n",
       "<g id=\"node5\" class=\"node\">\n",
       "<title>kappa</title>\n",
       "<ellipse fill=\"none\" stroke=\"black\" cx=\"612.69\" cy=\"-301.38\" rx=\"43.27\" ry=\"37.45\"/>\n",
       "<text text-anchor=\"middle\" x=\"612.69\" y=\"-312.68\" font-family=\"Times,serif\" font-size=\"14.00\">kappa</text>\n",
       "<text text-anchor=\"middle\" x=\"612.69\" y=\"-297.68\" font-family=\"Times,serif\" font-size=\"14.00\">~</text>\n",
       "<text text-anchor=\"middle\" x=\"612.69\" y=\"-282.68\" font-family=\"Times,serif\" font-size=\"14.00\">Gamma</text>\n",
       "</g>\n",
       "<!-- kappa&#45;&gt;f -->\n",
       "<g id=\"edge2\" class=\"edge\">\n",
       "<title>kappa&#45;&gt;f</title>\n",
       "<path fill=\"none\" stroke=\"black\" d=\"M593.64,-267.4C584.45,-254.52 572.25,-240.93 557.69,-232.91 505.3,-204.04 334.96,-193.65 245.59,-190.12\"/>\n",
       "<polygon fill=\"black\" stroke=\"black\" points=\"245.49,-186.61 235.36,-189.73 245.23,-193.6 245.49,-186.61\"/>\n",
       "</g>\n",
       "<!-- f_rotated_ -->\n",
       "<g id=\"node6\" class=\"node\">\n",
       "<title>f_rotated_</title>\n",
       "<ellipse fill=\"none\" stroke=\"black\" cx=\"184.69\" cy=\"-301.38\" rx=\"50.82\" ry=\"37.45\"/>\n",
       "<text text-anchor=\"middle\" x=\"184.69\" y=\"-312.68\" font-family=\"Times,serif\" font-size=\"14.00\">f_rotated_</text>\n",
       "<text text-anchor=\"middle\" x=\"184.69\" y=\"-297.68\" font-family=\"Times,serif\" font-size=\"14.00\">~</text>\n",
       "<text text-anchor=\"middle\" x=\"184.69\" y=\"-282.68\" font-family=\"Times,serif\" font-size=\"14.00\">Normal</text>\n",
       "</g>\n",
       "<!-- f_rotated_&#45;&gt;f -->\n",
       "<g id=\"edge1\" class=\"edge\">\n",
       "<title>f_rotated_&#45;&gt;f</title>\n",
       "<path fill=\"none\" stroke=\"black\" d=\"M186.33,-263.73C186.89,-251.07 187.52,-236.92 188.09,-224.32\"/>\n",
       "<polygon fill=\"black\" stroke=\"black\" points=\"191.59,-224.33 188.54,-214.18 184.6,-224.01 191.59,-224.33\"/>\n",
       "</g>\n",
       "<!-- f&#45;&gt;y_ -->\n",
       "<g id=\"edge7\" class=\"edge\">\n",
       "<title>f&#45;&gt;y_</title>\n",
       "<path fill=\"none\" stroke=\"black\" d=\"M188.05,-160.89C187.35,-149.98 186.51,-136.89 185.7,-124.35\"/>\n",
       "<polygon fill=\"black\" stroke=\"black\" points=\"189.17,-123.76 185.04,-114 182.18,-124.21 189.17,-123.76\"/>\n",
       "</g>\n",
       "</g>\n",
       "</svg>\n"
      ],
      "text/plain": [
       "<graphviz.graphs.Digraph at 0x7fdf17cd07f0>"
      ]
     },
     "execution_count": 74,
     "metadata": {},
     "output_type": "execute_result"
    }
   ],
   "source": [
    "pm.model_to_graphviz(model)"
   ]
  },
  {
   "cell_type": "code",
   "execution_count": 75,
   "id": "e70de3e1-33e8-437f-9eb6-fb6e6bdb05fc",
   "metadata": {},
   "outputs": [
    {
     "name": "stderr",
     "output_type": "stream",
     "text": [
      "Auto-assigning NUTS sampler...\n",
      "Initializing NUTS using jitter+adapt_diag...\n",
      "Sequential sampling (1 chains in 1 job)\n",
      "NUTS: [ell, eta, W, kappa, sigma, f_rotated_]\n"
     ]
    },
    {
     "data": {
      "text/html": [
       "\n",
       "<style>\n",
       "    /* Turns off some styling */\n",
       "    progress {\n",
       "        /* gets rid of default border in Firefox and Opera. */\n",
       "        border: none;\n",
       "        /* Needs to be in here for Safari polyfill so background images work as expected. */\n",
       "        background-size: auto;\n",
       "    }\n",
       "    .progress-bar-interrupted, .progress-bar-interrupted::-webkit-progress-bar {\n",
       "        background: #F44336;\n",
       "    }\n",
       "</style>\n"
      ],
      "text/plain": [
       "<IPython.core.display.HTML object>"
      ]
     },
     "metadata": {},
     "output_type": "display_data"
    },
    {
     "data": {
      "text/html": [
       "\n",
       "    <div>\n",
       "      <progress value='1500' class='' max='1500' style='width:300px; height:20px; vertical-align: middle;'></progress>\n",
       "      100.00% [1500/1500 04:43<00:00 Sampling chain 0, 27 divergences]\n",
       "    </div>\n",
       "    "
      ],
      "text/plain": [
       "<IPython.core.display.HTML object>"
      ]
     },
     "metadata": {},
     "output_type": "display_data"
    },
    {
     "name": "stderr",
     "output_type": "stream",
     "text": [
      "Sampling 1 chain for 1_000 tune and 500 draw iterations (1_000 + 500 draws total) took 284 seconds.\n",
      "There were 27 divergences after tuning. Increase `target_accept` or reparameterize.\n"
     ]
    },
    {
     "name": "stdout",
     "output_type": "stream",
     "text": [
      "CPU times: user 11min 49s, sys: 25min 10s, total: 37min\n",
      "Wall time: 4min 48s\n"
     ]
    }
   ],
   "source": [
    "%%time\n",
    "with model:\n",
    "    gp_trace = pm.sample(500, chains=1)"
   ]
  },
  {
   "cell_type": "markdown",
   "id": "a42961ca-2219-4835-9503-5fb9102f6cd9",
   "metadata": {},
   "source": [
    "#### Prediction"
   ]
  },
  {
   "cell_type": "code",
   "execution_count": 76,
   "id": "9a20a67c-ef5d-4336-8eb6-a08e3ae4b2ef",
   "metadata": {},
   "outputs": [
    {
     "data": {
      "text/html": [
       "\n",
       "<style>\n",
       "    /* Turns off some styling */\n",
       "    progress {\n",
       "        /* gets rid of default border in Firefox and Opera. */\n",
       "        border: none;\n",
       "        /* Needs to be in here for Safari polyfill so background images work as expected. */\n",
       "        background-size: auto;\n",
       "    }\n",
       "    .progress-bar-interrupted, .progress-bar-interrupted::-webkit-progress-bar {\n",
       "        background: #F44336;\n",
       "    }\n",
       "</style>\n"
      ],
      "text/plain": [
       "<IPython.core.display.HTML object>"
      ]
     },
     "metadata": {},
     "output_type": "display_data"
    },
    {
     "data": {
      "text/html": [
       "\n",
       "    <div>\n",
       "      <progress value='0' class='' max='500' style='width:300px; height:20px; vertical-align: middle;'></progress>\n",
       "      0.00% [0/500 00:00<00:00]\n",
       "    </div>\n",
       "    "
      ],
      "text/plain": [
       "<IPython.core.display.HTML object>"
      ]
     },
     "metadata": {},
     "output_type": "display_data"
    },
    {
     "ename": "AssertionError",
     "evalue": "Shapes must be equal\nApply node that caused the error: Assert{msg=Shapes must be equal}(Elemwise{Add}[(0, 1)].0, All.0)\nToposort index: 71\nInputs types: [TensorType(float64, (None, None)), TensorType(bool, ())]\nInputs shapes: [(3, 3), ()]\nInputs strides: [(24, 8), ()]\nInputs values: ['not shown', array(False)]\nOutputs clients: [[Elemwise{Composite{(exp((i0 * clip((i1 + i2 + i3), i4, i5))) * i6 * i7)}}[(0, 1)](TensorConstant{(1, 1) of -0.5}, Dot22Scalar.0, InplaceDimShuffle{0,x}.0, InplaceDimShuffle{x,0}.0, TensorConstant{(1, 1) of 0.0}, TensorConstant{(1, 1) of inf}, Elemwise{sqr,no_inplace}.0, Assert{msg=Shapes must be equal}.0)]]\n\nHINT: Re-running with most Aesara optimizations disabled could provide a back-trace showing when this node was created. This can be done by setting the Aesara flag 'optimizer=fast_compile'. If that does not work, Aesara optimizations can be disabled with 'optimizer=None'.\nHINT: Use the Aesara flag `exception_verbosity=high` for a debug print-out and storage map footprint of this Apply node.",
     "output_type": "error",
     "traceback": [
      "\u001b[0;31m---------------------------------------------------------------------------\u001b[0m",
      "\u001b[0;31mAssertionError\u001b[0m                            Traceback (most recent call last)",
      "File \u001b[0;32m~/miniconda3/envs/pymc-dev-py39/lib/python3.9/site-packages/aesara/compile/function/types.py:975\u001b[0m, in \u001b[0;36mFunction.__call__\u001b[0;34m(self, *args, **kwargs)\u001b[0m\n\u001b[1;32m    973\u001b[0m \u001b[38;5;28;01mtry\u001b[39;00m:\n\u001b[1;32m    974\u001b[0m     outputs \u001b[38;5;241m=\u001b[39m (\n\u001b[0;32m--> 975\u001b[0m         \u001b[38;5;28;43mself\u001b[39;49m\u001b[38;5;241;43m.\u001b[39;49m\u001b[43mvm\u001b[49m\u001b[43m(\u001b[49m\u001b[43m)\u001b[49m\n\u001b[1;32m    976\u001b[0m         \u001b[38;5;28;01mif\u001b[39;00m output_subset \u001b[38;5;129;01mis\u001b[39;00m \u001b[38;5;28;01mNone\u001b[39;00m\n\u001b[1;32m    977\u001b[0m         \u001b[38;5;28;01melse\u001b[39;00m \u001b[38;5;28mself\u001b[39m\u001b[38;5;241m.\u001b[39mvm(output_subset\u001b[38;5;241m=\u001b[39moutput_subset)\n\u001b[1;32m    978\u001b[0m     )\n\u001b[1;32m    979\u001b[0m \u001b[38;5;28;01mexcept\u001b[39;00m \u001b[38;5;167;01mException\u001b[39;00m:\n",
      "\u001b[0;31mAssertionError\u001b[0m: Shapes must be equal",
      "\nDuring handling of the above exception, another exception occurred:\n",
      "\u001b[0;31mAssertionError\u001b[0m                            Traceback (most recent call last)",
      "Input \u001b[0;32mIn [76]\u001b[0m, in \u001b[0;36m<cell line: 1>\u001b[0;34m()\u001b[0m\n\u001b[1;32m      1\u001b[0m \u001b[38;5;28;01mwith\u001b[39;00m model:\n\u001b[1;32m      2\u001b[0m     preds \u001b[38;5;241m=\u001b[39m mogp\u001b[38;5;241m.\u001b[39mconditional(\u001b[38;5;124m\"\u001b[39m\u001b[38;5;124mpreds\u001b[39m\u001b[38;5;124m\"\u001b[39m, Xnew, jitter\u001b[38;5;241m=\u001b[39m\u001b[38;5;241m1e-6\u001b[39m)\n\u001b[0;32m----> 3\u001b[0m     gp_samples \u001b[38;5;241m=\u001b[39m \u001b[43mpm\u001b[49m\u001b[38;5;241;43m.\u001b[39;49m\u001b[43msample_posterior_predictive\u001b[49m\u001b[43m(\u001b[49m\u001b[43mgp_trace\u001b[49m\u001b[43m,\u001b[49m\u001b[43m \u001b[49m\u001b[43mvar_names\u001b[49m\u001b[38;5;241;43m=\u001b[39;49m\u001b[43m[\u001b[49m\u001b[38;5;124;43m'\u001b[39;49m\u001b[38;5;124;43mpreds\u001b[39;49m\u001b[38;5;124;43m'\u001b[39;49m\u001b[43m]\u001b[49m\u001b[43m)\u001b[49m\n",
      "File \u001b[0;32m~/WORK/codes/oss/pymc/pymc/sampling.py:1964\u001b[0m, in \u001b[0;36msample_posterior_predictive\u001b[0;34m(trace, samples, model, var_names, keep_size, random_seed, progressbar, return_inferencedata, extend_inferencedata, predictions, idata_kwargs, compile_kwargs)\u001b[0m\n\u001b[1;32m   1959\u001b[0m \u001b[38;5;66;03m# there's only a single chain, but the index might hit it multiple times if\u001b[39;00m\n\u001b[1;32m   1960\u001b[0m \u001b[38;5;66;03m# the number of indices is greater than the length of the trace.\u001b[39;00m\n\u001b[1;32m   1961\u001b[0m \u001b[38;5;28;01melse\u001b[39;00m:\n\u001b[1;32m   1962\u001b[0m     param \u001b[38;5;241m=\u001b[39m _trace[idx \u001b[38;5;241m%\u001b[39m len_trace]\n\u001b[0;32m-> 1964\u001b[0m values \u001b[38;5;241m=\u001b[39m \u001b[43msampler_fn\u001b[49m\u001b[43m(\u001b[49m\u001b[38;5;241;43m*\u001b[39;49m\u001b[38;5;241;43m*\u001b[39;49m\u001b[43mparam\u001b[49m\u001b[43m)\u001b[49m\n\u001b[1;32m   1966\u001b[0m \u001b[38;5;28;01mfor\u001b[39;00m k, v \u001b[38;5;129;01min\u001b[39;00m \u001b[38;5;28mzip\u001b[39m(vars_, values):\n\u001b[1;32m   1967\u001b[0m     ppc_trace_t\u001b[38;5;241m.\u001b[39minsert(k\u001b[38;5;241m.\u001b[39mname, v, idx)\n",
      "File \u001b[0;32m~/WORK/codes/oss/pymc/pymc/util.py:366\u001b[0m, in \u001b[0;36mpoint_wrapper.<locals>.wrapped\u001b[0;34m(**kwargs)\u001b[0m\n\u001b[1;32m    364\u001b[0m \u001b[38;5;28;01mdef\u001b[39;00m \u001b[38;5;21mwrapped\u001b[39m(\u001b[38;5;241m*\u001b[39m\u001b[38;5;241m*\u001b[39mkwargs):\n\u001b[1;32m    365\u001b[0m     input_point \u001b[38;5;241m=\u001b[39m {k: v \u001b[38;5;28;01mfor\u001b[39;00m k, v \u001b[38;5;129;01min\u001b[39;00m kwargs\u001b[38;5;241m.\u001b[39mitems() \u001b[38;5;28;01mif\u001b[39;00m k \u001b[38;5;129;01min\u001b[39;00m ins}\n\u001b[0;32m--> 366\u001b[0m     \u001b[38;5;28;01mreturn\u001b[39;00m \u001b[43mcore_function\u001b[49m\u001b[43m(\u001b[49m\u001b[38;5;241;43m*\u001b[39;49m\u001b[38;5;241;43m*\u001b[39;49m\u001b[43minput_point\u001b[49m\u001b[43m)\u001b[49m\n",
      "File \u001b[0;32m~/miniconda3/envs/pymc-dev-py39/lib/python3.9/site-packages/aesara/compile/function/types.py:988\u001b[0m, in \u001b[0;36mFunction.__call__\u001b[0;34m(self, *args, **kwargs)\u001b[0m\n\u001b[1;32m    986\u001b[0m     \u001b[38;5;28;01mif\u001b[39;00m \u001b[38;5;28mhasattr\u001b[39m(\u001b[38;5;28mself\u001b[39m\u001b[38;5;241m.\u001b[39mvm, \u001b[38;5;124m\"\u001b[39m\u001b[38;5;124mthunks\u001b[39m\u001b[38;5;124m\"\u001b[39m):\n\u001b[1;32m    987\u001b[0m         thunk \u001b[38;5;241m=\u001b[39m \u001b[38;5;28mself\u001b[39m\u001b[38;5;241m.\u001b[39mvm\u001b[38;5;241m.\u001b[39mthunks[\u001b[38;5;28mself\u001b[39m\u001b[38;5;241m.\u001b[39mvm\u001b[38;5;241m.\u001b[39mposition_of_error]\n\u001b[0;32m--> 988\u001b[0m     \u001b[43mraise_with_op\u001b[49m\u001b[43m(\u001b[49m\n\u001b[1;32m    989\u001b[0m \u001b[43m        \u001b[49m\u001b[38;5;28;43mself\u001b[39;49m\u001b[38;5;241;43m.\u001b[39;49m\u001b[43mmaker\u001b[49m\u001b[38;5;241;43m.\u001b[39;49m\u001b[43mfgraph\u001b[49m\u001b[43m,\u001b[49m\n\u001b[1;32m    990\u001b[0m \u001b[43m        \u001b[49m\u001b[43mnode\u001b[49m\u001b[38;5;241;43m=\u001b[39;49m\u001b[38;5;28;43mself\u001b[39;49m\u001b[38;5;241;43m.\u001b[39;49m\u001b[43mvm\u001b[49m\u001b[38;5;241;43m.\u001b[39;49m\u001b[43mnodes\u001b[49m\u001b[43m[\u001b[49m\u001b[38;5;28;43mself\u001b[39;49m\u001b[38;5;241;43m.\u001b[39;49m\u001b[43mvm\u001b[49m\u001b[38;5;241;43m.\u001b[39;49m\u001b[43mposition_of_error\u001b[49m\u001b[43m]\u001b[49m\u001b[43m,\u001b[49m\n\u001b[1;32m    991\u001b[0m \u001b[43m        \u001b[49m\u001b[43mthunk\u001b[49m\u001b[38;5;241;43m=\u001b[39;49m\u001b[43mthunk\u001b[49m\u001b[43m,\u001b[49m\n\u001b[1;32m    992\u001b[0m \u001b[43m        \u001b[49m\u001b[43mstorage_map\u001b[49m\u001b[38;5;241;43m=\u001b[39;49m\u001b[38;5;28;43mgetattr\u001b[39;49m\u001b[43m(\u001b[49m\u001b[38;5;28;43mself\u001b[39;49m\u001b[38;5;241;43m.\u001b[39;49m\u001b[43mvm\u001b[49m\u001b[43m,\u001b[49m\u001b[43m \u001b[49m\u001b[38;5;124;43m\"\u001b[39;49m\u001b[38;5;124;43mstorage_map\u001b[39;49m\u001b[38;5;124;43m\"\u001b[39;49m\u001b[43m,\u001b[49m\u001b[43m \u001b[49m\u001b[38;5;28;43;01mNone\u001b[39;49;00m\u001b[43m)\u001b[49m\u001b[43m,\u001b[49m\n\u001b[1;32m    993\u001b[0m \u001b[43m    \u001b[49m\u001b[43m)\u001b[49m\n\u001b[1;32m    994\u001b[0m \u001b[38;5;28;01melse\u001b[39;00m:\n\u001b[1;32m    995\u001b[0m     \u001b[38;5;66;03m# old-style linkers raise their own exceptions\u001b[39;00m\n\u001b[1;32m    996\u001b[0m     \u001b[38;5;28;01mraise\u001b[39;00m\n",
      "File \u001b[0;32m~/miniconda3/envs/pymc-dev-py39/lib/python3.9/site-packages/aesara/link/utils.py:534\u001b[0m, in \u001b[0;36mraise_with_op\u001b[0;34m(fgraph, node, thunk, exc_info, storage_map)\u001b[0m\n\u001b[1;32m    529\u001b[0m     warnings\u001b[38;5;241m.\u001b[39mwarn(\n\u001b[1;32m    530\u001b[0m         \u001b[38;5;124mf\u001b[39m\u001b[38;5;124m\"\u001b[39m\u001b[38;5;132;01m{\u001b[39;00mexc_type\u001b[38;5;132;01m}\u001b[39;00m\u001b[38;5;124m error does not allow us to add an extra error message\u001b[39m\u001b[38;5;124m\"\u001b[39m\n\u001b[1;32m    531\u001b[0m     )\n\u001b[1;32m    532\u001b[0m     \u001b[38;5;66;03m# Some exception need extra parameter in inputs. So forget the\u001b[39;00m\n\u001b[1;32m    533\u001b[0m     \u001b[38;5;66;03m# extra long error message in that case.\u001b[39;00m\n\u001b[0;32m--> 534\u001b[0m \u001b[38;5;28;01mraise\u001b[39;00m exc_value\u001b[38;5;241m.\u001b[39mwith_traceback(exc_trace)\n",
      "File \u001b[0;32m~/miniconda3/envs/pymc-dev-py39/lib/python3.9/site-packages/aesara/compile/function/types.py:975\u001b[0m, in \u001b[0;36mFunction.__call__\u001b[0;34m(self, *args, **kwargs)\u001b[0m\n\u001b[1;32m    972\u001b[0m t0_fn \u001b[38;5;241m=\u001b[39m time\u001b[38;5;241m.\u001b[39mtime()\n\u001b[1;32m    973\u001b[0m \u001b[38;5;28;01mtry\u001b[39;00m:\n\u001b[1;32m    974\u001b[0m     outputs \u001b[38;5;241m=\u001b[39m (\n\u001b[0;32m--> 975\u001b[0m         \u001b[38;5;28;43mself\u001b[39;49m\u001b[38;5;241;43m.\u001b[39;49m\u001b[43mvm\u001b[49m\u001b[43m(\u001b[49m\u001b[43m)\u001b[49m\n\u001b[1;32m    976\u001b[0m         \u001b[38;5;28;01mif\u001b[39;00m output_subset \u001b[38;5;129;01mis\u001b[39;00m \u001b[38;5;28;01mNone\u001b[39;00m\n\u001b[1;32m    977\u001b[0m         \u001b[38;5;28;01melse\u001b[39;00m \u001b[38;5;28mself\u001b[39m\u001b[38;5;241m.\u001b[39mvm(output_subset\u001b[38;5;241m=\u001b[39moutput_subset)\n\u001b[1;32m    978\u001b[0m     )\n\u001b[1;32m    979\u001b[0m \u001b[38;5;28;01mexcept\u001b[39;00m \u001b[38;5;167;01mException\u001b[39;00m:\n\u001b[1;32m    980\u001b[0m     restore_defaults()\n",
      "\u001b[0;31mAssertionError\u001b[0m: Shapes must be equal\nApply node that caused the error: Assert{msg=Shapes must be equal}(Elemwise{Add}[(0, 1)].0, All.0)\nToposort index: 71\nInputs types: [TensorType(float64, (None, None)), TensorType(bool, ())]\nInputs shapes: [(3, 3), ()]\nInputs strides: [(24, 8), ()]\nInputs values: ['not shown', array(False)]\nOutputs clients: [[Elemwise{Composite{(exp((i0 * clip((i1 + i2 + i3), i4, i5))) * i6 * i7)}}[(0, 1)](TensorConstant{(1, 1) of -0.5}, Dot22Scalar.0, InplaceDimShuffle{0,x}.0, InplaceDimShuffle{x,0}.0, TensorConstant{(1, 1) of 0.0}, TensorConstant{(1, 1) of inf}, Elemwise{sqr,no_inplace}.0, Assert{msg=Shapes must be equal}.0)]]\n\nHINT: Re-running with most Aesara optimizations disabled could provide a back-trace showing when this node was created. This can be done by setting the Aesara flag 'optimizer=fast_compile'. If that does not work, Aesara optimizations can be disabled with 'optimizer=None'.\nHINT: Use the Aesara flag `exception_verbosity=high` for a debug print-out and storage map footprint of this Apply node."
     ]
    }
   ],
   "source": [
    "with model:\n",
    "    preds = mogp.conditional(\"preds\", Xnew, jitter=1e-6)\n",
    "    gp_samples = pm.sample_posterior_predictive(gp_trace, var_names=['preds'])"
   ]
  },
  {
   "cell_type": "code",
   "execution_count": null,
   "id": "0f9673e4-bd5b-4e5a-b22d-510937ad258c",
   "metadata": {},
   "outputs": [],
   "source": [
    "pm.model_to_graphviz(model)"
   ]
  },
  {
   "cell_type": "code",
   "execution_count": null,
   "id": "e70d4e1d-9c70-4398-ad2b-108fde723686",
   "metadata": {},
   "outputs": [],
   "source": [
    "f_pred = gp_samples.posterior_predictive[\"preds\"].sel(chain=0)\n",
    "f_pred.shape"
   ]
  },
  {
   "cell_type": "markdown",
   "id": "36ff7561-4ab7-475b-b987-ced004ffcaac",
   "metadata": {},
   "source": [
    "#### Plot the first GP"
   ]
  },
  {
   "cell_type": "code",
   "execution_count": null,
   "id": "9c61de13-e23f-4f0d-a7e5-b2970211cd64",
   "metadata": {},
   "outputs": [],
   "source": [
    "from pymc.gp.util import plot_gp_dist\n",
    "fig, axes = plt.subplots(1,1, figsize=(8,4))\n",
    "plt.plot(x, train_y[:,0], 'ok', ms=3, alpha=0.5, label=\"Data 1\");\n",
    "plot_gp_dist(axes, f_pred[:, 0:50], x)\n",
    "plt.show()\n",
    "# The result seems wrong!"
   ]
  },
  {
   "cell_type": "markdown",
   "id": "d126d18c-bb11-4165-a23e-dd0858fa49d1",
   "metadata": {},
   "source": [
    "#### Plot the second GP"
   ]
  },
  {
   "cell_type": "code",
   "execution_count": null,
   "id": "877be126-9e99-4997-964b-c8d8fdbdfe7d",
   "metadata": {},
   "outputs": [],
   "source": [
    "from pymc.gp.util import plot_gp_dist\n",
    "fig, axes = plt.subplots(1,1, figsize=(8,4))\n",
    "plt.plot(x, train_y[:,1], 'ok', ms=3, alpha=0.5, label=\"Data 1\");\n",
    "plot_gp_dist(axes, f_pred[:, 50:100], x)\n",
    "plt.show()\n",
    "# The result seems wrong!"
   ]
  },
  {
   "cell_type": "code",
   "execution_count": null,
   "id": "2a3d2a56-875d-4467-b158-896d3e01f5b5",
   "metadata": {},
   "outputs": [],
   "source": [
    "# n_points = 50\n",
    "# f_pred = gp_samples.posterior_predictive[\"preds\"].sel(chain=0)\n",
    "# fig, axes = plt.subplots(3,1, figsize=(8,12))\n",
    "\n",
    "# for idx in range(3):\n",
    "#     # plot_gp_dist(axes[idx], f_pred.mean(axis=0)[n_points*idx:n_points*(idx+1)], \n",
    "#     #              X_new[n_points*idx:n_points*(idx+1),0], \n",
    "#     #              palette=\"Blues\", fill_alpha=0.5, samples_alpha=0.1)\n",
    "#     axes[idx].plot(x, train_y[:,idx], 'ok', ms=3, alpha=0.5, label=\"Data 1\");\n",
    "#     axes[idx].plot(x, np.array(f_pred.mean(axis=0)).reshape(-1,1))"
   ]
  },
  {
   "cell_type": "code",
   "execution_count": null,
   "id": "1ff63234-fe4b-4cd1-8d7a-4ab67de694f0",
   "metadata": {},
   "outputs": [],
   "source": [
    "%load_ext watermark\n",
    "%watermark -n -u -v -iv -w"
   ]
  },
  {
   "cell_type": "code",
   "execution_count": null,
   "id": "df98dc5e-665f-4556-a4e4-c4944de97b6b",
   "metadata": {},
   "outputs": [],
   "source": []
  }
 ],
 "metadata": {
  "kernelspec": {
   "display_name": "Python 3 (ipykernel)",
   "language": "python",
   "name": "python3"
  },
  "language_info": {
   "codemirror_mode": {
    "name": "ipython",
    "version": 3
   },
   "file_extension": ".py",
   "mimetype": "text/x-python",
   "name": "python",
   "nbconvert_exporter": "python",
   "pygments_lexer": "ipython3",
   "version": "3.9.12"
  }
 },
 "nbformat": 4,
 "nbformat_minor": 5
}

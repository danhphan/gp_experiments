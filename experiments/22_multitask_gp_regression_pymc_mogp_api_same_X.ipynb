{
 "cells": [
  {
   "cell_type": "markdown",
   "id": "60e420cd-0986-4ae7-bc89-7b03fd37602c",
   "metadata": {},
   "source": [
    "# Multitask GP Regression using pymc\n",
    "Source: https://docs.gpytorch.ai/en/latest/examples/03_Multitask_Exact_GPs/Multitask_GP_Regression.html"
   ]
  },
  {
   "cell_type": "code",
   "execution_count": 16,
   "id": "4a200358",
   "metadata": {},
   "outputs": [],
   "source": [
    "import numpy as np\n",
    "import pymc as pm\n",
    "from pymc.gp.cov import Covariance\n",
    "import arviz as az\n",
    "import matplotlib.pyplot as plt\n",
    "# set the seed\n",
    "np.random.seed(1)"
   ]
  },
  {
   "cell_type": "code",
   "execution_count": 17,
   "id": "a71a8cdb-00c2-42b2-a90f-30727eee65ee",
   "metadata": {},
   "outputs": [
    {
     "name": "stdout",
     "output_type": "stream",
     "text": [
      "The autoreload extension is already loaded. To reload it, use:\n",
      "  %reload_ext autoreload\n"
     ]
    }
   ],
   "source": [
    "import math\n",
    "%matplotlib inline\n",
    "%load_ext autoreload\n",
    "%reload_ext autoreload\n",
    "%autoreload 2"
   ]
  },
  {
   "cell_type": "markdown",
   "id": "6e2a2775-0e11-483d-a1b8-f814e48406d9",
   "metadata": {},
   "source": [
    "### Set up training data"
   ]
  },
  {
   "cell_type": "code",
   "execution_count": 18,
   "id": "de99c1b3-1299-4c67-8b56-ab041aff25c9",
   "metadata": {},
   "outputs": [],
   "source": [
    "train_x = np.linspace(0, 1, 50)\n",
    "\n",
    "train_y = np.stack([\n",
    "    np.sin(train_x * (2 * math.pi)) + np.random.randn(len(train_x)) * 0.2,\n",
    "    np.cos(train_x * (2 * math.pi)) + np.random.randn(len(train_x)) * 0.2,\n",
    "    np.cos(train_x * (1 * math.pi)) + np.random.randn(len(train_x)) * 0.1,\n",
    "], -1)"
   ]
  },
  {
   "cell_type": "code",
   "execution_count": 19,
   "id": "f046d8de-a5ee-4c63-b52a-ffba8bf535a8",
   "metadata": {},
   "outputs": [
    {
     "data": {
      "text/plain": [
       "((50,), (50, 3))"
      ]
     },
     "execution_count": 19,
     "metadata": {},
     "output_type": "execute_result"
    }
   ],
   "source": [
    "train_x.shape, train_y.shape"
   ]
  },
  {
   "cell_type": "code",
   "execution_count": 20,
   "id": "4fc07e29",
   "metadata": {},
   "outputs": [
    {
     "data": {
      "text/plain": [
       "<matplotlib.legend.Legend at 0x7fb23b17ffa0>"
      ]
     },
     "execution_count": 20,
     "metadata": {},
     "output_type": "execute_result"
    },
    {
     "data": {
      "image/png": "[encoded data removed]",
      "text/plain": [
       "<Figure size 864x360 with 1 Axes>"
      ]
     },
     "metadata": {
      "needs_background": "light"
     },
     "output_type": "display_data"
    }
   ],
   "source": [
    "fig, ax = plt.subplots(1,1, figsize=(12,5))\n",
    "ax.scatter(train_x, train_y[:,0])\n",
    "ax.scatter(train_x, train_y[:,1])\n",
    "ax.scatter(train_x, train_y[:,2])\n",
    "plt.legend([\"y1\", \"y2\", \"y3\"])"
   ]
  },
  {
   "cell_type": "code",
   "execution_count": 21,
   "id": "c0508eb1",
   "metadata": {},
   "outputs": [
    {
     "data": {
      "text/plain": [
       "((50,), (50, 3))"
      ]
     },
     "execution_count": 21,
     "metadata": {},
     "output_type": "execute_result"
    }
   ],
   "source": [
    "train_x.shape, train_y.shape"
   ]
  },
  {
   "cell_type": "code",
   "execution_count": 22,
   "id": "13414811",
   "metadata": {},
   "outputs": [
    {
     "data": {
      "text/plain": [
       "((50, 1), (150, 1))"
      ]
     },
     "execution_count": 22,
     "metadata": {},
     "output_type": "execute_result"
    }
   ],
   "source": [
    "x = train_x.reshape(-1,1)\n",
    "y = train_y.reshape(-1,1)\n",
    "x.shape, y.shape"
   ]
  },
  {
   "cell_type": "markdown",
   "id": "65c4918f-41c5-448e-8338-bf94465753e2",
   "metadata": {},
   "source": [
    "### ICM: one kernel"
   ]
  },
  {
   "cell_type": "code",
   "execution_count": 23,
   "id": "a89ad3c9-9ba9-4ee8-98af-6a87a77a4aa3",
   "metadata": {},
   "outputs": [],
   "source": [
    "import aesara.tensor as at"
   ]
  },
  {
   "cell_type": "code",
   "execution_count": 24,
   "id": "96962a57-6f5e-4928-a962-8750184385d6",
   "metadata": {},
   "outputs": [
    {
     "data": {
      "text/plain": [
       "((3, 1), (50, 1), (50, 1))"
      ]
     },
     "execution_count": 24,
     "metadata": {},
     "output_type": "execute_result"
    }
   ],
   "source": [
    "task_i = np.linspace(0, 1, 3)[:, None]\n",
    "Xs = [task_i, x]\n",
    "Xs[0].shape, Xs[1].shape, x.shape"
   ]
  },
  {
   "cell_type": "code",
   "execution_count": 25,
   "id": "97bf153d-24ec-44b4-9384-52d4f240ab2f",
   "metadata": {},
   "outputs": [
    {
     "data": {
      "text/plain": [
       "(150, 2)"
      ]
     },
     "execution_count": 25,
     "metadata": {},
     "output_type": "execute_result"
    }
   ],
   "source": [
    "Xnew = pm.math.cartesian(task_i, x)\n",
    "Xnew.shape"
   ]
  },
  {
   "cell_type": "code",
   "execution_count": 40,
   "id": "14c172c9-07ad-4629-9012-ff7b19fc7c50",
   "metadata": {},
   "outputs": [],
   "source": [
    "# Create a Coregion Matrix B as a Covariance\n",
    "class CoregionMatrix(Covariance):\n",
    "    r\"\"\"\n",
    "    Coregion Matrix valued covariance function.\n",
    "\n",
    "    .. math::\n",
    "\n",
    "       k(x, x') = B(x, x')\n",
    "    \"\"\"\n",
    "\n",
    "    def __init__(self, W, B):\n",
    "        super().__init__(1, None)\n",
    "        self.W = W\n",
    "        self.B = B\n",
    "        self.n_outputs = B.shape[0]\n",
    "\n",
    "    def diag(self, X):\n",
    "        return at.alloc(self.B, X.shape[0])\n",
    "\n",
    "    def full(self, X, Xs=None):\n",
    "        if Xs is None:\n",
    "            return at.alloc(self.B, X.shape[0], X.shape[0])\n",
    "        else:\n",
    "            return at.alloc(self.B, X.shape[0], Xs.shape[0])"
   ]
  },
  {
   "cell_type": "markdown",
   "id": "45cb94fb-cbae-4d76-9525-08e70af594ac",
   "metadata": {},
   "source": [
    "### Create a model"
   ]
  },
  {
   "cell_type": "code",
   "execution_count": 41,
   "id": "cd33600c-b50b-4417-8847-0c35eb1afa83",
   "metadata": {},
   "outputs": [],
   "source": [
    "JITTER_DEFAULT = 1e-6\n",
    "with pm.Model() as model:\n",
    "    ell = pm.Gamma(\"ell\", alpha=2, beta=0.5)\n",
    "    eta = pm.Gamma(\"eta\", alpha=3, beta=1)\n",
    "    cov = eta**2 * pm.gp.cov.ExpQuad(input_dim=1, ls=ell)\n",
    "    \n",
    "    #cov2= pm.gp.cov.ExpQuad(input_dim=1, ls=ell)\n",
    "    \n",
    "    W = np.random.rand(3,2) # (n_outputs, w_rank)\n",
    "    kappa = np.random.rand(3)\n",
    "    B = pm.Deterministic('B', at.dot(W, W.T) + at.diag(kappa)) \n",
    "    B = B + JITTER_DEFAULT * at.identity_like(B)\n",
    "    coreg = CoregionMatrix(W=W, B=B)\n",
    "    \n",
    "    mogp = pm.gp.LatentKron(cov_funcs=[coreg, cov])\n",
    "    sigma = pm.HalfNormal(\"sigma\", sigma=3)    \n",
    "    \n",
    "    # Place a GP prior over the function f.\n",
    "    f = mogp.prior(\"f\", Xs=Xs)\n",
    "    y_ = pm.Normal(\"y_\", mu=f, sigma=sigma, observed=y.squeeze())    "
   ]
  },
  {
   "cell_type": "code",
   "execution_count": 42,
   "id": "4faa5e17-eab6-433e-b5ae-6df362de5bc5",
   "metadata": {},
   "outputs": [
    {
     "data": {
      "image/svg+xml": [
       "<?xml version=\"1.0\" encoding=\"UTF-8\" standalone=\"no\"?>\n",
       "<!DOCTYPE svg PUBLIC \"-//W3C//DTD SVG 1.1//EN\"\n",
       " \"http://www.w3.org/Graphics/SVG/1.1/DTD/svg11.dtd\">\n",
       "<!-- Generated by graphviz version 3.0.0 (20220315.2325)\n",
       " -->\n",
       "<!-- Pages: 1 -->\n",
       "<svg width=\"578pt\" height=\"360pt\"\n",
       " viewBox=\"0.00 0.00 577.69 359.86\" xmlns=\"http://www.w3.org/2000/svg\" xmlns:xlink=\"http://www.w3.org/1999/xlink\">\n",
       "<g id=\"graph0\" class=\"graph\" transform=\"scale(1 1) rotate(0) translate(4 355.86)\">\n",
       "<polygon fill=\"white\" stroke=\"transparent\" points=\"-4,4 -4,-355.86 573.69,-355.86 573.69,4 -4,4\"/>\n",
       "<g id=\"clust1\" class=\"cluster\">\n",
       "<title>cluster3 x 3</title>\n",
       "<path fill=\"none\" stroke=\"black\" d=\"M465.69,-240.88C465.69,-240.88 549.69,-240.88 549.69,-240.88 555.69,-240.88 561.69,-246.88 561.69,-252.88 561.69,-252.88 561.69,-320.88 561.69,-320.88 561.69,-326.88 555.69,-332.88 549.69,-332.88 549.69,-332.88 465.69,-332.88 465.69,-332.88 459.69,-332.88 453.69,-326.88 453.69,-320.88 453.69,-320.88 453.69,-252.88 453.69,-252.88 453.69,-246.88 459.69,-240.88 465.69,-240.88\"/>\n",
       "<text text-anchor=\"middle\" x=\"539.69\" y=\"-248.68\" font-family=\"Times,serif\" font-size=\"14.00\">3 x 3</text>\n",
       "</g>\n",
       "<g id=\"clust2\" class=\"cluster\">\n",
       "<title>cluster150</title>\n",
       "<path fill=\"none\" stroke=\"black\" d=\"M137.69,-8C137.69,-8 231.69,-8 231.69,-8 237.69,-8 243.69,-14 243.69,-20 243.69,-20 243.69,-331.86 243.69,-331.86 243.69,-337.86 237.69,-343.86 231.69,-343.86 231.69,-343.86 137.69,-343.86 137.69,-343.86 131.69,-343.86 125.69,-337.86 125.69,-331.86 125.69,-331.86 125.69,-20 125.69,-20 125.69,-14 131.69,-8 137.69,-8\"/>\n",
       "<text text-anchor=\"middle\" x=\"225.19\" y=\"-15.8\" font-family=\"Times,serif\" font-size=\"14.00\">150</text>\n",
       "</g>\n",
       "<!-- sigma -->\n",
       "<g id=\"node1\" class=\"node\">\n",
       "<title>sigma</title>\n",
       "<ellipse fill=\"none\" stroke=\"black\" cx=\"58.69\" cy=\"-187.43\" rx=\"58.88\" ry=\"37.45\"/>\n",
       "<text text-anchor=\"middle\" x=\"58.69\" y=\"-198.73\" font-family=\"Times,serif\" font-size=\"14.00\">sigma</text>\n",
       "<text text-anchor=\"middle\" x=\"58.69\" y=\"-183.73\" font-family=\"Times,serif\" font-size=\"14.00\">~</text>\n",
       "<text text-anchor=\"middle\" x=\"58.69\" y=\"-168.73\" font-family=\"Times,serif\" font-size=\"14.00\">HalfNormal</text>\n",
       "</g>\n",
       "<!-- y_ -->\n",
       "<g id=\"node5\" class=\"node\">\n",
       "<title>y_</title>\n",
       "<ellipse fill=\"lightgrey\" stroke=\"black\" cx=\"182.69\" cy=\"-76.48\" rx=\"41.94\" ry=\"37.45\"/>\n",
       "<text text-anchor=\"middle\" x=\"182.69\" y=\"-87.78\" font-family=\"Times,serif\" font-size=\"14.00\">y_</text>\n",
       "<text text-anchor=\"middle\" x=\"182.69\" y=\"-72.78\" font-family=\"Times,serif\" font-size=\"14.00\">~</text>\n",
       "<text text-anchor=\"middle\" x=\"182.69\" y=\"-57.78\" font-family=\"Times,serif\" font-size=\"14.00\">Normal</text>\n",
       "</g>\n",
       "<!-- sigma&#45;&gt;y_ -->\n",
       "<g id=\"edge5\" class=\"edge\">\n",
       "<title>sigma&#45;&gt;y_</title>\n",
       "<path fill=\"none\" stroke=\"black\" d=\"M92.57,-156.66C108.84,-142.36 128.39,-125.19 145.11,-110.5\"/>\n",
       "<polygon fill=\"black\" stroke=\"black\" points=\"147.87,-112.73 153.07,-103.5 143.25,-107.48 147.87,-112.73\"/>\n",
       "</g>\n",
       "<!-- eta -->\n",
       "<g id=\"node2\" class=\"node\">\n",
       "<title>eta</title>\n",
       "<ellipse fill=\"none\" stroke=\"black\" cx=\"296.69\" cy=\"-298.38\" rx=\"43.27\" ry=\"37.45\"/>\n",
       "<text text-anchor=\"middle\" x=\"296.69\" y=\"-309.68\" font-family=\"Times,serif\" font-size=\"14.00\">eta</text>\n",
       "<text text-anchor=\"middle\" x=\"296.69\" y=\"-294.68\" font-family=\"Times,serif\" font-size=\"14.00\">~</text>\n",
       "<text text-anchor=\"middle\" x=\"296.69\" y=\"-279.68\" font-family=\"Times,serif\" font-size=\"14.00\">Gamma</text>\n",
       "</g>\n",
       "<!-- f -->\n",
       "<g id=\"node7\" class=\"node\">\n",
       "<title>f</title>\n",
       "<polygon fill=\"none\" stroke=\"black\" points=\"235.19,-213.93 144.19,-213.93 144.19,-160.93 235.19,-160.93 235.19,-213.93\"/>\n",
       "<text text-anchor=\"middle\" x=\"189.69\" y=\"-198.73\" font-family=\"Times,serif\" font-size=\"14.00\">f</text>\n",
       "<text text-anchor=\"middle\" x=\"189.69\" y=\"-183.73\" font-family=\"Times,serif\" font-size=\"14.00\">~</text>\n",
       "<text text-anchor=\"middle\" x=\"189.69\" y=\"-168.73\" font-family=\"Times,serif\" font-size=\"14.00\">Deterministic</text>\n",
       "</g>\n",
       "<!-- eta&#45;&gt;f -->\n",
       "<g id=\"edge2\" class=\"edge\">\n",
       "<title>eta&#45;&gt;f</title>\n",
       "<path fill=\"none\" stroke=\"black\" d=\"M271.91,-267.45C264.35,-258.69 255.87,-249.23 247.69,-240.88 241.2,-234.26 234.05,-227.44 227.04,-220.99\"/>\n",
       "<polygon fill=\"black\" stroke=\"black\" points=\"229.3,-218.31 219.54,-214.17 224.59,-223.49 229.3,-218.31\"/>\n",
       "</g>\n",
       "<!-- ell -->\n",
       "<g id=\"node3\" class=\"node\">\n",
       "<title>ell</title>\n",
       "<ellipse fill=\"none\" stroke=\"black\" cx=\"400.69\" cy=\"-298.38\" rx=\"43.27\" ry=\"37.45\"/>\n",
       "<text text-anchor=\"middle\" x=\"400.69\" y=\"-309.68\" font-family=\"Times,serif\" font-size=\"14.00\">ell</text>\n",
       "<text text-anchor=\"middle\" x=\"400.69\" y=\"-294.68\" font-family=\"Times,serif\" font-size=\"14.00\">~</text>\n",
       "<text text-anchor=\"middle\" x=\"400.69\" y=\"-279.68\" font-family=\"Times,serif\" font-size=\"14.00\">Gamma</text>\n",
       "</g>\n",
       "<!-- ell&#45;&gt;f -->\n",
       "<g id=\"edge4\" class=\"edge\">\n",
       "<title>ell&#45;&gt;f</title>\n",
       "<path fill=\"none\" stroke=\"black\" d=\"M377.49,-266.59C369.24,-257.3 359.33,-247.75 348.69,-240.88 317.28,-220.63 277.31,-207.49 245.3,-199.42\"/>\n",
       "<polygon fill=\"black\" stroke=\"black\" points=\"245.75,-195.93 235.21,-196.98 244.11,-202.74 245.75,-195.93\"/>\n",
       "</g>\n",
       "<!-- B -->\n",
       "<g id=\"node4\" class=\"node\">\n",
       "<title>B</title>\n",
       "<polygon fill=\"none\" stroke=\"black\" points=\"553.19,-324.88 462.19,-324.88 462.19,-271.88 553.19,-271.88 553.19,-324.88\"/>\n",
       "<text text-anchor=\"middle\" x=\"507.69\" y=\"-309.68\" font-family=\"Times,serif\" font-size=\"14.00\">B</text>\n",
       "<text text-anchor=\"middle\" x=\"507.69\" y=\"-294.68\" font-family=\"Times,serif\" font-size=\"14.00\">~</text>\n",
       "<text text-anchor=\"middle\" x=\"507.69\" y=\"-279.68\" font-family=\"Times,serif\" font-size=\"14.00\">Deterministic</text>\n",
       "</g>\n",
       "<!-- B&#45;&gt;f -->\n",
       "<g id=\"edge1\" class=\"edge\">\n",
       "<title>B&#45;&gt;f</title>\n",
       "<path fill=\"none\" stroke=\"black\" d=\"M488.6,-271.69C479.03,-260.57 466.52,-248.4 452.69,-240.88 387.22,-205.3 300.82,-193.71 245.25,-190.02\"/>\n",
       "<polygon fill=\"black\" stroke=\"black\" points=\"245.44,-186.52 235.25,-189.41 245.02,-193.51 245.44,-186.52\"/>\n",
       "</g>\n",
       "<!-- f_rotated_ -->\n",
       "<g id=\"node6\" class=\"node\">\n",
       "<title>f_rotated_</title>\n",
       "<ellipse fill=\"none\" stroke=\"black\" cx=\"184.69\" cy=\"-298.38\" rx=\"50.82\" ry=\"37.45\"/>\n",
       "<text text-anchor=\"middle\" x=\"184.69\" y=\"-309.68\" font-family=\"Times,serif\" font-size=\"14.00\">f_rotated_</text>\n",
       "<text text-anchor=\"middle\" x=\"184.69\" y=\"-294.68\" font-family=\"Times,serif\" font-size=\"14.00\">~</text>\n",
       "<text text-anchor=\"middle\" x=\"184.69\" y=\"-279.68\" font-family=\"Times,serif\" font-size=\"14.00\">Normal</text>\n",
       "</g>\n",
       "<!-- f_rotated_&#45;&gt;f -->\n",
       "<g id=\"edge3\" class=\"edge\">\n",
       "<title>f_rotated_&#45;&gt;f</title>\n",
       "<path fill=\"none\" stroke=\"black\" d=\"M186.37,-260.8C186.91,-249.06 187.5,-236.08 188.04,-224.38\"/>\n",
       "<polygon fill=\"black\" stroke=\"black\" points=\"191.55,-224.23 188.51,-214.08 184.56,-223.91 191.55,-224.23\"/>\n",
       "</g>\n",
       "<!-- f&#45;&gt;y_ -->\n",
       "<g id=\"edge6\" class=\"edge\">\n",
       "<title>f&#45;&gt;y_</title>\n",
       "<path fill=\"none\" stroke=\"black\" d=\"M188.05,-160.89C187.35,-149.98 186.51,-136.89 185.7,-124.35\"/>\n",
       "<polygon fill=\"black\" stroke=\"black\" points=\"189.17,-123.76 185.04,-114 182.18,-124.21 189.17,-123.76\"/>\n",
       "</g>\n",
       "</g>\n",
       "</svg>\n"
      ],
      "text/plain": [
       "<graphviz.graphs.Digraph at 0x7fb283e04e80>"
      ]
     },
     "execution_count": 42,
     "metadata": {},
     "output_type": "execute_result"
    }
   ],
   "source": [
    "pm.model_to_graphviz(model)"
   ]
  },
  {
   "cell_type": "code",
   "execution_count": 43,
   "id": "cf3f19ed-7b03-4f2d-b329-4a9c8ad829fd",
   "metadata": {},
   "outputs": [
    {
     "name": "stderr",
     "output_type": "stream",
     "text": [
      "Auto-assigning NUTS sampler...\n",
      "Initializing NUTS using jitter+adapt_diag...\n",
      "Sequential sampling (1 chains in 1 job)\n",
      "NUTS: [ell, eta, sigma, f_rotated_]\n"
     ]
    },
    {
     "data": {
      "text/html": [
       "\n",
       "<style>\n",
       "    /* Turns off some styling */\n",
       "    progress {\n",
       "        /* gets rid of default border in Firefox and Opera. */\n",
       "        border: none;\n",
       "        /* Needs to be in here for Safari polyfill so background images work as expected. */\n",
       "        background-size: auto;\n",
       "    }\n",
       "    .progress-bar-interrupted, .progress-bar-interrupted::-webkit-progress-bar {\n",
       "        background: #F44336;\n",
       "    }\n",
       "</style>\n"
      ],
      "text/plain": [
       "<IPython.core.display.HTML object>"
      ]
     },
     "metadata": {},
     "output_type": "display_data"
    },
    {
     "data": {
      "text/html": [
       "\n",
       "    <div>\n",
       "      <progress value='1500' class='' max='1500' style='width:300px; height:20px; vertical-align: middle;'></progress>\n",
       "      100.00% [1500/1500 01:09<00:00 Sampling chain 0, 4 divergences]\n",
       "    </div>\n",
       "    "
      ],
      "text/plain": [
       "<IPython.core.display.HTML object>"
      ]
     },
     "metadata": {},
     "output_type": "display_data"
    },
    {
     "name": "stderr",
     "output_type": "stream",
     "text": [
      "Sampling 1 chain for 1_000 tune and 500 draw iterations (1_000 + 500 draws total) took 69 seconds.\n",
      "There were 4 divergences after tuning. Increase `target_accept` or reparameterize.\n"
     ]
    },
    {
     "name": "stdout",
     "output_type": "stream",
     "text": [
      "CPU times: user 1min 21s, sys: 3min 11s, total: 4min 33s\n",
      "Wall time: 1min 14s\n"
     ]
    }
   ],
   "source": [
    "%%time\n",
    "with model:\n",
    "    gp_trace = pm.sample(500, chains=1)"
   ]
  },
  {
   "cell_type": "code",
   "execution_count": 44,
   "id": "509d6f65-0b06-4851-b0ba-744d8daa06d2",
   "metadata": {},
   "outputs": [],
   "source": [
    "with model:\n",
    "    preds = mogp.conditional(\"preds\", Xnew)"
   ]
  },
  {
   "cell_type": "code",
   "execution_count": 45,
   "id": "0d2c1440-4060-4017-8905-3b1edae1fce4",
   "metadata": {},
   "outputs": [
    {
     "data": {
      "text/html": [
       "\n",
       "<style>\n",
       "    /* Turns off some styling */\n",
       "    progress {\n",
       "        /* gets rid of default border in Firefox and Opera. */\n",
       "        border: none;\n",
       "        /* Needs to be in here for Safari polyfill so background images work as expected. */\n",
       "        background-size: auto;\n",
       "    }\n",
       "    .progress-bar-interrupted, .progress-bar-interrupted::-webkit-progress-bar {\n",
       "        background: #F44336;\n",
       "    }\n",
       "</style>\n"
      ],
      "text/plain": [
       "<IPython.core.display.HTML object>"
      ]
     },
     "metadata": {},
     "output_type": "display_data"
    },
    {
     "data": {
      "text/html": [
       "\n",
       "    <div>\n",
       "      <progress value='0' class='' max='500' style='width:300px; height:20px; vertical-align: middle;'></progress>\n",
       "      0.00% [0/500 00:00<00:00]\n",
       "    </div>\n",
       "    "
      ],
      "text/plain": [
       "<IPython.core.display.HTML object>"
      ]
     },
     "metadata": {},
     "output_type": "display_data"
    },
    {
     "ename": "AssertionError",
     "evalue": "Shapes must be equal\nApply node that caused the error: Assert{msg=Shapes must be equal}(Elemwise{Composite{(i0 + (i1 * i2))}}[(0, 2)].0, All.0)\nToposort index: 29\nInputs types: [TensorType(float64, (None, None)), TensorType(bool, ())]\nInputs shapes: [(3, 3), ()]\nInputs strides: [(24, 8), ()]\nInputs values: ['not shown', array(False)]\nOutputs clients: [[Elemwise{Composite{(i0 * exp((i1 * clip((i2 + i3 + i4), i5, i6))) * i7)}}[(0, 0)](Assert{msg=Shapes must be equal}.0, TensorConstant{(1, 1) of -0.5}, Dot22Scalar.0, InplaceDimShuffle{0,x}.0, InplaceDimShuffle{x,0}.0, TensorConstant{(1, 1) of 0.0}, TensorConstant{(1, 1) of inf}, Elemwise{sqr,no_inplace}.0)]]\n\nHINT: Re-running with most Aesara optimizations disabled could provide a back-trace showing when this node was created. This can be done by setting the Aesara flag 'optimizer=fast_compile'. If that does not work, Aesara optimizations can be disabled with 'optimizer=None'.\nHINT: Use the Aesara flag `exception_verbosity=high` for a debug print-out and storage map footprint of this Apply node.",
     "output_type": "error",
     "traceback": [
      "\u001b[0;31m---------------------------------------------------------------------------\u001b[0m",
      "\u001b[0;31mAssertionError\u001b[0m                            Traceback (most recent call last)",
      "File \u001b[0;32m~/miniconda3/envs/pymc-dev-py39/lib/python3.9/site-packages/aesara/compile/function/types.py:975\u001b[0m, in \u001b[0;36mFunction.__call__\u001b[0;34m(self, *args, **kwargs)\u001b[0m\n\u001b[1;32m    973\u001b[0m \u001b[38;5;28;01mtry\u001b[39;00m:\n\u001b[1;32m    974\u001b[0m     outputs \u001b[38;5;241m=\u001b[39m (\n\u001b[0;32m--> 975\u001b[0m         \u001b[38;5;28;43mself\u001b[39;49m\u001b[38;5;241;43m.\u001b[39;49m\u001b[43mvm\u001b[49m\u001b[43m(\u001b[49m\u001b[43m)\u001b[49m\n\u001b[1;32m    976\u001b[0m         \u001b[38;5;28;01mif\u001b[39;00m output_subset \u001b[38;5;129;01mis\u001b[39;00m \u001b[38;5;28;01mNone\u001b[39;00m\n\u001b[1;32m    977\u001b[0m         \u001b[38;5;28;01melse\u001b[39;00m \u001b[38;5;28mself\u001b[39m\u001b[38;5;241m.\u001b[39mvm(output_subset\u001b[38;5;241m=\u001b[39moutput_subset)\n\u001b[1;32m    978\u001b[0m     )\n\u001b[1;32m    979\u001b[0m \u001b[38;5;28;01mexcept\u001b[39;00m \u001b[38;5;167;01mException\u001b[39;00m:\n",
      "\u001b[0;31mAssertionError\u001b[0m: Shapes must be equal",
      "\nDuring handling of the above exception, another exception occurred:\n",
      "\u001b[0;31mAssertionError\u001b[0m                            Traceback (most recent call last)",
      "Input \u001b[0;32mIn [45]\u001b[0m, in \u001b[0;36m<cell line: 1>\u001b[0;34m()\u001b[0m\n\u001b[1;32m      1\u001b[0m \u001b[38;5;28;01mwith\u001b[39;00m model:\n\u001b[0;32m----> 2\u001b[0m     gp_samples \u001b[38;5;241m=\u001b[39m \u001b[43mpm\u001b[49m\u001b[38;5;241;43m.\u001b[39;49m\u001b[43msample_posterior_predictive\u001b[49m\u001b[43m(\u001b[49m\u001b[43mgp_trace\u001b[49m\u001b[43m,\u001b[49m\u001b[43m \u001b[49m\u001b[43mvar_names\u001b[49m\u001b[38;5;241;43m=\u001b[39;49m\u001b[43m[\u001b[49m\u001b[38;5;124;43m'\u001b[39;49m\u001b[38;5;124;43mpreds\u001b[39;49m\u001b[38;5;124;43m'\u001b[39;49m\u001b[43m]\u001b[49m\u001b[43m,\u001b[49m\u001b[43m \u001b[49m\u001b[43mrandom_seed\u001b[49m\u001b[38;5;241;43m=\u001b[39;49m\u001b[38;5;241;43m42\u001b[39;49m\u001b[43m,\u001b[49m\u001b[43m \u001b[49m\u001b[43mkeep_size\u001b[49m\u001b[38;5;241;43m=\u001b[39;49m\u001b[38;5;28;43;01mFalse\u001b[39;49;00m\u001b[43m)\u001b[49m\n",
      "File \u001b[0;32m~/WORK/codes/oss/pymc/pymc/sampling.py:1964\u001b[0m, in \u001b[0;36msample_posterior_predictive\u001b[0;34m(trace, samples, model, var_names, keep_size, random_seed, progressbar, return_inferencedata, extend_inferencedata, predictions, idata_kwargs, compile_kwargs)\u001b[0m\n\u001b[1;32m   1959\u001b[0m \u001b[38;5;66;03m# there's only a single chain, but the index might hit it multiple times if\u001b[39;00m\n\u001b[1;32m   1960\u001b[0m \u001b[38;5;66;03m# the number of indices is greater than the length of the trace.\u001b[39;00m\n\u001b[1;32m   1961\u001b[0m \u001b[38;5;28;01melse\u001b[39;00m:\n\u001b[1;32m   1962\u001b[0m     param \u001b[38;5;241m=\u001b[39m _trace[idx \u001b[38;5;241m%\u001b[39m len_trace]\n\u001b[0;32m-> 1964\u001b[0m values \u001b[38;5;241m=\u001b[39m \u001b[43msampler_fn\u001b[49m\u001b[43m(\u001b[49m\u001b[38;5;241;43m*\u001b[39;49m\u001b[38;5;241;43m*\u001b[39;49m\u001b[43mparam\u001b[49m\u001b[43m)\u001b[49m\n\u001b[1;32m   1966\u001b[0m \u001b[38;5;28;01mfor\u001b[39;00m k, v \u001b[38;5;129;01min\u001b[39;00m \u001b[38;5;28mzip\u001b[39m(vars_, values):\n\u001b[1;32m   1967\u001b[0m     ppc_trace_t\u001b[38;5;241m.\u001b[39minsert(k\u001b[38;5;241m.\u001b[39mname, v, idx)\n",
      "File \u001b[0;32m~/WORK/codes/oss/pymc/pymc/util.py:366\u001b[0m, in \u001b[0;36mpoint_wrapper.<locals>.wrapped\u001b[0;34m(**kwargs)\u001b[0m\n\u001b[1;32m    364\u001b[0m \u001b[38;5;28;01mdef\u001b[39;00m \u001b[38;5;21mwrapped\u001b[39m(\u001b[38;5;241m*\u001b[39m\u001b[38;5;241m*\u001b[39mkwargs):\n\u001b[1;32m    365\u001b[0m     input_point \u001b[38;5;241m=\u001b[39m {k: v \u001b[38;5;28;01mfor\u001b[39;00m k, v \u001b[38;5;129;01min\u001b[39;00m kwargs\u001b[38;5;241m.\u001b[39mitems() \u001b[38;5;28;01mif\u001b[39;00m k \u001b[38;5;129;01min\u001b[39;00m ins}\n\u001b[0;32m--> 366\u001b[0m     \u001b[38;5;28;01mreturn\u001b[39;00m \u001b[43mcore_function\u001b[49m\u001b[43m(\u001b[49m\u001b[38;5;241;43m*\u001b[39;49m\u001b[38;5;241;43m*\u001b[39;49m\u001b[43minput_point\u001b[49m\u001b[43m)\u001b[49m\n",
      "File \u001b[0;32m~/miniconda3/envs/pymc-dev-py39/lib/python3.9/site-packages/aesara/compile/function/types.py:988\u001b[0m, in \u001b[0;36mFunction.__call__\u001b[0;34m(self, *args, **kwargs)\u001b[0m\n\u001b[1;32m    986\u001b[0m     \u001b[38;5;28;01mif\u001b[39;00m \u001b[38;5;28mhasattr\u001b[39m(\u001b[38;5;28mself\u001b[39m\u001b[38;5;241m.\u001b[39mvm, \u001b[38;5;124m\"\u001b[39m\u001b[38;5;124mthunks\u001b[39m\u001b[38;5;124m\"\u001b[39m):\n\u001b[1;32m    987\u001b[0m         thunk \u001b[38;5;241m=\u001b[39m \u001b[38;5;28mself\u001b[39m\u001b[38;5;241m.\u001b[39mvm\u001b[38;5;241m.\u001b[39mthunks[\u001b[38;5;28mself\u001b[39m\u001b[38;5;241m.\u001b[39mvm\u001b[38;5;241m.\u001b[39mposition_of_error]\n\u001b[0;32m--> 988\u001b[0m     \u001b[43mraise_with_op\u001b[49m\u001b[43m(\u001b[49m\n\u001b[1;32m    989\u001b[0m \u001b[43m        \u001b[49m\u001b[38;5;28;43mself\u001b[39;49m\u001b[38;5;241;43m.\u001b[39;49m\u001b[43mmaker\u001b[49m\u001b[38;5;241;43m.\u001b[39;49m\u001b[43mfgraph\u001b[49m\u001b[43m,\u001b[49m\n\u001b[1;32m    990\u001b[0m \u001b[43m        \u001b[49m\u001b[43mnode\u001b[49m\u001b[38;5;241;43m=\u001b[39;49m\u001b[38;5;28;43mself\u001b[39;49m\u001b[38;5;241;43m.\u001b[39;49m\u001b[43mvm\u001b[49m\u001b[38;5;241;43m.\u001b[39;49m\u001b[43mnodes\u001b[49m\u001b[43m[\u001b[49m\u001b[38;5;28;43mself\u001b[39;49m\u001b[38;5;241;43m.\u001b[39;49m\u001b[43mvm\u001b[49m\u001b[38;5;241;43m.\u001b[39;49m\u001b[43mposition_of_error\u001b[49m\u001b[43m]\u001b[49m\u001b[43m,\u001b[49m\n\u001b[1;32m    991\u001b[0m \u001b[43m        \u001b[49m\u001b[43mthunk\u001b[49m\u001b[38;5;241;43m=\u001b[39;49m\u001b[43mthunk\u001b[49m\u001b[43m,\u001b[49m\n\u001b[1;32m    992\u001b[0m \u001b[43m        \u001b[49m\u001b[43mstorage_map\u001b[49m\u001b[38;5;241;43m=\u001b[39;49m\u001b[38;5;28;43mgetattr\u001b[39;49m\u001b[43m(\u001b[49m\u001b[38;5;28;43mself\u001b[39;49m\u001b[38;5;241;43m.\u001b[39;49m\u001b[43mvm\u001b[49m\u001b[43m,\u001b[49m\u001b[43m \u001b[49m\u001b[38;5;124;43m\"\u001b[39;49m\u001b[38;5;124;43mstorage_map\u001b[39;49m\u001b[38;5;124;43m\"\u001b[39;49m\u001b[43m,\u001b[49m\u001b[43m \u001b[49m\u001b[38;5;28;43;01mNone\u001b[39;49;00m\u001b[43m)\u001b[49m\u001b[43m,\u001b[49m\n\u001b[1;32m    993\u001b[0m \u001b[43m    \u001b[49m\u001b[43m)\u001b[49m\n\u001b[1;32m    994\u001b[0m \u001b[38;5;28;01melse\u001b[39;00m:\n\u001b[1;32m    995\u001b[0m     \u001b[38;5;66;03m# old-style linkers raise their own exceptions\u001b[39;00m\n\u001b[1;32m    996\u001b[0m     \u001b[38;5;28;01mraise\u001b[39;00m\n",
      "File \u001b[0;32m~/miniconda3/envs/pymc-dev-py39/lib/python3.9/site-packages/aesara/link/utils.py:534\u001b[0m, in \u001b[0;36mraise_with_op\u001b[0;34m(fgraph, node, thunk, exc_info, storage_map)\u001b[0m\n\u001b[1;32m    529\u001b[0m     warnings\u001b[38;5;241m.\u001b[39mwarn(\n\u001b[1;32m    530\u001b[0m         \u001b[38;5;124mf\u001b[39m\u001b[38;5;124m\"\u001b[39m\u001b[38;5;132;01m{\u001b[39;00mexc_type\u001b[38;5;132;01m}\u001b[39;00m\u001b[38;5;124m error does not allow us to add an extra error message\u001b[39m\u001b[38;5;124m\"\u001b[39m\n\u001b[1;32m    531\u001b[0m     )\n\u001b[1;32m    532\u001b[0m     \u001b[38;5;66;03m# Some exception need extra parameter in inputs. So forget the\u001b[39;00m\n\u001b[1;32m    533\u001b[0m     \u001b[38;5;66;03m# extra long error message in that case.\u001b[39;00m\n\u001b[0;32m--> 534\u001b[0m \u001b[38;5;28;01mraise\u001b[39;00m exc_value\u001b[38;5;241m.\u001b[39mwith_traceback(exc_trace)\n",
      "File \u001b[0;32m~/miniconda3/envs/pymc-dev-py39/lib/python3.9/site-packages/aesara/compile/function/types.py:975\u001b[0m, in \u001b[0;36mFunction.__call__\u001b[0;34m(self, *args, **kwargs)\u001b[0m\n\u001b[1;32m    972\u001b[0m t0_fn \u001b[38;5;241m=\u001b[39m time\u001b[38;5;241m.\u001b[39mtime()\n\u001b[1;32m    973\u001b[0m \u001b[38;5;28;01mtry\u001b[39;00m:\n\u001b[1;32m    974\u001b[0m     outputs \u001b[38;5;241m=\u001b[39m (\n\u001b[0;32m--> 975\u001b[0m         \u001b[38;5;28;43mself\u001b[39;49m\u001b[38;5;241;43m.\u001b[39;49m\u001b[43mvm\u001b[49m\u001b[43m(\u001b[49m\u001b[43m)\u001b[49m\n\u001b[1;32m    976\u001b[0m         \u001b[38;5;28;01mif\u001b[39;00m output_subset \u001b[38;5;129;01mis\u001b[39;00m \u001b[38;5;28;01mNone\u001b[39;00m\n\u001b[1;32m    977\u001b[0m         \u001b[38;5;28;01melse\u001b[39;00m \u001b[38;5;28mself\u001b[39m\u001b[38;5;241m.\u001b[39mvm(output_subset\u001b[38;5;241m=\u001b[39moutput_subset)\n\u001b[1;32m    978\u001b[0m     )\n\u001b[1;32m    979\u001b[0m \u001b[38;5;28;01mexcept\u001b[39;00m \u001b[38;5;167;01mException\u001b[39;00m:\n\u001b[1;32m    980\u001b[0m     restore_defaults()\n",
      "\u001b[0;31mAssertionError\u001b[0m: Shapes must be equal\nApply node that caused the error: Assert{msg=Shapes must be equal}(Elemwise{Composite{(i0 + (i1 * i2))}}[(0, 2)].0, All.0)\nToposort index: 29\nInputs types: [TensorType(float64, (None, None)), TensorType(bool, ())]\nInputs shapes: [(3, 3), ()]\nInputs strides: [(24, 8), ()]\nInputs values: ['not shown', array(False)]\nOutputs clients: [[Elemwise{Composite{(i0 * exp((i1 * clip((i2 + i3 + i4), i5, i6))) * i7)}}[(0, 0)](Assert{msg=Shapes must be equal}.0, TensorConstant{(1, 1) of -0.5}, Dot22Scalar.0, InplaceDimShuffle{0,x}.0, InplaceDimShuffle{x,0}.0, TensorConstant{(1, 1) of 0.0}, TensorConstant{(1, 1) of inf}, Elemwise{sqr,no_inplace}.0)]]\n\nHINT: Re-running with most Aesara optimizations disabled could provide a back-trace showing when this node was created. This can be done by setting the Aesara flag 'optimizer=fast_compile'. If that does not work, Aesara optimizations can be disabled with 'optimizer=None'.\nHINT: Use the Aesara flag `exception_verbosity=high` for a debug print-out and storage map footprint of this Apply node."
     ]
    }
   ],
   "source": [
    "with model:\n",
    "    gp_samples = pm.sample_posterior_predictive(gp_trace, var_names=['preds'], random_seed=42, keep_size=False)"
   ]
  },
  {
   "cell_type": "code",
   "execution_count": null,
   "id": "0c47f528-3631-49e8-a7c5-f309a9b07bbd",
   "metadata": {},
   "outputs": [],
   "source": [
    "# x1new = np.array([0,1,2])\n",
    "# n_points = 50\n",
    "# # x2new = np.linspace(-0.5, 1.5, n_points)[:, None]\n",
    "# x2new = np.linspace(0, 1.0, n_points)[:, None]\n",
    "# Xnew = pm.math.cartesian(x1new, x2new)\n",
    "# x1new.shape, x2new.shape, Xnew.shape"
   ]
  },
  {
   "cell_type": "code",
   "execution_count": 34,
   "id": "1e1eb87f-38f8-4a58-9e16-cc3674431617",
   "metadata": {},
   "outputs": [
    {
     "data": {
      "image/svg+xml": [
       "<?xml version=\"1.0\" encoding=\"UTF-8\" standalone=\"no\"?>\n",
       "<!DOCTYPE svg PUBLIC \"-//W3C//DTD SVG 1.1//EN\"\n",
       " \"http://www.w3.org/Graphics/SVG/1.1/DTD/svg11.dtd\">\n",
       "<!-- Generated by graphviz version 3.0.0 (20220315.2325)\n",
       " -->\n",
       "<!-- Pages: 1 -->\n",
       "<svg width=\"582pt\" height=\"360pt\"\n",
       " viewBox=\"0.00 0.00 581.69 359.86\" xmlns=\"http://www.w3.org/2000/svg\" xmlns:xlink=\"http://www.w3.org/1999/xlink\">\n",
       "<g id=\"graph0\" class=\"graph\" transform=\"scale(1 1) rotate(0) translate(4 355.86)\">\n",
       "<polygon fill=\"white\" stroke=\"transparent\" points=\"-4,4 -4,-355.86 577.69,-355.86 577.69,4 -4,4\"/>\n",
       "<g id=\"clust1\" class=\"cluster\">\n",
       "<title>cluster3 x 3</title>\n",
       "<path fill=\"none\" stroke=\"black\" d=\"M469.69,-240.88C469.69,-240.88 553.69,-240.88 553.69,-240.88 559.69,-240.88 565.69,-246.88 565.69,-252.88 565.69,-252.88 565.69,-320.88 565.69,-320.88 565.69,-326.88 559.69,-332.88 553.69,-332.88 553.69,-332.88 469.69,-332.88 469.69,-332.88 463.69,-332.88 457.69,-326.88 457.69,-320.88 457.69,-320.88 457.69,-252.88 457.69,-252.88 457.69,-246.88 463.69,-240.88 469.69,-240.88\"/>\n",
       "<text text-anchor=\"middle\" x=\"543.69\" y=\"-248.68\" font-family=\"Times,serif\" font-size=\"14.00\">3 x 3</text>\n",
       "</g>\n",
       "<g id=\"clust2\" class=\"cluster\">\n",
       "<title>cluster150</title>\n",
       "<path fill=\"none\" stroke=\"black\" d=\"M137.69,-8C137.69,-8 341.69,-8 341.69,-8 347.69,-8 353.69,-14 353.69,-20 353.69,-20 353.69,-331.86 353.69,-331.86 353.69,-337.86 347.69,-343.86 341.69,-343.86 341.69,-343.86 137.69,-343.86 137.69,-343.86 131.69,-343.86 125.69,-337.86 125.69,-331.86 125.69,-331.86 125.69,-20 125.69,-20 125.69,-14 131.69,-8 137.69,-8\"/>\n",
       "<text text-anchor=\"middle\" x=\"335.19\" y=\"-15.8\" font-family=\"Times,serif\" font-size=\"14.00\">150</text>\n",
       "</g>\n",
       "<!-- sigma -->\n",
       "<g id=\"node1\" class=\"node\">\n",
       "<title>sigma</title>\n",
       "<ellipse fill=\"none\" stroke=\"black\" cx=\"58.69\" cy=\"-187.43\" rx=\"58.88\" ry=\"37.45\"/>\n",
       "<text text-anchor=\"middle\" x=\"58.69\" y=\"-198.73\" font-family=\"Times,serif\" font-size=\"14.00\">sigma</text>\n",
       "<text text-anchor=\"middle\" x=\"58.69\" y=\"-183.73\" font-family=\"Times,serif\" font-size=\"14.00\">~</text>\n",
       "<text text-anchor=\"middle\" x=\"58.69\" y=\"-168.73\" font-family=\"Times,serif\" font-size=\"14.00\">HalfNormal</text>\n",
       "</g>\n",
       "<!-- y_ -->\n",
       "<g id=\"node6\" class=\"node\">\n",
       "<title>y_</title>\n",
       "<ellipse fill=\"lightgrey\" stroke=\"black\" cx=\"175.69\" cy=\"-76.48\" rx=\"41.94\" ry=\"37.45\"/>\n",
       "<text text-anchor=\"middle\" x=\"175.69\" y=\"-87.78\" font-family=\"Times,serif\" font-size=\"14.00\">y_</text>\n",
       "<text text-anchor=\"middle\" x=\"175.69\" y=\"-72.78\" font-family=\"Times,serif\" font-size=\"14.00\">~</text>\n",
       "<text text-anchor=\"middle\" x=\"175.69\" y=\"-57.78\" font-family=\"Times,serif\" font-size=\"14.00\">Normal</text>\n",
       "</g>\n",
       "<!-- sigma&#45;&gt;y_ -->\n",
       "<g id=\"edge5\" class=\"edge\">\n",
       "<title>sigma&#45;&gt;y_</title>\n",
       "<path fill=\"none\" stroke=\"black\" d=\"M91.28,-156.08C106.39,-142.01 124.39,-125.25 139.87,-110.83\"/>\n",
       "<polygon fill=\"black\" stroke=\"black\" points=\"142.32,-113.34 147.25,-103.96 137.55,-108.21 142.32,-113.34\"/>\n",
       "</g>\n",
       "<!-- eta -->\n",
       "<g id=\"node2\" class=\"node\">\n",
       "<title>eta</title>\n",
       "<ellipse fill=\"none\" stroke=\"black\" cx=\"74.69\" cy=\"-298.38\" rx=\"43.27\" ry=\"37.45\"/>\n",
       "<text text-anchor=\"middle\" x=\"74.69\" y=\"-309.68\" font-family=\"Times,serif\" font-size=\"14.00\">eta</text>\n",
       "<text text-anchor=\"middle\" x=\"74.69\" y=\"-294.68\" font-family=\"Times,serif\" font-size=\"14.00\">~</text>\n",
       "<text text-anchor=\"middle\" x=\"74.69\" y=\"-279.68\" font-family=\"Times,serif\" font-size=\"14.00\">Gamma</text>\n",
       "</g>\n",
       "<!-- preds -->\n",
       "<g id=\"node5\" class=\"node\">\n",
       "<title>preds</title>\n",
       "<ellipse fill=\"none\" stroke=\"black\" cx=\"290.69\" cy=\"-76.48\" rx=\"55.31\" ry=\"37.45\"/>\n",
       "<text text-anchor=\"middle\" x=\"290.69\" y=\"-87.78\" font-family=\"Times,serif\" font-size=\"14.00\">preds</text>\n",
       "<text text-anchor=\"middle\" x=\"290.69\" y=\"-72.78\" font-family=\"Times,serif\" font-size=\"14.00\">~</text>\n",
       "<text text-anchor=\"middle\" x=\"290.69\" y=\"-57.78\" font-family=\"Times,serif\" font-size=\"14.00\">MvNormal</text>\n",
       "</g>\n",
       "<!-- eta&#45;&gt;preds -->\n",
       "<g id=\"edge9\" class=\"edge\">\n",
       "<title>eta&#45;&gt;preds</title>\n",
       "<path fill=\"none\" stroke=\"black\" d=\"M98.74,-267.25C105.93,-258.57 113.97,-249.21 121.69,-240.88 163.89,-195.41 215.56,-146.33 250.57,-113.95\"/>\n",
       "<polygon fill=\"black\" stroke=\"black\" points=\"253.24,-116.25 258.22,-106.9 248.49,-111.11 253.24,-116.25\"/>\n",
       "</g>\n",
       "<!-- f -->\n",
       "<g id=\"node8\" class=\"node\">\n",
       "<title>f</title>\n",
       "<polygon fill=\"none\" stroke=\"black\" points=\"336.19,-213.93 245.19,-213.93 245.19,-160.93 336.19,-160.93 336.19,-213.93\"/>\n",
       "<text text-anchor=\"middle\" x=\"290.69\" y=\"-198.73\" font-family=\"Times,serif\" font-size=\"14.00\">f</text>\n",
       "<text text-anchor=\"middle\" x=\"290.69\" y=\"-183.73\" font-family=\"Times,serif\" font-size=\"14.00\">~</text>\n",
       "<text text-anchor=\"middle\" x=\"290.69\" y=\"-168.73\" font-family=\"Times,serif\" font-size=\"14.00\">Deterministic</text>\n",
       "</g>\n",
       "<!-- eta&#45;&gt;f -->\n",
       "<g id=\"edge2\" class=\"edge\">\n",
       "<title>eta&#45;&gt;f</title>\n",
       "<path fill=\"none\" stroke=\"black\" d=\"M95.25,-265.31C102.56,-256.17 111.54,-247.03 121.69,-240.88 150.47,-223.45 163.44,-234.52 195.69,-224.91 208.64,-221.05 222.34,-216.24 235.17,-211.39\"/>\n",
       "<polygon fill=\"black\" stroke=\"black\" points=\"236.72,-214.54 244.8,-207.69 234.21,-208.01 236.72,-214.54\"/>\n",
       "</g>\n",
       "<!-- ell -->\n",
       "<g id=\"node3\" class=\"node\">\n",
       "<title>ell</title>\n",
       "<ellipse fill=\"none\" stroke=\"black\" cx=\"404.69\" cy=\"-298.38\" rx=\"43.27\" ry=\"37.45\"/>\n",
       "<text text-anchor=\"middle\" x=\"404.69\" y=\"-309.68\" font-family=\"Times,serif\" font-size=\"14.00\">ell</text>\n",
       "<text text-anchor=\"middle\" x=\"404.69\" y=\"-294.68\" font-family=\"Times,serif\" font-size=\"14.00\">~</text>\n",
       "<text text-anchor=\"middle\" x=\"404.69\" y=\"-279.68\" font-family=\"Times,serif\" font-size=\"14.00\">Gamma</text>\n",
       "</g>\n",
       "<!-- ell&#45;&gt;preds -->\n",
       "<g id=\"edge10\" class=\"edge\">\n",
       "<title>ell&#45;&gt;preds</title>\n",
       "<path fill=\"none\" stroke=\"black\" d=\"M393.5,-261.91C383.15,-231.26 366.26,-186.3 345.69,-149.95 339.43,-138.89 331.67,-127.62 323.97,-117.36\"/>\n",
       "<polygon fill=\"black\" stroke=\"black\" points=\"326.71,-115.18 317.84,-109.38 321.16,-119.44 326.71,-115.18\"/>\n",
       "</g>\n",
       "<!-- ell&#45;&gt;f -->\n",
       "<g id=\"edge4\" class=\"edge\">\n",
       "<title>ell&#45;&gt;f</title>\n",
       "<path fill=\"none\" stroke=\"black\" d=\"M381.18,-266.72C374,-258.03 365.84,-248.79 357.69,-240.88 350.46,-233.86 342.32,-226.85 334.27,-220.35\"/>\n",
       "<polygon fill=\"black\" stroke=\"black\" points=\"336.3,-217.5 326.29,-214.04 331.96,-222.99 336.3,-217.5\"/>\n",
       "</g>\n",
       "<!-- B -->\n",
       "<g id=\"node4\" class=\"node\">\n",
       "<title>B</title>\n",
       "<polygon fill=\"none\" stroke=\"black\" points=\"557.19,-324.88 466.19,-324.88 466.19,-271.88 557.19,-271.88 557.19,-324.88\"/>\n",
       "<text text-anchor=\"middle\" x=\"511.69\" y=\"-309.68\" font-family=\"Times,serif\" font-size=\"14.00\">B</text>\n",
       "<text text-anchor=\"middle\" x=\"511.69\" y=\"-294.68\" font-family=\"Times,serif\" font-size=\"14.00\">~</text>\n",
       "<text text-anchor=\"middle\" x=\"511.69\" y=\"-279.68\" font-family=\"Times,serif\" font-size=\"14.00\">Deterministic</text>\n",
       "</g>\n",
       "<!-- B&#45;&gt;preds -->\n",
       "<g id=\"edge8\" class=\"edge\">\n",
       "<title>B&#45;&gt;preds</title>\n",
       "<path fill=\"none\" stroke=\"black\" d=\"M489.94,-271.68C464.02,-241.5 418.88,-190.44 376.69,-149.95 363.26,-137.07 347.92,-123.73 333.94,-112.07\"/>\n",
       "<polygon fill=\"black\" stroke=\"black\" points=\"335.83,-109.09 325.89,-105.41 331.37,-114.48 335.83,-109.09\"/>\n",
       "</g>\n",
       "<!-- B&#45;&gt;f -->\n",
       "<g id=\"edge1\" class=\"edge\">\n",
       "<title>B&#45;&gt;f</title>\n",
       "<path fill=\"none\" stroke=\"black\" d=\"M491.7,-271.79C482.12,-260.96 469.86,-249 456.69,-240.88 422.88,-220.04 380.04,-206.78 346.35,-198.8\"/>\n",
       "<polygon fill=\"black\" stroke=\"black\" points=\"346.74,-195.3 336.21,-196.49 345.19,-202.12 346.74,-195.3\"/>\n",
       "</g>\n",
       "<!-- f_rotated_ -->\n",
       "<g id=\"node7\" class=\"node\">\n",
       "<title>f_rotated_</title>\n",
       "<ellipse fill=\"none\" stroke=\"black\" cx=\"290.69\" cy=\"-298.38\" rx=\"50.82\" ry=\"37.45\"/>\n",
       "<text text-anchor=\"middle\" x=\"290.69\" y=\"-309.68\" font-family=\"Times,serif\" font-size=\"14.00\">f_rotated_</text>\n",
       "<text text-anchor=\"middle\" x=\"290.69\" y=\"-294.68\" font-family=\"Times,serif\" font-size=\"14.00\">~</text>\n",
       "<text text-anchor=\"middle\" x=\"290.69\" y=\"-279.68\" font-family=\"Times,serif\" font-size=\"14.00\">Normal</text>\n",
       "</g>\n",
       "<!-- f_rotated_&#45;&gt;f -->\n",
       "<g id=\"edge3\" class=\"edge\">\n",
       "<title>f_rotated_&#45;&gt;f</title>\n",
       "<path fill=\"none\" stroke=\"black\" d=\"M290.69,-260.8C290.69,-249.06 290.69,-236.08 290.69,-224.38\"/>\n",
       "<polygon fill=\"black\" stroke=\"black\" points=\"294.19,-224.08 290.69,-214.08 287.19,-224.08 294.19,-224.08\"/>\n",
       "</g>\n",
       "<!-- f&#45;&gt;preds -->\n",
       "<g id=\"edge7\" class=\"edge\">\n",
       "<title>f&#45;&gt;preds</title>\n",
       "<path fill=\"none\" stroke=\"black\" d=\"M290.69,-160.89C290.69,-149.98 290.69,-136.89 290.69,-124.35\"/>\n",
       "<polygon fill=\"black\" stroke=\"black\" points=\"294.19,-124 290.69,-114 287.19,-124 294.19,-124\"/>\n",
       "</g>\n",
       "<!-- f&#45;&gt;y_ -->\n",
       "<g id=\"edge6\" class=\"edge\">\n",
       "<title>f&#45;&gt;y_</title>\n",
       "<path fill=\"none\" stroke=\"black\" d=\"M263.73,-160.89C248.18,-146.16 228.44,-127.46 211.6,-111.5\"/>\n",
       "<polygon fill=\"black\" stroke=\"black\" points=\"213.75,-108.72 204.09,-104.38 208.94,-113.8 213.75,-108.72\"/>\n",
       "</g>\n",
       "</g>\n",
       "</svg>\n"
      ],
      "text/plain": [
       "<graphviz.graphs.Digraph at 0x7fb2842f3460>"
      ]
     },
     "execution_count": 34,
     "metadata": {},
     "output_type": "execute_result"
    }
   ],
   "source": [
    "pm.model_to_graphviz(model)"
   ]
  },
  {
   "cell_type": "code",
   "execution_count": 35,
   "id": "2a3d2a56-875d-4467-b158-896d3e01f5b5",
   "metadata": {},
   "outputs": [
    {
     "ename": "NameError",
     "evalue": "name 'gp_samples' is not defined",
     "output_type": "error",
     "traceback": [
      "\u001b[0;31m---------------------------------------------------------------------------\u001b[0m",
      "\u001b[0;31mNameError\u001b[0m                                 Traceback (most recent call last)",
      "Input \u001b[0;32mIn [35]\u001b[0m, in \u001b[0;36m<cell line: 3>\u001b[0;34m()\u001b[0m\n\u001b[1;32m      1\u001b[0m \u001b[38;5;28;01mfrom\u001b[39;00m \u001b[38;5;21;01mpymc\u001b[39;00m\u001b[38;5;21;01m.\u001b[39;00m\u001b[38;5;21;01mgp\u001b[39;00m\u001b[38;5;21;01m.\u001b[39;00m\u001b[38;5;21;01mutil\u001b[39;00m \u001b[38;5;28;01mimport\u001b[39;00m plot_gp_dist\n\u001b[0;32m----> 3\u001b[0m f_pred \u001b[38;5;241m=\u001b[39m \u001b[43mgp_samples\u001b[49m\u001b[38;5;241m.\u001b[39mposterior_predictive[\u001b[38;5;124m\"\u001b[39m\u001b[38;5;124mpreds\u001b[39m\u001b[38;5;124m\"\u001b[39m]\u001b[38;5;241m.\u001b[39msel(chain\u001b[38;5;241m=\u001b[39m\u001b[38;5;241m0\u001b[39m)\n\u001b[1;32m      4\u001b[0m fig, axes \u001b[38;5;241m=\u001b[39m plt\u001b[38;5;241m.\u001b[39msubplots(\u001b[38;5;241m3\u001b[39m,\u001b[38;5;241m1\u001b[39m, figsize\u001b[38;5;241m=\u001b[39m(\u001b[38;5;241m8\u001b[39m,\u001b[38;5;241m12\u001b[39m))\n\u001b[1;32m      6\u001b[0m \u001b[38;5;28;01mfor\u001b[39;00m idx \u001b[38;5;129;01min\u001b[39;00m \u001b[38;5;28mrange\u001b[39m(\u001b[38;5;241m3\u001b[39m):\n",
      "\u001b[0;31mNameError\u001b[0m: name 'gp_samples' is not defined"
     ]
    }
   ],
   "source": [
    "from pymc.gp.util import plot_gp_dist\n",
    "\n",
    "f_pred = gp_samples.posterior_predictive[\"preds\"].sel(chain=0)\n",
    "fig, axes = plt.subplots(3,1, figsize=(8,12))\n",
    "\n",
    "for idx in range(3):\n",
    "    plot_gp_dist(axes[idx], f_pred[:,n_points*idx:n_points*(idx+1)], \n",
    "                 X_new[n_points*idx:n_points*(idx+1),0], \n",
    "                 palette=\"Blues\", fill_alpha=0.5, samples_alpha=0.1)\n",
    "    axes[idx].plot(x, train_y[:,idx], 'ok', ms=3, alpha=0.5, label=\"Data 1\");"
   ]
  },
  {
   "cell_type": "code",
   "execution_count": null,
   "id": "cf984415-e955-4b9c-97ae-359d6f946d26",
   "metadata": {},
   "outputs": [],
   "source": [
    "az.summary(gp_trace)"
   ]
  },
  {
   "cell_type": "markdown",
   "id": "3a507921",
   "metadata": {},
   "source": [
    "### LCM: two or more kernels"
   ]
  },
  {
   "cell_type": "code",
   "execution_count": 19,
   "id": "70b4ae28",
   "metadata": {},
   "outputs": [],
   "source": [
    "# with pm.Model() as model:\n",
    "#     # Priors\n",
    "#     ell = pm.Gamma(\"ell\", alpha=2, beta=0.5, shape=2)\n",
    "#     eta = pm.Gamma(\"eta\", alpha=2, beta=0.5, shape=2)\n",
    "#     kernels = [pm.gp.cov.ExpQuad, pm.gp.cov.Matern32]\n",
    "#     sigma = pm.HalfNormal(\"sigma\", sigma=3)\n",
    "    \n",
    "#     # Define a list of covariance functions\n",
    "#     cov_list = [eta[idx] ** 2 * kernel(2,ls=ell[idx], active_dims=[0]) \n",
    "#                 for idx, kernel in enumerate(kernels)]\n",
    "    \n",
    "#     # Define a Multi-output GP \n",
    "#     mogp = MultiOutputMarginal(means=0, kernels=cov_list, input_dim=2, active_dims=[1], num_outputs=3)    \n",
    "#     y_ = mogp.marginal_likelihood(\"f\", X, Y.squeeze(), noise=sigma)    "
   ]
  },
  {
   "cell_type": "code",
   "execution_count": 118,
   "id": "4ac4056c-1a44-4825-b1d1-a3a78fe998cb",
   "metadata": {},
   "outputs": [],
   "source": [
    "# pm.model_to_graphviz(model)"
   ]
  },
  {
   "cell_type": "code",
   "execution_count": null,
   "id": "e211198f",
   "metadata": {},
   "outputs": [],
   "source": [
    "# %%time\n",
    "# with model:\n",
    "#     gp_trace = pm.sample(500, chains=1)"
   ]
  },
  {
   "cell_type": "code",
   "execution_count": null,
   "id": "85603819",
   "metadata": {},
   "outputs": [],
   "source": [
    "# with model:\n",
    "#     preds = mogp.conditional(\"preds\", X_new)\n",
    "#     gp_samples = pm.sample_posterior_predictive(gp_trace, var_names=['preds'], random_seed=42)"
   ]
  },
  {
   "cell_type": "code",
   "execution_count": null,
   "id": "5f98b5d8-a6a8-47b1-ac8d-c8fc6acadac6",
   "metadata": {},
   "outputs": [],
   "source": [
    "# pm.model_to_graphviz(model)"
   ]
  },
  {
   "cell_type": "code",
   "execution_count": null,
   "id": "a4a86182",
   "metadata": {},
   "outputs": [],
   "source": [
    "# from pymc.gp.util import plot_gp_dist\n",
    "\n",
    "# f_pred = gp_samples.posterior_predictive[\"preds\"].sel(chain=0)\n",
    "# fig, axes = plt.subplots(3,1, figsize=(8,12))\n",
    "\n",
    "# for idx in range(3):\n",
    "#     plot_gp_dist(axes[idx], f_pred[:,n_points*idx:n_points*(idx+1)], \n",
    "#                  X_new[n_points*idx:n_points*(idx+1),0], \n",
    "#                  palette=\"Blues\", fill_alpha=0.5, samples_alpha=0.1)\n",
    "#     axes[idx].plot(x, train_y[:,idx], 'ok', ms=3, alpha=0.5, label=\"Data 1\");"
   ]
  },
  {
   "cell_type": "code",
   "execution_count": null,
   "id": "5890f98c",
   "metadata": {},
   "outputs": [],
   "source": [
    "# az.summary(gp_trace)"
   ]
  },
  {
   "cell_type": "code",
   "execution_count": null,
   "id": "6313d8e3",
   "metadata": {},
   "outputs": [],
   "source": [
    "# az.plot_trace(gp_trace);\n",
    "# plt.tight_layout()"
   ]
  },
  {
   "cell_type": "code",
   "execution_count": null,
   "id": "6b666488-9c2a-4c04-a72a-462da2cbee82",
   "metadata": {},
   "outputs": [],
   "source": []
  }
 ],
 "metadata": {
  "kernelspec": {
   "display_name": "Python 3 (ipykernel)",
   "language": "python",
   "name": "python3"
  },
  "language_info": {
   "codemirror_mode": {
    "name": "ipython",
    "version": 3
   },
   "file_extension": ".py",
   "mimetype": "text/x-python",
   "name": "python",
   "nbconvert_exporter": "python",
   "pygments_lexer": "ipython3",
   "version": "3.9.12"
  }
 },
 "nbformat": 4,
 "nbformat_minor": 5
}

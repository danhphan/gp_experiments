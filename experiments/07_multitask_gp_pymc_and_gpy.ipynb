{
 "cells": [
  {
   "cell_type": "markdown",
   "id": "dbafafc7-b5a9-4ee7-922f-0886efe5a7ac",
   "metadata": {},
   "source": [
    "## Spatial prediction of soil pollutants with multi-output Gaussian processes\n",
    "Source: https://nextjournal.com/essicolo/spatial-prediction-of-soil-pollutants-with-multi-output-gaussian-processes?version=latest"
   ]
  },
  {
   "cell_type": "code",
   "execution_count": 1,
   "id": "f5515663-d761-4fcc-8bf1-73f9d436e9b6",
   "metadata": {},
   "outputs": [
    {
     "name": "stderr",
     "output_type": "stream",
     "text": [
      "WARNING (theano.tensor.blas): Using NumPy C-API based implementation for BLAS functions.\n"
     ]
    }
   ],
   "source": [
    "import numpy as np\n",
    "import pandas as pd\n",
    "import pymc3 as pm\n",
    "import matplotlib.pyplot as plt\n",
    "np.random.seed(123)"
   ]
  },
  {
   "cell_type": "code",
   "execution_count": 2,
   "id": "9ce01b70-a9cb-4ed2-a604-64bf2fb52835",
   "metadata": {},
   "outputs": [
    {
     "data": {
      "text/plain": [
       "('1.10.0', '3.11.3')"
      ]
     },
     "execution_count": 2,
     "metadata": {},
     "output_type": "execute_result"
    }
   ],
   "source": [
    "import GPy\n",
    "GPy.__version__, pm.__version__"
   ]
  },
  {
   "cell_type": "code",
   "execution_count": 3,
   "id": "24125fa0-e4ff-44cf-ad3b-b972613d8243",
   "metadata": {},
   "outputs": [
    {
     "data": {
      "text/html": [
       "<div>\n",
       "<style scoped>\n",
       "    .dataframe tbody tr th:only-of-type {\n",
       "        vertical-align: middle;\n",
       "    }\n",
       "\n",
       "    .dataframe tbody tr th {\n",
       "        vertical-align: top;\n",
       "    }\n",
       "\n",
       "    .dataframe thead th {\n",
       "        text-align: right;\n",
       "    }\n",
       "</style>\n",
       "<table border=\"1\" class=\"dataframe\">\n",
       "  <thead>\n",
       "    <tr style=\"text-align: right;\">\n",
       "      <th></th>\n",
       "      <th>x</th>\n",
       "      <th>y</th>\n",
       "      <th>cadmium</th>\n",
       "      <th>copper</th>\n",
       "      <th>lead</th>\n",
       "      <th>zinc</th>\n",
       "      <th>elev</th>\n",
       "      <th>dist</th>\n",
       "      <th>om</th>\n",
       "      <th>ffreq</th>\n",
       "      <th>soil</th>\n",
       "      <th>lime</th>\n",
       "      <th>landuse</th>\n",
       "      <th>dist.m</th>\n",
       "    </tr>\n",
       "  </thead>\n",
       "  <tbody>\n",
       "    <tr>\n",
       "      <th>0</th>\n",
       "      <td>181072</td>\n",
       "      <td>333611</td>\n",
       "      <td>11.7</td>\n",
       "      <td>85</td>\n",
       "      <td>299</td>\n",
       "      <td>1022</td>\n",
       "      <td>7.909</td>\n",
       "      <td>0.001358</td>\n",
       "      <td>13.6</td>\n",
       "      <td>1</td>\n",
       "      <td>1</td>\n",
       "      <td>1</td>\n",
       "      <td>Ah</td>\n",
       "      <td>50</td>\n",
       "    </tr>\n",
       "    <tr>\n",
       "      <th>1</th>\n",
       "      <td>181025</td>\n",
       "      <td>333558</td>\n",
       "      <td>8.6</td>\n",
       "      <td>81</td>\n",
       "      <td>277</td>\n",
       "      <td>1141</td>\n",
       "      <td>6.983</td>\n",
       "      <td>0.012224</td>\n",
       "      <td>14.0</td>\n",
       "      <td>1</td>\n",
       "      <td>1</td>\n",
       "      <td>1</td>\n",
       "      <td>Ah</td>\n",
       "      <td>30</td>\n",
       "    </tr>\n",
       "    <tr>\n",
       "      <th>2</th>\n",
       "      <td>181165</td>\n",
       "      <td>333537</td>\n",
       "      <td>6.5</td>\n",
       "      <td>68</td>\n",
       "      <td>199</td>\n",
       "      <td>640</td>\n",
       "      <td>7.800</td>\n",
       "      <td>0.103029</td>\n",
       "      <td>13.0</td>\n",
       "      <td>1</td>\n",
       "      <td>1</td>\n",
       "      <td>1</td>\n",
       "      <td>Ah</td>\n",
       "      <td>150</td>\n",
       "    </tr>\n",
       "    <tr>\n",
       "      <th>3</th>\n",
       "      <td>181298</td>\n",
       "      <td>333484</td>\n",
       "      <td>2.6</td>\n",
       "      <td>81</td>\n",
       "      <td>116</td>\n",
       "      <td>257</td>\n",
       "      <td>7.655</td>\n",
       "      <td>0.190094</td>\n",
       "      <td>8.0</td>\n",
       "      <td>1</td>\n",
       "      <td>2</td>\n",
       "      <td>0</td>\n",
       "      <td>Ga</td>\n",
       "      <td>270</td>\n",
       "    </tr>\n",
       "    <tr>\n",
       "      <th>4</th>\n",
       "      <td>181307</td>\n",
       "      <td>333330</td>\n",
       "      <td>2.8</td>\n",
       "      <td>48</td>\n",
       "      <td>117</td>\n",
       "      <td>269</td>\n",
       "      <td>7.480</td>\n",
       "      <td>0.277090</td>\n",
       "      <td>8.7</td>\n",
       "      <td>1</td>\n",
       "      <td>2</td>\n",
       "      <td>0</td>\n",
       "      <td>Ah</td>\n",
       "      <td>380</td>\n",
       "    </tr>\n",
       "  </tbody>\n",
       "</table>\n",
       "</div>"
      ],
      "text/plain": [
       "        x       y  cadmium  copper  lead  zinc   elev      dist    om  ffreq  \\\n",
       "0  181072  333611     11.7      85   299  1022  7.909  0.001358  13.6      1   \n",
       "1  181025  333558      8.6      81   277  1141  6.983  0.012224  14.0      1   \n",
       "2  181165  333537      6.5      68   199   640  7.800  0.103029  13.0      1   \n",
       "3  181298  333484      2.6      81   116   257  7.655  0.190094   8.0      1   \n",
       "4  181307  333330      2.8      48   117   269  7.480  0.277090   8.7      1   \n",
       "\n",
       "   soil  lime landuse  dist.m  \n",
       "0     1     1      Ah      50  \n",
       "1     1     1      Ah      30  \n",
       "2     1     1      Ah     150  \n",
       "3     2     0      Ga     270  \n",
       "4     2     0      Ah     380  "
      ]
     },
     "execution_count": 3,
     "metadata": {},
     "output_type": "execute_result"
    }
   ],
   "source": [
    "meuse_df = pd.read_csv(\"../data/meuse.csv\")\n",
    "meuse_df.head()"
   ]
  },
  {
   "cell_type": "code",
   "execution_count": 4,
   "id": "2cb8de16-45e4-4753-9368-e5a9afd0e849",
   "metadata": {},
   "outputs": [],
   "source": [
    "obs_id = meuse_df.index\n",
    "n_train = np.round(obs_id.shape[0] * 0.7, 0).astype(\"int\")\n",
    "id_train = np.random.choice(obs_id, size = n_train, replace = False)\n",
    "id_test = obs_id[~obs_id.isin(id_train)].values"
   ]
  },
  {
   "cell_type": "code",
   "execution_count": 5,
   "id": "971c259a-e7d3-4706-bd13-b3a514a5ef38",
   "metadata": {},
   "outputs": [
    {
     "data": {
      "text/plain": [
       "(108, 47)"
      ]
     },
     "execution_count": 5,
     "metadata": {},
     "output_type": "execute_result"
    }
   ],
   "source": [
    "len(id_train), len(id_test)"
   ]
  },
  {
   "cell_type": "code",
   "execution_count": 6,
   "id": "6515c8b3-8b84-46d7-9779-1a0516c0e61d",
   "metadata": {},
   "outputs": [],
   "source": [
    "targets = [\"cadmium\", \"copper\", \"lead\", \"zinc\"]\n",
    "features = [\"x\", \"y\", \"dist\"]"
   ]
  },
  {
   "cell_type": "code",
   "execution_count": 7,
   "id": "154ba958-3e1b-4d15-bf63-4e4806a5b6c2",
   "metadata": {},
   "outputs": [],
   "source": [
    "XY = meuse_df[targets + features]"
   ]
  },
  {
   "cell_type": "code",
   "execution_count": 8,
   "id": "8022be10-17f3-4868-a31d-4a67efe78aa9",
   "metadata": {},
   "outputs": [],
   "source": [
    "mean_sc = XY.loc[XY.index.isin(id_train), :].mean(axis = 0)\n",
    "std_sc = XY.loc[XY.index.isin(id_train), :].std(axis = 0)\n",
    "XY_sc = XY.apply(lambda x: (x-mean_sc)/std_sc, axis = 1)"
   ]
  },
  {
   "cell_type": "code",
   "execution_count": 9,
   "id": "7e79777f-5268-410f-8781-a591566654c3",
   "metadata": {},
   "outputs": [
    {
     "data": {
      "text/plain": [
       "((155, 7), (155, 7))"
      ]
     },
     "execution_count": 9,
     "metadata": {},
     "output_type": "execute_result"
    }
   ],
   "source": [
    "XY.shape, XY_sc.shape"
   ]
  },
  {
   "cell_type": "code",
   "execution_count": 10,
   "id": "7230785c-c8c8-497c-8730-8d8641b9282f",
   "metadata": {},
   "outputs": [
    {
     "data": {
      "text/html": [
       "<div>\n",
       "<style scoped>\n",
       "    .dataframe tbody tr th:only-of-type {\n",
       "        vertical-align: middle;\n",
       "    }\n",
       "\n",
       "    .dataframe tbody tr th {\n",
       "        vertical-align: top;\n",
       "    }\n",
       "\n",
       "    .dataframe thead th {\n",
       "        text-align: right;\n",
       "    }\n",
       "</style>\n",
       "<table border=\"1\" class=\"dataframe\">\n",
       "  <thead>\n",
       "    <tr style=\"text-align: right;\">\n",
       "      <th></th>\n",
       "      <th>cadmium</th>\n",
       "      <th>copper</th>\n",
       "      <th>lead</th>\n",
       "      <th>zinc</th>\n",
       "      <th>x</th>\n",
       "      <th>y</th>\n",
       "      <th>dist</th>\n",
       "    </tr>\n",
       "  </thead>\n",
       "  <tbody>\n",
       "    <tr>\n",
       "      <th>0</th>\n",
       "      <td>2.341026</td>\n",
       "      <td>1.897420</td>\n",
       "      <td>1.265781</td>\n",
       "      <td>1.432640</td>\n",
       "      <td>1.335194</td>\n",
       "      <td>1.794602</td>\n",
       "      <td>-1.173337</td>\n",
       "    </tr>\n",
       "    <tr>\n",
       "      <th>1</th>\n",
       "      <td>1.467739</td>\n",
       "      <td>1.724563</td>\n",
       "      <td>1.071949</td>\n",
       "      <td>1.749590</td>\n",
       "      <td>1.274062</td>\n",
       "      <td>1.744386</td>\n",
       "      <td>-1.116452</td>\n",
       "    </tr>\n",
       "    <tr>\n",
       "      <th>2</th>\n",
       "      <td>0.876157</td>\n",
       "      <td>1.162780</td>\n",
       "      <td>0.384727</td>\n",
       "      <td>0.415202</td>\n",
       "      <td>1.456158</td>\n",
       "      <td>1.724489</td>\n",
       "      <td>-0.641089</td>\n",
       "    </tr>\n",
       "    <tr>\n",
       "      <th>3</th>\n",
       "      <td>-0.222495</td>\n",
       "      <td>1.724563</td>\n",
       "      <td>-0.346548</td>\n",
       "      <td>-0.604899</td>\n",
       "      <td>1.629150</td>\n",
       "      <td>1.674274</td>\n",
       "      <td>-0.185304</td>\n",
       "    </tr>\n",
       "    <tr>\n",
       "      <th>4</th>\n",
       "      <td>-0.166154</td>\n",
       "      <td>0.298498</td>\n",
       "      <td>-0.337737</td>\n",
       "      <td>-0.572937</td>\n",
       "      <td>1.640856</td>\n",
       "      <td>1.528363</td>\n",
       "      <td>0.270120</td>\n",
       "    </tr>\n",
       "    <tr>\n",
       "      <th>...</th>\n",
       "      <td>...</td>\n",
       "      <td>...</td>\n",
       "      <td>...</td>\n",
       "      <td>...</td>\n",
       "      <td>...</td>\n",
       "      <td>...</td>\n",
       "      <td>...</td>\n",
       "    </tr>\n",
       "    <tr>\n",
       "      <th>150</th>\n",
       "      <td>-0.729566</td>\n",
       "      <td>-0.911498</td>\n",
       "      <td>-0.936854</td>\n",
       "      <td>-0.847273</td>\n",
       "      <td>-1.120508</td>\n",
       "      <td>-1.454268</td>\n",
       "      <td>1.038340</td>\n",
       "    </tr>\n",
       "    <tr>\n",
       "      <th>151</th>\n",
       "      <td>-0.081642</td>\n",
       "      <td>-0.090430</td>\n",
       "      <td>0.155653</td>\n",
       "      <td>0.031665</td>\n",
       "      <td>-1.249276</td>\n",
       "      <td>-1.350046</td>\n",
       "      <td>1.038340</td>\n",
       "    </tr>\n",
       "    <tr>\n",
       "      <th>152</th>\n",
       "      <td>-0.363348</td>\n",
       "      <td>-0.436143</td>\n",
       "      <td>-0.320116</td>\n",
       "      <td>-0.378506</td>\n",
       "      <td>-1.522421</td>\n",
       "      <td>-1.332044</td>\n",
       "      <td>0.270120</td>\n",
       "    </tr>\n",
       "    <tr>\n",
       "      <th>153</th>\n",
       "      <td>-0.729566</td>\n",
       "      <td>-0.868284</td>\n",
       "      <td>-0.919233</td>\n",
       "      <td>-0.857926</td>\n",
       "      <td>-0.753714</td>\n",
       "      <td>-1.265722</td>\n",
       "      <td>0.696856</td>\n",
       "    </tr>\n",
       "    <tr>\n",
       "      <th>154</th>\n",
       "      <td>-0.194325</td>\n",
       "      <td>-0.608999</td>\n",
       "      <td>-0.276064</td>\n",
       "      <td>-0.290612</td>\n",
       "      <td>0.756387</td>\n",
       "      <td>-1.446688</td>\n",
       "      <td>-1.116452</td>\n",
       "    </tr>\n",
       "  </tbody>\n",
       "</table>\n",
       "<p>155 rows × 7 columns</p>\n",
       "</div>"
      ],
      "text/plain": [
       "      cadmium    copper      lead      zinc         x         y      dist\n",
       "0    2.341026  1.897420  1.265781  1.432640  1.335194  1.794602 -1.173337\n",
       "1    1.467739  1.724563  1.071949  1.749590  1.274062  1.744386 -1.116452\n",
       "2    0.876157  1.162780  0.384727  0.415202  1.456158  1.724489 -0.641089\n",
       "3   -0.222495  1.724563 -0.346548 -0.604899  1.629150  1.674274 -0.185304\n",
       "4   -0.166154  0.298498 -0.337737 -0.572937  1.640856  1.528363  0.270120\n",
       "..        ...       ...       ...       ...       ...       ...       ...\n",
       "150 -0.729566 -0.911498 -0.936854 -0.847273 -1.120508 -1.454268  1.038340\n",
       "151 -0.081642 -0.090430  0.155653  0.031665 -1.249276 -1.350046  1.038340\n",
       "152 -0.363348 -0.436143 -0.320116 -0.378506 -1.522421 -1.332044  0.270120\n",
       "153 -0.729566 -0.868284 -0.919233 -0.857926 -0.753714 -1.265722  0.696856\n",
       "154 -0.194325 -0.608999 -0.276064 -0.290612  0.756387 -1.446688 -1.116452\n",
       "\n",
       "[155 rows x 7 columns]"
      ]
     },
     "execution_count": 10,
     "metadata": {},
     "output_type": "execute_result"
    }
   ],
   "source": [
    "XY_sc"
   ]
  },
  {
   "cell_type": "markdown",
   "id": "d8e89f89-4f97-4e69-b741-c016f66f5590",
   "metadata": {},
   "source": [
    "### Intrinsic model of coregionalization (ICM)"
   ]
  },
  {
   "cell_type": "code",
   "execution_count": 11,
   "id": "f8b77230-14a5-4809-bdfe-b33948a56e20",
   "metadata": {},
   "outputs": [
    {
     "data": {
      "text/plain": [
       "((155, 3), (155, 4))"
      ]
     },
     "execution_count": 11,
     "metadata": {},
     "output_type": "execute_result"
    }
   ],
   "source": [
    "XY_sc[features].values.shape, XY_sc[targets].values.shape"
   ]
  },
  {
   "cell_type": "code",
   "execution_count": 12,
   "id": "1d692b34-7e6f-4f1e-b78a-b762c813db84",
   "metadata": {},
   "outputs": [
    {
     "data": {
      "text/html": [
       "<style type=\"text/css\">\n",
       ".tg  {font-family:\"Courier New\", Courier, monospace !important;padding:2px 3px;word-break:normal;border-collapse:collapse;border-spacing:0;border-color:#DCDCDC;margin:0px auto;width:100%;}\n",
       ".tg td{font-family:\"Courier New\", Courier, monospace !important;font-weight:bold;color:#444;background-color:#F7FDFA;border-style:solid;border-width:1px;overflow:hidden;word-break:normal;border-color:#DCDCDC;}\n",
       ".tg th{font-family:\"Courier New\", Courier, monospace !important;font-weight:normal;color:#fff;background-color:#26ADE4;border-style:solid;border-width:1px;overflow:hidden;word-break:normal;border-color:#DCDCDC;}\n",
       ".tg .tg-left{font-family:\"Courier New\", Courier, monospace !important;font-weight:normal;text-align:left;}\n",
       ".tg .tg-center{font-family:\"Courier New\", Courier, monospace !important;font-weight:normal;text-align:center;}\n",
       ".tg .tg-right{font-family:\"Courier New\", Courier, monospace !important;font-weight:normal;text-align:right;}\n",
       "</style>\n",
       "<table class=\"tg\"><tr><th><b>  mul.           </b></th><th><b> value</b></th><th><b>constraints</b></th><th><b>priors</b></th></tr>\n",
       "<tr><td class=tg-left>  rbf.variance   </td><td class=tg-right>   1.0</td><td class=tg-center>    +ve    </td><td class=tg-center>      </td></tr>\n",
       "<tr><td class=tg-left>  rbf.lengthscale</td><td class=tg-right>  80.0</td><td class=tg-center>    +ve    </td><td class=tg-center>      </td></tr>\n",
       "<tr><td class=tg-left>  coregion.W     </td><td class=tg-right>(4, 3)</td><td class=tg-center>           </td><td class=tg-center>      </td></tr>\n",
       "<tr><td class=tg-left>  coregion.kappa </td><td class=tg-right>  (4,)</td><td class=tg-center>    +ve    </td><td class=tg-center>      </td></tr>\n",
       "</table>"
      ],
      "text/plain": [
       "<GPy.kern.src.prod.Prod at 0x7fea8fa7cfa0>"
      ]
     },
     "metadata": {},
     "output_type": "display_data"
    }
   ],
   "source": [
    "kern = GPy.kern.RBF(1, lengthscale=80)**GPy.kern.Coregionalize(1,output_dim=4, rank=3)\n",
    "display(kern)"
   ]
  },
  {
   "cell_type": "code",
   "execution_count": 18,
   "id": "eb9300be-ff3f-430a-b7b3-c361c73f9eea",
   "metadata": {},
   "outputs": [
    {
     "data": {
      "text/plain": [
       "(155,)"
      ]
     },
     "execution_count": 18,
     "metadata": {},
     "output_type": "execute_result"
    }
   ],
   "source": [
    "XY_sc[\"dist\"].values[:].shape"
   ]
  },
  {
   "cell_type": "code",
   "execution_count": 20,
   "id": "245e3282-f7e7-438e-a7c1-cd3ffa60cd0b",
   "metadata": {},
   "outputs": [
    {
     "ename": "AssertionError",
     "evalue": "",
     "output_type": "error",
     "traceback": [
      "\u001b[0;31m---------------------------------------------------------------------------\u001b[0m",
      "\u001b[0;31mAssertionError\u001b[0m                            Traceback (most recent call last)",
      "Input \u001b[0;32mIn [20]\u001b[0m, in \u001b[0;36m<cell line: 1>\u001b[0;34m()\u001b[0m\n\u001b[0;32m----> 1\u001b[0m model \u001b[38;5;241m=\u001b[39m \u001b[43mGPy\u001b[49m\u001b[38;5;241;43m.\u001b[39;49m\u001b[43mmodels\u001b[49m\u001b[38;5;241;43m.\u001b[39;49m\u001b[43mGPRegression\u001b[49m\u001b[43m(\u001b[49m\u001b[43mX\u001b[49m\u001b[38;5;241;43m=\u001b[39;49m\u001b[43mXY_sc\u001b[49m\u001b[43m[\u001b[49m\u001b[38;5;124;43m\"\u001b[39;49m\u001b[38;5;124;43mdist\u001b[39;49m\u001b[38;5;124;43m\"\u001b[39;49m\u001b[43m]\u001b[49m\u001b[38;5;241;43m.\u001b[39;49m\u001b[43mvalues\u001b[49m\u001b[43m,\u001b[49m\u001b[43m \u001b[49m\u001b[43mY\u001b[49m\u001b[38;5;241;43m=\u001b[39;49m\u001b[43mXY_sc\u001b[49m\u001b[43m[\u001b[49m\u001b[43mtargets\u001b[49m\u001b[43m]\u001b[49m\u001b[38;5;241;43m.\u001b[39;49m\u001b[43mvalues\u001b[49m\u001b[43m,\u001b[49m\u001b[43m \u001b[49m\u001b[43mkernel\u001b[49m\u001b[38;5;241;43m=\u001b[39;49m\u001b[43mkern\u001b[49m\u001b[43m)\u001b[49m\n\u001b[1;32m      2\u001b[0m model\u001b[38;5;241m.\u001b[39moptimize()\n",
      "File \u001b[0;32m~/Repos/win_ssd/oss/gp_experiments/.venv/lib/python3.8/site-packages/paramz/parameterized.py:53\u001b[0m, in \u001b[0;36mParametersChangedMeta.__call__\u001b[0;34m(self, *args, **kw)\u001b[0m\n\u001b[1;32m     51\u001b[0m \u001b[38;5;66;03m#import ipdb;ipdb.set_trace()\u001b[39;00m\n\u001b[1;32m     52\u001b[0m initialize \u001b[38;5;241m=\u001b[39m kw\u001b[38;5;241m.\u001b[39mpop(\u001b[38;5;124m'\u001b[39m\u001b[38;5;124minitialize\u001b[39m\u001b[38;5;124m'\u001b[39m, \u001b[38;5;28;01mTrue\u001b[39;00m)\n\u001b[0;32m---> 53\u001b[0m \u001b[38;5;28mself\u001b[39m \u001b[38;5;241m=\u001b[39m \u001b[38;5;28;43msuper\u001b[39;49m\u001b[43m(\u001b[49m\u001b[43mParametersChangedMeta\u001b[49m\u001b[43m,\u001b[49m\u001b[43m \u001b[49m\u001b[38;5;28;43mself\u001b[39;49m\u001b[43m)\u001b[49m\u001b[38;5;241;43m.\u001b[39;49m\u001b[38;5;21;43m__call__\u001b[39;49m\u001b[43m(\u001b[49m\u001b[38;5;241;43m*\u001b[39;49m\u001b[43margs\u001b[49m\u001b[43m,\u001b[49m\u001b[43m \u001b[49m\u001b[38;5;241;43m*\u001b[39;49m\u001b[38;5;241;43m*\u001b[39;49m\u001b[43mkw\u001b[49m\u001b[43m)\u001b[49m\n\u001b[1;32m     54\u001b[0m \u001b[38;5;66;03m#logger.debug(\"finished init\")\u001b[39;00m\n\u001b[1;32m     55\u001b[0m \u001b[38;5;28mself\u001b[39m\u001b[38;5;241m.\u001b[39m_in_init_ \u001b[38;5;241m=\u001b[39m \u001b[38;5;28;01mFalse\u001b[39;00m\n",
      "File \u001b[0;32m~/Repos/win_ssd/oss/gp_experiments/.venv/lib/python3.8/site-packages/GPy/models/gp_regression.py:36\u001b[0m, in \u001b[0;36mGPRegression.__init__\u001b[0;34m(self, X, Y, kernel, Y_metadata, normalizer, noise_var, mean_function)\u001b[0m\n\u001b[1;32m     32\u001b[0m     kernel \u001b[38;5;241m=\u001b[39m kern\u001b[38;5;241m.\u001b[39mRBF(X\u001b[38;5;241m.\u001b[39mshape[\u001b[38;5;241m1\u001b[39m])\n\u001b[1;32m     34\u001b[0m likelihood \u001b[38;5;241m=\u001b[39m likelihoods\u001b[38;5;241m.\u001b[39mGaussian(variance\u001b[38;5;241m=\u001b[39mnoise_var)\n\u001b[0;32m---> 36\u001b[0m \u001b[38;5;28;43msuper\u001b[39;49m\u001b[43m(\u001b[49m\u001b[43mGPRegression\u001b[49m\u001b[43m,\u001b[49m\u001b[43m \u001b[49m\u001b[38;5;28;43mself\u001b[39;49m\u001b[43m)\u001b[49m\u001b[38;5;241;43m.\u001b[39;49m\u001b[38;5;21;43m__init__\u001b[39;49m\u001b[43m(\u001b[49m\u001b[43mX\u001b[49m\u001b[43m,\u001b[49m\u001b[43m \u001b[49m\u001b[43mY\u001b[49m\u001b[43m,\u001b[49m\u001b[43m \u001b[49m\u001b[43mkernel\u001b[49m\u001b[43m,\u001b[49m\u001b[43m \u001b[49m\u001b[43mlikelihood\u001b[49m\u001b[43m,\u001b[49m\u001b[43m \u001b[49m\u001b[43mname\u001b[49m\u001b[38;5;241;43m=\u001b[39;49m\u001b[38;5;124;43m'\u001b[39;49m\u001b[38;5;124;43mGP regression\u001b[39;49m\u001b[38;5;124;43m'\u001b[39;49m\u001b[43m,\u001b[49m\u001b[43m \u001b[49m\u001b[43mY_metadata\u001b[49m\u001b[38;5;241;43m=\u001b[39;49m\u001b[43mY_metadata\u001b[49m\u001b[43m,\u001b[49m\u001b[43m \u001b[49m\u001b[43mnormalizer\u001b[49m\u001b[38;5;241;43m=\u001b[39;49m\u001b[43mnormalizer\u001b[49m\u001b[43m,\u001b[49m\u001b[43m \u001b[49m\u001b[43mmean_function\u001b[49m\u001b[38;5;241;43m=\u001b[39;49m\u001b[43mmean_function\u001b[49m\u001b[43m)\u001b[49m\n",
      "File \u001b[0;32m~/Repos/win_ssd/oss/gp_experiments/.venv/lib/python3.8/site-packages/GPy/core/gp.py:41\u001b[0m, in \u001b[0;36mGP.__init__\u001b[0;34m(self, X, Y, kernel, likelihood, mean_function, inference_method, name, Y_metadata, normalizer)\u001b[0m\n\u001b[1;32m     38\u001b[0m \u001b[38;5;28;01mdef\u001b[39;00m \u001b[38;5;21m__init__\u001b[39m(\u001b[38;5;28mself\u001b[39m, X, Y, kernel, likelihood, mean_function\u001b[38;5;241m=\u001b[39m\u001b[38;5;28;01mNone\u001b[39;00m, inference_method\u001b[38;5;241m=\u001b[39m\u001b[38;5;28;01mNone\u001b[39;00m, name\u001b[38;5;241m=\u001b[39m\u001b[38;5;124m'\u001b[39m\u001b[38;5;124mgp\u001b[39m\u001b[38;5;124m'\u001b[39m, Y_metadata\u001b[38;5;241m=\u001b[39m\u001b[38;5;28;01mNone\u001b[39;00m, normalizer\u001b[38;5;241m=\u001b[39m\u001b[38;5;28;01mFalse\u001b[39;00m):\n\u001b[1;32m     39\u001b[0m     \u001b[38;5;28msuper\u001b[39m(GP, \u001b[38;5;28mself\u001b[39m)\u001b[38;5;241m.\u001b[39m\u001b[38;5;21m__init__\u001b[39m(name)\n\u001b[0;32m---> 41\u001b[0m     \u001b[38;5;28;01massert\u001b[39;00m X\u001b[38;5;241m.\u001b[39mndim \u001b[38;5;241m==\u001b[39m \u001b[38;5;241m2\u001b[39m\n\u001b[1;32m     42\u001b[0m     \u001b[38;5;28;01mif\u001b[39;00m \u001b[38;5;28misinstance\u001b[39m(X, (ObsAr, VariationalPosterior)):\n\u001b[1;32m     43\u001b[0m         \u001b[38;5;28mself\u001b[39m\u001b[38;5;241m.\u001b[39mX \u001b[38;5;241m=\u001b[39m X\u001b[38;5;241m.\u001b[39mcopy()\n",
      "\u001b[0;31mAssertionError\u001b[0m: "
     ]
    }
   ],
   "source": [
    "model = GPy.models.GPRegression(X=XY_sc[\"dist\"].values, Y=XY_sc[targets].values, kernel=kern)\n",
    "model.optimize()"
   ]
  },
  {
   "cell_type": "code",
   "execution_count": 14,
   "id": "ae3a45ff-fbe2-414d-a5e2-d456cd98c474",
   "metadata": {},
   "outputs": [
    {
     "data": {
      "text/html": [
       "<style type=\"text/css\">\n",
       ".pd{\n",
       "    font-family: \"Courier New\", Courier, monospace !important;\n",
       "    width: 100%;\n",
       "    padding: 3px;\n",
       "}\n",
       "</style>\n",
       "\n",
       "<p class=pd>\n",
       "<b>Model</b>: GP regression<br>\n",
       "<b>Objective</b>: 181855.06798298005<br>\n",
       "<b>Number of Parameters</b>: 19<br>\n",
       "<b>Number of Optimization Parameters</b>: 19<br>\n",
       "<b>Updates</b>: True<br>\n",
       "</p>\n",
       "<style type=\"text/css\">\n",
       ".tg  {font-family:\"Courier New\", Courier, monospace !important;padding:2px 3px;word-break:normal;border-collapse:collapse;border-spacing:0;border-color:#DCDCDC;margin:0px auto;width:100%;}\n",
       ".tg td{font-family:\"Courier New\", Courier, monospace !important;font-weight:bold;color:#444;background-color:#F7FDFA;border-style:solid;border-width:1px;overflow:hidden;word-break:normal;border-color:#DCDCDC;}\n",
       ".tg th{font-family:\"Courier New\", Courier, monospace !important;font-weight:normal;color:#fff;background-color:#26ADE4;border-style:solid;border-width:1px;overflow:hidden;word-break:normal;border-color:#DCDCDC;}\n",
       ".tg .tg-left{font-family:\"Courier New\", Courier, monospace !important;font-weight:normal;text-align:left;}\n",
       ".tg .tg-center{font-family:\"Courier New\", Courier, monospace !important;font-weight:normal;text-align:center;}\n",
       ".tg .tg-right{font-family:\"Courier New\", Courier, monospace !important;font-weight:normal;text-align:right;}\n",
       "</style>\n",
       "<table class=\"tg\"><tr><th><b>  GP_regression.         </b></th><th><b>               value</b></th><th><b>constraints</b></th><th><b>priors</b></th></tr>\n",
       "<tr><td class=tg-left>  mul.rbf.variance       </td><td class=tg-right>0.011532298282157745</td><td class=tg-center>    +ve    </td><td class=tg-center>      </td></tr>\n",
       "<tr><td class=tg-left>  mul.rbf.lengthscale    </td><td class=tg-right>    80.1357520629657</td><td class=tg-center>    +ve    </td><td class=tg-center>      </td></tr>\n",
       "<tr><td class=tg-left>  mul.coregion.W         </td><td class=tg-right>              (4, 3)</td><td class=tg-center>           </td><td class=tg-center>      </td></tr>\n",
       "<tr><td class=tg-left>  mul.coregion.kappa     </td><td class=tg-right>                (4,)</td><td class=tg-center>    +ve    </td><td class=tg-center>      </td></tr>\n",
       "<tr><td class=tg-left>  Gaussian_noise.variance</td><td class=tg-right>  0.9999999999999887</td><td class=tg-center>    +ve    </td><td class=tg-center>      </td></tr>\n",
       "</table>"
      ],
      "text/plain": [
       "<GPy.models.gp_regression.GPRegression at 0x7f1761c3d040>"
      ]
     },
     "execution_count": 14,
     "metadata": {},
     "output_type": "execute_result"
    }
   ],
   "source": [
    "model"
   ]
  },
  {
   "cell_type": "code",
   "execution_count": null,
   "id": "6e15a161-056b-440e-b620-f9b9421c33f6",
   "metadata": {},
   "outputs": [],
   "source": [
    "fig, ax = plt.subplots()\n",
    "for i in range(4):\n",
    "    model.plot(fignum=1,fixed_inputs=[(1, i)],ax=ax,legend=i==0)\n",
    "plt.xlabel('years')\n",
    "plt.ylabel('time/s')"
   ]
  },
  {
   "cell_type": "code",
   "execution_count": null,
   "id": "7b125c6a-1f4e-4ed4-9f8e-ad64cc3107f0",
   "metadata": {},
   "outputs": [],
   "source": []
  },
  {
   "cell_type": "code",
   "execution_count": null,
   "id": "e08c5e6d-53d1-4cbc-b097-5df34ac12578",
   "metadata": {},
   "outputs": [],
   "source": []
  },
  {
   "cell_type": "code",
   "execution_count": 15,
   "id": "80849494-b273-447c-b00f-0d9d349809c8",
   "metadata": {},
   "outputs": [
    {
     "ename": "ValueError",
     "evalue": "all the input array dimensions for the concatenation axis must match exactly, but along dimension 0, the array at index 0 has size 155 and the array at index 1 has size 465",
     "output_type": "error",
     "traceback": [
      "\u001b[0;31m---------------------------------------------------------------------------\u001b[0m",
      "\u001b[0;31mValueError\u001b[0m                                Traceback (most recent call last)",
      "Input \u001b[0;32mIn [27]\u001b[0m, in \u001b[0;36m<cell line: 4>\u001b[0;34m()\u001b[0m\n\u001b[1;32m      1\u001b[0m K \u001b[38;5;241m=\u001b[39m GPy\u001b[38;5;241m.\u001b[39mkern\u001b[38;5;241m.\u001b[39mMatern32(\u001b[38;5;241m1\u001b[39m)\n\u001b[1;32m      2\u001b[0m icm \u001b[38;5;241m=\u001b[39m GPy\u001b[38;5;241m.\u001b[39mutil\u001b[38;5;241m.\u001b[39mmultioutput\u001b[38;5;241m.\u001b[39mICM(input_dim\u001b[38;5;241m=\u001b[39m\u001b[38;5;241m1\u001b[39m, num_outputs\u001b[38;5;241m=\u001b[39m\u001b[38;5;241m4\u001b[39m, kernel\u001b[38;5;241m=\u001b[39mK)\n\u001b[0;32m----> 4\u001b[0m m \u001b[38;5;241m=\u001b[39m \u001b[43mGPy\u001b[49m\u001b[38;5;241;43m.\u001b[39;49m\u001b[43mmodels\u001b[49m\u001b[38;5;241;43m.\u001b[39;49m\u001b[43mGPCoregionalizedRegression\u001b[49m\u001b[43m(\u001b[49m\u001b[43mXY_sc\u001b[49m\u001b[43m[\u001b[49m\u001b[43mfeatures\u001b[49m\u001b[43m]\u001b[49m\u001b[38;5;241;43m.\u001b[39;49m\u001b[43mvalues\u001b[49m\u001b[43m,\u001b[49m\u001b[43m \u001b[49m\n\u001b[1;32m      5\u001b[0m \u001b[43m                                          \u001b[49m\u001b[43mXY_sc\u001b[49m\u001b[43m[\u001b[49m\u001b[43mtargets\u001b[49m\u001b[43m]\u001b[49m\u001b[38;5;241;43m.\u001b[39;49m\u001b[43mvalues\u001b[49m\u001b[43m,\u001b[49m\u001b[43m \u001b[49m\u001b[43mkernel\u001b[49m\u001b[38;5;241;43m=\u001b[39;49m\u001b[43micm\u001b[49m\u001b[43m)\u001b[49m\n\u001b[1;32m      6\u001b[0m m[\u001b[38;5;124m'\u001b[39m\u001b[38;5;124m.*Mat32.var\u001b[39m\u001b[38;5;124m'\u001b[39m]\u001b[38;5;241m.\u001b[39mconstrain_fixed(\u001b[38;5;241m1.\u001b[39m) \u001b[38;5;66;03m#For this kernel, B.kappa encodes the variance now.\u001b[39;00m\n\u001b[1;32m      7\u001b[0m \u001b[38;5;28mprint\u001b[39m(m)\n",
      "File \u001b[0;32m~/Repos/win_ssd/oss/gp_experiments/.venv/lib/python3.8/site-packages/paramz/parameterized.py:53\u001b[0m, in \u001b[0;36mParametersChangedMeta.__call__\u001b[0;34m(self, *args, **kw)\u001b[0m\n\u001b[1;32m     51\u001b[0m \u001b[38;5;66;03m#import ipdb;ipdb.set_trace()\u001b[39;00m\n\u001b[1;32m     52\u001b[0m initialize \u001b[38;5;241m=\u001b[39m kw\u001b[38;5;241m.\u001b[39mpop(\u001b[38;5;124m'\u001b[39m\u001b[38;5;124minitialize\u001b[39m\u001b[38;5;124m'\u001b[39m, \u001b[38;5;28;01mTrue\u001b[39;00m)\n\u001b[0;32m---> 53\u001b[0m \u001b[38;5;28mself\u001b[39m \u001b[38;5;241m=\u001b[39m \u001b[38;5;28;43msuper\u001b[39;49m\u001b[43m(\u001b[49m\u001b[43mParametersChangedMeta\u001b[49m\u001b[43m,\u001b[49m\u001b[43m \u001b[49m\u001b[38;5;28;43mself\u001b[39;49m\u001b[43m)\u001b[49m\u001b[38;5;241;43m.\u001b[39;49m\u001b[38;5;21;43m__call__\u001b[39;49m\u001b[43m(\u001b[49m\u001b[38;5;241;43m*\u001b[39;49m\u001b[43margs\u001b[49m\u001b[43m,\u001b[49m\u001b[43m \u001b[49m\u001b[38;5;241;43m*\u001b[39;49m\u001b[38;5;241;43m*\u001b[39;49m\u001b[43mkw\u001b[49m\u001b[43m)\u001b[49m\n\u001b[1;32m     54\u001b[0m \u001b[38;5;66;03m#logger.debug(\"finished init\")\u001b[39;00m\n\u001b[1;32m     55\u001b[0m \u001b[38;5;28mself\u001b[39m\u001b[38;5;241m.\u001b[39m_in_init_ \u001b[38;5;241m=\u001b[39m \u001b[38;5;28;01mFalse\u001b[39;00m\n",
      "File \u001b[0;32m~/Repos/win_ssd/oss/gp_experiments/.venv/lib/python3.8/site-packages/GPy/models/gp_coregionalized_regression.py:34\u001b[0m, in \u001b[0;36mGPCoregionalizedRegression.__init__\u001b[0;34m(self, X_list, Y_list, kernel, likelihoods_list, name, W_rank, kernel_name)\u001b[0m\n\u001b[1;32m     31\u001b[0m \u001b[38;5;28;01mdef\u001b[39;00m \u001b[38;5;21m__init__\u001b[39m(\u001b[38;5;28mself\u001b[39m, X_list, Y_list, kernel\u001b[38;5;241m=\u001b[39m\u001b[38;5;28;01mNone\u001b[39;00m, likelihoods_list\u001b[38;5;241m=\u001b[39m\u001b[38;5;28;01mNone\u001b[39;00m, name\u001b[38;5;241m=\u001b[39m\u001b[38;5;124m'\u001b[39m\u001b[38;5;124mGPCR\u001b[39m\u001b[38;5;124m'\u001b[39m,W_rank\u001b[38;5;241m=\u001b[39m\u001b[38;5;241m1\u001b[39m,kernel_name\u001b[38;5;241m=\u001b[39m\u001b[38;5;124m'\u001b[39m\u001b[38;5;124mcoreg\u001b[39m\u001b[38;5;124m'\u001b[39m):\n\u001b[1;32m     32\u001b[0m \n\u001b[1;32m     33\u001b[0m     \u001b[38;5;66;03m#Input and Output\u001b[39;00m\n\u001b[0;32m---> 34\u001b[0m     X,Y,\u001b[38;5;28mself\u001b[39m\u001b[38;5;241m.\u001b[39moutput_index \u001b[38;5;241m=\u001b[39m \u001b[43mutil\u001b[49m\u001b[38;5;241;43m.\u001b[39;49m\u001b[43mmultioutput\u001b[49m\u001b[38;5;241;43m.\u001b[39;49m\u001b[43mbuild_XY\u001b[49m\u001b[43m(\u001b[49m\u001b[43mX_list\u001b[49m\u001b[43m,\u001b[49m\u001b[43mY_list\u001b[49m\u001b[43m)\u001b[49m\n\u001b[1;32m     35\u001b[0m     Ny \u001b[38;5;241m=\u001b[39m \u001b[38;5;28mlen\u001b[39m(Y_list)\n\u001b[1;32m     37\u001b[0m     \u001b[38;5;66;03m#Kernel\u001b[39;00m\n",
      "File \u001b[0;32m~/Repos/win_ssd/oss/gp_experiments/.venv/lib/python3.8/site-packages/GPy/util/multioutput.py:55\u001b[0m, in \u001b[0;36mbuild_XY\u001b[0;34m(input_list, output_list, index)\u001b[0m\n\u001b[1;32m     52\u001b[0m     I \u001b[38;5;241m=\u001b[39m np\u001b[38;5;241m.\u001b[39mhstack( [np\u001b[38;5;241m.\u001b[39mrepeat(j,_x\u001b[38;5;241m.\u001b[39mshape[\u001b[38;5;241m0\u001b[39m]) \u001b[38;5;28;01mfor\u001b[39;00m _x,j \u001b[38;5;129;01min\u001b[39;00m \u001b[38;5;28mzip\u001b[39m(input_list,\u001b[38;5;28mrange\u001b[39m(num_outputs))] )\n\u001b[1;32m     54\u001b[0m X \u001b[38;5;241m=\u001b[39m np\u001b[38;5;241m.\u001b[39mvstack(input_list)\n\u001b[0;32m---> 55\u001b[0m X \u001b[38;5;241m=\u001b[39m \u001b[43mnp\u001b[49m\u001b[38;5;241;43m.\u001b[39;49m\u001b[43mhstack\u001b[49m\u001b[43m(\u001b[49m\u001b[43m[\u001b[49m\u001b[43mX\u001b[49m\u001b[43m,\u001b[49m\u001b[43mI\u001b[49m\u001b[43m[\u001b[49m\u001b[43m:\u001b[49m\u001b[43m,\u001b[49m\u001b[38;5;28;43;01mNone\u001b[39;49;00m\u001b[43m]\u001b[49m\u001b[43m]\u001b[49m\u001b[43m)\u001b[49m\n\u001b[1;32m     57\u001b[0m \u001b[38;5;28;01mreturn\u001b[39;00m X,Y,I[:,\u001b[38;5;28;01mNone\u001b[39;00m]\n",
      "File \u001b[0;32m<__array_function__ internals>:5\u001b[0m, in \u001b[0;36mhstack\u001b[0;34m(*args, **kwargs)\u001b[0m\n",
      "File \u001b[0;32m~/Repos/win_ssd/oss/gp_experiments/.venv/lib/python3.8/site-packages/numpy/core/shape_base.py:346\u001b[0m, in \u001b[0;36mhstack\u001b[0;34m(tup)\u001b[0m\n\u001b[1;32m    344\u001b[0m     \u001b[38;5;28;01mreturn\u001b[39;00m _nx\u001b[38;5;241m.\u001b[39mconcatenate(arrs, \u001b[38;5;241m0\u001b[39m)\n\u001b[1;32m    345\u001b[0m \u001b[38;5;28;01melse\u001b[39;00m:\n\u001b[0;32m--> 346\u001b[0m     \u001b[38;5;28;01mreturn\u001b[39;00m \u001b[43m_nx\u001b[49m\u001b[38;5;241;43m.\u001b[39;49m\u001b[43mconcatenate\u001b[49m\u001b[43m(\u001b[49m\u001b[43marrs\u001b[49m\u001b[43m,\u001b[49m\u001b[43m \u001b[49m\u001b[38;5;241;43m1\u001b[39;49m\u001b[43m)\u001b[49m\n",
      "File \u001b[0;32m<__array_function__ internals>:5\u001b[0m, in \u001b[0;36mconcatenate\u001b[0;34m(*args, **kwargs)\u001b[0m\n",
      "\u001b[0;31mValueError\u001b[0m: all the input array dimensions for the concatenation axis must match exactly, but along dimension 0, the array at index 0 has size 155 and the array at index 1 has size 465"
     ]
    }
   ],
   "source": [
    "K = GPy.kern.Matern32(1)\n",
    "icm = GPy.util.multioutput.ICM(input_dim=1, num_outputs=4, kernel=K)\n",
    "\n",
    "m = GPy.models.GPCoregionalizedRegression(XY_sc[features].values, \n",
    "                                          XY_sc[targets].values, kernel=icm)\n",
    "m['.*Mat32.var'].constrain_fixed(1.) #For this kernel, B.kappa encodes the variance now.\n",
    "print(m)"
   ]
  },
  {
   "cell_type": "code",
   "execution_count": null,
   "id": "760e3371-99d3-41ae-95a2-0af8d16483e1",
   "metadata": {},
   "outputs": [],
   "source": []
  }
 ],
 "metadata": {
  "kernelspec": {
   "display_name": "Python 3",
   "language": "python",
   "name": "python3"
  },
  "language_info": {
   "codemirror_mode": {
    "name": "ipython",
    "version": 3
   },
   "file_extension": ".py",
   "mimetype": "text/x-python",
   "name": "python",
   "nbconvert_exporter": "python",
   "pygments_lexer": "ipython3",
   "version": "3.8.5"
  }
 },
 "nbformat": 4,
 "nbformat_minor": 5
}

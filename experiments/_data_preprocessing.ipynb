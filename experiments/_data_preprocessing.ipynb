{
 "cells": [
  {
   "cell_type": "markdown",
   "id": "0a634ef9-f642-4eb9-ad6f-5bc6ed99096b",
   "metadata": {},
   "source": [
    "### Data sets"
   ]
  },
  {
   "cell_type": "markdown",
   "id": "76551329-2acb-44d9-8009-4731f68ec5ac",
   "metadata": {},
   "source": [
    "**We use the following datasets:**\n",
    "\n",
    "    - Monthly Fed interest rate from 1955 to 2022: https://fred.stlouisfed.org/series/FEDFUNDS\n",
    "    - Monthly US unemployment rate from ? to 2022: https://data.bls.gov/pdq/SurveyOutputServlet\n",
    "    - Monthly SP500 index: https://www.wsj.com/market-data/quotes/index/SPX/historical-prices\n",
    "    - Weekly/Monthly NASDAX index: https://finance.yahoo.com/quote/%5EIXIC/history?p=%5EIXIC\n",
    "    - Weekly/Monthly Bitcoin: https://finance.yahoo.com/quote/BTC-USD/history?p=BTC-USD"
   ]
  },
  {
   "cell_type": "code",
   "execution_count": 7,
   "id": "e37c78cf-b213-4212-b5e4-c68d1b7da091",
   "metadata": {},
   "outputs": [],
   "source": [
    "import pandas as pd"
   ]
  },
  {
   "cell_type": "markdown",
   "id": "41adafbe-d71c-41e3-81d7-c7d07a3e536f",
   "metadata": {},
   "source": [
    "### US Fed interest rate"
   ]
  },
  {
   "cell_type": "code",
   "execution_count": 23,
   "id": "47b2b768-1a35-4130-b652-b9217a2e0adc",
   "metadata": {},
   "outputs": [
    {
     "data": {
      "text/plain": [
       "(818, 2)"
      ]
     },
     "execution_count": 23,
     "metadata": {},
     "output_type": "execute_result"
    }
   ],
   "source": [
    "fed_df = pd.read_csv(\"../data/economy/fed_rate.csv\")\n",
    "fed_df.shape"
   ]
  },
  {
   "cell_type": "code",
   "execution_count": 24,
   "id": "cac333aa-4662-463e-adc5-dc810644abc9",
   "metadata": {},
   "outputs": [
    {
     "data": {
      "text/html": [
       "<div>\n",
       "<style scoped>\n",
       "    .dataframe tbody tr th:only-of-type {\n",
       "        vertical-align: middle;\n",
       "    }\n",
       "\n",
       "    .dataframe tbody tr th {\n",
       "        vertical-align: top;\n",
       "    }\n",
       "\n",
       "    .dataframe thead th {\n",
       "        text-align: right;\n",
       "    }\n",
       "</style>\n",
       "<table border=\"1\" class=\"dataframe\">\n",
       "  <thead>\n",
       "    <tr style=\"text-align: right;\">\n",
       "      <th></th>\n",
       "      <th>DATE</th>\n",
       "      <th>FEDFUNDS</th>\n",
       "    </tr>\n",
       "  </thead>\n",
       "  <tbody>\n",
       "    <tr>\n",
       "      <th>0</th>\n",
       "      <td>1954-07-01</td>\n",
       "      <td>0.80</td>\n",
       "    </tr>\n",
       "    <tr>\n",
       "      <th>1</th>\n",
       "      <td>1954-08-01</td>\n",
       "      <td>1.22</td>\n",
       "    </tr>\n",
       "    <tr>\n",
       "      <th>2</th>\n",
       "      <td>1954-09-01</td>\n",
       "      <td>1.07</td>\n",
       "    </tr>\n",
       "    <tr>\n",
       "      <th>3</th>\n",
       "      <td>1954-10-01</td>\n",
       "      <td>0.85</td>\n",
       "    </tr>\n",
       "    <tr>\n",
       "      <th>4</th>\n",
       "      <td>1954-11-01</td>\n",
       "      <td>0.83</td>\n",
       "    </tr>\n",
       "  </tbody>\n",
       "</table>\n",
       "</div>"
      ],
      "text/plain": [
       "         DATE  FEDFUNDS\n",
       "0  1954-07-01      0.80\n",
       "1  1954-08-01      1.22\n",
       "2  1954-09-01      1.07\n",
       "3  1954-10-01      0.85\n",
       "4  1954-11-01      0.83"
      ]
     },
     "execution_count": 24,
     "metadata": {},
     "output_type": "execute_result"
    }
   ],
   "source": [
    "fed_df.head()"
   ]
  },
  {
   "cell_type": "markdown",
   "id": "1aa966b2-6551-4aac-bbea-a10551caa7f1",
   "metadata": {},
   "source": [
    "### US unemployment rate"
   ]
  },
  {
   "cell_type": "code",
   "execution_count": 40,
   "id": "54f8e2a0-e5d8-4d22-8656-740936353bfd",
   "metadata": {},
   "outputs": [
    {
     "data": {
      "text/plain": [
       "(75, 13)"
      ]
     },
     "execution_count": 40,
     "metadata": {},
     "output_type": "execute_result"
    }
   ],
   "source": [
    "uem_df = pd.read_csv(\"../data/economy/unemployment_rate.csv\")\n",
    "uem_df.shape"
   ]
  },
  {
   "cell_type": "code",
   "execution_count": 41,
   "id": "8afeaa50-98ba-45d8-bf1d-5da33d57d75c",
   "metadata": {},
   "outputs": [
    {
     "data": {
      "text/html": [
       "<div>\n",
       "<style scoped>\n",
       "    .dataframe tbody tr th:only-of-type {\n",
       "        vertical-align: middle;\n",
       "    }\n",
       "\n",
       "    .dataframe tbody tr th {\n",
       "        vertical-align: top;\n",
       "    }\n",
       "\n",
       "    .dataframe thead th {\n",
       "        text-align: right;\n",
       "    }\n",
       "</style>\n",
       "<table border=\"1\" class=\"dataframe\">\n",
       "  <thead>\n",
       "    <tr style=\"text-align: right;\">\n",
       "      <th></th>\n",
       "      <th>Year</th>\n",
       "      <th>Jan</th>\n",
       "      <th>Feb</th>\n",
       "      <th>Mar</th>\n",
       "      <th>Apr</th>\n",
       "      <th>May</th>\n",
       "      <th>Jun</th>\n",
       "      <th>Jul</th>\n",
       "      <th>Aug</th>\n",
       "      <th>Sep</th>\n",
       "      <th>Oct</th>\n",
       "      <th>Nov</th>\n",
       "      <th>Dec</th>\n",
       "    </tr>\n",
       "  </thead>\n",
       "  <tbody>\n",
       "    <tr>\n",
       "      <th>0</th>\n",
       "      <td>1948</td>\n",
       "      <td>3.4</td>\n",
       "      <td>3.8</td>\n",
       "      <td>4.0</td>\n",
       "      <td>3.9</td>\n",
       "      <td>3.5</td>\n",
       "      <td>3.6</td>\n",
       "      <td>3.6</td>\n",
       "      <td>3.9</td>\n",
       "      <td>3.8</td>\n",
       "      <td>3.7</td>\n",
       "      <td>3.8</td>\n",
       "      <td>4.0</td>\n",
       "    </tr>\n",
       "    <tr>\n",
       "      <th>1</th>\n",
       "      <td>1949</td>\n",
       "      <td>4.3</td>\n",
       "      <td>4.7</td>\n",
       "      <td>5.0</td>\n",
       "      <td>5.3</td>\n",
       "      <td>6.1</td>\n",
       "      <td>6.2</td>\n",
       "      <td>6.7</td>\n",
       "      <td>6.8</td>\n",
       "      <td>6.6</td>\n",
       "      <td>7.9</td>\n",
       "      <td>6.4</td>\n",
       "      <td>6.6</td>\n",
       "    </tr>\n",
       "    <tr>\n",
       "      <th>2</th>\n",
       "      <td>1950</td>\n",
       "      <td>6.5</td>\n",
       "      <td>6.4</td>\n",
       "      <td>6.3</td>\n",
       "      <td>5.8</td>\n",
       "      <td>5.5</td>\n",
       "      <td>5.4</td>\n",
       "      <td>5.0</td>\n",
       "      <td>4.5</td>\n",
       "      <td>4.4</td>\n",
       "      <td>4.2</td>\n",
       "      <td>4.2</td>\n",
       "      <td>4.3</td>\n",
       "    </tr>\n",
       "    <tr>\n",
       "      <th>3</th>\n",
       "      <td>1951</td>\n",
       "      <td>3.7</td>\n",
       "      <td>3.4</td>\n",
       "      <td>3.4</td>\n",
       "      <td>3.1</td>\n",
       "      <td>3.0</td>\n",
       "      <td>3.2</td>\n",
       "      <td>3.1</td>\n",
       "      <td>3.1</td>\n",
       "      <td>3.3</td>\n",
       "      <td>3.5</td>\n",
       "      <td>3.5</td>\n",
       "      <td>3.1</td>\n",
       "    </tr>\n",
       "    <tr>\n",
       "      <th>4</th>\n",
       "      <td>1952</td>\n",
       "      <td>3.2</td>\n",
       "      <td>3.1</td>\n",
       "      <td>2.9</td>\n",
       "      <td>2.9</td>\n",
       "      <td>3.0</td>\n",
       "      <td>3.0</td>\n",
       "      <td>3.2</td>\n",
       "      <td>3.4</td>\n",
       "      <td>3.1</td>\n",
       "      <td>3.0</td>\n",
       "      <td>2.8</td>\n",
       "      <td>2.7</td>\n",
       "    </tr>\n",
       "  </tbody>\n",
       "</table>\n",
       "</div>"
      ],
      "text/plain": [
       "   Year  Jan  Feb  Mar  Apr  May  Jun  Jul  Aug  Sep  Oct  Nov  Dec\n",
       "0  1948  3.4  3.8  4.0  3.9  3.5  3.6  3.6  3.9  3.8  3.7  3.8  4.0\n",
       "1  1949  4.3  4.7  5.0  5.3  6.1  6.2  6.7  6.8  6.6  7.9  6.4  6.6\n",
       "2  1950  6.5  6.4  6.3  5.8  5.5  5.4  5.0  4.5  4.4  4.2  4.2  4.3\n",
       "3  1951  3.7  3.4  3.4  3.1  3.0  3.2  3.1  3.1  3.3  3.5  3.5  3.1\n",
       "4  1952  3.2  3.1  2.9  2.9  3.0  3.0  3.2  3.4  3.1  3.0  2.8  2.7"
      ]
     },
     "execution_count": 41,
     "metadata": {},
     "output_type": "execute_result"
    }
   ],
   "source": [
    "uem_df.head()"
   ]
  },
  {
   "cell_type": "code",
   "execution_count": 50,
   "id": "00e09644-f559-4086-9ea6-3dc8f4949111",
   "metadata": {},
   "outputs": [
    {
     "data": {
      "text/plain": [
       "Index(['Jan', 'Feb', 'Mar', 'Apr', 'May', 'Jun', 'Jul', 'Aug', 'Sep', 'Oct',\n",
       "       'Nov', 'Dec'],\n",
       "      dtype='object')"
      ]
     },
     "execution_count": 50,
     "metadata": {},
     "output_type": "execute_result"
    }
   ],
   "source": [
    "uem_df.columns[1:]"
   ]
  },
  {
   "cell_type": "code",
   "execution_count": 54,
   "id": "bfdb4d35-3772-4483-8b34-8d3e4753aaab",
   "metadata": {},
   "outputs": [],
   "source": [
    "mapping = {mon:num for mon, num in zip(uem_df.columns[1:], range(1,13))}"
   ]
  },
  {
   "cell_type": "code",
   "execution_count": 58,
   "id": "17cb05b8-757c-4e97-a145-857848b4564b",
   "metadata": {},
   "outputs": [
    {
     "data": {
      "text/html": [
       "<div>\n",
       "<style scoped>\n",
       "    .dataframe tbody tr th:only-of-type {\n",
       "        vertical-align: middle;\n",
       "    }\n",
       "\n",
       "    .dataframe tbody tr th {\n",
       "        vertical-align: top;\n",
       "    }\n",
       "\n",
       "    .dataframe thead th {\n",
       "        text-align: right;\n",
       "    }\n",
       "</style>\n",
       "<table border=\"1\" class=\"dataframe\">\n",
       "  <thead>\n",
       "    <tr style=\"text-align: right;\">\n",
       "      <th></th>\n",
       "      <th>Year</th>\n",
       "      <th>Month</th>\n",
       "      <th>unemployment</th>\n",
       "      <th>Month_Num</th>\n",
       "    </tr>\n",
       "  </thead>\n",
       "  <tbody>\n",
       "    <tr>\n",
       "      <th>0</th>\n",
       "      <td>1948</td>\n",
       "      <td>Jan</td>\n",
       "      <td>3.4</td>\n",
       "      <td>1</td>\n",
       "    </tr>\n",
       "    <tr>\n",
       "      <th>1</th>\n",
       "      <td>1949</td>\n",
       "      <td>Jan</td>\n",
       "      <td>4.3</td>\n",
       "      <td>1</td>\n",
       "    </tr>\n",
       "    <tr>\n",
       "      <th>2</th>\n",
       "      <td>1950</td>\n",
       "      <td>Jan</td>\n",
       "      <td>6.5</td>\n",
       "      <td>1</td>\n",
       "    </tr>\n",
       "    <tr>\n",
       "      <th>3</th>\n",
       "      <td>1951</td>\n",
       "      <td>Jan</td>\n",
       "      <td>3.7</td>\n",
       "      <td>1</td>\n",
       "    </tr>\n",
       "    <tr>\n",
       "      <th>4</th>\n",
       "      <td>1952</td>\n",
       "      <td>Jan</td>\n",
       "      <td>3.2</td>\n",
       "      <td>1</td>\n",
       "    </tr>\n",
       "  </tbody>\n",
       "</table>\n",
       "</div>"
      ],
      "text/plain": [
       "   Year Month  unemployment  Month_Num\n",
       "0  1948   Jan           3.4          1\n",
       "1  1949   Jan           4.3          1\n",
       "2  1950   Jan           6.5          1\n",
       "3  1951   Jan           3.7          1\n",
       "4  1952   Jan           3.2          1"
      ]
     },
     "execution_count": 58,
     "metadata": {},
     "output_type": "execute_result"
    }
   ],
   "source": [
    "uem_df = uem_df.melt(id_vars='Year').rename(columns={\"variable\":\"Month\", \"value\":\"unemployment\"})\n",
    "uem_df[\"Month_Num\"] = uem_df[\"Month\"].map(mapping)\n",
    "uem_df.head()"
   ]
  },
  {
   "cell_type": "code",
   "execution_count": 63,
   "id": "4c96db94-c6ca-47e2-9437-493b6d8c430b",
   "metadata": {},
   "outputs": [],
   "source": [
    "uem_df[\"Date\"] = uem_df[\"Year\"].astype(str) + \"-\" + uem_df[\"Month_Num\"].astype(str) + \"-\" + \"01\""
   ]
  },
  {
   "cell_type": "code",
   "execution_count": 64,
   "id": "aa4ab95a-a693-489f-8481-565230a83d20",
   "metadata": {},
   "outputs": [
    {
     "data": {
      "text/html": [
       "<div>\n",
       "<style scoped>\n",
       "    .dataframe tbody tr th:only-of-type {\n",
       "        vertical-align: middle;\n",
       "    }\n",
       "\n",
       "    .dataframe tbody tr th {\n",
       "        vertical-align: top;\n",
       "    }\n",
       "\n",
       "    .dataframe thead th {\n",
       "        text-align: right;\n",
       "    }\n",
       "</style>\n",
       "<table border=\"1\" class=\"dataframe\">\n",
       "  <thead>\n",
       "    <tr style=\"text-align: right;\">\n",
       "      <th></th>\n",
       "      <th>Year</th>\n",
       "      <th>Month</th>\n",
       "      <th>unemployment</th>\n",
       "      <th>Month_Num</th>\n",
       "      <th>Date</th>\n",
       "    </tr>\n",
       "  </thead>\n",
       "  <tbody>\n",
       "    <tr>\n",
       "      <th>0</th>\n",
       "      <td>1948</td>\n",
       "      <td>Jan</td>\n",
       "      <td>3.4</td>\n",
       "      <td>1</td>\n",
       "      <td>1948-1-01</td>\n",
       "    </tr>\n",
       "    <tr>\n",
       "      <th>1</th>\n",
       "      <td>1949</td>\n",
       "      <td>Jan</td>\n",
       "      <td>4.3</td>\n",
       "      <td>1</td>\n",
       "      <td>1949-1-01</td>\n",
       "    </tr>\n",
       "    <tr>\n",
       "      <th>2</th>\n",
       "      <td>1950</td>\n",
       "      <td>Jan</td>\n",
       "      <td>6.5</td>\n",
       "      <td>1</td>\n",
       "      <td>1950-1-01</td>\n",
       "    </tr>\n",
       "    <tr>\n",
       "      <th>3</th>\n",
       "      <td>1951</td>\n",
       "      <td>Jan</td>\n",
       "      <td>3.7</td>\n",
       "      <td>1</td>\n",
       "      <td>1951-1-01</td>\n",
       "    </tr>\n",
       "    <tr>\n",
       "      <th>4</th>\n",
       "      <td>1952</td>\n",
       "      <td>Jan</td>\n",
       "      <td>3.2</td>\n",
       "      <td>1</td>\n",
       "      <td>1952-1-01</td>\n",
       "    </tr>\n",
       "    <tr>\n",
       "      <th>...</th>\n",
       "      <td>...</td>\n",
       "      <td>...</td>\n",
       "      <td>...</td>\n",
       "      <td>...</td>\n",
       "      <td>...</td>\n",
       "    </tr>\n",
       "    <tr>\n",
       "      <th>895</th>\n",
       "      <td>2018</td>\n",
       "      <td>Dec</td>\n",
       "      <td>3.9</td>\n",
       "      <td>12</td>\n",
       "      <td>2018-12-01</td>\n",
       "    </tr>\n",
       "    <tr>\n",
       "      <th>896</th>\n",
       "      <td>2019</td>\n",
       "      <td>Dec</td>\n",
       "      <td>3.6</td>\n",
       "      <td>12</td>\n",
       "      <td>2019-12-01</td>\n",
       "    </tr>\n",
       "    <tr>\n",
       "      <th>897</th>\n",
       "      <td>2020</td>\n",
       "      <td>Dec</td>\n",
       "      <td>6.7</td>\n",
       "      <td>12</td>\n",
       "      <td>2020-12-01</td>\n",
       "    </tr>\n",
       "    <tr>\n",
       "      <th>898</th>\n",
       "      <td>2021</td>\n",
       "      <td>Dec</td>\n",
       "      <td>3.9</td>\n",
       "      <td>12</td>\n",
       "      <td>2021-12-01</td>\n",
       "    </tr>\n",
       "    <tr>\n",
       "      <th>899</th>\n",
       "      <td>2022</td>\n",
       "      <td>Dec</td>\n",
       "      <td>NaN</td>\n",
       "      <td>12</td>\n",
       "      <td>2022-12-01</td>\n",
       "    </tr>\n",
       "  </tbody>\n",
       "</table>\n",
       "<p>900 rows × 5 columns</p>\n",
       "</div>"
      ],
      "text/plain": [
       "     Year Month  unemployment  Month_Num        Date\n",
       "0    1948   Jan           3.4          1   1948-1-01\n",
       "1    1949   Jan           4.3          1   1949-1-01\n",
       "2    1950   Jan           6.5          1   1950-1-01\n",
       "3    1951   Jan           3.7          1   1951-1-01\n",
       "4    1952   Jan           3.2          1   1952-1-01\n",
       "..    ...   ...           ...        ...         ...\n",
       "895  2018   Dec           3.9         12  2018-12-01\n",
       "896  2019   Dec           3.6         12  2019-12-01\n",
       "897  2020   Dec           6.7         12  2020-12-01\n",
       "898  2021   Dec           3.9         12  2021-12-01\n",
       "899  2022   Dec           NaN         12  2022-12-01\n",
       "\n",
       "[900 rows x 5 columns]"
      ]
     },
     "execution_count": 64,
     "metadata": {},
     "output_type": "execute_result"
    }
   ],
   "source": [
    "uem_df"
   ]
  },
  {
   "cell_type": "code",
   "execution_count": null,
   "id": "435ecd8f-6f87-41d4-b974-1c52c4e76bfd",
   "metadata": {},
   "outputs": [],
   "source": []
  },
  {
   "cell_type": "markdown",
   "id": "b3871713-bc2f-4da2-adde-df5ad3da2b70",
   "metadata": {},
   "source": [
    "### S&P500 index"
   ]
  },
  {
   "cell_type": "code",
   "execution_count": 11,
   "id": "fd6eae41-e13e-483f-b3dd-3f72453b5200",
   "metadata": {},
   "outputs": [
    {
     "data": {
      "text/plain": [
       "(11276, 5)"
      ]
     },
     "execution_count": 11,
     "metadata": {},
     "output_type": "execute_result"
    }
   ],
   "source": [
    "sp5_df = pd.read_csv(\"../data/economy/sp500.csv\")\n",
    "sp5_df.shape"
   ]
  },
  {
   "cell_type": "code",
   "execution_count": 12,
   "id": "bb3b78dc-8670-4342-9525-53db0cc1a7ec",
   "metadata": {},
   "outputs": [
    {
     "data": {
      "text/html": [
       "<div>\n",
       "<style scoped>\n",
       "    .dataframe tbody tr th:only-of-type {\n",
       "        vertical-align: middle;\n",
       "    }\n",
       "\n",
       "    .dataframe tbody tr th {\n",
       "        vertical-align: top;\n",
       "    }\n",
       "\n",
       "    .dataframe thead th {\n",
       "        text-align: right;\n",
       "    }\n",
       "</style>\n",
       "<table border=\"1\" class=\"dataframe\">\n",
       "  <thead>\n",
       "    <tr style=\"text-align: right;\">\n",
       "      <th></th>\n",
       "      <th>Date</th>\n",
       "      <th>Open</th>\n",
       "      <th>High</th>\n",
       "      <th>Low</th>\n",
       "      <th>Close</th>\n",
       "    </tr>\n",
       "  </thead>\n",
       "  <tbody>\n",
       "    <tr>\n",
       "      <th>0</th>\n",
       "      <td>09/20/22</td>\n",
       "      <td>3875.05</td>\n",
       "      <td>3876.01</td>\n",
       "      <td>3827.54</td>\n",
       "      <td>3855.93</td>\n",
       "    </tr>\n",
       "    <tr>\n",
       "      <th>1</th>\n",
       "      <td>09/19/22</td>\n",
       "      <td>3849.91</td>\n",
       "      <td>3900.45</td>\n",
       "      <td>3838.50</td>\n",
       "      <td>3899.89</td>\n",
       "    </tr>\n",
       "    <tr>\n",
       "      <th>2</th>\n",
       "      <td>09/16/22</td>\n",
       "      <td>3880.95</td>\n",
       "      <td>3880.95</td>\n",
       "      <td>3837.08</td>\n",
       "      <td>3873.33</td>\n",
       "    </tr>\n",
       "    <tr>\n",
       "      <th>3</th>\n",
       "      <td>09/15/22</td>\n",
       "      <td>3932.41</td>\n",
       "      <td>3959.14</td>\n",
       "      <td>3888.28</td>\n",
       "      <td>3901.35</td>\n",
       "    </tr>\n",
       "    <tr>\n",
       "      <th>4</th>\n",
       "      <td>09/14/22</td>\n",
       "      <td>3940.73</td>\n",
       "      <td>3961.94</td>\n",
       "      <td>3912.18</td>\n",
       "      <td>3946.01</td>\n",
       "    </tr>\n",
       "  </tbody>\n",
       "</table>\n",
       "</div>"
      ],
      "text/plain": [
       "       Date     Open     High      Low    Close\n",
       "0  09/20/22  3875.05  3876.01  3827.54  3855.93\n",
       "1  09/19/22  3849.91  3900.45  3838.50  3899.89\n",
       "2  09/16/22  3880.95  3880.95  3837.08  3873.33\n",
       "3  09/15/22  3932.41  3959.14  3888.28  3901.35\n",
       "4  09/14/22  3940.73  3961.94  3912.18  3946.01"
      ]
     },
     "execution_count": 12,
     "metadata": {},
     "output_type": "execute_result"
    }
   ],
   "source": [
    "sp5_df.head()"
   ]
  },
  {
   "cell_type": "code",
   "execution_count": 28,
   "id": "f71b514b-7635-4f03-9f86-18252fca69cd",
   "metadata": {},
   "outputs": [
    {
     "data": {
      "text/html": [
       "<div>\n",
       "<style scoped>\n",
       "    .dataframe tbody tr th:only-of-type {\n",
       "        vertical-align: middle;\n",
       "    }\n",
       "\n",
       "    .dataframe tbody tr th {\n",
       "        vertical-align: top;\n",
       "    }\n",
       "\n",
       "    .dataframe thead th {\n",
       "        text-align: right;\n",
       "    }\n",
       "</style>\n",
       "<table border=\"1\" class=\"dataframe\">\n",
       "  <thead>\n",
       "    <tr style=\"text-align: right;\">\n",
       "      <th></th>\n",
       "      <th>Date</th>\n",
       "      <th>Open</th>\n",
       "      <th>High</th>\n",
       "      <th>Low</th>\n",
       "      <th>Close</th>\n",
       "    </tr>\n",
       "  </thead>\n",
       "  <tbody>\n",
       "    <tr>\n",
       "      <th>11271</th>\n",
       "      <td>01/09/78</td>\n",
       "      <td>90.64</td>\n",
       "      <td>91.52</td>\n",
       "      <td>90.01</td>\n",
       "      <td>90.64</td>\n",
       "    </tr>\n",
       "    <tr>\n",
       "      <th>11272</th>\n",
       "      <td>01/06/78</td>\n",
       "      <td>91.62</td>\n",
       "      <td>92.66</td>\n",
       "      <td>91.05</td>\n",
       "      <td>91.62</td>\n",
       "    </tr>\n",
       "    <tr>\n",
       "      <th>11273</th>\n",
       "      <td>01/05/78</td>\n",
       "      <td>92.74</td>\n",
       "      <td>94.53</td>\n",
       "      <td>92.51</td>\n",
       "      <td>92.74</td>\n",
       "    </tr>\n",
       "    <tr>\n",
       "      <th>11274</th>\n",
       "      <td>01/04/78</td>\n",
       "      <td>93.52</td>\n",
       "      <td>94.10</td>\n",
       "      <td>93.16</td>\n",
       "      <td>93.52</td>\n",
       "    </tr>\n",
       "    <tr>\n",
       "      <th>11275</th>\n",
       "      <td>01/03/78</td>\n",
       "      <td>93.82</td>\n",
       "      <td>95.15</td>\n",
       "      <td>93.49</td>\n",
       "      <td>93.82</td>\n",
       "    </tr>\n",
       "  </tbody>\n",
       "</table>\n",
       "</div>"
      ],
      "text/plain": [
       "           Date   Open   High    Low   Close\n",
       "11271  01/09/78  90.64  91.52  90.01   90.64\n",
       "11272  01/06/78  91.62  92.66  91.05   91.62\n",
       "11273  01/05/78  92.74  94.53  92.51   92.74\n",
       "11274  01/04/78  93.52  94.10  93.16   93.52\n",
       "11275  01/03/78  93.82  95.15  93.49   93.82"
      ]
     },
     "execution_count": 28,
     "metadata": {},
     "output_type": "execute_result"
    }
   ],
   "source": [
    "sp5_df.tail()"
   ]
  },
  {
   "cell_type": "code",
   "execution_count": 30,
   "id": "f936a99c-fff1-4ff3-987f-bd5022086949",
   "metadata": {},
   "outputs": [
    {
     "data": {
      "text/plain": [
       "Date      0\n",
       " Open     0\n",
       " High     0\n",
       " Low      0\n",
       " Close    0\n",
       "dtype: int64"
      ]
     },
     "execution_count": 30,
     "metadata": {},
     "output_type": "execute_result"
    }
   ],
   "source": [
    "sp5_df.isna().sum()"
   ]
  },
  {
   "cell_type": "code",
   "execution_count": 34,
   "id": "374b3a97-56e9-43ec-a34a-b8ff0ad27c60",
   "metadata": {},
   "outputs": [
    {
     "data": {
      "text/plain": [
       "Index(['Date', ' Open', ' High', ' Low', ' Close'], dtype='object')"
      ]
     },
     "execution_count": 34,
     "metadata": {},
     "output_type": "execute_result"
    }
   ],
   "source": [
    "sp5_df.columns"
   ]
  },
  {
   "cell_type": "code",
   "execution_count": null,
   "id": "cd4d29ae-8efe-46f1-9158-c62c79b1a1c3",
   "metadata": {},
   "outputs": [],
   "source": []
  },
  {
   "cell_type": "code",
   "execution_count": 35,
   "id": "19fa50d9-c5a1-41aa-b1e3-f15f65f8e47e",
   "metadata": {},
   "outputs": [],
   "source": [
    "# 2022-40\n",
    "sp5_df[\"Price\"] = (sp5_df[\" Close\"] - sp5_df[\" Close\"].mean()) / sp5_df[\" Close\"].std()"
   ]
  },
  {
   "cell_type": "markdown",
   "id": "c1982a7d-b0eb-48e6-93ac-a1e952789dff",
   "metadata": {},
   "source": [
    "### NASDAX index"
   ]
  },
  {
   "cell_type": "code",
   "execution_count": 16,
   "id": "f82f3aeb-bddd-4637-9538-886e2e818b62",
   "metadata": {},
   "outputs": [
    {
     "data": {
      "text/plain": [
       "(2695, 7)"
      ]
     },
     "execution_count": 16,
     "metadata": {},
     "output_type": "execute_result"
    }
   ],
   "source": [
    "ndq_df = pd.read_csv(\".../data/economy/nasdaq.csv\")\n",
    "ndq_df.shape"
   ]
  },
  {
   "cell_type": "code",
   "execution_count": 17,
   "id": "15cfa5ad-80a3-4d9d-b189-431fa6f3b7cb",
   "metadata": {},
   "outputs": [
    {
     "data": {
      "text/html": [
       "<div>\n",
       "<style scoped>\n",
       "    .dataframe tbody tr th:only-of-type {\n",
       "        vertical-align: middle;\n",
       "    }\n",
       "\n",
       "    .dataframe tbody tr th {\n",
       "        vertical-align: top;\n",
       "    }\n",
       "\n",
       "    .dataframe thead th {\n",
       "        text-align: right;\n",
       "    }\n",
       "</style>\n",
       "<table border=\"1\" class=\"dataframe\">\n",
       "  <thead>\n",
       "    <tr style=\"text-align: right;\">\n",
       "      <th></th>\n",
       "      <th>Date</th>\n",
       "      <th>Open</th>\n",
       "      <th>High</th>\n",
       "      <th>Low</th>\n",
       "      <th>Close</th>\n",
       "      <th>Adj Close</th>\n",
       "      <th>Volume</th>\n",
       "    </tr>\n",
       "  </thead>\n",
       "  <tbody>\n",
       "    <tr>\n",
       "      <th>0</th>\n",
       "      <td>1971-02-01</td>\n",
       "      <td>100.000000</td>\n",
       "      <td>100.000000</td>\n",
       "      <td>100.000000</td>\n",
       "      <td>100.000000</td>\n",
       "      <td>100.000000</td>\n",
       "      <td>0</td>\n",
       "    </tr>\n",
       "    <tr>\n",
       "      <th>1</th>\n",
       "      <td>1971-02-08</td>\n",
       "      <td>100.839996</td>\n",
       "      <td>102.050003</td>\n",
       "      <td>100.690002</td>\n",
       "      <td>102.050003</td>\n",
       "      <td>102.050003</td>\n",
       "      <td>0</td>\n",
       "    </tr>\n",
       "    <tr>\n",
       "      <th>2</th>\n",
       "      <td>1971-02-15</td>\n",
       "      <td>102.190002</td>\n",
       "      <td>102.190002</td>\n",
       "      <td>100.699997</td>\n",
       "      <td>100.699997</td>\n",
       "      <td>100.699997</td>\n",
       "      <td>0</td>\n",
       "    </tr>\n",
       "    <tr>\n",
       "      <th>3</th>\n",
       "      <td>1971-02-22</td>\n",
       "      <td>99.680000</td>\n",
       "      <td>101.339996</td>\n",
       "      <td>99.680000</td>\n",
       "      <td>101.339996</td>\n",
       "      <td>101.339996</td>\n",
       "      <td>0</td>\n",
       "    </tr>\n",
       "    <tr>\n",
       "      <th>4</th>\n",
       "      <td>1971-03-01</td>\n",
       "      <td>101.779999</td>\n",
       "      <td>103.000000</td>\n",
       "      <td>101.779999</td>\n",
       "      <td>103.000000</td>\n",
       "      <td>103.000000</td>\n",
       "      <td>0</td>\n",
       "    </tr>\n",
       "  </tbody>\n",
       "</table>\n",
       "</div>"
      ],
      "text/plain": [
       "         Date        Open        High         Low       Close   Adj Close  \\\n",
       "0  1971-02-01  100.000000  100.000000  100.000000  100.000000  100.000000   \n",
       "1  1971-02-08  100.839996  102.050003  100.690002  102.050003  102.050003   \n",
       "2  1971-02-15  102.190002  102.190002  100.699997  100.699997  100.699997   \n",
       "3  1971-02-22   99.680000  101.339996   99.680000  101.339996  101.339996   \n",
       "4  1971-03-01  101.779999  103.000000  101.779999  103.000000  103.000000   \n",
       "\n",
       "   Volume  \n",
       "0       0  \n",
       "1       0  \n",
       "2       0  \n",
       "3       0  \n",
       "4       0  "
      ]
     },
     "execution_count": 17,
     "metadata": {},
     "output_type": "execute_result"
    }
   ],
   "source": [
    "ndq_df.head()"
   ]
  },
  {
   "cell_type": "code",
   "execution_count": 21,
   "id": "f083a316-44ea-42c4-a095-f5bff1723f66",
   "metadata": {},
   "outputs": [],
   "source": [
    "ndq_df[\"Price\"] = (ndq_df[\"Adj Close\"] - ndq_df[\"Adj Close\"].mean() ) / ndq_df[\"Adj Close\"].std()"
   ]
  },
  {
   "cell_type": "code",
   "execution_count": 18,
   "id": "72d4a656-cd0d-437d-a308-05efdf3e5906",
   "metadata": {},
   "outputs": [
    {
     "data": {
      "text/html": [
       "<div>\n",
       "<style scoped>\n",
       "    .dataframe tbody tr th:only-of-type {\n",
       "        vertical-align: middle;\n",
       "    }\n",
       "\n",
       "    .dataframe tbody tr th {\n",
       "        vertical-align: top;\n",
       "    }\n",
       "\n",
       "    .dataframe thead th {\n",
       "        text-align: right;\n",
       "    }\n",
       "</style>\n",
       "<table border=\"1\" class=\"dataframe\">\n",
       "  <thead>\n",
       "    <tr style=\"text-align: right;\">\n",
       "      <th></th>\n",
       "      <th>Date</th>\n",
       "      <th>Open</th>\n",
       "      <th>High</th>\n",
       "      <th>Low</th>\n",
       "      <th>Close</th>\n",
       "      <th>Adj Close</th>\n",
       "      <th>Volume</th>\n",
       "    </tr>\n",
       "  </thead>\n",
       "  <tbody>\n",
       "    <tr>\n",
       "      <th>2690</th>\n",
       "      <td>2022-08-22</td>\n",
       "      <td>12523.160156</td>\n",
       "      <td>12655.839844</td>\n",
       "      <td>12141.519531</td>\n",
       "      <td>12141.709961</td>\n",
       "      <td>12141.709961</td>\n",
       "      <td>20755470000</td>\n",
       "    </tr>\n",
       "    <tr>\n",
       "      <th>2691</th>\n",
       "      <td>2022-08-29</td>\n",
       "      <td>12021.049805</td>\n",
       "      <td>12124.870117</td>\n",
       "      <td>11546.519531</td>\n",
       "      <td>11630.860352</td>\n",
       "      <td>11630.860352</td>\n",
       "      <td>22776260000</td>\n",
       "    </tr>\n",
       "    <tr>\n",
       "      <th>2692</th>\n",
       "      <td>2022-09-05</td>\n",
       "      <td>11643.030273</td>\n",
       "      <td>12132.669922</td>\n",
       "      <td>11471.500000</td>\n",
       "      <td>12112.309570</td>\n",
       "      <td>12112.309570</td>\n",
       "      <td>17800080000</td>\n",
       "    </tr>\n",
       "    <tr>\n",
       "      <th>2693</th>\n",
       "      <td>2022-09-12</td>\n",
       "      <td>12174.940430</td>\n",
       "      <td>12270.190430</td>\n",
       "      <td>11316.919922</td>\n",
       "      <td>11448.400391</td>\n",
       "      <td>11448.400391</td>\n",
       "      <td>26454340000</td>\n",
       "    </tr>\n",
       "    <tr>\n",
       "      <th>2694</th>\n",
       "      <td>2022-09-19</td>\n",
       "      <td>11338.570313</td>\n",
       "      <td>11538.129883</td>\n",
       "      <td>11337.830078</td>\n",
       "      <td>11535.019531</td>\n",
       "      <td>11535.019531</td>\n",
       "      <td>4168670000</td>\n",
       "    </tr>\n",
       "  </tbody>\n",
       "</table>\n",
       "</div>"
      ],
      "text/plain": [
       "            Date          Open          High           Low         Close  \\\n",
       "2690  2022-08-22  12523.160156  12655.839844  12141.519531  12141.709961   \n",
       "2691  2022-08-29  12021.049805  12124.870117  11546.519531  11630.860352   \n",
       "2692  2022-09-05  11643.030273  12132.669922  11471.500000  12112.309570   \n",
       "2693  2022-09-12  12174.940430  12270.190430  11316.919922  11448.400391   \n",
       "2694  2022-09-19  11338.570313  11538.129883  11337.830078  11535.019531   \n",
       "\n",
       "         Adj Close       Volume  \n",
       "2690  12141.709961  20755470000  \n",
       "2691  11630.860352  22776260000  \n",
       "2692  12112.309570  17800080000  \n",
       "2693  11448.400391  26454340000  \n",
       "2694  11535.019531   4168670000  "
      ]
     },
     "execution_count": 18,
     "metadata": {},
     "output_type": "execute_result"
    }
   ],
   "source": [
    "ndq_df.tail()"
   ]
  },
  {
   "cell_type": "code",
   "execution_count": 36,
   "id": "6189edae-b828-4457-b596-cc3498a9141b",
   "metadata": {},
   "outputs": [
    {
     "data": {
      "text/plain": [
       "<AxesSubplot:xlabel='Date'>"
      ]
     },
     "execution_count": 36,
     "metadata": {},
     "output_type": "execute_result"
    },
    {
     "data": {
      "image/png": "[encoded data removed]",
      "text/plain": [
       "<Figure size 432x288 with 1 Axes>"
      ]
     },
     "metadata": {
      "needs_background": "light"
     },
     "output_type": "display_data"
    }
   ],
   "source": [
    "fed_df.set_index(pd.to_datetime(fed_df.DATE))[\"FEDFUNDS\"].plot()\n",
    "ndq_df.set_index(pd.to_datetime(ndq_df.Date))[\"Price\"].plot()\n",
    "sp5_df.set_index(pd.to_datetime(sp5_df.Date))[\"Price\"].plot()"
   ]
  },
  {
   "cell_type": "markdown",
   "id": "f147210c-3bff-4519-bcc7-e8777e54cf47",
   "metadata": {},
   "source": [
    "### Bitcoin USD"
   ]
  },
  {
   "cell_type": "code",
   "execution_count": 45,
   "id": "6b61758d-24c5-4dcd-bdb5-893f8a04d85a",
   "metadata": {},
   "outputs": [
    {
     "data": {
      "text/plain": [
       "(420, 7)"
      ]
     },
     "execution_count": 45,
     "metadata": {},
     "output_type": "execute_result"
    }
   ],
   "source": [
    "btc_df = pd.read_csv(\"../data/economy/btc_usd.csv\")\n",
    "btc_df.shape"
   ]
  },
  {
   "cell_type": "code",
   "execution_count": 46,
   "id": "9225ed07-ba85-45a6-b670-a6f382885b5b",
   "metadata": {},
   "outputs": [
    {
     "data": {
      "text/html": [
       "<div>\n",
       "<style scoped>\n",
       "    .dataframe tbody tr th:only-of-type {\n",
       "        vertical-align: middle;\n",
       "    }\n",
       "\n",
       "    .dataframe tbody tr th {\n",
       "        vertical-align: top;\n",
       "    }\n",
       "\n",
       "    .dataframe thead th {\n",
       "        text-align: right;\n",
       "    }\n",
       "</style>\n",
       "<table border=\"1\" class=\"dataframe\">\n",
       "  <thead>\n",
       "    <tr style=\"text-align: right;\">\n",
       "      <th></th>\n",
       "      <th>Date</th>\n",
       "      <th>Open</th>\n",
       "      <th>High</th>\n",
       "      <th>Low</th>\n",
       "      <th>Close</th>\n",
       "      <th>Adj Close</th>\n",
       "      <th>Volume</th>\n",
       "    </tr>\n",
       "  </thead>\n",
       "  <tbody>\n",
       "    <tr>\n",
       "      <th>0</th>\n",
       "      <td>2014-09-15</td>\n",
       "      <td>465.864014</td>\n",
       "      <td>468.174011</td>\n",
       "      <td>384.532013</td>\n",
       "      <td>398.821014</td>\n",
       "      <td>398.821014</td>\n",
       "      <td>156903400</td>\n",
       "    </tr>\n",
       "    <tr>\n",
       "      <th>1</th>\n",
       "      <td>2014-09-22</td>\n",
       "      <td>399.100006</td>\n",
       "      <td>441.557007</td>\n",
       "      <td>374.332001</td>\n",
       "      <td>377.181000</td>\n",
       "      <td>377.181000</td>\n",
       "      <td>186772600</td>\n",
       "    </tr>\n",
       "    <tr>\n",
       "      <th>2</th>\n",
       "      <td>2014-09-29</td>\n",
       "      <td>376.928009</td>\n",
       "      <td>391.378998</td>\n",
       "      <td>289.295990</td>\n",
       "      <td>320.510010</td>\n",
       "      <td>320.510010</td>\n",
       "      <td>276657896</td>\n",
       "    </tr>\n",
       "    <tr>\n",
       "      <th>3</th>\n",
       "      <td>2014-10-06</td>\n",
       "      <td>320.389008</td>\n",
       "      <td>382.726013</td>\n",
       "      <td>302.559998</td>\n",
       "      <td>378.549011</td>\n",
       "      <td>378.549011</td>\n",
       "      <td>341152804</td>\n",
       "    </tr>\n",
       "    <tr>\n",
       "      <th>4</th>\n",
       "      <td>2014-10-13</td>\n",
       "      <td>377.920990</td>\n",
       "      <td>411.697998</td>\n",
       "      <td>368.897003</td>\n",
       "      <td>389.545990</td>\n",
       "      <td>389.545990</td>\n",
       "      <td>156902070</td>\n",
       "    </tr>\n",
       "  </tbody>\n",
       "</table>\n",
       "</div>"
      ],
      "text/plain": [
       "         Date        Open        High         Low       Close   Adj Close  \\\n",
       "0  2014-09-15  465.864014  468.174011  384.532013  398.821014  398.821014   \n",
       "1  2014-09-22  399.100006  441.557007  374.332001  377.181000  377.181000   \n",
       "2  2014-09-29  376.928009  391.378998  289.295990  320.510010  320.510010   \n",
       "3  2014-10-06  320.389008  382.726013  302.559998  378.549011  378.549011   \n",
       "4  2014-10-13  377.920990  411.697998  368.897003  389.545990  389.545990   \n",
       "\n",
       "      Volume  \n",
       "0  156903400  \n",
       "1  186772600  \n",
       "2  276657896  \n",
       "3  341152804  \n",
       "4  156902070  "
      ]
     },
     "execution_count": 46,
     "metadata": {},
     "output_type": "execute_result"
    }
   ],
   "source": [
    "btc_df.head()"
   ]
  },
  {
   "cell_type": "code",
   "execution_count": 47,
   "id": "066a6df5-336b-4646-8b63-4747da59d11c",
   "metadata": {},
   "outputs": [
    {
     "data": {
      "text/html": [
       "<div>\n",
       "<style scoped>\n",
       "    .dataframe tbody tr th:only-of-type {\n",
       "        vertical-align: middle;\n",
       "    }\n",
       "\n",
       "    .dataframe tbody tr th {\n",
       "        vertical-align: top;\n",
       "    }\n",
       "\n",
       "    .dataframe thead th {\n",
       "        text-align: right;\n",
       "    }\n",
       "</style>\n",
       "<table border=\"1\" class=\"dataframe\">\n",
       "  <thead>\n",
       "    <tr style=\"text-align: right;\">\n",
       "      <th></th>\n",
       "      <th>Date</th>\n",
       "      <th>Open</th>\n",
       "      <th>High</th>\n",
       "      <th>Low</th>\n",
       "      <th>Close</th>\n",
       "      <th>Adj Close</th>\n",
       "      <th>Volume</th>\n",
       "    </tr>\n",
       "  </thead>\n",
       "  <tbody>\n",
       "    <tr>\n",
       "      <th>415</th>\n",
       "      <td>2022-08-29</td>\n",
       "      <td>19615.154297</td>\n",
       "      <td>20542.644531</td>\n",
       "      <td>19600.785156</td>\n",
       "      <td>19986.712891</td>\n",
       "      <td>19986.712891</td>\n",
       "      <td>208511390280</td>\n",
       "    </tr>\n",
       "    <tr>\n",
       "      <th>416</th>\n",
       "      <td>2022-09-05</td>\n",
       "      <td>19988.789063</td>\n",
       "      <td>21770.552734</td>\n",
       "      <td>18644.466797</td>\n",
       "      <td>21769.255859</td>\n",
       "      <td>21769.255859</td>\n",
       "      <td>259528892947</td>\n",
       "    </tr>\n",
       "    <tr>\n",
       "      <th>417</th>\n",
       "      <td>2022-09-12</td>\n",
       "      <td>21770.148438</td>\n",
       "      <td>22673.820313</td>\n",
       "      <td>19387.492188</td>\n",
       "      <td>19419.505859</td>\n",
       "      <td>19419.505859</td>\n",
       "      <td>261900187496</td>\n",
       "    </tr>\n",
       "    <tr>\n",
       "      <th>418</th>\n",
       "      <td>2022-09-19</td>\n",
       "      <td>19418.572266</td>\n",
       "      <td>19639.480469</td>\n",
       "      <td>18390.318359</td>\n",
       "      <td>18890.789063</td>\n",
       "      <td>18890.789063</td>\n",
       "      <td>76968349132</td>\n",
       "    </tr>\n",
       "    <tr>\n",
       "      <th>419</th>\n",
       "      <td>2022-09-21</td>\n",
       "      <td>18883.615234</td>\n",
       "      <td>19031.361328</td>\n",
       "      <td>18883.615234</td>\n",
       "      <td>18988.322266</td>\n",
       "      <td>18988.322266</td>\n",
       "      <td>34801786880</td>\n",
       "    </tr>\n",
       "  </tbody>\n",
       "</table>\n",
       "</div>"
      ],
      "text/plain": [
       "           Date          Open          High           Low         Close  \\\n",
       "415  2022-08-29  19615.154297  20542.644531  19600.785156  19986.712891   \n",
       "416  2022-09-05  19988.789063  21770.552734  18644.466797  21769.255859   \n",
       "417  2022-09-12  21770.148438  22673.820313  19387.492188  19419.505859   \n",
       "418  2022-09-19  19418.572266  19639.480469  18390.318359  18890.789063   \n",
       "419  2022-09-21  18883.615234  19031.361328  18883.615234  18988.322266   \n",
       "\n",
       "        Adj Close        Volume  \n",
       "415  19986.712891  208511390280  \n",
       "416  21769.255859  259528892947  \n",
       "417  19419.505859  261900187496  \n",
       "418  18890.789063   76968349132  \n",
       "419  18988.322266   34801786880  "
      ]
     },
     "execution_count": 47,
     "metadata": {},
     "output_type": "execute_result"
    }
   ],
   "source": [
    "btc_df.tail()"
   ]
  },
  {
   "cell_type": "code",
   "execution_count": null,
   "id": "3f08fa19-0878-466a-a40f-82983dc05aa7",
   "metadata": {},
   "outputs": [],
   "source": []
  }
 ],
 "metadata": {
  "kernelspec": {
   "display_name": "Python 3 (ipykernel)",
   "language": "python",
   "name": "python3"
  },
  "language_info": {
   "codemirror_mode": {
    "name": "ipython",
    "version": 3
   },
   "file_extension": ".py",
   "mimetype": "text/x-python",
   "name": "python",
   "nbconvert_exporter": "python",
   "pygments_lexer": "ipython3",
   "version": "3.9.12"
  }
 },
 "nbformat": 4,
 "nbformat_minor": 5
}

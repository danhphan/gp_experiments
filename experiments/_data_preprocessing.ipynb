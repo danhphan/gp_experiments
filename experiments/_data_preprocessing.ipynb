{
 "cells": [
  {
   "cell_type": "markdown",
   "id": "0a634ef9-f642-4eb9-ad6f-5bc6ed99096b",
   "metadata": {},
   "source": [
    "### Data sets"
   ]
  },
  {
   "cell_type": "markdown",
   "id": "76551329-2acb-44d9-8009-4731f68ec5ac",
   "metadata": {},
   "source": [
    "**We use the following datasets:**\n",
    "\n",
    "    - Monthly Fed interest rate from 1955 to 2022: https://fred.stlouisfed.org/series/FEDFUNDS\n",
    "    - Monthly US unemployment rate from ? to 2022: https://data.bls.gov/pdq/SurveyOutputServlet\n",
    "    - Monthly SP500 index: https://www.wsj.com/market-data/quotes/index/SPX/historical-prices\n",
    "    - Weekly/Monthly NASDAX index: https://finance.yahoo.com/quote/%5EIXIC/history?p=%5EIXIC\n",
    "    - Weekly/Monthly Bitcoin: https://finance.yahoo.com/quote/BTC-USD/history?p=BTC-USD"
   ]
  },
  {
   "cell_type": "code",
   "execution_count": 1,
   "id": "e37c78cf-b213-4212-b5e4-c68d1b7da091",
   "metadata": {},
   "outputs": [],
   "source": [
    "import pandas as pd"
   ]
  },
  {
   "cell_type": "markdown",
   "id": "41adafbe-d71c-41e3-81d7-c7d07a3e536f",
   "metadata": {},
   "source": [
    "### 1. US Fed interest rate"
   ]
  },
  {
   "cell_type": "code",
   "execution_count": 2,
   "id": "47b2b768-1a35-4130-b652-b9217a2e0adc",
   "metadata": {},
   "outputs": [
    {
     "data": {
      "text/plain": [
       "(818, 2)"
      ]
     },
     "execution_count": 2,
     "metadata": {},
     "output_type": "execute_result"
    }
   ],
   "source": [
    "fed_df = pd.read_csv(\"../data/economy/fed_rate.csv\")\n",
    "fed_df.shape"
   ]
  },
  {
   "cell_type": "code",
   "execution_count": 3,
   "id": "d23b4e7b-0143-4c8d-b0fa-0b5789b17cd1",
   "metadata": {},
   "outputs": [
    {
     "data": {
      "text/html": [
       "<div>\n",
       "<style scoped>\n",
       "    .dataframe tbody tr th:only-of-type {\n",
       "        vertical-align: middle;\n",
       "    }\n",
       "\n",
       "    .dataframe tbody tr th {\n",
       "        vertical-align: top;\n",
       "    }\n",
       "\n",
       "    .dataframe thead th {\n",
       "        text-align: right;\n",
       "    }\n",
       "</style>\n",
       "<table border=\"1\" class=\"dataframe\">\n",
       "  <thead>\n",
       "    <tr style=\"text-align: right;\">\n",
       "      <th></th>\n",
       "      <th>Date</th>\n",
       "      <th>Fed Rate</th>\n",
       "    </tr>\n",
       "  </thead>\n",
       "  <tbody>\n",
       "    <tr>\n",
       "      <th>0</th>\n",
       "      <td>1954-07-01</td>\n",
       "      <td>0.80</td>\n",
       "    </tr>\n",
       "    <tr>\n",
       "      <th>1</th>\n",
       "      <td>1954-08-01</td>\n",
       "      <td>1.22</td>\n",
       "    </tr>\n",
       "    <tr>\n",
       "      <th>2</th>\n",
       "      <td>1954-09-01</td>\n",
       "      <td>1.07</td>\n",
       "    </tr>\n",
       "    <tr>\n",
       "      <th>3</th>\n",
       "      <td>1954-10-01</td>\n",
       "      <td>0.85</td>\n",
       "    </tr>\n",
       "    <tr>\n",
       "      <th>4</th>\n",
       "      <td>1954-11-01</td>\n",
       "      <td>0.83</td>\n",
       "    </tr>\n",
       "  </tbody>\n",
       "</table>\n",
       "</div>"
      ],
      "text/plain": [
       "        Date  Fed Rate\n",
       "0 1954-07-01      0.80\n",
       "1 1954-08-01      1.22\n",
       "2 1954-09-01      1.07\n",
       "3 1954-10-01      0.85\n",
       "4 1954-11-01      0.83"
      ]
     },
     "execution_count": 3,
     "metadata": {},
     "output_type": "execute_result"
    }
   ],
   "source": [
    "fed_df[\"Date\"] = pd.to_datetime(fed_df[\"DATE\"])\n",
    "fed_df = fed_df.rename(columns={\"FEDFUNDS\":\"Fed Rate\"})\n",
    "fed_df = fed_df[[\"Date\", \"Fed Rate\"]]\n",
    "fed_df.head()"
   ]
  },
  {
   "cell_type": "markdown",
   "id": "1aa966b2-6551-4aac-bbea-a10551caa7f1",
   "metadata": {},
   "source": [
    "### 2. US unemployment rate"
   ]
  },
  {
   "cell_type": "code",
   "execution_count": 4,
   "id": "54f8e2a0-e5d8-4d22-8656-740936353bfd",
   "metadata": {},
   "outputs": [
    {
     "data": {
      "text/plain": [
       "(75, 13)"
      ]
     },
     "execution_count": 4,
     "metadata": {},
     "output_type": "execute_result"
    }
   ],
   "source": [
    "uem_df = pd.read_csv(\"../data/economy/unemployment_rate.csv\")\n",
    "uem_df.shape"
   ]
  },
  {
   "cell_type": "code",
   "execution_count": 5,
   "id": "8afeaa50-98ba-45d8-bf1d-5da33d57d75c",
   "metadata": {},
   "outputs": [
    {
     "data": {
      "text/html": [
       "<div>\n",
       "<style scoped>\n",
       "    .dataframe tbody tr th:only-of-type {\n",
       "        vertical-align: middle;\n",
       "    }\n",
       "\n",
       "    .dataframe tbody tr th {\n",
       "        vertical-align: top;\n",
       "    }\n",
       "\n",
       "    .dataframe thead th {\n",
       "        text-align: right;\n",
       "    }\n",
       "</style>\n",
       "<table border=\"1\" class=\"dataframe\">\n",
       "  <thead>\n",
       "    <tr style=\"text-align: right;\">\n",
       "      <th></th>\n",
       "      <th>Year</th>\n",
       "      <th>Jan</th>\n",
       "      <th>Feb</th>\n",
       "      <th>Mar</th>\n",
       "      <th>Apr</th>\n",
       "      <th>May</th>\n",
       "      <th>Jun</th>\n",
       "      <th>Jul</th>\n",
       "      <th>Aug</th>\n",
       "      <th>Sep</th>\n",
       "      <th>Oct</th>\n",
       "      <th>Nov</th>\n",
       "      <th>Dec</th>\n",
       "    </tr>\n",
       "  </thead>\n",
       "  <tbody>\n",
       "    <tr>\n",
       "      <th>0</th>\n",
       "      <td>1948</td>\n",
       "      <td>3.4</td>\n",
       "      <td>3.8</td>\n",
       "      <td>4.0</td>\n",
       "      <td>3.9</td>\n",
       "      <td>3.5</td>\n",
       "      <td>3.6</td>\n",
       "      <td>3.6</td>\n",
       "      <td>3.9</td>\n",
       "      <td>3.8</td>\n",
       "      <td>3.7</td>\n",
       "      <td>3.8</td>\n",
       "      <td>4.0</td>\n",
       "    </tr>\n",
       "    <tr>\n",
       "      <th>1</th>\n",
       "      <td>1949</td>\n",
       "      <td>4.3</td>\n",
       "      <td>4.7</td>\n",
       "      <td>5.0</td>\n",
       "      <td>5.3</td>\n",
       "      <td>6.1</td>\n",
       "      <td>6.2</td>\n",
       "      <td>6.7</td>\n",
       "      <td>6.8</td>\n",
       "      <td>6.6</td>\n",
       "      <td>7.9</td>\n",
       "      <td>6.4</td>\n",
       "      <td>6.6</td>\n",
       "    </tr>\n",
       "    <tr>\n",
       "      <th>2</th>\n",
       "      <td>1950</td>\n",
       "      <td>6.5</td>\n",
       "      <td>6.4</td>\n",
       "      <td>6.3</td>\n",
       "      <td>5.8</td>\n",
       "      <td>5.5</td>\n",
       "      <td>5.4</td>\n",
       "      <td>5.0</td>\n",
       "      <td>4.5</td>\n",
       "      <td>4.4</td>\n",
       "      <td>4.2</td>\n",
       "      <td>4.2</td>\n",
       "      <td>4.3</td>\n",
       "    </tr>\n",
       "    <tr>\n",
       "      <th>3</th>\n",
       "      <td>1951</td>\n",
       "      <td>3.7</td>\n",
       "      <td>3.4</td>\n",
       "      <td>3.4</td>\n",
       "      <td>3.1</td>\n",
       "      <td>3.0</td>\n",
       "      <td>3.2</td>\n",
       "      <td>3.1</td>\n",
       "      <td>3.1</td>\n",
       "      <td>3.3</td>\n",
       "      <td>3.5</td>\n",
       "      <td>3.5</td>\n",
       "      <td>3.1</td>\n",
       "    </tr>\n",
       "    <tr>\n",
       "      <th>4</th>\n",
       "      <td>1952</td>\n",
       "      <td>3.2</td>\n",
       "      <td>3.1</td>\n",
       "      <td>2.9</td>\n",
       "      <td>2.9</td>\n",
       "      <td>3.0</td>\n",
       "      <td>3.0</td>\n",
       "      <td>3.2</td>\n",
       "      <td>3.4</td>\n",
       "      <td>3.1</td>\n",
       "      <td>3.0</td>\n",
       "      <td>2.8</td>\n",
       "      <td>2.7</td>\n",
       "    </tr>\n",
       "  </tbody>\n",
       "</table>\n",
       "</div>"
      ],
      "text/plain": [
       "   Year  Jan  Feb  Mar  Apr  May  Jun  Jul  Aug  Sep  Oct  Nov  Dec\n",
       "0  1948  3.4  3.8  4.0  3.9  3.5  3.6  3.6  3.9  3.8  3.7  3.8  4.0\n",
       "1  1949  4.3  4.7  5.0  5.3  6.1  6.2  6.7  6.8  6.6  7.9  6.4  6.6\n",
       "2  1950  6.5  6.4  6.3  5.8  5.5  5.4  5.0  4.5  4.4  4.2  4.2  4.3\n",
       "3  1951  3.7  3.4  3.4  3.1  3.0  3.2  3.1  3.1  3.3  3.5  3.5  3.1\n",
       "4  1952  3.2  3.1  2.9  2.9  3.0  3.0  3.2  3.4  3.1  3.0  2.8  2.7"
      ]
     },
     "execution_count": 5,
     "metadata": {},
     "output_type": "execute_result"
    }
   ],
   "source": [
    "uem_df.head()"
   ]
  },
  {
   "cell_type": "code",
   "execution_count": 6,
   "id": "00e09644-f559-4086-9ea6-3dc8f4949111",
   "metadata": {},
   "outputs": [
    {
     "data": {
      "text/plain": [
       "Index(['Jan', 'Feb', 'Mar', 'Apr', 'May', 'Jun', 'Jul', 'Aug', 'Sep', 'Oct',\n",
       "       'Nov', 'Dec'],\n",
       "      dtype='object')"
      ]
     },
     "execution_count": 6,
     "metadata": {},
     "output_type": "execute_result"
    }
   ],
   "source": [
    "uem_df.columns[1:]"
   ]
  },
  {
   "cell_type": "code",
   "execution_count": 7,
   "id": "bfdb4d35-3772-4483-8b34-8d3e4753aaab",
   "metadata": {},
   "outputs": [],
   "source": [
    "mapping = {mon:num for mon, num in zip(uem_df.columns[1:], range(1,13))}"
   ]
  },
  {
   "cell_type": "code",
   "execution_count": 8,
   "id": "17cb05b8-757c-4e97-a145-857848b4564b",
   "metadata": {},
   "outputs": [
    {
     "data": {
      "text/html": [
       "<div>\n",
       "<style scoped>\n",
       "    .dataframe tbody tr th:only-of-type {\n",
       "        vertical-align: middle;\n",
       "    }\n",
       "\n",
       "    .dataframe tbody tr th {\n",
       "        vertical-align: top;\n",
       "    }\n",
       "\n",
       "    .dataframe thead th {\n",
       "        text-align: right;\n",
       "    }\n",
       "</style>\n",
       "<table border=\"1\" class=\"dataframe\">\n",
       "  <thead>\n",
       "    <tr style=\"text-align: right;\">\n",
       "      <th></th>\n",
       "      <th>Year</th>\n",
       "      <th>Month</th>\n",
       "      <th>unemployment</th>\n",
       "      <th>Month_Num</th>\n",
       "    </tr>\n",
       "  </thead>\n",
       "  <tbody>\n",
       "    <tr>\n",
       "      <th>0</th>\n",
       "      <td>1948</td>\n",
       "      <td>Jan</td>\n",
       "      <td>3.4</td>\n",
       "      <td>1</td>\n",
       "    </tr>\n",
       "    <tr>\n",
       "      <th>1</th>\n",
       "      <td>1949</td>\n",
       "      <td>Jan</td>\n",
       "      <td>4.3</td>\n",
       "      <td>1</td>\n",
       "    </tr>\n",
       "    <tr>\n",
       "      <th>2</th>\n",
       "      <td>1950</td>\n",
       "      <td>Jan</td>\n",
       "      <td>6.5</td>\n",
       "      <td>1</td>\n",
       "    </tr>\n",
       "    <tr>\n",
       "      <th>3</th>\n",
       "      <td>1951</td>\n",
       "      <td>Jan</td>\n",
       "      <td>3.7</td>\n",
       "      <td>1</td>\n",
       "    </tr>\n",
       "    <tr>\n",
       "      <th>4</th>\n",
       "      <td>1952</td>\n",
       "      <td>Jan</td>\n",
       "      <td>3.2</td>\n",
       "      <td>1</td>\n",
       "    </tr>\n",
       "  </tbody>\n",
       "</table>\n",
       "</div>"
      ],
      "text/plain": [
       "   Year Month  unemployment  Month_Num\n",
       "0  1948   Jan           3.4          1\n",
       "1  1949   Jan           4.3          1\n",
       "2  1950   Jan           6.5          1\n",
       "3  1951   Jan           3.7          1\n",
       "4  1952   Jan           3.2          1"
      ]
     },
     "execution_count": 8,
     "metadata": {},
     "output_type": "execute_result"
    }
   ],
   "source": [
    "uem_df = uem_df.melt(id_vars='Year').rename(columns={\"variable\":\"Month\", \"value\":\"unemployment\"})\n",
    "uem_df[\"Month_Num\"] = uem_df[\"Month\"].map(mapping)\n",
    "uem_df.head()"
   ]
  },
  {
   "cell_type": "code",
   "execution_count": 9,
   "id": "4c96db94-c6ca-47e2-9437-493b6d8c430b",
   "metadata": {},
   "outputs": [],
   "source": [
    "uem_df[\"Date\"] = uem_df[\"Year\"].astype(str) + \"-\" + uem_df[\"Month_Num\"].astype(str) + \"-\" + \"01\""
   ]
  },
  {
   "cell_type": "code",
   "execution_count": 10,
   "id": "9949760b-e615-4523-af80-1f245b78e2ee",
   "metadata": {},
   "outputs": [],
   "source": [
    "uem_df[\"Date\"] = pd.to_datetime(uem_df[\"Date\"])"
   ]
  },
  {
   "cell_type": "code",
   "execution_count": 11,
   "id": "40ca601b-3bf5-4a09-a434-f127422bd01a",
   "metadata": {},
   "outputs": [
    {
     "data": {
      "text/plain": [
       "Year                     int64\n",
       "Month                   object\n",
       "unemployment           float64\n",
       "Month_Num                int64\n",
       "Date            datetime64[ns]\n",
       "dtype: object"
      ]
     },
     "execution_count": 11,
     "metadata": {},
     "output_type": "execute_result"
    }
   ],
   "source": [
    "uem_df.dtypes"
   ]
  },
  {
   "cell_type": "code",
   "execution_count": 12,
   "id": "aa4ab95a-a693-489f-8481-565230a83d20",
   "metadata": {},
   "outputs": [
    {
     "data": {
      "text/html": [
       "<div>\n",
       "<style scoped>\n",
       "    .dataframe tbody tr th:only-of-type {\n",
       "        vertical-align: middle;\n",
       "    }\n",
       "\n",
       "    .dataframe tbody tr th {\n",
       "        vertical-align: top;\n",
       "    }\n",
       "\n",
       "    .dataframe thead th {\n",
       "        text-align: right;\n",
       "    }\n",
       "</style>\n",
       "<table border=\"1\" class=\"dataframe\">\n",
       "  <thead>\n",
       "    <tr style=\"text-align: right;\">\n",
       "      <th></th>\n",
       "      <th>Date</th>\n",
       "      <th>unemployment</th>\n",
       "    </tr>\n",
       "  </thead>\n",
       "  <tbody>\n",
       "    <tr>\n",
       "      <th>0</th>\n",
       "      <td>1948-01-01</td>\n",
       "      <td>3.4</td>\n",
       "    </tr>\n",
       "    <tr>\n",
       "      <th>1</th>\n",
       "      <td>1949-01-01</td>\n",
       "      <td>4.3</td>\n",
       "    </tr>\n",
       "    <tr>\n",
       "      <th>2</th>\n",
       "      <td>1950-01-01</td>\n",
       "      <td>6.5</td>\n",
       "    </tr>\n",
       "    <tr>\n",
       "      <th>3</th>\n",
       "      <td>1951-01-01</td>\n",
       "      <td>3.7</td>\n",
       "    </tr>\n",
       "    <tr>\n",
       "      <th>4</th>\n",
       "      <td>1952-01-01</td>\n",
       "      <td>3.2</td>\n",
       "    </tr>\n",
       "  </tbody>\n",
       "</table>\n",
       "</div>"
      ],
      "text/plain": [
       "        Date  unemployment\n",
       "0 1948-01-01           3.4\n",
       "1 1949-01-01           4.3\n",
       "2 1950-01-01           6.5\n",
       "3 1951-01-01           3.7\n",
       "4 1952-01-01           3.2"
      ]
     },
     "execution_count": 12,
     "metadata": {},
     "output_type": "execute_result"
    }
   ],
   "source": [
    "uem_df = uem_df[[\"Date\", \"unemployment\"]]\n",
    "uem_df.head()"
   ]
  },
  {
   "cell_type": "markdown",
   "id": "b3871713-bc2f-4da2-adde-df5ad3da2b70",
   "metadata": {},
   "source": [
    "### 3. S&P500 index"
   ]
  },
  {
   "cell_type": "code",
   "execution_count": 13,
   "id": "fd6eae41-e13e-483f-b3dd-3f72453b5200",
   "metadata": {},
   "outputs": [
    {
     "data": {
      "text/plain": [
       "(11276, 5)"
      ]
     },
     "execution_count": 13,
     "metadata": {},
     "output_type": "execute_result"
    }
   ],
   "source": [
    "sp5_df = pd.read_csv(\"../data/economy/sp500.csv\")\n",
    "sp5_df.shape"
   ]
  },
  {
   "cell_type": "code",
   "execution_count": 14,
   "id": "f936a99c-fff1-4ff3-987f-bd5022086949",
   "metadata": {},
   "outputs": [
    {
     "data": {
      "text/plain": [
       "Date      0\n",
       " Open     0\n",
       " High     0\n",
       " Low      0\n",
       " Close    0\n",
       "dtype: int64"
      ]
     },
     "execution_count": 14,
     "metadata": {},
     "output_type": "execute_result"
    }
   ],
   "source": [
    "sp5_df.isna().sum()"
   ]
  },
  {
   "cell_type": "code",
   "execution_count": 15,
   "id": "374b3a97-56e9-43ec-a34a-b8ff0ad27c60",
   "metadata": {},
   "outputs": [
    {
     "data": {
      "text/plain": [
       "Index(['Date', ' Open', ' High', ' Low', ' Close'], dtype='object')"
      ]
     },
     "execution_count": 15,
     "metadata": {},
     "output_type": "execute_result"
    }
   ],
   "source": [
    "sp5_df.columns"
   ]
  },
  {
   "cell_type": "code",
   "execution_count": 16,
   "id": "9d844090-5c4f-4b8b-9084-477bdaa8d4b2",
   "metadata": {},
   "outputs": [
    {
     "data": {
      "text/html": [
       "<div>\n",
       "<style scoped>\n",
       "    .dataframe tbody tr th:only-of-type {\n",
       "        vertical-align: middle;\n",
       "    }\n",
       "\n",
       "    .dataframe tbody tr th {\n",
       "        vertical-align: top;\n",
       "    }\n",
       "\n",
       "    .dataframe thead th {\n",
       "        text-align: right;\n",
       "    }\n",
       "</style>\n",
       "<table border=\"1\" class=\"dataframe\">\n",
       "  <thead>\n",
       "    <tr style=\"text-align: right;\">\n",
       "      <th></th>\n",
       "      <th>Date</th>\n",
       "      <th>sp500</th>\n",
       "    </tr>\n",
       "  </thead>\n",
       "  <tbody>\n",
       "    <tr>\n",
       "      <th>0</th>\n",
       "      <td>2022-09-20</td>\n",
       "      <td>3855.93</td>\n",
       "    </tr>\n",
       "    <tr>\n",
       "      <th>1</th>\n",
       "      <td>2022-09-19</td>\n",
       "      <td>3899.89</td>\n",
       "    </tr>\n",
       "    <tr>\n",
       "      <th>2</th>\n",
       "      <td>2022-09-16</td>\n",
       "      <td>3873.33</td>\n",
       "    </tr>\n",
       "    <tr>\n",
       "      <th>3</th>\n",
       "      <td>2022-09-15</td>\n",
       "      <td>3901.35</td>\n",
       "    </tr>\n",
       "    <tr>\n",
       "      <th>4</th>\n",
       "      <td>2022-09-14</td>\n",
       "      <td>3946.01</td>\n",
       "    </tr>\n",
       "  </tbody>\n",
       "</table>\n",
       "</div>"
      ],
      "text/plain": [
       "        Date    sp500\n",
       "0 2022-09-20  3855.93\n",
       "1 2022-09-19  3899.89\n",
       "2 2022-09-16  3873.33\n",
       "3 2022-09-15  3901.35\n",
       "4 2022-09-14  3946.01"
      ]
     },
     "execution_count": 16,
     "metadata": {},
     "output_type": "execute_result"
    }
   ],
   "source": [
    "sp5_df[\"Date\"] = pd.to_datetime(sp5_df[\"Date\"])\n",
    "sp5_df = sp5_df.rename(columns={\" Close\":\"sp500\"})\n",
    "sp5_df = sp5_df[[\"Date\", \"sp500\"]]\n",
    "sp5_df.head()"
   ]
  },
  {
   "cell_type": "code",
   "execution_count": 17,
   "id": "8b69a6e0-4e65-43eb-8e43-c3a9f3b20077",
   "metadata": {},
   "outputs": [
    {
     "data": {
      "text/html": [
       "<div>\n",
       "<style scoped>\n",
       "    .dataframe tbody tr th:only-of-type {\n",
       "        vertical-align: middle;\n",
       "    }\n",
       "\n",
       "    .dataframe tbody tr th {\n",
       "        vertical-align: top;\n",
       "    }\n",
       "\n",
       "    .dataframe thead th {\n",
       "        text-align: right;\n",
       "    }\n",
       "</style>\n",
       "<table border=\"1\" class=\"dataframe\">\n",
       "  <thead>\n",
       "    <tr style=\"text-align: right;\">\n",
       "      <th></th>\n",
       "      <th>Date</th>\n",
       "      <th>sp500</th>\n",
       "    </tr>\n",
       "  </thead>\n",
       "  <tbody>\n",
       "    <tr>\n",
       "      <th>0</th>\n",
       "      <td>1978-01-01</td>\n",
       "      <td>90.254286</td>\n",
       "    </tr>\n",
       "    <tr>\n",
       "      <th>1</th>\n",
       "      <td>1978-02-01</td>\n",
       "      <td>88.922632</td>\n",
       "    </tr>\n",
       "    <tr>\n",
       "      <th>2</th>\n",
       "      <td>1978-03-01</td>\n",
       "      <td>88.819545</td>\n",
       "    </tr>\n",
       "    <tr>\n",
       "      <th>3</th>\n",
       "      <td>1978-04-01</td>\n",
       "      <td>92.710500</td>\n",
       "    </tr>\n",
       "    <tr>\n",
       "      <th>4</th>\n",
       "      <td>1978-05-01</td>\n",
       "      <td>97.412273</td>\n",
       "    </tr>\n",
       "  </tbody>\n",
       "</table>\n",
       "</div>"
      ],
      "text/plain": [
       "         Date      sp500\n",
       "0  1978-01-01  90.254286\n",
       "1  1978-02-01  88.922632\n",
       "2  1978-03-01  88.819545\n",
       "3  1978-04-01  92.710500\n",
       "4  1978-05-01  97.412273"
      ]
     },
     "execution_count": 17,
     "metadata": {},
     "output_type": "execute_result"
    }
   ],
   "source": [
    "# Get SP500 monthly average\n",
    "sp5_df = sp5_df.groupby(pd.PeriodIndex(sp5_df['Date'], freq=\"M\"))['sp500'].mean().reset_index()\n",
    "sp5_df[\"Date\"] = sp5_df[\"Date\"].dt.strftime('%Y-%m-01')\n",
    "sp5_df.head()"
   ]
  },
  {
   "cell_type": "code",
   "execution_count": 18,
   "id": "a869ab7b-df41-4964-b7a8-fd1984975f86",
   "metadata": {},
   "outputs": [
    {
     "data": {
      "text/plain": [
       "Date     0\n",
       "sp500    0\n",
       "dtype: int64"
      ]
     },
     "execution_count": 18,
     "metadata": {},
     "output_type": "execute_result"
    }
   ],
   "source": [
    "sp5_df.isna().sum()"
   ]
  },
  {
   "cell_type": "markdown",
   "id": "c1982a7d-b0eb-48e6-93ac-a1e952789dff",
   "metadata": {},
   "source": [
    "### 4. NASDAX index"
   ]
  },
  {
   "cell_type": "code",
   "execution_count": 19,
   "id": "f82f3aeb-bddd-4637-9538-886e2e818b62",
   "metadata": {},
   "outputs": [
    {
     "data": {
      "text/plain": [
       "(2695, 7)"
      ]
     },
     "execution_count": 19,
     "metadata": {},
     "output_type": "execute_result"
    }
   ],
   "source": [
    "ndq_df = pd.read_csv(\"../data/economy/nasdaq.csv\")\n",
    "ndq_df.shape"
   ]
  },
  {
   "cell_type": "code",
   "execution_count": 20,
   "id": "15cfa5ad-80a3-4d9d-b189-431fa6f3b7cb",
   "metadata": {},
   "outputs": [
    {
     "data": {
      "text/html": [
       "<div>\n",
       "<style scoped>\n",
       "    .dataframe tbody tr th:only-of-type {\n",
       "        vertical-align: middle;\n",
       "    }\n",
       "\n",
       "    .dataframe tbody tr th {\n",
       "        vertical-align: top;\n",
       "    }\n",
       "\n",
       "    .dataframe thead th {\n",
       "        text-align: right;\n",
       "    }\n",
       "</style>\n",
       "<table border=\"1\" class=\"dataframe\">\n",
       "  <thead>\n",
       "    <tr style=\"text-align: right;\">\n",
       "      <th></th>\n",
       "      <th>Date</th>\n",
       "      <th>Open</th>\n",
       "      <th>High</th>\n",
       "      <th>Low</th>\n",
       "      <th>Close</th>\n",
       "      <th>Adj Close</th>\n",
       "      <th>Volume</th>\n",
       "    </tr>\n",
       "  </thead>\n",
       "  <tbody>\n",
       "    <tr>\n",
       "      <th>0</th>\n",
       "      <td>1971-02-01</td>\n",
       "      <td>100.000000</td>\n",
       "      <td>100.000000</td>\n",
       "      <td>100.000000</td>\n",
       "      <td>100.000000</td>\n",
       "      <td>100.000000</td>\n",
       "      <td>0</td>\n",
       "    </tr>\n",
       "    <tr>\n",
       "      <th>1</th>\n",
       "      <td>1971-02-08</td>\n",
       "      <td>100.839996</td>\n",
       "      <td>102.050003</td>\n",
       "      <td>100.690002</td>\n",
       "      <td>102.050003</td>\n",
       "      <td>102.050003</td>\n",
       "      <td>0</td>\n",
       "    </tr>\n",
       "    <tr>\n",
       "      <th>2</th>\n",
       "      <td>1971-02-15</td>\n",
       "      <td>102.190002</td>\n",
       "      <td>102.190002</td>\n",
       "      <td>100.699997</td>\n",
       "      <td>100.699997</td>\n",
       "      <td>100.699997</td>\n",
       "      <td>0</td>\n",
       "    </tr>\n",
       "    <tr>\n",
       "      <th>3</th>\n",
       "      <td>1971-02-22</td>\n",
       "      <td>99.680000</td>\n",
       "      <td>101.339996</td>\n",
       "      <td>99.680000</td>\n",
       "      <td>101.339996</td>\n",
       "      <td>101.339996</td>\n",
       "      <td>0</td>\n",
       "    </tr>\n",
       "    <tr>\n",
       "      <th>4</th>\n",
       "      <td>1971-03-01</td>\n",
       "      <td>101.779999</td>\n",
       "      <td>103.000000</td>\n",
       "      <td>101.779999</td>\n",
       "      <td>103.000000</td>\n",
       "      <td>103.000000</td>\n",
       "      <td>0</td>\n",
       "    </tr>\n",
       "  </tbody>\n",
       "</table>\n",
       "</div>"
      ],
      "text/plain": [
       "         Date        Open        High         Low       Close   Adj Close  \\\n",
       "0  1971-02-01  100.000000  100.000000  100.000000  100.000000  100.000000   \n",
       "1  1971-02-08  100.839996  102.050003  100.690002  102.050003  102.050003   \n",
       "2  1971-02-15  102.190002  102.190002  100.699997  100.699997  100.699997   \n",
       "3  1971-02-22   99.680000  101.339996   99.680000  101.339996  101.339996   \n",
       "4  1971-03-01  101.779999  103.000000  101.779999  103.000000  103.000000   \n",
       "\n",
       "   Volume  \n",
       "0       0  \n",
       "1       0  \n",
       "2       0  \n",
       "3       0  \n",
       "4       0  "
      ]
     },
     "execution_count": 20,
     "metadata": {},
     "output_type": "execute_result"
    }
   ],
   "source": [
    "ndq_df.head()"
   ]
  },
  {
   "cell_type": "code",
   "execution_count": 21,
   "id": "be08b836-4a77-4531-b433-7407a37b05ef",
   "metadata": {},
   "outputs": [
    {
     "data": {
      "text/html": [
       "<div>\n",
       "<style scoped>\n",
       "    .dataframe tbody tr th:only-of-type {\n",
       "        vertical-align: middle;\n",
       "    }\n",
       "\n",
       "    .dataframe tbody tr th {\n",
       "        vertical-align: top;\n",
       "    }\n",
       "\n",
       "    .dataframe thead th {\n",
       "        text-align: right;\n",
       "    }\n",
       "</style>\n",
       "<table border=\"1\" class=\"dataframe\">\n",
       "  <thead>\n",
       "    <tr style=\"text-align: right;\">\n",
       "      <th></th>\n",
       "      <th>Date</th>\n",
       "      <th>nasdaq</th>\n",
       "    </tr>\n",
       "  </thead>\n",
       "  <tbody>\n",
       "    <tr>\n",
       "      <th>0</th>\n",
       "      <td>1971-02-01</td>\n",
       "      <td>100.000000</td>\n",
       "    </tr>\n",
       "    <tr>\n",
       "      <th>1</th>\n",
       "      <td>1971-02-08</td>\n",
       "      <td>102.050003</td>\n",
       "    </tr>\n",
       "    <tr>\n",
       "      <th>2</th>\n",
       "      <td>1971-02-15</td>\n",
       "      <td>100.699997</td>\n",
       "    </tr>\n",
       "    <tr>\n",
       "      <th>3</th>\n",
       "      <td>1971-02-22</td>\n",
       "      <td>101.339996</td>\n",
       "    </tr>\n",
       "    <tr>\n",
       "      <th>4</th>\n",
       "      <td>1971-03-01</td>\n",
       "      <td>103.000000</td>\n",
       "    </tr>\n",
       "  </tbody>\n",
       "</table>\n",
       "</div>"
      ],
      "text/plain": [
       "        Date      nasdaq\n",
       "0 1971-02-01  100.000000\n",
       "1 1971-02-08  102.050003\n",
       "2 1971-02-15  100.699997\n",
       "3 1971-02-22  101.339996\n",
       "4 1971-03-01  103.000000"
      ]
     },
     "execution_count": 21,
     "metadata": {},
     "output_type": "execute_result"
    }
   ],
   "source": [
    "ndq_df[\"Date\"] = pd.to_datetime(ndq_df[\"Date\"])\n",
    "ndq_df = ndq_df.rename(columns={\"Adj Close\":\"nasdaq\"})\n",
    "ndq_df = ndq_df[[\"Date\", \"nasdaq\"]]\n",
    "ndq_df.head()"
   ]
  },
  {
   "cell_type": "code",
   "execution_count": 22,
   "id": "890d905f-71cb-43a7-929c-87e6e10d1044",
   "metadata": {},
   "outputs": [
    {
     "data": {
      "text/html": [
       "<div>\n",
       "<style scoped>\n",
       "    .dataframe tbody tr th:only-of-type {\n",
       "        vertical-align: middle;\n",
       "    }\n",
       "\n",
       "    .dataframe tbody tr th {\n",
       "        vertical-align: top;\n",
       "    }\n",
       "\n",
       "    .dataframe thead th {\n",
       "        text-align: right;\n",
       "    }\n",
       "</style>\n",
       "<table border=\"1\" class=\"dataframe\">\n",
       "  <thead>\n",
       "    <tr style=\"text-align: right;\">\n",
       "      <th></th>\n",
       "      <th>Date</th>\n",
       "      <th>nasdaq</th>\n",
       "    </tr>\n",
       "  </thead>\n",
       "  <tbody>\n",
       "    <tr>\n",
       "      <th>0</th>\n",
       "      <td>1971-02-01</td>\n",
       "      <td>101.022499</td>\n",
       "    </tr>\n",
       "    <tr>\n",
       "      <th>1</th>\n",
       "      <td>1971-03-01</td>\n",
       "      <td>105.040000</td>\n",
       "    </tr>\n",
       "    <tr>\n",
       "      <th>2</th>\n",
       "      <td>1971-04-01</td>\n",
       "      <td>110.332500</td>\n",
       "    </tr>\n",
       "    <tr>\n",
       "      <th>3</th>\n",
       "      <td>1971-05-01</td>\n",
       "      <td>109.832001</td>\n",
       "    </tr>\n",
       "    <tr>\n",
       "      <th>4</th>\n",
       "      <td>1971-06-01</td>\n",
       "      <td>108.422499</td>\n",
       "    </tr>\n",
       "  </tbody>\n",
       "</table>\n",
       "</div>"
      ],
      "text/plain": [
       "         Date      nasdaq\n",
       "0  1971-02-01  101.022499\n",
       "1  1971-03-01  105.040000\n",
       "2  1971-04-01  110.332500\n",
       "3  1971-05-01  109.832001\n",
       "4  1971-06-01  108.422499"
      ]
     },
     "execution_count": 22,
     "metadata": {},
     "output_type": "execute_result"
    }
   ],
   "source": [
    "# Get monthly average\n",
    "ndq_df = ndq_df.groupby(pd.PeriodIndex(ndq_df['Date'], freq=\"M\"))['nasdaq'].mean().reset_index()\n",
    "ndq_df[\"Date\"] = ndq_df[\"Date\"].dt.strftime('%Y-%m-01')\n",
    "ndq_df.head()"
   ]
  },
  {
   "cell_type": "markdown",
   "id": "f147210c-3bff-4519-bcc7-e8777e54cf47",
   "metadata": {},
   "source": [
    "### 5. Bitcoin USD"
   ]
  },
  {
   "cell_type": "code",
   "execution_count": 23,
   "id": "6b61758d-24c5-4dcd-bdb5-893f8a04d85a",
   "metadata": {},
   "outputs": [
    {
     "data": {
      "text/plain": [
       "(420, 7)"
      ]
     },
     "execution_count": 23,
     "metadata": {},
     "output_type": "execute_result"
    }
   ],
   "source": [
    "btc_df = pd.read_csv(\"../data/economy/btc_usd.csv\")\n",
    "btc_df.shape"
   ]
  },
  {
   "cell_type": "code",
   "execution_count": 24,
   "id": "9225ed07-ba85-45a6-b670-a6f382885b5b",
   "metadata": {},
   "outputs": [
    {
     "data": {
      "text/html": [
       "<div>\n",
       "<style scoped>\n",
       "    .dataframe tbody tr th:only-of-type {\n",
       "        vertical-align: middle;\n",
       "    }\n",
       "\n",
       "    .dataframe tbody tr th {\n",
       "        vertical-align: top;\n",
       "    }\n",
       "\n",
       "    .dataframe thead th {\n",
       "        text-align: right;\n",
       "    }\n",
       "</style>\n",
       "<table border=\"1\" class=\"dataframe\">\n",
       "  <thead>\n",
       "    <tr style=\"text-align: right;\">\n",
       "      <th></th>\n",
       "      <th>Date</th>\n",
       "      <th>Open</th>\n",
       "      <th>High</th>\n",
       "      <th>Low</th>\n",
       "      <th>Close</th>\n",
       "      <th>Adj Close</th>\n",
       "      <th>Volume</th>\n",
       "    </tr>\n",
       "  </thead>\n",
       "  <tbody>\n",
       "    <tr>\n",
       "      <th>0</th>\n",
       "      <td>2014-09-15</td>\n",
       "      <td>465.864014</td>\n",
       "      <td>468.174011</td>\n",
       "      <td>384.532013</td>\n",
       "      <td>398.821014</td>\n",
       "      <td>398.821014</td>\n",
       "      <td>156903400</td>\n",
       "    </tr>\n",
       "    <tr>\n",
       "      <th>1</th>\n",
       "      <td>2014-09-22</td>\n",
       "      <td>399.100006</td>\n",
       "      <td>441.557007</td>\n",
       "      <td>374.332001</td>\n",
       "      <td>377.181000</td>\n",
       "      <td>377.181000</td>\n",
       "      <td>186772600</td>\n",
       "    </tr>\n",
       "    <tr>\n",
       "      <th>2</th>\n",
       "      <td>2014-09-29</td>\n",
       "      <td>376.928009</td>\n",
       "      <td>391.378998</td>\n",
       "      <td>289.295990</td>\n",
       "      <td>320.510010</td>\n",
       "      <td>320.510010</td>\n",
       "      <td>276657896</td>\n",
       "    </tr>\n",
       "    <tr>\n",
       "      <th>3</th>\n",
       "      <td>2014-10-06</td>\n",
       "      <td>320.389008</td>\n",
       "      <td>382.726013</td>\n",
       "      <td>302.559998</td>\n",
       "      <td>378.549011</td>\n",
       "      <td>378.549011</td>\n",
       "      <td>341152804</td>\n",
       "    </tr>\n",
       "    <tr>\n",
       "      <th>4</th>\n",
       "      <td>2014-10-13</td>\n",
       "      <td>377.920990</td>\n",
       "      <td>411.697998</td>\n",
       "      <td>368.897003</td>\n",
       "      <td>389.545990</td>\n",
       "      <td>389.545990</td>\n",
       "      <td>156902070</td>\n",
       "    </tr>\n",
       "  </tbody>\n",
       "</table>\n",
       "</div>"
      ],
      "text/plain": [
       "         Date        Open        High         Low       Close   Adj Close  \\\n",
       "0  2014-09-15  465.864014  468.174011  384.532013  398.821014  398.821014   \n",
       "1  2014-09-22  399.100006  441.557007  374.332001  377.181000  377.181000   \n",
       "2  2014-09-29  376.928009  391.378998  289.295990  320.510010  320.510010   \n",
       "3  2014-10-06  320.389008  382.726013  302.559998  378.549011  378.549011   \n",
       "4  2014-10-13  377.920990  411.697998  368.897003  389.545990  389.545990   \n",
       "\n",
       "      Volume  \n",
       "0  156903400  \n",
       "1  186772600  \n",
       "2  276657896  \n",
       "3  341152804  \n",
       "4  156902070  "
      ]
     },
     "execution_count": 24,
     "metadata": {},
     "output_type": "execute_result"
    }
   ],
   "source": [
    "btc_df.head()"
   ]
  },
  {
   "cell_type": "code",
   "execution_count": 25,
   "id": "066a6df5-336b-4646-8b63-4747da59d11c",
   "metadata": {},
   "outputs": [
    {
     "data": {
      "text/html": [
       "<div>\n",
       "<style scoped>\n",
       "    .dataframe tbody tr th:only-of-type {\n",
       "        vertical-align: middle;\n",
       "    }\n",
       "\n",
       "    .dataframe tbody tr th {\n",
       "        vertical-align: top;\n",
       "    }\n",
       "\n",
       "    .dataframe thead th {\n",
       "        text-align: right;\n",
       "    }\n",
       "</style>\n",
       "<table border=\"1\" class=\"dataframe\">\n",
       "  <thead>\n",
       "    <tr style=\"text-align: right;\">\n",
       "      <th></th>\n",
       "      <th>Date</th>\n",
       "      <th>Open</th>\n",
       "      <th>High</th>\n",
       "      <th>Low</th>\n",
       "      <th>Close</th>\n",
       "      <th>Adj Close</th>\n",
       "      <th>Volume</th>\n",
       "    </tr>\n",
       "  </thead>\n",
       "  <tbody>\n",
       "    <tr>\n",
       "      <th>415</th>\n",
       "      <td>2022-08-29</td>\n",
       "      <td>19615.154297</td>\n",
       "      <td>20542.644531</td>\n",
       "      <td>19600.785156</td>\n",
       "      <td>19986.712891</td>\n",
       "      <td>19986.712891</td>\n",
       "      <td>208511390280</td>\n",
       "    </tr>\n",
       "    <tr>\n",
       "      <th>416</th>\n",
       "      <td>2022-09-05</td>\n",
       "      <td>19988.789063</td>\n",
       "      <td>21770.552734</td>\n",
       "      <td>18644.466797</td>\n",
       "      <td>21769.255859</td>\n",
       "      <td>21769.255859</td>\n",
       "      <td>259528892947</td>\n",
       "    </tr>\n",
       "    <tr>\n",
       "      <th>417</th>\n",
       "      <td>2022-09-12</td>\n",
       "      <td>21770.148438</td>\n",
       "      <td>22673.820313</td>\n",
       "      <td>19387.492188</td>\n",
       "      <td>19419.505859</td>\n",
       "      <td>19419.505859</td>\n",
       "      <td>261900187496</td>\n",
       "    </tr>\n",
       "    <tr>\n",
       "      <th>418</th>\n",
       "      <td>2022-09-19</td>\n",
       "      <td>19418.572266</td>\n",
       "      <td>19639.480469</td>\n",
       "      <td>18390.318359</td>\n",
       "      <td>18890.789063</td>\n",
       "      <td>18890.789063</td>\n",
       "      <td>76968349132</td>\n",
       "    </tr>\n",
       "    <tr>\n",
       "      <th>419</th>\n",
       "      <td>2022-09-21</td>\n",
       "      <td>18883.615234</td>\n",
       "      <td>19031.361328</td>\n",
       "      <td>18883.615234</td>\n",
       "      <td>18988.322266</td>\n",
       "      <td>18988.322266</td>\n",
       "      <td>34801786880</td>\n",
       "    </tr>\n",
       "  </tbody>\n",
       "</table>\n",
       "</div>"
      ],
      "text/plain": [
       "           Date          Open          High           Low         Close  \\\n",
       "415  2022-08-29  19615.154297  20542.644531  19600.785156  19986.712891   \n",
       "416  2022-09-05  19988.789063  21770.552734  18644.466797  21769.255859   \n",
       "417  2022-09-12  21770.148438  22673.820313  19387.492188  19419.505859   \n",
       "418  2022-09-19  19418.572266  19639.480469  18390.318359  18890.789063   \n",
       "419  2022-09-21  18883.615234  19031.361328  18883.615234  18988.322266   \n",
       "\n",
       "        Adj Close        Volume  \n",
       "415  19986.712891  208511390280  \n",
       "416  21769.255859  259528892947  \n",
       "417  19419.505859  261900187496  \n",
       "418  18890.789063   76968349132  \n",
       "419  18988.322266   34801786880  "
      ]
     },
     "execution_count": 25,
     "metadata": {},
     "output_type": "execute_result"
    }
   ],
   "source": [
    "btc_df.tail()"
   ]
  },
  {
   "cell_type": "code",
   "execution_count": 26,
   "id": "97f08016-ea2f-467e-96b9-83ee45074c8e",
   "metadata": {},
   "outputs": [
    {
     "data": {
      "text/html": [
       "<div>\n",
       "<style scoped>\n",
       "    .dataframe tbody tr th:only-of-type {\n",
       "        vertical-align: middle;\n",
       "    }\n",
       "\n",
       "    .dataframe tbody tr th {\n",
       "        vertical-align: top;\n",
       "    }\n",
       "\n",
       "    .dataframe thead th {\n",
       "        text-align: right;\n",
       "    }\n",
       "</style>\n",
       "<table border=\"1\" class=\"dataframe\">\n",
       "  <thead>\n",
       "    <tr style=\"text-align: right;\">\n",
       "      <th></th>\n",
       "      <th>Date</th>\n",
       "      <th>bitcoin</th>\n",
       "    </tr>\n",
       "  </thead>\n",
       "  <tbody>\n",
       "    <tr>\n",
       "      <th>0</th>\n",
       "      <td>2014-09-15</td>\n",
       "      <td>398.821014</td>\n",
       "    </tr>\n",
       "    <tr>\n",
       "      <th>1</th>\n",
       "      <td>2014-09-22</td>\n",
       "      <td>377.181000</td>\n",
       "    </tr>\n",
       "    <tr>\n",
       "      <th>2</th>\n",
       "      <td>2014-09-29</td>\n",
       "      <td>320.510010</td>\n",
       "    </tr>\n",
       "    <tr>\n",
       "      <th>3</th>\n",
       "      <td>2014-10-06</td>\n",
       "      <td>378.549011</td>\n",
       "    </tr>\n",
       "    <tr>\n",
       "      <th>4</th>\n",
       "      <td>2014-10-13</td>\n",
       "      <td>389.545990</td>\n",
       "    </tr>\n",
       "  </tbody>\n",
       "</table>\n",
       "</div>"
      ],
      "text/plain": [
       "        Date     bitcoin\n",
       "0 2014-09-15  398.821014\n",
       "1 2014-09-22  377.181000\n",
       "2 2014-09-29  320.510010\n",
       "3 2014-10-06  378.549011\n",
       "4 2014-10-13  389.545990"
      ]
     },
     "execution_count": 26,
     "metadata": {},
     "output_type": "execute_result"
    }
   ],
   "source": [
    "btc_df[\"Date\"] = pd.to_datetime(btc_df[\"Date\"])\n",
    "btc_df = btc_df.rename(columns={\"Adj Close\":\"bitcoin\"})\n",
    "btc_df = btc_df[[\"Date\", \"bitcoin\"]]\n",
    "btc_df.head()"
   ]
  },
  {
   "cell_type": "code",
   "execution_count": 27,
   "id": "a39abe00-4fca-4bc7-9e59-8ed345d40025",
   "metadata": {},
   "outputs": [
    {
     "data": {
      "text/html": [
       "<div>\n",
       "<style scoped>\n",
       "    .dataframe tbody tr th:only-of-type {\n",
       "        vertical-align: middle;\n",
       "    }\n",
       "\n",
       "    .dataframe tbody tr th {\n",
       "        vertical-align: top;\n",
       "    }\n",
       "\n",
       "    .dataframe thead th {\n",
       "        text-align: right;\n",
       "    }\n",
       "</style>\n",
       "<table border=\"1\" class=\"dataframe\">\n",
       "  <thead>\n",
       "    <tr style=\"text-align: right;\">\n",
       "      <th></th>\n",
       "      <th>Date</th>\n",
       "      <th>bitcoin</th>\n",
       "    </tr>\n",
       "  </thead>\n",
       "  <tbody>\n",
       "    <tr>\n",
       "      <th>0</th>\n",
       "      <td>2014-09-01</td>\n",
       "      <td>365.504008</td>\n",
       "    </tr>\n",
       "    <tr>\n",
       "      <th>1</th>\n",
       "      <td>2014-10-01</td>\n",
       "      <td>362.172752</td>\n",
       "    </tr>\n",
       "    <tr>\n",
       "      <th>2</th>\n",
       "      <td>2014-11-01</td>\n",
       "      <td>374.191498</td>\n",
       "    </tr>\n",
       "    <tr>\n",
       "      <th>3</th>\n",
       "      <td>2014-12-01</td>\n",
       "      <td>325.800800</td>\n",
       "    </tr>\n",
       "    <tr>\n",
       "      <th>4</th>\n",
       "      <td>2015-01-01</td>\n",
       "      <td>239.172253</td>\n",
       "    </tr>\n",
       "  </tbody>\n",
       "</table>\n",
       "</div>"
      ],
      "text/plain": [
       "         Date     bitcoin\n",
       "0  2014-09-01  365.504008\n",
       "1  2014-10-01  362.172752\n",
       "2  2014-11-01  374.191498\n",
       "3  2014-12-01  325.800800\n",
       "4  2015-01-01  239.172253"
      ]
     },
     "execution_count": 27,
     "metadata": {},
     "output_type": "execute_result"
    }
   ],
   "source": [
    "# Get monthly average\n",
    "btc_df = btc_df.groupby(pd.PeriodIndex(btc_df['Date'], freq=\"M\"))['bitcoin'].mean().reset_index()\n",
    "btc_df[\"Date\"] = btc_df[\"Date\"].dt.strftime('%Y-%m-01')\n",
    "btc_df.head()"
   ]
  },
  {
   "cell_type": "markdown",
   "id": "3f0bc0e5-04f5-4bbf-8934-3d4b6ae6d115",
   "metadata": {},
   "source": [
    "### 6. Merging all together"
   ]
  },
  {
   "cell_type": "code",
   "execution_count": 28,
   "id": "d9ff4017-30ba-4fc6-a5db-67819075b117",
   "metadata": {},
   "outputs": [
    {
     "data": {
      "text/html": [
       "<div>\n",
       "<style scoped>\n",
       "    .dataframe tbody tr th:only-of-type {\n",
       "        vertical-align: middle;\n",
       "    }\n",
       "\n",
       "    .dataframe tbody tr th {\n",
       "        vertical-align: top;\n",
       "    }\n",
       "\n",
       "    .dataframe thead th {\n",
       "        text-align: right;\n",
       "    }\n",
       "</style>\n",
       "<table border=\"1\" class=\"dataframe\">\n",
       "  <thead>\n",
       "    <tr style=\"text-align: right;\">\n",
       "      <th></th>\n",
       "      <th>Date</th>\n",
       "    </tr>\n",
       "  </thead>\n",
       "  <tbody>\n",
       "    <tr>\n",
       "      <th>0</th>\n",
       "      <td>2006-01-01</td>\n",
       "    </tr>\n",
       "    <tr>\n",
       "      <th>1</th>\n",
       "      <td>2006-02-01</td>\n",
       "    </tr>\n",
       "    <tr>\n",
       "      <th>2</th>\n",
       "      <td>2006-03-01</td>\n",
       "    </tr>\n",
       "    <tr>\n",
       "      <th>3</th>\n",
       "      <td>2006-04-01</td>\n",
       "    </tr>\n",
       "    <tr>\n",
       "      <th>4</th>\n",
       "      <td>2006-05-01</td>\n",
       "    </tr>\n",
       "  </tbody>\n",
       "</table>\n",
       "</div>"
      ],
      "text/plain": [
       "        Date\n",
       "0 2006-01-01\n",
       "1 2006-02-01\n",
       "2 2006-03-01\n",
       "3 2006-04-01\n",
       "4 2006-05-01"
      ]
     },
     "execution_count": 28,
     "metadata": {},
     "output_type": "execute_result"
    }
   ],
   "source": [
    "# Create a monthly date range\n",
    "date_range = pd.date_range(start='1/1/2006', end='10/1/2022', freq='M')\n",
    "df = pd.DataFrame({\"Date\": date_range})\n",
    "df[\"Date\"] = df[\"Date\"].to_numpy().astype('datetime64[M]')\n",
    "df.head()"
   ]
  },
  {
   "cell_type": "code",
   "execution_count": 29,
   "id": "4f551472-c804-4919-91b9-fdaf391e9951",
   "metadata": {},
   "outputs": [],
   "source": [
    "df_list = [fed_df, uem_df, sp5_df, ndq_df] # Not include btc_df\n",
    "for adf in df_list:\n",
    "    adf[\"Date\"] = pd.to_datetime(adf[\"Date\"])\n",
    "    df = df.merge(adf, how='left', on='Date')"
   ]
  },
  {
   "cell_type": "code",
   "execution_count": 30,
   "id": "373c2d4a-ecc9-41ac-aa7e-9e475600c7a3",
   "metadata": {},
   "outputs": [
    {
     "data": {
      "text/html": [
       "<div>\n",
       "<style scoped>\n",
       "    .dataframe tbody tr th:only-of-type {\n",
       "        vertical-align: middle;\n",
       "    }\n",
       "\n",
       "    .dataframe tbody tr th {\n",
       "        vertical-align: top;\n",
       "    }\n",
       "\n",
       "    .dataframe thead th {\n",
       "        text-align: right;\n",
       "    }\n",
       "</style>\n",
       "<table border=\"1\" class=\"dataframe\">\n",
       "  <thead>\n",
       "    <tr style=\"text-align: right;\">\n",
       "      <th></th>\n",
       "      <th>Date</th>\n",
       "      <th>Fed Rate</th>\n",
       "      <th>unemployment</th>\n",
       "      <th>sp500</th>\n",
       "      <th>nasdaq</th>\n",
       "    </tr>\n",
       "  </thead>\n",
       "  <tbody>\n",
       "    <tr>\n",
       "      <th>0</th>\n",
       "      <td>2006-01-01</td>\n",
       "      <td>4.29</td>\n",
       "      <td>4.7</td>\n",
       "      <td>1278.723000</td>\n",
       "      <td>2287.434033</td>\n",
       "    </tr>\n",
       "    <tr>\n",
       "      <th>1</th>\n",
       "      <td>2006-02-01</td>\n",
       "      <td>4.49</td>\n",
       "      <td>4.8</td>\n",
       "      <td>1276.645263</td>\n",
       "      <td>2283.470032</td>\n",
       "    </tr>\n",
       "    <tr>\n",
       "      <th>2</th>\n",
       "      <td>2006-03-01</td>\n",
       "      <td>4.59</td>\n",
       "      <td>4.7</td>\n",
       "      <td>1293.740000</td>\n",
       "      <td>2305.282532</td>\n",
       "    </tr>\n",
       "    <tr>\n",
       "      <th>3</th>\n",
       "      <td>2006-04-01</td>\n",
       "      <td>4.79</td>\n",
       "      <td>4.7</td>\n",
       "      <td>1302.183684</td>\n",
       "      <td>2332.640075</td>\n",
       "    </tr>\n",
       "    <tr>\n",
       "      <th>4</th>\n",
       "      <td>2006-05-01</td>\n",
       "      <td>4.94</td>\n",
       "      <td>4.6</td>\n",
       "      <td>1290.000000</td>\n",
       "      <td>2242.002002</td>\n",
       "    </tr>\n",
       "  </tbody>\n",
       "</table>\n",
       "</div>"
      ],
      "text/plain": [
       "        Date  Fed Rate  unemployment        sp500       nasdaq\n",
       "0 2006-01-01      4.29           4.7  1278.723000  2287.434033\n",
       "1 2006-02-01      4.49           4.8  1276.645263  2283.470032\n",
       "2 2006-03-01      4.59           4.7  1293.740000  2305.282532\n",
       "3 2006-04-01      4.79           4.7  1302.183684  2332.640075\n",
       "4 2006-05-01      4.94           4.6  1290.000000  2242.002002"
      ]
     },
     "execution_count": 30,
     "metadata": {},
     "output_type": "execute_result"
    }
   ],
   "source": [
    "df.head()"
   ]
  },
  {
   "cell_type": "code",
   "execution_count": 31,
   "id": "5b5f7c0c-9684-46aa-99eb-e216d31d97e7",
   "metadata": {},
   "outputs": [
    {
     "data": {
      "text/plain": [
       "(201, 5)"
      ]
     },
     "execution_count": 31,
     "metadata": {},
     "output_type": "execute_result"
    }
   ],
   "source": [
    "df.shape"
   ]
  },
  {
   "cell_type": "code",
   "execution_count": 32,
   "id": "05ebfe7a-bd7b-460a-b442-4041904bfa63",
   "metadata": {},
   "outputs": [],
   "source": [
    "# df = df.dropna()\n",
    "# df.shape"
   ]
  },
  {
   "cell_type": "code",
   "execution_count": 33,
   "id": "e443ece7-25a3-43dd-98af-e2fad9b1b69a",
   "metadata": {},
   "outputs": [
    {
     "data": {
      "text/html": [
       "<div>\n",
       "<style scoped>\n",
       "    .dataframe tbody tr th:only-of-type {\n",
       "        vertical-align: middle;\n",
       "    }\n",
       "\n",
       "    .dataframe tbody tr th {\n",
       "        vertical-align: top;\n",
       "    }\n",
       "\n",
       "    .dataframe thead th {\n",
       "        text-align: right;\n",
       "    }\n",
       "</style>\n",
       "<table border=\"1\" class=\"dataframe\">\n",
       "  <thead>\n",
       "    <tr style=\"text-align: right;\">\n",
       "      <th></th>\n",
       "      <th>Date</th>\n",
       "      <th>Fed Rate</th>\n",
       "      <th>unemployment</th>\n",
       "      <th>sp500</th>\n",
       "      <th>nasdaq</th>\n",
       "    </tr>\n",
       "  </thead>\n",
       "  <tbody>\n",
       "    <tr>\n",
       "      <th>0</th>\n",
       "      <td>2006-01-01</td>\n",
       "      <td>4.29</td>\n",
       "      <td>4.7</td>\n",
       "      <td>1278.723000</td>\n",
       "      <td>2287.434033</td>\n",
       "    </tr>\n",
       "    <tr>\n",
       "      <th>1</th>\n",
       "      <td>2006-02-01</td>\n",
       "      <td>4.49</td>\n",
       "      <td>4.8</td>\n",
       "      <td>1276.645263</td>\n",
       "      <td>2283.470032</td>\n",
       "    </tr>\n",
       "    <tr>\n",
       "      <th>2</th>\n",
       "      <td>2006-03-01</td>\n",
       "      <td>4.59</td>\n",
       "      <td>4.7</td>\n",
       "      <td>1293.740000</td>\n",
       "      <td>2305.282532</td>\n",
       "    </tr>\n",
       "    <tr>\n",
       "      <th>3</th>\n",
       "      <td>2006-04-01</td>\n",
       "      <td>4.79</td>\n",
       "      <td>4.7</td>\n",
       "      <td>1302.183684</td>\n",
       "      <td>2332.640075</td>\n",
       "    </tr>\n",
       "    <tr>\n",
       "      <th>4</th>\n",
       "      <td>2006-05-01</td>\n",
       "      <td>4.94</td>\n",
       "      <td>4.6</td>\n",
       "      <td>1290.000000</td>\n",
       "      <td>2242.002002</td>\n",
       "    </tr>\n",
       "  </tbody>\n",
       "</table>\n",
       "</div>"
      ],
      "text/plain": [
       "        Date  Fed Rate  unemployment        sp500       nasdaq\n",
       "0 2006-01-01      4.29           4.7  1278.723000  2287.434033\n",
       "1 2006-02-01      4.49           4.8  1276.645263  2283.470032\n",
       "2 2006-03-01      4.59           4.7  1293.740000  2305.282532\n",
       "3 2006-04-01      4.79           4.7  1302.183684  2332.640075\n",
       "4 2006-05-01      4.94           4.6  1290.000000  2242.002002"
      ]
     },
     "execution_count": 33,
     "metadata": {},
     "output_type": "execute_result"
    }
   ],
   "source": [
    "df.head()"
   ]
  },
  {
   "cell_type": "code",
   "execution_count": 34,
   "id": "e2c6c55a-b8c3-4de4-8f92-e07386fa2c9d",
   "metadata": {},
   "outputs": [],
   "source": [
    "df.to_csv(\"../data/economy/econ_metrics.csv\", index=False)"
   ]
  },
  {
   "cell_type": "code",
   "execution_count": null,
   "id": "8c0b5d68-5916-484a-bb63-fa87f877b5e1",
   "metadata": {},
   "outputs": [],
   "source": []
  }
 ],
 "metadata": {
  "kernelspec": {
   "display_name": "Python 3 (ipykernel)",
   "language": "python",
   "name": "python3"
  },
  "language_info": {
   "codemirror_mode": {
    "name": "ipython",
    "version": 3
   },
   "file_extension": ".py",
   "mimetype": "text/x-python",
   "name": "python",
   "nbconvert_exporter": "python",
   "pygments_lexer": "ipython3",
   "version": "3.9.12"
  }
 },
 "nbformat": 4,
 "nbformat_minor": 5
}

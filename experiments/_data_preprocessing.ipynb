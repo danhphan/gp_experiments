{
 "cells": [
  {
   "cell_type": "markdown",
   "id": "0a634ef9-f642-4eb9-ad6f-5bc6ed99096b",
   "metadata": {},
   "source": [
    "### Data sets"
   ]
  },
  {
   "cell_type": "markdown",
   "id": "76551329-2acb-44d9-8009-4731f68ec5ac",
   "metadata": {},
   "source": [
    "**We use the following datasets:**\n",
    "\n",
    "    - Monthly Fed interest rate from 1955 to 2022: https://fred.stlouisfed.org/series/FEDFUNDS\n",
    "    - Monthly US unemployment rate from ? to 2022: https://data.bls.gov/pdq/SurveyOutputServlet\n",
    "    - Monthly SP500 index: https://www.wsj.com/market-data/quotes/index/SPX/historical-prices\n",
    "    - Monthly NASDAX index\n",
    "    - Monthly Bitcoin"
   ]
  },
  {
   "cell_type": "code",
   "execution_count": 7,
   "id": "e37c78cf-b213-4212-b5e4-c68d1b7da091",
   "metadata": {},
   "outputs": [],
   "source": [
    "import pandas as pd"
   ]
  },
  {
   "cell_type": "code",
   "execution_count": 23,
   "id": "47b2b768-1a35-4130-b652-b9217a2e0adc",
   "metadata": {},
   "outputs": [
    {
     "data": {
      "text/plain": [
       "(818, 2)"
      ]
     },
     "execution_count": 23,
     "metadata": {},
     "output_type": "execute_result"
    }
   ],
   "source": [
    "fed_df = pd.read_csv(\"../data/economy/fed_rates.csv\")\n",
    "fed_df.shape"
   ]
  },
  {
   "cell_type": "code",
   "execution_count": 24,
   "id": "cac333aa-4662-463e-adc5-dc810644abc9",
   "metadata": {},
   "outputs": [
    {
     "data": {
      "text/html": [
       "<div>\n",
       "<style scoped>\n",
       "    .dataframe tbody tr th:only-of-type {\n",
       "        vertical-align: middle;\n",
       "    }\n",
       "\n",
       "    .dataframe tbody tr th {\n",
       "        vertical-align: top;\n",
       "    }\n",
       "\n",
       "    .dataframe thead th {\n",
       "        text-align: right;\n",
       "    }\n",
       "</style>\n",
       "<table border=\"1\" class=\"dataframe\">\n",
       "  <thead>\n",
       "    <tr style=\"text-align: right;\">\n",
       "      <th></th>\n",
       "      <th>DATE</th>\n",
       "      <th>FEDFUNDS</th>\n",
       "    </tr>\n",
       "  </thead>\n",
       "  <tbody>\n",
       "    <tr>\n",
       "      <th>0</th>\n",
       "      <td>1954-07-01</td>\n",
       "      <td>0.80</td>\n",
       "    </tr>\n",
       "    <tr>\n",
       "      <th>1</th>\n",
       "      <td>1954-08-01</td>\n",
       "      <td>1.22</td>\n",
       "    </tr>\n",
       "    <tr>\n",
       "      <th>2</th>\n",
       "      <td>1954-09-01</td>\n",
       "      <td>1.07</td>\n",
       "    </tr>\n",
       "    <tr>\n",
       "      <th>3</th>\n",
       "      <td>1954-10-01</td>\n",
       "      <td>0.85</td>\n",
       "    </tr>\n",
       "    <tr>\n",
       "      <th>4</th>\n",
       "      <td>1954-11-01</td>\n",
       "      <td>0.83</td>\n",
       "    </tr>\n",
       "  </tbody>\n",
       "</table>\n",
       "</div>"
      ],
      "text/plain": [
       "         DATE  FEDFUNDS\n",
       "0  1954-07-01      0.80\n",
       "1  1954-08-01      1.22\n",
       "2  1954-09-01      1.07\n",
       "3  1954-10-01      0.85\n",
       "4  1954-11-01      0.83"
      ]
     },
     "execution_count": 24,
     "metadata": {},
     "output_type": "execute_result"
    }
   ],
   "source": [
    "fed_df.head()"
   ]
  },
  {
   "cell_type": "code",
   "execution_count": 25,
   "id": "31069040-f648-4aa3-bcee-744b27cdbfe5",
   "metadata": {},
   "outputs": [
    {
     "data": {
      "text/plain": [
       "<AxesSubplot:xlabel='DATE'>"
      ]
     },
     "execution_count": 25,
     "metadata": {},
     "output_type": "execute_result"
    },
    {
     "data": {
      "image/png": "[encoded data removed]",
      "text/plain": [
       "<Figure size 432x288 with 1 Axes>"
      ]
     },
     "metadata": {
      "needs_background": "light"
     },
     "output_type": "display_data"
    }
   ],
   "source": [
    "fed_df.set_index(pd.to_datetime(df.DATE))[\"FEDFUNDS\"].plot()"
   ]
  },
  {
   "cell_type": "code",
   "execution_count": 11,
   "id": "fd6eae41-e13e-483f-b3dd-3f72453b5200",
   "metadata": {},
   "outputs": [
    {
     "data": {
      "text/plain": [
       "(11276, 5)"
      ]
     },
     "execution_count": 11,
     "metadata": {},
     "output_type": "execute_result"
    }
   ],
   "source": [
    "sp5_df = pd.read_csv(\"./data/SP500.csv\")\n",
    "sp5_df.shape"
   ]
  },
  {
   "cell_type": "code",
   "execution_count": 12,
   "id": "bb3b78dc-8670-4342-9525-53db0cc1a7ec",
   "metadata": {},
   "outputs": [
    {
     "data": {
      "text/html": [
       "<div>\n",
       "<style scoped>\n",
       "    .dataframe tbody tr th:only-of-type {\n",
       "        vertical-align: middle;\n",
       "    }\n",
       "\n",
       "    .dataframe tbody tr th {\n",
       "        vertical-align: top;\n",
       "    }\n",
       "\n",
       "    .dataframe thead th {\n",
       "        text-align: right;\n",
       "    }\n",
       "</style>\n",
       "<table border=\"1\" class=\"dataframe\">\n",
       "  <thead>\n",
       "    <tr style=\"text-align: right;\">\n",
       "      <th></th>\n",
       "      <th>Date</th>\n",
       "      <th>Open</th>\n",
       "      <th>High</th>\n",
       "      <th>Low</th>\n",
       "      <th>Close</th>\n",
       "    </tr>\n",
       "  </thead>\n",
       "  <tbody>\n",
       "    <tr>\n",
       "      <th>0</th>\n",
       "      <td>09/20/22</td>\n",
       "      <td>3875.05</td>\n",
       "      <td>3876.01</td>\n",
       "      <td>3827.54</td>\n",
       "      <td>3855.93</td>\n",
       "    </tr>\n",
       "    <tr>\n",
       "      <th>1</th>\n",
       "      <td>09/19/22</td>\n",
       "      <td>3849.91</td>\n",
       "      <td>3900.45</td>\n",
       "      <td>3838.50</td>\n",
       "      <td>3899.89</td>\n",
       "    </tr>\n",
       "    <tr>\n",
       "      <th>2</th>\n",
       "      <td>09/16/22</td>\n",
       "      <td>3880.95</td>\n",
       "      <td>3880.95</td>\n",
       "      <td>3837.08</td>\n",
       "      <td>3873.33</td>\n",
       "    </tr>\n",
       "    <tr>\n",
       "      <th>3</th>\n",
       "      <td>09/15/22</td>\n",
       "      <td>3932.41</td>\n",
       "      <td>3959.14</td>\n",
       "      <td>3888.28</td>\n",
       "      <td>3901.35</td>\n",
       "    </tr>\n",
       "    <tr>\n",
       "      <th>4</th>\n",
       "      <td>09/14/22</td>\n",
       "      <td>3940.73</td>\n",
       "      <td>3961.94</td>\n",
       "      <td>3912.18</td>\n",
       "      <td>3946.01</td>\n",
       "    </tr>\n",
       "  </tbody>\n",
       "</table>\n",
       "</div>"
      ],
      "text/plain": [
       "       Date     Open     High      Low    Close\n",
       "0  09/20/22  3875.05  3876.01  3827.54  3855.93\n",
       "1  09/19/22  3849.91  3900.45  3838.50  3899.89\n",
       "2  09/16/22  3880.95  3880.95  3837.08  3873.33\n",
       "3  09/15/22  3932.41  3959.14  3888.28  3901.35\n",
       "4  09/14/22  3940.73  3961.94  3912.18  3946.01"
      ]
     },
     "execution_count": 12,
     "metadata": {},
     "output_type": "execute_result"
    }
   ],
   "source": [
    "sp5_df.head()"
   ]
  },
  {
   "cell_type": "code",
   "execution_count": 28,
   "id": "f71b514b-7635-4f03-9f86-18252fca69cd",
   "metadata": {},
   "outputs": [
    {
     "data": {
      "text/html": [
       "<div>\n",
       "<style scoped>\n",
       "    .dataframe tbody tr th:only-of-type {\n",
       "        vertical-align: middle;\n",
       "    }\n",
       "\n",
       "    .dataframe tbody tr th {\n",
       "        vertical-align: top;\n",
       "    }\n",
       "\n",
       "    .dataframe thead th {\n",
       "        text-align: right;\n",
       "    }\n",
       "</style>\n",
       "<table border=\"1\" class=\"dataframe\">\n",
       "  <thead>\n",
       "    <tr style=\"text-align: right;\">\n",
       "      <th></th>\n",
       "      <th>Date</th>\n",
       "      <th>Open</th>\n",
       "      <th>High</th>\n",
       "      <th>Low</th>\n",
       "      <th>Close</th>\n",
       "    </tr>\n",
       "  </thead>\n",
       "  <tbody>\n",
       "    <tr>\n",
       "      <th>11271</th>\n",
       "      <td>01/09/78</td>\n",
       "      <td>90.64</td>\n",
       "      <td>91.52</td>\n",
       "      <td>90.01</td>\n",
       "      <td>90.64</td>\n",
       "    </tr>\n",
       "    <tr>\n",
       "      <th>11272</th>\n",
       "      <td>01/06/78</td>\n",
       "      <td>91.62</td>\n",
       "      <td>92.66</td>\n",
       "      <td>91.05</td>\n",
       "      <td>91.62</td>\n",
       "    </tr>\n",
       "    <tr>\n",
       "      <th>11273</th>\n",
       "      <td>01/05/78</td>\n",
       "      <td>92.74</td>\n",
       "      <td>94.53</td>\n",
       "      <td>92.51</td>\n",
       "      <td>92.74</td>\n",
       "    </tr>\n",
       "    <tr>\n",
       "      <th>11274</th>\n",
       "      <td>01/04/78</td>\n",
       "      <td>93.52</td>\n",
       "      <td>94.10</td>\n",
       "      <td>93.16</td>\n",
       "      <td>93.52</td>\n",
       "    </tr>\n",
       "    <tr>\n",
       "      <th>11275</th>\n",
       "      <td>01/03/78</td>\n",
       "      <td>93.82</td>\n",
       "      <td>95.15</td>\n",
       "      <td>93.49</td>\n",
       "      <td>93.82</td>\n",
       "    </tr>\n",
       "  </tbody>\n",
       "</table>\n",
       "</div>"
      ],
      "text/plain": [
       "           Date   Open   High    Low   Close\n",
       "11271  01/09/78  90.64  91.52  90.01   90.64\n",
       "11272  01/06/78  91.62  92.66  91.05   91.62\n",
       "11273  01/05/78  92.74  94.53  92.51   92.74\n",
       "11274  01/04/78  93.52  94.10  93.16   93.52\n",
       "11275  01/03/78  93.82  95.15  93.49   93.82"
      ]
     },
     "execution_count": 28,
     "metadata": {},
     "output_type": "execute_result"
    }
   ],
   "source": [
    "sp5_df.tail()"
   ]
  },
  {
   "cell_type": "code",
   "execution_count": 30,
   "id": "f936a99c-fff1-4ff3-987f-bd5022086949",
   "metadata": {},
   "outputs": [
    {
     "data": {
      "text/plain": [
       "Date      0\n",
       " Open     0\n",
       " High     0\n",
       " Low      0\n",
       " Close    0\n",
       "dtype: int64"
      ]
     },
     "execution_count": 30,
     "metadata": {},
     "output_type": "execute_result"
    }
   ],
   "source": [
    "sp5_df.isna().sum()"
   ]
  },
  {
   "cell_type": "code",
   "execution_count": 34,
   "id": "374b3a97-56e9-43ec-a34a-b8ff0ad27c60",
   "metadata": {},
   "outputs": [
    {
     "data": {
      "text/plain": [
       "Index(['Date', ' Open', ' High', ' Low', ' Close'], dtype='object')"
      ]
     },
     "execution_count": 34,
     "metadata": {},
     "output_type": "execute_result"
    }
   ],
   "source": [
    "sp5_df.columns"
   ]
  },
  {
   "cell_type": "code",
   "execution_count": null,
   "id": "cd4d29ae-8efe-46f1-9158-c62c79b1a1c3",
   "metadata": {},
   "outputs": [],
   "source": []
  },
  {
   "cell_type": "code",
   "execution_count": 35,
   "id": "19fa50d9-c5a1-41aa-b1e3-f15f65f8e47e",
   "metadata": {},
   "outputs": [],
   "source": [
    "# 2022-40\n",
    "sp5_df[\"Price\"] = (sp5_df[\" Close\"] - sp5_df[\" Close\"].mean()) / sp5_df[\" Close\"].std()"
   ]
  },
  {
   "cell_type": "code",
   "execution_count": null,
   "id": "cde772a9-4197-4d3f-bdb6-e2eb3408844a",
   "metadata": {},
   "outputs": [],
   "source": []
  },
  {
   "cell_type": "code",
   "execution_count": 16,
   "id": "f82f3aeb-bddd-4637-9538-886e2e818b62",
   "metadata": {},
   "outputs": [
    {
     "data": {
      "text/plain": [
       "(2695, 7)"
      ]
     },
     "execution_count": 16,
     "metadata": {},
     "output_type": "execute_result"
    }
   ],
   "source": [
    "ndq_df = pd.read_csv(\"./data/NASDAQ.csv\")\n",
    "ndq_df.shape"
   ]
  },
  {
   "cell_type": "code",
   "execution_count": 17,
   "id": "15cfa5ad-80a3-4d9d-b189-431fa6f3b7cb",
   "metadata": {},
   "outputs": [
    {
     "data": {
      "text/html": [
       "<div>\n",
       "<style scoped>\n",
       "    .dataframe tbody tr th:only-of-type {\n",
       "        vertical-align: middle;\n",
       "    }\n",
       "\n",
       "    .dataframe tbody tr th {\n",
       "        vertical-align: top;\n",
       "    }\n",
       "\n",
       "    .dataframe thead th {\n",
       "        text-align: right;\n",
       "    }\n",
       "</style>\n",
       "<table border=\"1\" class=\"dataframe\">\n",
       "  <thead>\n",
       "    <tr style=\"text-align: right;\">\n",
       "      <th></th>\n",
       "      <th>Date</th>\n",
       "      <th>Open</th>\n",
       "      <th>High</th>\n",
       "      <th>Low</th>\n",
       "      <th>Close</th>\n",
       "      <th>Adj Close</th>\n",
       "      <th>Volume</th>\n",
       "    </tr>\n",
       "  </thead>\n",
       "  <tbody>\n",
       "    <tr>\n",
       "      <th>0</th>\n",
       "      <td>1971-02-01</td>\n",
       "      <td>100.000000</td>\n",
       "      <td>100.000000</td>\n",
       "      <td>100.000000</td>\n",
       "      <td>100.000000</td>\n",
       "      <td>100.000000</td>\n",
       "      <td>0</td>\n",
       "    </tr>\n",
       "    <tr>\n",
       "      <th>1</th>\n",
       "      <td>1971-02-08</td>\n",
       "      <td>100.839996</td>\n",
       "      <td>102.050003</td>\n",
       "      <td>100.690002</td>\n",
       "      <td>102.050003</td>\n",
       "      <td>102.050003</td>\n",
       "      <td>0</td>\n",
       "    </tr>\n",
       "    <tr>\n",
       "      <th>2</th>\n",
       "      <td>1971-02-15</td>\n",
       "      <td>102.190002</td>\n",
       "      <td>102.190002</td>\n",
       "      <td>100.699997</td>\n",
       "      <td>100.699997</td>\n",
       "      <td>100.699997</td>\n",
       "      <td>0</td>\n",
       "    </tr>\n",
       "    <tr>\n",
       "      <th>3</th>\n",
       "      <td>1971-02-22</td>\n",
       "      <td>99.680000</td>\n",
       "      <td>101.339996</td>\n",
       "      <td>99.680000</td>\n",
       "      <td>101.339996</td>\n",
       "      <td>101.339996</td>\n",
       "      <td>0</td>\n",
       "    </tr>\n",
       "    <tr>\n",
       "      <th>4</th>\n",
       "      <td>1971-03-01</td>\n",
       "      <td>101.779999</td>\n",
       "      <td>103.000000</td>\n",
       "      <td>101.779999</td>\n",
       "      <td>103.000000</td>\n",
       "      <td>103.000000</td>\n",
       "      <td>0</td>\n",
       "    </tr>\n",
       "  </tbody>\n",
       "</table>\n",
       "</div>"
      ],
      "text/plain": [
       "         Date        Open        High         Low       Close   Adj Close  \\\n",
       "0  1971-02-01  100.000000  100.000000  100.000000  100.000000  100.000000   \n",
       "1  1971-02-08  100.839996  102.050003  100.690002  102.050003  102.050003   \n",
       "2  1971-02-15  102.190002  102.190002  100.699997  100.699997  100.699997   \n",
       "3  1971-02-22   99.680000  101.339996   99.680000  101.339996  101.339996   \n",
       "4  1971-03-01  101.779999  103.000000  101.779999  103.000000  103.000000   \n",
       "\n",
       "   Volume  \n",
       "0       0  \n",
       "1       0  \n",
       "2       0  \n",
       "3       0  \n",
       "4       0  "
      ]
     },
     "execution_count": 17,
     "metadata": {},
     "output_type": "execute_result"
    }
   ],
   "source": [
    "ndq_df.head()"
   ]
  },
  {
   "cell_type": "code",
   "execution_count": 21,
   "id": "f083a316-44ea-42c4-a095-f5bff1723f66",
   "metadata": {},
   "outputs": [],
   "source": [
    "ndq_df[\"Price\"] = (ndq_df[\"Adj Close\"] - ndq_df[\"Adj Close\"].mean() ) / ndq_df[\"Adj Close\"].std()"
   ]
  },
  {
   "cell_type": "code",
   "execution_count": 18,
   "id": "72d4a656-cd0d-437d-a308-05efdf3e5906",
   "metadata": {},
   "outputs": [
    {
     "data": {
      "text/html": [
       "<div>\n",
       "<style scoped>\n",
       "    .dataframe tbody tr th:only-of-type {\n",
       "        vertical-align: middle;\n",
       "    }\n",
       "\n",
       "    .dataframe tbody tr th {\n",
       "        vertical-align: top;\n",
       "    }\n",
       "\n",
       "    .dataframe thead th {\n",
       "        text-align: right;\n",
       "    }\n",
       "</style>\n",
       "<table border=\"1\" class=\"dataframe\">\n",
       "  <thead>\n",
       "    <tr style=\"text-align: right;\">\n",
       "      <th></th>\n",
       "      <th>Date</th>\n",
       "      <th>Open</th>\n",
       "      <th>High</th>\n",
       "      <th>Low</th>\n",
       "      <th>Close</th>\n",
       "      <th>Adj Close</th>\n",
       "      <th>Volume</th>\n",
       "    </tr>\n",
       "  </thead>\n",
       "  <tbody>\n",
       "    <tr>\n",
       "      <th>2690</th>\n",
       "      <td>2022-08-22</td>\n",
       "      <td>12523.160156</td>\n",
       "      <td>12655.839844</td>\n",
       "      <td>12141.519531</td>\n",
       "      <td>12141.709961</td>\n",
       "      <td>12141.709961</td>\n",
       "      <td>20755470000</td>\n",
       "    </tr>\n",
       "    <tr>\n",
       "      <th>2691</th>\n",
       "      <td>2022-08-29</td>\n",
       "      <td>12021.049805</td>\n",
       "      <td>12124.870117</td>\n",
       "      <td>11546.519531</td>\n",
       "      <td>11630.860352</td>\n",
       "      <td>11630.860352</td>\n",
       "      <td>22776260000</td>\n",
       "    </tr>\n",
       "    <tr>\n",
       "      <th>2692</th>\n",
       "      <td>2022-09-05</td>\n",
       "      <td>11643.030273</td>\n",
       "      <td>12132.669922</td>\n",
       "      <td>11471.500000</td>\n",
       "      <td>12112.309570</td>\n",
       "      <td>12112.309570</td>\n",
       "      <td>17800080000</td>\n",
       "    </tr>\n",
       "    <tr>\n",
       "      <th>2693</th>\n",
       "      <td>2022-09-12</td>\n",
       "      <td>12174.940430</td>\n",
       "      <td>12270.190430</td>\n",
       "      <td>11316.919922</td>\n",
       "      <td>11448.400391</td>\n",
       "      <td>11448.400391</td>\n",
       "      <td>26454340000</td>\n",
       "    </tr>\n",
       "    <tr>\n",
       "      <th>2694</th>\n",
       "      <td>2022-09-19</td>\n",
       "      <td>11338.570313</td>\n",
       "      <td>11538.129883</td>\n",
       "      <td>11337.830078</td>\n",
       "      <td>11535.019531</td>\n",
       "      <td>11535.019531</td>\n",
       "      <td>4168670000</td>\n",
       "    </tr>\n",
       "  </tbody>\n",
       "</table>\n",
       "</div>"
      ],
      "text/plain": [
       "            Date          Open          High           Low         Close  \\\n",
       "2690  2022-08-22  12523.160156  12655.839844  12141.519531  12141.709961   \n",
       "2691  2022-08-29  12021.049805  12124.870117  11546.519531  11630.860352   \n",
       "2692  2022-09-05  11643.030273  12132.669922  11471.500000  12112.309570   \n",
       "2693  2022-09-12  12174.940430  12270.190430  11316.919922  11448.400391   \n",
       "2694  2022-09-19  11338.570313  11538.129883  11337.830078  11535.019531   \n",
       "\n",
       "         Adj Close       Volume  \n",
       "2690  12141.709961  20755470000  \n",
       "2691  11630.860352  22776260000  \n",
       "2692  12112.309570  17800080000  \n",
       "2693  11448.400391  26454340000  \n",
       "2694  11535.019531   4168670000  "
      ]
     },
     "execution_count": 18,
     "metadata": {},
     "output_type": "execute_result"
    }
   ],
   "source": [
    "ndq_df.tail()"
   ]
  },
  {
   "cell_type": "code",
   "execution_count": 36,
   "id": "6189edae-b828-4457-b596-cc3498a9141b",
   "metadata": {},
   "outputs": [
    {
     "data": {
      "text/plain": [
       "<AxesSubplot:xlabel='Date'>"
      ]
     },
     "execution_count": 36,
     "metadata": {},
     "output_type": "execute_result"
    },
    {
     "data": {
      "image/png": "[encoded data removed]",
      "text/plain": [
       "<Figure size 432x288 with 1 Axes>"
      ]
     },
     "metadata": {
      "needs_background": "light"
     },
     "output_type": "display_data"
    }
   ],
   "source": [
    "fed_df.set_index(pd.to_datetime(fed_df.DATE))[\"FEDFUNDS\"].plot()\n",
    "ndq_df.set_index(pd.to_datetime(ndq_df.Date))[\"Price\"].plot()\n",
    "sp5_df.set_index(pd.to_datetime(sp5_df.Date))[\"Price\"].plot()"
   ]
  },
  {
   "cell_type": "code",
   "execution_count": null,
   "id": "baa0b46f-2506-44a6-8758-af4d4376196d",
   "metadata": {},
   "outputs": [],
   "source": []
  }
 ],
 "metadata": {
  "kernelspec": {
   "display_name": "Python 3 (ipykernel)",
   "language": "python",
   "name": "python3"
  },
  "language_info": {
   "codemirror_mode": {
    "name": "ipython",
    "version": 3
   },
   "file_extension": ".py",
   "mimetype": "text/x-python",
   "name": "python",
   "nbconvert_exporter": "python",
   "pygments_lexer": "ipython3",
   "version": "3.9.12"
  }
 },
 "nbformat": 4,
 "nbformat_minor": 5
}

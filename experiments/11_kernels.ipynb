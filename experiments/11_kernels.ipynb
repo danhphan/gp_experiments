{
 "cells": [
  {
   "cell_type": "code",
   "execution_count": 1,
   "id": "a4df80a0-125b-4206-a6fd-179f169d7b6f",
   "metadata": {},
   "outputs": [],
   "source": [
    "import arviz as az\n",
    "import matplotlib.cm as cmap\n",
    "import matplotlib.pyplot as plt\n",
    "import numpy as np\n",
    "import pymc3 as pm\n",
    "import scipy.stats as stats\n",
    "import theano\n",
    "import theano.tensor as tt\n",
    "\n",
    "%matplotlib inline"
   ]
  },
  {
   "cell_type": "markdown",
   "id": "4a2db105-3c6b-4410-89b7-599ade945f23",
   "metadata": {},
   "source": [
    "## 1. Mean functions"
   ]
  },
  {
   "cell_type": "code",
   "execution_count": 4,
   "id": "262c64a6-aff7-4e83-91b6-3c051bab234f",
   "metadata": {},
   "outputs": [
    {
     "data": {
      "text/plain": [
       "array([[0.  ],\n",
       "       [0.25],\n",
       "       [0.5 ],\n",
       "       [0.75],\n",
       "       [1.  ]])"
      ]
     },
     "execution_count": 4,
     "metadata": {},
     "output_type": "execute_result"
    }
   ],
   "source": [
    "X = np.linspace(0, 1, 5)[:, None]\n",
    "X"
   ]
  },
  {
   "cell_type": "markdown",
   "id": "0932b892-218f-4e8e-8bec-ef12e35c20ab",
   "metadata": {},
   "source": [
    "#### Zero function"
   ]
  },
  {
   "cell_type": "code",
   "execution_count": 5,
   "id": "c2486c85-2b78-4460-877f-57560ea65f4b",
   "metadata": {},
   "outputs": [
    {
     "data": {
      "text/plain": [
       "array([0., 0., 0., 0., 0.], dtype=float32)"
      ]
     },
     "execution_count": 5,
     "metadata": {},
     "output_type": "execute_result"
    }
   ],
   "source": [
    "zero_func = pm.gp.mean.Zero()\n",
    "zero_func(X).eval()"
   ]
  },
  {
   "cell_type": "markdown",
   "id": "19fe0a4c-8572-4e79-b442-35e83f944756",
   "metadata": {},
   "source": [
    "#### Constant function"
   ]
  },
  {
   "cell_type": "code",
   "execution_count": 7,
   "id": "e22c2237-221e-4f10-9e11-b38d3d0097f9",
   "metadata": {},
   "outputs": [
    {
     "data": {
      "text/plain": [
       "array([4.5, 4.5, 4.5, 4.5, 4.5], dtype=float32)"
      ]
     },
     "execution_count": 7,
     "metadata": {},
     "output_type": "execute_result"
    }
   ],
   "source": [
    "const_func = pm.gp.mean.Constant(4.5)\n",
    "const_func(X).eval()"
   ]
  },
  {
   "cell_type": "markdown",
   "id": "e4c65a68-d22d-46f4-bfc6-0918c57d9df1",
   "metadata": {},
   "source": [
    "#### Linear function"
   ]
  },
  {
   "cell_type": "code",
   "execution_count": 9,
   "id": "fef20eec-b8ca-4ac9-97bd-cb3e0efe13e3",
   "metadata": {},
   "outputs": [
    {
     "data": {
      "text/plain": [
       "array([ 3.5312593 ,  0.12093741,  0.30661971, -1.16529643, -0.53009691])"
      ]
     },
     "execution_count": 9,
     "metadata": {},
     "output_type": "execute_result"
    }
   ],
   "source": [
    "beta = np.random.randn(3)\n",
    "intercept = 0.0\n",
    "lin_func = pm.gp.mean.Linear(coeffs=beta, intercept=intercept)\n",
    "\n",
    "X = np.random.randn(5,3)\n",
    "lin_func(X).eval()"
   ]
  },
  {
   "cell_type": "code",
   "execution_count": null,
   "id": "eaa9be8a-8592-4df7-805f-aef75407debe",
   "metadata": {},
   "outputs": [],
   "source": []
  }
 ],
 "metadata": {
  "kernelspec": {
   "display_name": "Python 3",
   "language": "python",
   "name": "python3"
  },
  "language_info": {
   "codemirror_mode": {
    "name": "ipython",
    "version": 3
   },
   "file_extension": ".py",
   "mimetype": "text/x-python",
   "name": "python",
   "nbconvert_exporter": "python",
   "pygments_lexer": "ipython3",
   "version": "3.9.5"
  }
 },
 "nbformat": 4,
 "nbformat_minor": 5
}

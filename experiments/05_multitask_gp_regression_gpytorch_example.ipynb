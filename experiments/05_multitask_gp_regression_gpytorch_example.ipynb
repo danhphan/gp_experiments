{
 "cells": [
  {
   "cell_type": "markdown",
   "id": "60e420cd-0986-4ae7-bc89-7b03fd37602c",
   "metadata": {},
   "source": [
    "# Multitask GP Regression"
   ]
  },
  {
   "cell_type": "code",
   "execution_count": 86,
   "id": "a71a8cdb-00c2-42b2-a90f-30727eee65ee",
   "metadata": {
    "tags": []
   },
   "outputs": [
    {
     "name": "stdout",
     "output_type": "stream",
     "text": [
      "The autoreload extension is already loaded. To reload it, use:\n",
      "  %reload_ext autoreload\n"
     ]
    }
   ],
   "source": [
    "import numpy as np\n",
    "import pandas as pd\n",
    "import math\n",
    "import torch\n",
    "import gpytorch as gpt\n",
    "from matplotlib import pyplot as plt\n",
    "\n",
    "%matplotlib inline\n",
    "%load_ext autoreload\n",
    "%autoreload 2"
   ]
  },
  {
   "cell_type": "markdown",
   "id": "6e2a2775-0e11-483d-a1b8-f814e48406d9",
   "metadata": {},
   "source": [
    "### Set up training data"
   ]
  },
  {
   "cell_type": "code",
   "execution_count": 88,
   "id": "0d72b754-69dc-4c77-8474-4a50d2df9493",
   "metadata": {},
   "outputs": [
    {
     "name": "stdout",
     "output_type": "stream",
     "text": [
      "(155, 14)\n"
     ]
    }
   ],
   "source": [
    "meuse_df = pd.read_csv(\"../data/meuse.csv\")\n",
    "print(meuse_df.shape)\n",
    "targets = [\"cadmium\", \"copper\", \"lead\", \"zinc\"]\n",
    "features = [\"dist\", \"x\", \"y\"]\n",
    "\n",
    "meuse_df[targets] = meuse_df[targets] / meuse_df[targets].mean() # Normalise data"
   ]
  },
  {
   "cell_type": "code",
   "execution_count": 72,
   "id": "52497b12-0515-4146-9c57-91d5248fa487",
   "metadata": {},
   "outputs": [
    {
     "data": {
      "text/plain": [
       "(torch.Size([108, 3]), torch.Size([108, 4]), torch.Size([47, 3]))"
      ]
     },
     "execution_count": 72,
     "metadata": {},
     "output_type": "execute_result"
    }
   ],
   "source": [
    "train, test = np.split(meuse_df.sample(frac=1, random_state=42), \n",
    "                       [int(.7*len(meuse_df))])\n",
    "train_x = torch.tensor(train[features].values, dtype=torch.float)\n",
    "train_y = torch.tensor(train[targets].values, dtype=torch.float)\n",
    "test_x = torch.tensor(test[features].values, dtype=torch.float)\n",
    "test_y = torch.tensor(test[targets].values, dtype=torch.float)\n",
    "train_x.shape, train_y.shape, test_x.shape"
   ]
  },
  {
   "cell_type": "code",
   "execution_count": 73,
   "id": "fd683c93-d5fa-4423-ba8b-0b01973345eb",
   "metadata": {},
   "outputs": [
    {
     "data": {
      "image/png": "[encoded data removed]",
      "text/plain": [
       "<Figure size 576x360 with 1 Axes>"
      ]
     },
     "metadata": {
      "needs_background": "light"
     },
     "output_type": "display_data"
    }
   ],
   "source": [
    "fig, ax = plt.subplots(1,1, figsize=(8,5))\n",
    "ax.scatter(train_x.numpy()[:,0], train_y.numpy()[:,0])\n",
    "ax.scatter(train_x.numpy()[:,0], train_y.numpy()[:,1])\n",
    "plt.legend([\"cadmium\", \"copper\"]);"
   ]
  },
  {
   "cell_type": "markdown",
   "id": "4fe09a73-8426-481c-a0bb-498b93e8fe42",
   "metadata": {},
   "source": [
    "### Define a multitask model"
   ]
  },
  {
   "cell_type": "code",
   "execution_count": 74,
   "id": "26d00a5d-c032-4a11-9235-51cf05a94b24",
   "metadata": {},
   "outputs": [],
   "source": [
    "class MultitaskGPModel(gpt.models.ExactGP):\n",
    "    def __init__(self, train_x, train_y, likelihood):\n",
    "        super(MultitaskGPModel, self).__init__(train_x, train_y, likelihood)\n",
    "        self.mean_module = gpt.means.MultitaskMean(\n",
    "            gpt.means.ConstantMean(), num_tasks=4\n",
    "        )\n",
    "        self.covar_module = gpt.kernels.MultitaskKernel(\n",
    "            gpt.kernels.RBFKernel(), num_tasks=4, rank=1\n",
    "        )\n",
    "        \n",
    "    def forward(self, x):\n",
    "        mean_x = self.mean_module(x)\n",
    "        covar_x = self.covar_module(x)\n",
    "        return gpt.distributions.MultitaskMultivariateNormal(mean_x, covar_x)\n",
    "    \n",
    "likelihood = gpt.likelihoods.MultitaskGaussianLikelihood(num_tasks=4)\n",
    "model = MultitaskGPModel(train_x, train_y, likelihood)"
   ]
  },
  {
   "cell_type": "markdown",
   "id": "5b42d799-5ae3-49c7-8467-7f4664834577",
   "metadata": {},
   "source": [
    "### Train the model"
   ]
  },
  {
   "cell_type": "code",
   "execution_count": 75,
   "id": "3c169f68-309c-4fc8-839c-e5aa77c13ace",
   "metadata": {},
   "outputs": [
    {
     "name": "stdout",
     "output_type": "stream",
     "text": [
      "Iter 1/50 - Loss: 16928.275\n",
      "Iter 2/50 - Loss: 15430.546\n",
      "Iter 3/50 - Loss: 14039.879\n",
      "Iter 4/50 - Loss: 12750.594\n",
      "Iter 5/50 - Loss: 11562.048\n",
      "Iter 6/50 - Loss: 10472.750\n",
      "Iter 7/50 - Loss: 9478.232\n",
      "Iter 8/50 - Loss: 8573.682\n",
      "Iter 9/50 - Loss: 7755.756\n",
      "Iter 10/50 - Loss: 7020.412\n",
      "Iter 11/50 - Loss: 6361.958\n",
      "Iter 12/50 - Loss: 5774.500\n",
      "Iter 13/50 - Loss: 5252.925\n",
      "Iter 14/50 - Loss: 4792.001\n",
      "Iter 15/50 - Loss: 4385.812\n",
      "Iter 16/50 - Loss: 4028.417\n",
      "Iter 17/50 - Loss: 3714.607\n",
      "Iter 18/50 - Loss: 3439.678\n",
      "Iter 19/50 - Loss: 3199.005\n",
      "Iter 20/50 - Loss: 2988.117\n",
      "Iter 21/50 - Loss: 2803.069\n",
      "Iter 22/50 - Loss: 2640.537\n",
      "Iter 23/50 - Loss: 2497.604\n",
      "Iter 24/50 - Loss: 2371.575\n",
      "Iter 25/50 - Loss: 2260.015\n",
      "Iter 26/50 - Loss: 2160.864\n",
      "Iter 27/50 - Loss: 2072.436\n",
      "Iter 28/50 - Loss: 1993.293\n",
      "Iter 29/50 - Loss: 1922.157\n",
      "Iter 30/50 - Loss: 1857.889\n",
      "Iter 31/50 - Loss: 1799.529\n",
      "Iter 32/50 - Loss: 1746.302\n",
      "Iter 33/50 - Loss: 1697.571\n",
      "Iter 34/50 - Loss: 1652.779\n",
      "Iter 35/50 - Loss: 1611.429\n",
      "Iter 36/50 - Loss: 1573.090\n",
      "Iter 37/50 - Loss: 1537.410\n",
      "Iter 38/50 - Loss: 1504.104\n",
      "Iter 39/50 - Loss: 1472.936\n",
      "Iter 40/50 - Loss: 1443.690\n",
      "Iter 41/50 - Loss: 1416.169\n",
      "Iter 42/50 - Loss: 1390.203\n",
      "Iter 43/50 - Loss: 1365.655\n",
      "Iter 44/50 - Loss: 1342.411\n",
      "Iter 45/50 - Loss: 1320.371\n",
      "Iter 46/50 - Loss: 1299.439\n",
      "Iter 47/50 - Loss: 1279.526\n",
      "Iter 48/50 - Loss: 1260.552\n",
      "Iter 49/50 - Loss: 1242.452\n",
      "Iter 50/50 - Loss: 1225.169\n"
     ]
    }
   ],
   "source": [
    "training_iters = 50\n",
    "\n",
    "model.train()\n",
    "likelihood.train()\n",
    "\n",
    "optimizer = torch.optim.Adam(model.parameters(), lr=0.1)\n",
    "# Loss for the marginal log likelihood\n",
    "mll = gpt.mlls.ExactMarginalLogLikelihood(likelihood, model)\n",
    "\n",
    "for i in range(training_iters):\n",
    "    optimizer.zero_grad()\n",
    "    output = model(train_x)\n",
    "    loss = -mll(output, torch.reshape(train_y, (-1,)))\n",
    "    loss.backward()\n",
    "    print('Iter %d/%d - Loss: %.3f' % (i + 1, training_iters, loss.item()))\n",
    "    optimizer.step()"
   ]
  },
  {
   "cell_type": "markdown",
   "id": "e0273646-6cfa-4952-81da-cc33c8153bdb",
   "metadata": {},
   "source": [
    "### Make predictions with the model"
   ]
  },
  {
   "cell_type": "code",
   "execution_count": 81,
   "id": "30131c17-7470-41af-bafe-a9f6a2a633b0",
   "metadata": {},
   "outputs": [
    {
     "name": "stderr",
     "output_type": "stream",
     "text": [
      "/home/danph/Repos/win_ssd/oss/gp_experiments/.venv/lib/python3.8/site-packages/gpytorch/models/exact_gp.py:273: GPInputWarning: The input matches the stored training data. Did you forget to call model.train()?\n",
      "  warnings.warn(\n"
     ]
    }
   ],
   "source": [
    "# Set into eval mode\n",
    "model.eval()\n",
    "likelihood.eval()\n",
    "\n",
    "# Make predictions\n",
    "with torch.no_grad(), gpt.settings.fast_pred_var():\n",
    "    predictions = likelihood(model(train_x))\n",
    "    mean = predictions.mean\n",
    "    lower, upper = predictions.confidence_region()"
   ]
  },
  {
   "cell_type": "code",
   "execution_count": 77,
   "id": "1b895226-d791-4526-b892-7b3e3aa55bc8",
   "metadata": {},
   "outputs": [
    {
     "data": {
      "text/plain": [
       "(torch.Size([47, 4]),\n",
       " torch.Size([47, 3]),\n",
       " torch.Size([47, 4]),\n",
       " torch.Size([47, 4]))"
      ]
     },
     "execution_count": 77,
     "metadata": {},
     "output_type": "execute_result"
    }
   ],
   "source": [
    "mean.shape, test_x.shape, lower.shape, upper.shape"
   ]
  },
  {
   "cell_type": "code",
   "execution_count": 80,
   "id": "929be506-16fe-4866-b5fd-0ab511d8bbac",
   "metadata": {},
   "outputs": [
    {
     "data": {
      "text/plain": [
       "<matplotlib.legend.Legend at 0x7fd96643a280>"
      ]
     },
     "execution_count": 80,
     "metadata": {},
     "output_type": "execute_result"
    },
    {
     "data": {
      "image/png": "[encoded data removed]",
      "text/plain": [
       "<Figure size 576x360 with 1 Axes>"
      ]
     },
     "metadata": {
      "needs_background": "light"
     },
     "output_type": "display_data"
    }
   ],
   "source": [
    "fig, ax = plt.subplots(1,1, figsize=(8,5))\n",
    "ax.scatter(test_x.numpy()[:,0], test_y.numpy()[:,0])\n",
    "ax.scatter(test_x.numpy()[:,0], mean.numpy()[:,0])\n",
    "# ax.fill_between(test_x.numpy()[:,0], lower.numpy()[:, 0], upper.numpy()[:, 0], alpha=0.3)\n",
    "\n",
    "plt.legend([\"Observed\", \"Predicted\"])"
   ]
  },
  {
   "cell_type": "code",
   "execution_count": 85,
   "id": "c7b83046-cef3-43fd-83bf-02e6e4661941",
   "metadata": {},
   "outputs": [
    {
     "data": {
      "text/plain": [
       "<matplotlib.legend.Legend at 0x7fd96629c040>"
      ]
     },
     "execution_count": 85,
     "metadata": {},
     "output_type": "execute_result"
    },
    {
     "data": {
      "image/png": "[encoded data removed]",
      "text/plain": [
       "<Figure size 576x360 with 1 Axes>"
      ]
     },
     "metadata": {
      "needs_background": "light"
     },
     "output_type": "display_data"
    }
   ],
   "source": [
    "fig, ax = plt.subplots(1,1, figsize=(8,5))\n",
    "ax.scatter(train_x.numpy()[:,0], train_y.numpy()[:,0])\n",
    "ax.scatter(train_x.numpy()[:,0], mean.numpy()[:,0])\n",
    "# ax.fill_between(train_x.numpy()[:,0], lower.numpy()[:, 0], upper.numpy()[:, 0], alpha=0.2)\n",
    "\n",
    "plt.legend([\"Observed\", \"Predicted\"])"
   ]
  },
  {
   "cell_type": "markdown",
   "id": "47aa48cc-d9d4-46d0-911c-fe584dc33477",
   "metadata": {},
   "source": [
    "References: \n",
    "- https://docs.gpytorch.ai/en/latest/examples/03_Multitask_Exact_GPs/Multitask_GP_Regression.html"
   ]
  },
  {
   "cell_type": "code",
   "execution_count": null,
   "id": "de666c47-7142-4ab9-9542-4472f5ccb5ab",
   "metadata": {},
   "outputs": [],
   "source": []
  }
 ],
 "metadata": {
  "kernelspec": {
   "display_name": "Python 3",
   "language": "python",
   "name": "python3"
  },
  "language_info": {
   "codemirror_mode": {
    "name": "ipython",
    "version": 3
   },
   "file_extension": ".py",
   "mimetype": "text/x-python",
   "name": "python",
   "nbconvert_exporter": "python",
   "pygments_lexer": "ipython3",
   "version": "3.8.5"
  }
 },
 "nbformat": 4,
 "nbformat_minor": 5
}

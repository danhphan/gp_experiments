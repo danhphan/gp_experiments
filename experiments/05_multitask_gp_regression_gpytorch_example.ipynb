{
 "cells": [
  {
   "cell_type": "markdown",
   "id": "60e420cd-0986-4ae7-bc89-7b03fd37602c",
   "metadata": {},
   "source": [
    "# Multitask GP Regression"
   ]
  },
  {
   "cell_type": "code",
   "execution_count": 96,
   "id": "a71a8cdb-00c2-42b2-a90f-30727eee65ee",
   "metadata": {
    "tags": []
   },
   "outputs": [
    {
     "name": "stdout",
     "output_type": "stream",
     "text": [
      "The autoreload extension is already loaded. To reload it, use:\n",
      "  %reload_ext autoreload\n"
     ]
    }
   ],
   "source": [
    "import numpy as np\n",
    "import pandas as pd\n",
    "import math\n",
    "import torch\n",
    "import gpytorch as gpt\n",
    "from matplotlib import pyplot as plt\n",
    "\n",
    "%matplotlib inline\n",
    "%load_ext autoreload\n",
    "%autoreload 2"
   ]
  },
  {
   "cell_type": "markdown",
   "id": "6e2a2775-0e11-483d-a1b8-f814e48406d9",
   "metadata": {},
   "source": [
    "### Set up training data"
   ]
  },
  {
   "cell_type": "code",
   "execution_count": 97,
   "id": "0d72b754-69dc-4c77-8474-4a50d2df9493",
   "metadata": {},
   "outputs": [
    {
     "name": "stdout",
     "output_type": "stream",
     "text": [
      "(155, 14)\n"
     ]
    }
   ],
   "source": [
    "meuse_df = pd.read_csv(\"../data/meuse.csv\")\n",
    "print(meuse_df.shape)\n",
    "targets = [\"cadmium\", \"copper\", \"lead\", \"zinc\"]\n",
    "features = [\"dist\", \"x\", \"y\"]\n",
    "\n",
    "meuse_df[targets] = meuse_df[targets] / meuse_df[targets].mean() # Normalise data"
   ]
  },
  {
   "cell_type": "code",
   "execution_count": 98,
   "id": "52497b12-0515-4146-9c57-91d5248fa487",
   "metadata": {},
   "outputs": [
    {
     "data": {
      "text/plain": [
       "(torch.Size([155, 3]), torch.Size([155, 4]))"
      ]
     },
     "execution_count": 98,
     "metadata": {},
     "output_type": "execute_result"
    }
   ],
   "source": [
    "df_x = torch.tensor(meuse_df[features].values, dtype=torch.float32)\n",
    "df_y = torch.tensor(meuse_df[targets].values, dtype=torch.float32)\n",
    "df_x.shape, df_y.shape"
   ]
  },
  {
   "cell_type": "code",
   "execution_count": 99,
   "id": "fd683c93-d5fa-4423-ba8b-0b01973345eb",
   "metadata": {},
   "outputs": [
    {
     "data": {
      "image/png": "[encoded data removed]",
      "text/plain": [
       "<Figure size 576x360 with 1 Axes>"
      ]
     },
     "metadata": {
      "needs_background": "light"
     },
     "output_type": "display_data"
    }
   ],
   "source": [
    "fig, ax = plt.subplots(1,1, figsize=(8,5))\n",
    "ax.scatter(df_x.numpy()[:,0], df_y.numpy()[:,0])\n",
    "plt.legend([\"observed cadmium\"]);"
   ]
  },
  {
   "cell_type": "markdown",
   "id": "4fe09a73-8426-481c-a0bb-498b93e8fe42",
   "metadata": {},
   "source": [
    "### Define a multitask model"
   ]
  },
  {
   "cell_type": "code",
   "execution_count": 101,
   "id": "26d00a5d-c032-4a11-9235-51cf05a94b24",
   "metadata": {},
   "outputs": [],
   "source": [
    "class MultitaskGPModel(gpt.models.ExactGP):\n",
    "    def __init__(self, x, y, likelihood):\n",
    "        super(MultitaskGPModel, self).__init__(x, y, likelihood)\n",
    "        self.mean_module = gpt.means.MultitaskMean(\n",
    "            gpt.means.ConstantMean(), num_tasks=4\n",
    "        )\n",
    "        self.covar_module = gpt.kernels.MultitaskKernel(\n",
    "            gpt.kernels.RBFKernel(), num_tasks=4, rank=1\n",
    "        )\n",
    "        \n",
    "    def forward(self, x):\n",
    "        mean_x = self.mean_module(x)\n",
    "        covar_x = self.covar_module(x)\n",
    "        return gpt.distributions.MultitaskMultivariateNormal(mean_x, covar_x)"
   ]
  },
  {
   "cell_type": "code",
   "execution_count": 104,
   "id": "7e2214b8-0931-488f-bc80-2657069c013d",
   "metadata": {},
   "outputs": [],
   "source": [
    "likelihood = gpt.likelihoods.MultitaskGaussianLikelihood(num_tasks=4)\n",
    "model = MultitaskGPModel(df_x, df_y, likelihood)"
   ]
  },
  {
   "cell_type": "markdown",
   "id": "5b42d799-5ae3-49c7-8467-7f4664834577",
   "metadata": {},
   "source": [
    "### Train the model"
   ]
  },
  {
   "cell_type": "code",
   "execution_count": 106,
   "id": "3c169f68-309c-4fc8-839c-e5aa77c13ace",
   "metadata": {},
   "outputs": [
    {
     "name": "stdout",
     "output_type": "stream",
     "text": [
      "Iter 1/30 - Loss: 1.813\n",
      "Iter 2/30 - Loss: 1.745\n",
      "Iter 3/30 - Loss: 1.679\n",
      "Iter 4/30 - Loss: 1.615\n",
      "Iter 5/30 - Loss: 1.553\n",
      "Iter 6/30 - Loss: 1.494\n",
      "Iter 7/30 - Loss: 1.438\n",
      "Iter 8/30 - Loss: 1.385\n",
      "Iter 9/30 - Loss: 1.338\n",
      "Iter 10/30 - Loss: 1.297\n",
      "Iter 11/30 - Loss: 1.263\n",
      "Iter 12/30 - Loss: 1.235\n",
      "Iter 13/30 - Loss: 1.211\n",
      "Iter 14/30 - Loss: 1.183\n",
      "Iter 15/30 - Loss: 1.149\n",
      "Iter 16/30 - Loss: 1.107\n",
      "Iter 17/30 - Loss: 1.061\n",
      "Iter 18/30 - Loss: 1.014\n",
      "Iter 19/30 - Loss: 0.970\n",
      "Iter 20/30 - Loss: 0.929\n",
      "Iter 21/30 - Loss: 0.893\n",
      "Iter 22/30 - Loss: 0.862\n",
      "Iter 23/30 - Loss: 0.835\n",
      "Iter 24/30 - Loss: 0.807\n",
      "Iter 25/30 - Loss: 0.777\n",
      "Iter 26/30 - Loss: 0.746\n",
      "Iter 27/30 - Loss: 0.716\n",
      "Iter 28/30 - Loss: 0.688\n",
      "Iter 29/30 - Loss: 0.663\n",
      "Iter 30/30 - Loss: 0.639\n"
     ]
    }
   ],
   "source": [
    "training_iters = 30\n",
    "\n",
    "model.train()\n",
    "likelihood.train()\n",
    "\n",
    "optimizer = torch.optim.Adam(model.parameters(), lr=1e-1)\n",
    "# Loss for the marginal log likelihood\n",
    "mll = gpt.mlls.ExactMarginalLogLikelihood(likelihood, model)\n",
    "\n",
    "for i in range(training_iters):\n",
    "    optimizer.zero_grad()\n",
    "    output = model(df_x)\n",
    "    loss = -mll(output, torch.reshape(df_y, (-1,)))\n",
    "    loss.backward()\n",
    "    print('Iter %d/%d - Loss: %.3f' % (i + 1, training_iters, loss.item()))\n",
    "    optimizer.step()"
   ]
  },
  {
   "cell_type": "markdown",
   "id": "e0273646-6cfa-4952-81da-cc33c8153bdb",
   "metadata": {},
   "source": [
    "### Make predictions with the model"
   ]
  },
  {
   "cell_type": "code",
   "execution_count": 107,
   "id": "30131c17-7470-41af-bafe-a9f6a2a633b0",
   "metadata": {},
   "outputs": [
    {
     "name": "stderr",
     "output_type": "stream",
     "text": [
      "/home/danph/Repos/win_ssd/oss/gp_experiments/.venv/lib/python3.8/site-packages/gpytorch/models/exact_gp.py:273: GPInputWarning: The input matches the stored training data. Did you forget to call model.train()?\n",
      "  warnings.warn(\n"
     ]
    }
   ],
   "source": [
    "# Set into eval mode\n",
    "model.eval()\n",
    "likelihood.eval()\n",
    "\n",
    "# Make predictions\n",
    "with torch.no_grad(), gpt.settings.fast_pred_var():\n",
    "    predictions = likelihood(model(df_x))\n",
    "    mean = predictions.mean\n",
    "    lower, upper = predictions.confidence_region()"
   ]
  },
  {
   "cell_type": "code",
   "execution_count": 80,
   "id": "929be506-16fe-4866-b5fd-0ab511d8bbac",
   "metadata": {},
   "outputs": [
    {
     "data": {
      "text/plain": [
       "<matplotlib.legend.Legend at 0x7fd96643a280>"
      ]
     },
     "execution_count": 80,
     "metadata": {},
     "output_type": "execute_result"
    },
    {
     "data": {
      "image/png": "[encoded data removed]",
      "text/plain": [
       "<Figure size 576x360 with 1 Axes>"
      ]
     },
     "metadata": {
      "needs_background": "light"
     },
     "output_type": "display_data"
    }
   ],
   "source": [
    "fig, ax = plt.subplots(1,1, figsize=(8,5))\n",
    "ax.scatter(test_x.numpy()[:,0], test_y.numpy()[:,0])\n",
    "ax.scatter(test_x.numpy()[:,0], mean.numpy()[:,0])\n",
    "# ax.fill_between(test_x.numpy()[:,0], lower.numpy()[:, 0], upper.numpy()[:, 0], alpha=0.3)\n",
    "\n",
    "plt.legend([\"Observed\", \"Predicted\"])"
   ]
  },
  {
   "cell_type": "code",
   "execution_count": 85,
   "id": "c7b83046-cef3-43fd-83bf-02e6e4661941",
   "metadata": {},
   "outputs": [
    {
     "data": {
      "text/plain": [
       "<matplotlib.legend.Legend at 0x7fd96629c040>"
      ]
     },
     "execution_count": 85,
     "metadata": {},
     "output_type": "execute_result"
    },
    {
     "data": {
      "image/png": "[encoded data removed]",
      "text/plain": [
       "<Figure size 576x360 with 1 Axes>"
      ]
     },
     "metadata": {
      "needs_background": "light"
     },
     "output_type": "display_data"
    }
   ],
   "source": [
    "fig, ax = plt.subplots(1,1, figsize=(8,5))\n",
    "ax.scatter(train_x.numpy()[:,0], train_y.numpy()[:,0])\n",
    "ax.scatter(train_x.numpy()[:,0], mean.numpy()[:,0])\n",
    "# ax.fill_between(train_x.numpy()[:,0], lower.numpy()[:, 0], upper.numpy()[:, 0], alpha=0.2)\n",
    "\n",
    "plt.legend([\"Observed\", \"Predicted\"])"
   ]
  },
  {
   "cell_type": "markdown",
   "id": "47aa48cc-d9d4-46d0-911c-fe584dc33477",
   "metadata": {},
   "source": [
    "References: \n",
    "- https://docs.gpytorch.ai/en/latest/examples/03_Multitask_Exact_GPs/Multitask_GP_Regression.html"
   ]
  },
  {
   "cell_type": "code",
   "execution_count": null,
   "id": "de666c47-7142-4ab9-9542-4472f5ccb5ab",
   "metadata": {},
   "outputs": [],
   "source": []
  }
 ],
 "metadata": {
  "kernelspec": {
   "display_name": "Python 3",
   "language": "python",
   "name": "python3"
  },
  "language_info": {
   "codemirror_mode": {
    "name": "ipython",
    "version": 3
   },
   "file_extension": ".py",
   "mimetype": "text/x-python",
   "name": "python",
   "nbconvert_exporter": "python",
   "pygments_lexer": "ipython3",
   "version": "3.8.5"
  }
 },
 "nbformat": 4,
 "nbformat_minor": 5
}

{
 "cells": [
  {
   "cell_type": "markdown",
   "id": "84e51e61-acbe-4ff4-ab4a-0b605aa4f5f7",
   "metadata": {},
   "source": [
    "## Hadamard Multitask GP Regression\n",
    "\n",
    "https://docs.gpytorch.ai/en/latest/examples/03_Multitask_Exact_GPs/Hadamard_Multitask_GP_Regression.html"
   ]
  },
  {
   "cell_type": "code",
   "execution_count": 1,
   "id": "3e7314ff-ba55-48e1-ab0a-fb3d99bd52f1",
   "metadata": {},
   "outputs": [],
   "source": [
    "import math\n",
    "import torch\n",
    "import gpytorch\n",
    "from matplotlib import pyplot as plt\n",
    "\n",
    "%matplotlib inline\n",
    "%load_ext autoreload\n",
    "%autoreload 2"
   ]
  },
  {
   "cell_type": "code",
   "execution_count": 2,
   "id": "f27c108a-d034-44c5-a99a-968d18b3b9a2",
   "metadata": {},
   "outputs": [],
   "source": [
    "train_x1 = torch.rand(30)\n",
    "train_x2 = torch.rand(50)\n",
    "\n",
    "train_y1 = torch.sin(train_x1 * (2 * math.pi)) + torch.randn(train_x1.size()) * 0.2\n",
    "train_y2 = torch.cos(train_x2 * (2 * math.pi)) + torch.randn(train_x2.size()) * 0.2"
   ]
  },
  {
   "cell_type": "code",
   "execution_count": 3,
   "id": "e4845bd7-4a01-4f3c-a2a1-3ce1a863defb",
   "metadata": {},
   "outputs": [
    {
     "data": {
      "text/plain": [
       "tensor([0.0120, 0.5806, 0.6868, 0.2272, 0.4845, 0.0481, 0.5849, 0.5892, 0.9308,\n",
       "        0.0057, 0.1409, 0.7460, 0.2856, 0.6166, 0.1624, 0.4806, 0.9914, 0.9453,\n",
       "        0.1861, 0.6754, 0.7199, 0.6798, 0.7250, 0.8759, 0.1107, 0.4494, 0.3096,\n",
       "        0.5769, 0.5194, 0.1593, 0.6366, 0.3659, 0.2560, 0.8337, 0.1624, 0.4101,\n",
       "        0.3546, 0.3829, 0.0465, 0.0899, 0.0564, 0.6296, 0.4262, 0.8653, 0.1480,\n",
       "        0.0749, 0.7678, 0.7665, 0.5610, 0.3029])"
      ]
     },
     "execution_count": 3,
     "metadata": {},
     "output_type": "execute_result"
    }
   ],
   "source": [
    "train_x1"
   ]
  },
  {
   "cell_type": "code",
   "execution_count": null,
   "id": "996b0059-c49c-455d-9a7f-2fd84d96f041",
   "metadata": {},
   "outputs": [],
   "source": [
    "x1, y1; x2, y2; xn, yn\n",
    "\n",
    "x, y1; x, y2; x, yn\n",
    "\n",
    "=> x1, y1; x2, y2; xn, yn\n",
    "\n",
    "\n",
    "x1 0  => y1\n",
    "x2 1  => y2\n",
    "......  ...\n",
    "xn n-1  => y3"
   ]
  },
  {
   "cell_type": "code",
   "execution_count": 4,
   "id": "9b4cd463-da90-426f-a243-4fa5050f03a9",
   "metadata": {},
   "outputs": [
    {
     "data": {
      "image/png": "[encoded data removed]",
      "text/plain": [
       "<Figure size 432x288 with 1 Axes>"
      ]
     },
     "metadata": {
      "needs_background": "light"
     },
     "output_type": "display_data"
    }
   ],
   "source": [
    "plt.scatter(train_x1, train_y1, label='sin')\n",
    "plt.scatter(train_x2, train_y2, label='cos')\n",
    "plt.legend();"
   ]
  },
  {
   "cell_type": "markdown",
   "id": "0b676e97-09f7-4828-a50e-0a9880a56a1e",
   "metadata": {},
   "source": [
    "### Hadamard multitask model"
   ]
  },
  {
   "cell_type": "code",
   "execution_count": 5,
   "id": "ea402f37-5b4e-4a23-8066-d50c75e8026c",
   "metadata": {},
   "outputs": [],
   "source": [
    "class MultitaskGPModel(gpytorch.models.ExactGP):\n",
    "    def __init__(self, train_x, train_y, likelihood):\n",
    "        super(MultitaskGPModel, self).__init__(train_x, train_y, likelihood)\n",
    "        self.mean_module = gpytorch.means.ConstantMean()\n",
    "        self.covar_module = gpytorch.kernels.RBFKernel()\n",
    "\n",
    "        # We learn an IndexKernel for 2 tasks\n",
    "        # (so we'll actually learn 2x2=4 tasks with correlations)\n",
    "        self.task_covar_module = gpytorch.kernels.IndexKernel(num_tasks=2, rank=1)\n",
    "\n",
    "    def forward(self,x,i):\n",
    "        mean_x = self.mean_module(x)\n",
    "\n",
    "        # Get input-input covariance\n",
    "        covar_x = self.covar_module(x)\n",
    "        # Get task-task covariance\n",
    "        covar_i = self.task_covar_module(i)\n",
    "        # Multiply the two together to get the covariance we want\n",
    "        covar = covar_x.mul(covar_i)\n",
    "\n",
    "        return gpytorch.distributions.MultivariateNormal(mean_x, covar)\n",
    "\n",
    "likelihood = gpytorch.likelihoods.GaussianLikelihood()\n",
    "\n",
    "train_i_task1 = torch.full((train_x1.shape[0],1), dtype=torch.long, fill_value=0)\n",
    "train_i_task2 = torch.full((train_x2.shape[0],1), dtype=torch.long, fill_value=1)\n",
    "\n",
    "full_train_x = torch.cat([train_x1, train_x2])\n",
    "full_train_i = torch.cat([train_i_task1, train_i_task2])\n",
    "full_train_y = torch.cat([train_y1, train_y2])\n",
    "\n",
    "# Here we have two iterms that we're passing in as train_inputs\n",
    "model = MultitaskGPModel((full_train_x, full_train_i), full_train_y, likelihood)"
   ]
  },
  {
   "cell_type": "code",
   "execution_count": 6,
   "id": "cfd6355c-8f86-4881-bdc0-85cf0b740b55",
   "metadata": {},
   "outputs": [
    {
     "data": {
      "text/plain": [
       "(torch.Size([100]), torch.Size([100]))"
      ]
     },
     "execution_count": 6,
     "metadata": {},
     "output_type": "execute_result"
    }
   ],
   "source": [
    "full_train_x.shape, full_train_y.shape"
   ]
  },
  {
   "cell_type": "code",
   "execution_count": 7,
   "id": "ced8dfad-d513-4f6f-863f-3b96cf9efa4c",
   "metadata": {},
   "outputs": [
    {
     "data": {
      "text/plain": [
       "torch.Size([100, 1])"
      ]
     },
     "execution_count": 7,
     "metadata": {},
     "output_type": "execute_result"
    }
   ],
   "source": [
    "full_train_i.shape"
   ]
  },
  {
   "cell_type": "markdown",
   "id": "26576cf9-71ab-449d-a64a-69001bebd63c",
   "metadata": {},
   "source": [
    "### Training the model"
   ]
  },
  {
   "cell_type": "code",
   "execution_count": 8,
   "id": "a16faa2f-3aca-4eb8-a360-061ab9e5e535",
   "metadata": {},
   "outputs": [
    {
     "name": "stderr",
     "output_type": "stream",
     "text": [
      "/home/danh/miniconda3/envs/mogp/lib/python3.8/site-packages/gpytorch/lazy/triangular_lazy_tensor.py:130: UserWarning: torch.triangular_solve is deprecated in favor of torch.linalg.solve_triangularand will be removed in a future PyTorch release.\n",
      "torch.linalg.solve_triangular has its arguments reversed and does not return a copy of one of the inputs.\n",
      "X = torch.triangular_solve(B, A).solution\n",
      "should be replaced with\n",
      "X = torch.linalg.solve_triangular(A, B). (Triggered internally at  ../aten/src/ATen/native/BatchLinearAlgebra.cpp:1672.)\n",
      "  res = torch.triangular_solve(right_tensor, self.evaluate(), upper=self.upper).solution\n"
     ]
    },
    {
     "name": "stdout",
     "output_type": "stream",
     "text": [
      "Iter 1/50 - Loss: 0.970\n",
      "Iter 2/50 - Loss: 0.935\n",
      "Iter 3/50 - Loss: 0.899\n",
      "Iter 4/50 - Loss: 0.863\n",
      "Iter 5/50 - Loss: 0.826\n",
      "Iter 6/50 - Loss: 0.789\n",
      "Iter 7/50 - Loss: 0.750\n",
      "Iter 8/50 - Loss: 0.711\n",
      "Iter 9/50 - Loss: 0.671\n",
      "Iter 10/50 - Loss: 0.632\n",
      "Iter 11/50 - Loss: 0.595\n",
      "Iter 12/50 - Loss: 0.559\n",
      "Iter 13/50 - Loss: 0.524\n",
      "Iter 14/50 - Loss: 0.489\n",
      "Iter 15/50 - Loss: 0.453\n",
      "Iter 16/50 - Loss: 0.415\n",
      "Iter 17/50 - Loss: 0.377\n",
      "Iter 18/50 - Loss: 0.339\n",
      "Iter 19/50 - Loss: 0.301\n",
      "Iter 20/50 - Loss: 0.263\n",
      "Iter 21/50 - Loss: 0.228\n",
      "Iter 22/50 - Loss: 0.194\n",
      "Iter 23/50 - Loss: 0.163\n",
      "Iter 24/50 - Loss: 0.133\n",
      "Iter 25/50 - Loss: 0.104\n",
      "Iter 26/50 - Loss: 0.076\n",
      "Iter 27/50 - Loss: 0.049\n",
      "Iter 28/50 - Loss: 0.024\n",
      "Iter 29/50 - Loss: 0.003\n",
      "Iter 30/50 - Loss: -0.016\n",
      "Iter 31/50 - Loss: -0.031\n",
      "Iter 32/50 - Loss: -0.044\n",
      "Iter 33/50 - Loss: -0.054\n",
      "Iter 34/50 - Loss: -0.061\n",
      "Iter 35/50 - Loss: -0.065\n",
      "Iter 36/50 - Loss: -0.066\n",
      "Iter 37/50 - Loss: -0.065\n",
      "Iter 38/50 - Loss: -0.064\n",
      "Iter 39/50 - Loss: -0.062\n",
      "Iter 40/50 - Loss: -0.060\n",
      "Iter 41/50 - Loss: -0.057\n",
      "Iter 42/50 - Loss: -0.055\n",
      "Iter 43/50 - Loss: -0.052\n",
      "Iter 44/50 - Loss: -0.051\n",
      "Iter 45/50 - Loss: -0.050\n",
      "Iter 46/50 - Loss: -0.049\n",
      "Iter 47/50 - Loss: -0.050\n",
      "Iter 48/50 - Loss: -0.051\n",
      "Iter 49/50 - Loss: -0.053\n",
      "Iter 50/50 - Loss: -0.055\n"
     ]
    }
   ],
   "source": [
    "# this is for running the notebook in our testing framework\n",
    "import os\n",
    "smoke_test = ('CI' in os.environ)\n",
    "training_iterations = 2 if smoke_test else 50\n",
    "\n",
    "\n",
    "# Find optimal model hyperparameters\n",
    "model.train()\n",
    "likelihood.train()\n",
    "\n",
    "# Use the adam optimizer\n",
    "optimizer = torch.optim.Adam(model.parameters(), lr=0.1)  # Includes GaussianLikelihood parameters\n",
    "\n",
    "# \"Loss\" for GPs - the marginal log likelihood\n",
    "mll = gpytorch.mlls.ExactMarginalLogLikelihood(likelihood, model)\n",
    "\n",
    "for i in range(training_iterations):\n",
    "    optimizer.zero_grad()\n",
    "    output = model(full_train_x, full_train_i)\n",
    "    loss = -mll(output, full_train_y)\n",
    "    loss.backward()\n",
    "    print('Iter %d/50 - Loss: %.3f' % (i + 1, loss.item()))\n",
    "    optimizer.step()"
   ]
  },
  {
   "cell_type": "markdown",
   "id": "7022c6fd-1666-438d-85c2-1068da6f37d2",
   "metadata": {},
   "source": [
    "### Make prediction"
   ]
  },
  {
   "cell_type": "code",
   "execution_count": 9,
   "id": "79386364-d158-470f-9926-95c9b80f5c09",
   "metadata": {},
   "outputs": [],
   "source": [
    "# Set into eval mode\n",
    "model.eval()\n",
    "likelihood.eval()\n",
    "\n",
    "# Test points every 0.02 in [0,1]\n",
    "test_x = torch.linspace(0, 1, 51)\n",
    "test_i_task1 = torch.full((test_x.shape[0],1), dtype=torch.long, fill_value=0)\n",
    "test_i_task2 = torch.full((test_x.shape[0],1), dtype=torch.long, fill_value=1)"
   ]
  },
  {
   "cell_type": "code",
   "execution_count": 10,
   "id": "fcdf424b-97c1-404b-a0e8-d5e6817c4592",
   "metadata": {},
   "outputs": [
    {
     "data": {
      "text/plain": [
       "tensor([0.0000, 0.0200, 0.0400, 0.0600, 0.0800, 0.1000, 0.1200, 0.1400, 0.1600,\n",
       "        0.1800, 0.2000, 0.2200, 0.2400, 0.2600, 0.2800, 0.3000, 0.3200, 0.3400,\n",
       "        0.3600, 0.3800, 0.4000, 0.4200, 0.4400, 0.4600, 0.4800, 0.5000, 0.5200,\n",
       "        0.5400, 0.5600, 0.5800, 0.6000, 0.6200, 0.6400, 0.6600, 0.6800, 0.7000,\n",
       "        0.7200, 0.7400, 0.7600, 0.7800, 0.8000, 0.8200, 0.8400, 0.8600, 0.8800,\n",
       "        0.9000, 0.9200, 0.9400, 0.9600, 0.9800, 1.0000])"
      ]
     },
     "execution_count": 10,
     "metadata": {},
     "output_type": "execute_result"
    }
   ],
   "source": [
    "test_x"
   ]
  },
  {
   "cell_type": "code",
   "execution_count": 11,
   "id": "4ae48b63-020b-4b54-b930-93d8c3fc347c",
   "metadata": {},
   "outputs": [
    {
     "data": {
      "image/png": "[encoded data removed]",
      "text/plain": [
       "<Figure size 576x216 with 2 Axes>"
      ]
     },
     "metadata": {
      "needs_background": "light"
     },
     "output_type": "display_data"
    }
   ],
   "source": [
    "# Make predictions - one task at a time\n",
    "# We control the task we cae about using the indices\n",
    "\n",
    "# The gpytorch.settings.fast_pred_var flag activates LOVE (for fast variances)\n",
    "# See https://arxiv.org/abs/1803.06058\n",
    "with torch.no_grad(), gpytorch.settings.fast_pred_var():\n",
    "    observed_pred_y1 = likelihood(model(test_x, test_i_task1))\n",
    "    observed_pred_y2 = likelihood(model(test_x, test_i_task2))\n",
    "\n",
    "# Initialize plots\n",
    "f, (y1_ax, y2_ax) = plt.subplots(1, 2, figsize=(8, 3))\n",
    "    \n",
    "# Define plotting function\n",
    "def ax_plot(ax, train_y, train_x, rand_var, title):\n",
    "    # Get lower and upper confidence bounds\n",
    "    lower, upper = rand_var.confidence_region()\n",
    "    # Plot training data as black stars\n",
    "    ax.plot(train_x.detach().numpy(), train_y.detach().numpy(), 'k*')\n",
    "    # Predictive mean as blue line\n",
    "    ax.plot(test_x.detach().numpy(), rand_var.mean.detach().numpy(), 'b')\n",
    "    # Shade in confidence\n",
    "    ax.fill_between(test_x.detach().numpy(), lower.detach().numpy(), upper.detach().numpy(), alpha=0.5)\n",
    "    ax.set_ylim([-3, 3])\n",
    "    ax.legend(['Observed Data', 'Mean', 'Confidence'])\n",
    "    ax.set_title(title)\n",
    "\n",
    "# Plot both tasks\n",
    "ax_plot(y1_ax, train_y1, train_x1, observed_pred_y1, 'Observed Values (Likelihood)')\n",
    "ax_plot(y2_ax, train_y2, train_x2, observed_pred_y2, 'Observed Values (Likelihood)')"
   ]
  },
  {
   "cell_type": "code",
   "execution_count": null,
   "id": "b21ea5b8-3844-49f9-9472-36cc2692858e",
   "metadata": {},
   "outputs": [],
   "source": []
  },
  {
   "cell_type": "code",
   "execution_count": null,
   "id": "84c35b5d-70a5-4ef3-a1e6-debc800e3d66",
   "metadata": {},
   "outputs": [],
   "source": []
  }
 ],
 "metadata": {
  "kernelspec": {
   "display_name": "Python 3 (ipykernel)",
   "language": "python",
   "name": "python3"
  },
  "language_info": {
   "codemirror_mode": {
    "name": "ipython",
    "version": 3
   },
   "file_extension": ".py",
   "mimetype": "text/x-python",
   "name": "python",
   "nbconvert_exporter": "python",
   "pygments_lexer": "ipython3",
   "version": "3.9.12"
  }
 },
 "nbformat": 4,
 "nbformat_minor": 5
}

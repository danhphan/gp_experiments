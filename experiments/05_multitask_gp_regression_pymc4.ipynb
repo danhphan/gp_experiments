{
 "cells": [
  {
   "cell_type": "markdown",
   "id": "60e420cd-0986-4ae7-bc89-7b03fd37602c",
   "metadata": {},
   "source": [
    "# Multitask GP Regression using pymc\n",
    "Source: https://docs.gpytorch.ai/en/latest/examples/03_Multitask_Exact_GPs/Multitask_GP_Regression.html"
   ]
  },
  {
   "cell_type": "code",
   "execution_count": 1,
   "id": "aea720b0",
   "metadata": {},
   "outputs": [],
   "source": [
    "import numpy as np\n",
    "import pymc as pm\n",
    "import arviz as az\n",
    "import matplotlib.pyplot as plt\n",
    "# set the seed\n",
    "np.random.seed(1)"
   ]
  },
  {
   "cell_type": "code",
   "execution_count": 2,
   "id": "a71a8cdb-00c2-42b2-a90f-30727eee65ee",
   "metadata": {},
   "outputs": [],
   "source": [
    "import math\n",
    "# import torch\n",
    "# import gpytorch as gpt\n",
    "# from matplotlib import pyplot as plt\n",
    "\n",
    "%matplotlib inline\n",
    "%load_ext autoreload\n",
    "%autoreload 2"
   ]
  },
  {
   "cell_type": "markdown",
   "id": "6e2a2775-0e11-483d-a1b8-f814e48406d9",
   "metadata": {},
   "source": [
    "### Set up training data"
   ]
  },
  {
   "cell_type": "code",
   "execution_count": 12,
   "id": "de99c1b3-1299-4c67-8b56-ab041aff25c9",
   "metadata": {},
   "outputs": [],
   "source": [
    "train_x = np.linspace(0, 1, 108)\n",
    "\n",
    "train_y = np.stack([\n",
    "    np.sin(train_x * (2 * math.pi)) + np.random.randn(len(train_x)) * 0.2,\n",
    "    np.cos(train_x * (2 * math.pi)) + np.random.randn(len(train_x)) * 0.2,\n",
    "], -1)"
   ]
  },
  {
   "cell_type": "code",
   "execution_count": 13,
   "id": "f046d8de-a5ee-4c63-b52a-ffba8bf535a8",
   "metadata": {},
   "outputs": [
    {
     "data": {
      "text/plain": [
       "((108,), (108, 2))"
      ]
     },
     "execution_count": 13,
     "metadata": {},
     "output_type": "execute_result"
    }
   ],
   "source": [
    "train_x.shape, train_y.shape"
   ]
  },
  {
   "cell_type": "code",
   "execution_count": 14,
   "id": "b808307d",
   "metadata": {},
   "outputs": [
    {
     "data": {
      "text/plain": [
       "<matplotlib.legend.Legend at 0x7f7d29b4ec70>"
      ]
     },
     "execution_count": 14,
     "metadata": {},
     "output_type": "execute_result"
    },
    {
     "data": {
      "image/png": "[encoded data removed]",
      "text/plain": [
       "<Figure size 288x216 with 1 Axes>"
      ]
     },
     "metadata": {
      "needs_background": "light"
     },
     "output_type": "display_data"
    }
   ],
   "source": [
    "fig, ax = plt.subplots(1,1, figsize=(4,3))\n",
    "ax.scatter(train_x, train_y[:,0])\n",
    "ax.scatter(train_x, train_y[:,1])\n",
    "plt.legend([\"sin\", \"cos\"])"
   ]
  },
  {
   "cell_type": "code",
   "execution_count": 18,
   "id": "1270cb05",
   "metadata": {},
   "outputs": [
    {
     "data": {
      "text/plain": [
       "((108, 1), (216, 2), (216,))"
      ]
     },
     "execution_count": 18,
     "metadata": {},
     "output_type": "execute_result"
    }
   ],
   "source": [
    "x = train_x\n",
    "xx = np.concatenate((x, x), axis=0)\n",
    "n = len(x)\n",
    "idx = np.concatenate((np.zeros(n), np.ones(n)))[:,None]\n",
    "X = np.concatenate((xx, idx), axis=1)\n",
    "\n",
    "y = np.concatenate((train_y[:,0], train_y[:,1]))\n",
    "x.shape, X.shape, y.shape"
   ]
  },
  {
   "cell_type": "markdown",
   "id": "0529a250",
   "metadata": {},
   "source": [
    "### Pymc model"
   ]
  },
  {
   "cell_type": "code",
   "execution_count": 41,
   "id": "963ffc03",
   "metadata": {},
   "outputs": [
    {
     "name": "stderr",
     "output_type": "stream",
     "text": [
      "/tmp/ipykernel_54092/46575181.py:6: FutureWarning: The `testval` argument is deprecated; use `initval`.\n",
      "  W = pm.Normal(\"W\", mu=0, sigma=3, shape=(2,2), testval=np.random.randn(2,2))\n"
     ]
    }
   ],
   "source": [
    "with pm.Model() as model:\n",
    "    ell = pm.Gamma(\"ell\", alpha=2, beta=0.5)\n",
    "    eta = pm.Gamma(\"eta\", alpha=2, beta=0.5)\n",
    "    cov = eta**2 * pm.gp.cov.ExpQuad(1, ls=ell, active_dims=[0])\n",
    "    \n",
    "    W = pm.Normal(\"W\", mu=0, sigma=3, shape=(2,2), testval=np.random.randn(2,2))\n",
    "    kappa = pm.Gamma(\"kappa\", alpha=1.5, beta=1, shape=2)\n",
    "    coreg = pm.gp.cov.Coregion(input_dim=2, active_dims=[1], kappa=kappa, W=W)\n",
    "    cov_func = coreg * cov\n",
    "    \n",
    "    sigma = pm.HalfNormal(\"sigma\", sigma=3)\n",
    "    gp = pm.gp.Marginal(cov_func=cov_func)\n",
    "    y_ = gp.marginal_likelihood(\"f\", X, y, noise=sigma)"
   ]
  },
  {
   "cell_type": "code",
   "execution_count": 42,
   "id": "27c2c15a",
   "metadata": {},
   "outputs": [
    {
     "name": "stderr",
     "output_type": "stream",
     "text": [
      "Auto-assigning NUTS sampler...\n",
      "Initializing NUTS using jitter+adapt_diag...\n",
      "Sequential sampling (1 chains in 1 job)\n",
      "NUTS: [ell, eta, W, kappa, sigma]\n"
     ]
    },
    {
     "data": {
      "text/html": [
       "\n",
       "<style>\n",
       "    /* Turns off some styling */\n",
       "    progress {\n",
       "        /* gets rid of default border in Firefox and Opera. */\n",
       "        border: none;\n",
       "        /* Needs to be in here for Safari polyfill so background images work as expected. */\n",
       "        background-size: auto;\n",
       "    }\n",
       "    .progress-bar-interrupted, .progress-bar-interrupted::-webkit-progress-bar {\n",
       "        background: #F44336;\n",
       "    }\n",
       "</style>\n"
      ],
      "text/plain": [
       "<IPython.core.display.HTML object>"
      ]
     },
     "metadata": {},
     "output_type": "display_data"
    },
    {
     "data": {
      "text/html": [
       "\n",
       "    <div>\n",
       "      <progress value='1500' class='' max='1500' style='width:300px; height:20px; vertical-align: middle;'></progress>\n",
       "      100.00% [1500/1500 02:38<00:00 Sampling chain 0, 1 divergences]\n",
       "    </div>\n",
       "    "
      ],
      "text/plain": [
       "<IPython.core.display.HTML object>"
      ]
     },
     "metadata": {},
     "output_type": "display_data"
    },
    {
     "name": "stderr",
     "output_type": "stream",
     "text": [
      "Sampling 1 chain for 1_000 tune and 500 draw iterations (1_000 + 500 draws total) took 158 seconds.\n",
      "There was 1 divergence after tuning. Increase `target_accept` or reparameterize.\n"
     ]
    },
    {
     "name": "stdout",
     "output_type": "stream",
     "text": [
      "CPU times: user 7min 56s, sys: 12min 56s, total: 20min 53s\n",
      "Wall time: 2min 41s\n"
     ]
    }
   ],
   "source": [
    "%%time\n",
    "with model:\n",
    "    gp_trace = pm.sample(500, chains=1)"
   ]
  },
  {
   "cell_type": "code",
   "execution_count": 43,
   "id": "7f9a69c1",
   "metadata": {},
   "outputs": [
    {
     "ename": "ValueError",
     "evalue": "Variable name preds already exists.",
     "output_type": "error",
     "traceback": [
      "\u001b[0;31m---------------------------------------------------------------------------\u001b[0m",
      "\u001b[0;31mValueError\u001b[0m                                Traceback (most recent call last)",
      "Input \u001b[0;32mIn [43]\u001b[0m, in \u001b[0;36m<cell line: 6>\u001b[0;34m()\u001b[0m\n\u001b[1;32m      6\u001b[0m \u001b[38;5;28;01mwith\u001b[39;00m model:\n\u001b[1;32m      7\u001b[0m     preds \u001b[38;5;241m=\u001b[39m gp\u001b[38;5;241m.\u001b[39mconditional(\u001b[38;5;124m\"\u001b[39m\u001b[38;5;124mpreds\u001b[39m\u001b[38;5;124m\"\u001b[39m, X_new)\n\u001b[0;32m----> 8\u001b[0m     gp_samples \u001b[38;5;241m=\u001b[39m pm\u001b[38;5;241m.\u001b[39msample_posterior_predictive(gp_tracepreds \u001b[38;5;241m=\u001b[39m \u001b[43mgp\u001b[49m\u001b[38;5;241;43m.\u001b[39;49m\u001b[43mconditional\u001b[49m\u001b[43m(\u001b[49m\u001b[38;5;124;43m\"\u001b[39;49m\u001b[38;5;124;43mpreds\u001b[39;49m\u001b[38;5;124;43m\"\u001b[39;49m\u001b[43m,\u001b[49m\u001b[43m \u001b[49m\u001b[43mX_new\u001b[49m\u001b[43m)\u001b[49m, var_names\u001b[38;5;241m=\u001b[39m[\u001b[38;5;124m'\u001b[39m\u001b[38;5;124mpreds\u001b[39m\u001b[38;5;124m'\u001b[39m], random_seed\u001b[38;5;241m=\u001b[39m\u001b[38;5;241m42\u001b[39m)\n",
      "File \u001b[0;32m~/WORK/codes/oss/pymc/pymc/gp/gp.py:539\u001b[0m, in \u001b[0;36mMarginal.conditional\u001b[0;34m(self, name, Xnew, pred_noise, given, jitter, **kwargs)\u001b[0m\n\u001b[1;32m    537\u001b[0m givens \u001b[38;5;241m=\u001b[39m \u001b[38;5;28mself\u001b[39m\u001b[38;5;241m.\u001b[39m_get_given_vals(given)\n\u001b[1;32m    538\u001b[0m mu, cov \u001b[38;5;241m=\u001b[39m \u001b[38;5;28mself\u001b[39m\u001b[38;5;241m.\u001b[39m_build_conditional(Xnew, pred_noise, \u001b[38;5;28;01mFalse\u001b[39;00m, \u001b[38;5;241m*\u001b[39mgivens, jitter)\n\u001b[0;32m--> 539\u001b[0m \u001b[38;5;28;01mreturn\u001b[39;00m \u001b[43mpm\u001b[49m\u001b[38;5;241;43m.\u001b[39;49m\u001b[43mMvNormal\u001b[49m\u001b[43m(\u001b[49m\u001b[43mname\u001b[49m\u001b[43m,\u001b[49m\u001b[43m \u001b[49m\u001b[43mmu\u001b[49m\u001b[38;5;241;43m=\u001b[39;49m\u001b[43mmu\u001b[49m\u001b[43m,\u001b[49m\u001b[43m \u001b[49m\u001b[43mcov\u001b[49m\u001b[38;5;241;43m=\u001b[39;49m\u001b[43mcov\u001b[49m\u001b[43m,\u001b[49m\u001b[43m \u001b[49m\u001b[38;5;241;43m*\u001b[39;49m\u001b[38;5;241;43m*\u001b[39;49m\u001b[43mkwargs\u001b[49m\u001b[43m)\u001b[49m\n",
      "File \u001b[0;32m~/WORK/codes/oss/pymc/pymc/distributions/distribution.py:271\u001b[0m, in \u001b[0;36mDistribution.__new__\u001b[0;34m(cls, name, rng, dims, initval, observed, total_size, transform, *args, **kwargs)\u001b[0m\n\u001b[1;32m    267\u001b[0m \u001b[38;5;28;01mif\u001b[39;00m resize_shape:\n\u001b[1;32m    268\u001b[0m     \u001b[38;5;66;03m# A batch size was specified through `dims`, or implied by `observed`.\u001b[39;00m\n\u001b[1;32m    269\u001b[0m     rv_out \u001b[38;5;241m=\u001b[39m change_rv_size(rv\u001b[38;5;241m=\u001b[39mrv_out, new_size\u001b[38;5;241m=\u001b[39mresize_shape, expand\u001b[38;5;241m=\u001b[39m\u001b[38;5;28;01mTrue\u001b[39;00m)\n\u001b[0;32m--> 271\u001b[0m rv_out \u001b[38;5;241m=\u001b[39m \u001b[43mmodel\u001b[49m\u001b[38;5;241;43m.\u001b[39;49m\u001b[43mregister_rv\u001b[49m\u001b[43m(\u001b[49m\n\u001b[1;32m    272\u001b[0m \u001b[43m    \u001b[49m\u001b[43mrv_out\u001b[49m\u001b[43m,\u001b[49m\n\u001b[1;32m    273\u001b[0m \u001b[43m    \u001b[49m\u001b[43mname\u001b[49m\u001b[43m,\u001b[49m\n\u001b[1;32m    274\u001b[0m \u001b[43m    \u001b[49m\u001b[43mobserved\u001b[49m\u001b[43m,\u001b[49m\n\u001b[1;32m    275\u001b[0m \u001b[43m    \u001b[49m\u001b[43mtotal_size\u001b[49m\u001b[43m,\u001b[49m\n\u001b[1;32m    276\u001b[0m \u001b[43m    \u001b[49m\u001b[43mdims\u001b[49m\u001b[38;5;241;43m=\u001b[39;49m\u001b[43mdims\u001b[49m\u001b[43m,\u001b[49m\n\u001b[1;32m    277\u001b[0m \u001b[43m    \u001b[49m\u001b[43mtransform\u001b[49m\u001b[38;5;241;43m=\u001b[39;49m\u001b[43mtransform\u001b[49m\u001b[43m,\u001b[49m\n\u001b[1;32m    278\u001b[0m \u001b[43m    \u001b[49m\u001b[43minitval\u001b[49m\u001b[38;5;241;43m=\u001b[39;49m\u001b[43minitval\u001b[49m\u001b[43m,\u001b[49m\n\u001b[1;32m    279\u001b[0m \u001b[43m\u001b[49m\u001b[43m)\u001b[49m\n\u001b[1;32m    281\u001b[0m \u001b[38;5;66;03m# add in pretty-printing support\u001b[39;00m\n\u001b[1;32m    282\u001b[0m rv_out\u001b[38;5;241m.\u001b[39mstr_repr \u001b[38;5;241m=\u001b[39m types\u001b[38;5;241m.\u001b[39mMethodType(str_for_dist, rv_out)\n",
      "File \u001b[0;32m~/WORK/codes/oss/pymc/pymc/model.py:1242\u001b[0m, in \u001b[0;36mModel.register_rv\u001b[0;34m(self, rv_var, name, data, total_size, dims, transform, initval)\u001b[0m\n\u001b[1;32m   1240\u001b[0m     \u001b[38;5;28mself\u001b[39m\u001b[38;5;241m.\u001b[39mfree_RVs\u001b[38;5;241m.\u001b[39mappend(rv_var)\n\u001b[1;32m   1241\u001b[0m     \u001b[38;5;28mself\u001b[39m\u001b[38;5;241m.\u001b[39mcreate_value_var(rv_var, transform)\n\u001b[0;32m-> 1242\u001b[0m     \u001b[38;5;28;43mself\u001b[39;49m\u001b[38;5;241;43m.\u001b[39;49m\u001b[43madd_random_variable\u001b[49m\u001b[43m(\u001b[49m\u001b[43mrv_var\u001b[49m\u001b[43m,\u001b[49m\u001b[43m \u001b[49m\u001b[43mdims\u001b[49m\u001b[43m)\u001b[49m\n\u001b[1;32m   1243\u001b[0m     \u001b[38;5;28mself\u001b[39m\u001b[38;5;241m.\u001b[39mset_initval(rv_var, initval)\n\u001b[1;32m   1244\u001b[0m \u001b[38;5;28;01melse\u001b[39;00m:\n",
      "File \u001b[0;32m~/WORK/codes/oss/pymc/pymc/model.py:1421\u001b[0m, in \u001b[0;36mModel.add_random_variable\u001b[0;34m(self, var, dims)\u001b[0m\n\u001b[1;32m   1419\u001b[0m \u001b[38;5;124;03m\"\"\"Add a random variable to the named variables of the model.\"\"\"\u001b[39;00m\n\u001b[1;32m   1420\u001b[0m \u001b[38;5;28;01mif\u001b[39;00m \u001b[38;5;28mself\u001b[39m\u001b[38;5;241m.\u001b[39mnamed_vars\u001b[38;5;241m.\u001b[39mtree_contains(var\u001b[38;5;241m.\u001b[39mname):\n\u001b[0;32m-> 1421\u001b[0m     \u001b[38;5;28;01mraise\u001b[39;00m \u001b[38;5;167;01mValueError\u001b[39;00m(\u001b[38;5;124mf\u001b[39m\u001b[38;5;124m\"\u001b[39m\u001b[38;5;124mVariable name \u001b[39m\u001b[38;5;132;01m{\u001b[39;00mvar\u001b[38;5;241m.\u001b[39mname\u001b[38;5;132;01m}\u001b[39;00m\u001b[38;5;124m already exists.\u001b[39m\u001b[38;5;124m\"\u001b[39m)\n\u001b[1;32m   1423\u001b[0m \u001b[38;5;28;01mif\u001b[39;00m dims \u001b[38;5;129;01mis\u001b[39;00m \u001b[38;5;129;01mnot\u001b[39;00m \u001b[38;5;28;01mNone\u001b[39;00m:\n\u001b[1;32m   1424\u001b[0m     \u001b[38;5;28;01mif\u001b[39;00m \u001b[38;5;28misinstance\u001b[39m(dims, \u001b[38;5;28mstr\u001b[39m):\n",
      "\u001b[0;31mValueError\u001b[0m: Variable name preds already exists."
     ]
    }
   ],
   "source": [
    "x_new = np.linspace(-1, 2, 200)[:, None]\n",
    "xx_new = np.concatenate((x_new, x_new), axis=0)\n",
    "idx2 = np.concatenate((np.zeros(200), np.ones(200)))[:, None]\n",
    "X_new = np.concatenate((xx_new, idx2), axis=1)\n",
    "\n",
    "with model:\n",
    "    preds = gp.conditional(\"preds\", X_new)\n",
    "    gp_samples = pm.sample_posterior_predictive(gp_tracepreds = gp.conditional(\"preds\", X_new), var_names=['preds'], random_seed=42)"
   ]
  },
  {
   "cell_type": "code",
   "execution_count": null,
   "id": "de3000de",
   "metadata": {},
   "outputs": [],
   "source": [
    "from pymc.gp.util import plot_gp_dist\n",
    "fig = plt.figure(figsize=(12,5))\n",
    "ax = fig.gca()\n",
    "\n",
    "f_pred = gp_samples.posterior_predictive[\"preds\"].sel(chain=0)\n",
    "plot_gp_dist(ax, f_pred[:,:200], X_new[:200,0], palette=\"Blues\", fill_alpha=0.5, samples_alpha=0.1)\n",
    "ax.plot(x, train_y[:,0], 'ok', ms=3, alpha=0.5, label=\"Data 1\");\n",
    "\n",
    "plot_gp_dist(ax, f_pred[:,200:], X_new[200:,0], palette=\"Blues\", fill_alpha=0.9, samples_alpha=0.1)\n",
    "ax.plot(x, train_y[:,1], 'ok', ms=3, alpha=0.5, label=\"Data 2\");\n",
    "ax.set_ylim([-4,4])"
   ]
  },
  {
   "cell_type": "code",
   "execution_count": null,
   "id": "c09687bc",
   "metadata": {},
   "outputs": [],
   "source": [
    "az.plot_trace(gp_trace);"
   ]
  },
  {
   "cell_type": "code",
   "execution_count": null,
   "id": "1c8d2cba",
   "metadata": {},
   "outputs": [],
   "source": []
  }
 ],
 "metadata": {
  "kernelspec": {
   "display_name": "Python 3 (ipykernel)",
   "language": "python",
   "name": "python3"
  },
  "language_info": {
   "codemirror_mode": {
    "name": "ipython",
    "version": 3
   },
   "file_extension": ".py",
   "mimetype": "text/x-python",
   "name": "python",
   "nbconvert_exporter": "python",
   "pygments_lexer": "ipython3",
   "version": "3.9.12"
  }
 },
 "nbformat": 4,
 "nbformat_minor": 5
}

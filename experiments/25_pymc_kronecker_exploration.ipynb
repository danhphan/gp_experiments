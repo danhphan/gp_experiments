{
 "cells": [
  {
   "cell_type": "code",
   "execution_count": 7,
   "id": "7edf34b2-14b7-4f85-b255-8e4dfbc47244",
   "metadata": {},
   "outputs": [],
   "source": [
    "import numpy as np\n",
    "import numpy.testing as npt\n",
    "import pymc as pm\n",
    "from pymc.math import cartesian, kronecker"
   ]
  },
  {
   "cell_type": "code",
   "execution_count": 9,
   "id": "233be868-a511-428f-83b3-03ebc9a57873",
   "metadata": {},
   "outputs": [
    {
     "data": {
      "text/plain": [
       "((3, 1), (5, 1), (4, 1), (20, 2), (60, 3))"
      ]
     },
     "execution_count": 9,
     "metadata": {},
     "output_type": "execute_result"
    }
   ],
   "source": [
    "X1 = np.linspace(0, 1, 3)[:, None]\n",
    "X21 = np.linspace(0, 1, 5)[:, None]\n",
    "X22 = np.linspace(0, 1, 4)[:, None]\n",
    "X2 = cartesian(X21, X22)\n",
    "X = cartesian(X1, X21, X22)\n",
    "X1.shape, X21.shape, X22.shape, X2.shape, X.shape"
   ]
  },
  {
   "cell_type": "code",
   "execution_count": 23,
   "id": "b18a4c99-9351-4a78-b540-e90d582db2f2",
   "metadata": {},
   "outputs": [
    {
     "data": {
      "text/plain": [
       "((3, 1), (20, 2), (60, 3))"
      ]
     },
     "execution_count": 23,
     "metadata": {},
     "output_type": "execute_result"
    }
   ],
   "source": [
    "X1.shape, X2.shape, X.shape"
   ]
  },
  {
   "cell_type": "code",
   "execution_count": 15,
   "id": "b3d5848a-b7ed-4878-ae00-8f9fa39833a0",
   "metadata": {},
   "outputs": [],
   "source": [
    "with pm.Model() as model:\n",
    "    cov1 = (\n",
    "        3\n",
    "        + pm.gp.cov.ExpQuad(1, 0.1)\n",
    "        + pm.gp.cov.ExpQuad(1, 0.1) * pm.gp.cov.ExpQuad(1, 0.1)\n",
    "    )\n",
    "    cov2 = pm.gp.cov.ExpQuad(1, 0.1) * pm.gp.cov.ExpQuad(2, 0.1)\n",
    "    cov = pm.gp.cov.Kron([cov1, cov2])\n",
    "\n",
    "K = cov(X).eval()\n",
    "\n",
    "K_true = kronecker(cov1(X1).eval(), cov2(X2).eval()).eval()\n",
    "npt.assert_allclose(K_true, K)"
   ]
  },
  {
   "cell_type": "code",
   "execution_count": 16,
   "id": "6e41e355-c087-413b-bca8-6dcd4a159a49",
   "metadata": {},
   "outputs": [
    {
     "data": {
      "text/plain": [
       "((3, 3), (20, 20))"
      ]
     },
     "execution_count": 16,
     "metadata": {},
     "output_type": "execute_result"
    }
   ],
   "source": [
    "cov1(X1).eval().shape, cov2(X2).eval().shape"
   ]
  },
  {
   "cell_type": "code",
   "execution_count": 17,
   "id": "6399de3b-f4f9-41fe-af29-e0d0f772d871",
   "metadata": {},
   "outputs": [
    {
     "data": {
      "text/plain": [
       "((60, 3), (60, 60))"
      ]
     },
     "execution_count": 17,
     "metadata": {},
     "output_type": "execute_result"
    }
   ],
   "source": [
    "X.shape, cov(X).eval().shape"
   ]
  },
  {
   "cell_type": "markdown",
   "id": "af20c73f-9ef2-4e9c-8f70-f3179e3787f3",
   "metadata": {},
   "source": [
    "### Test Coregion and Kron kernels"
   ]
  },
  {
   "cell_type": "code",
   "execution_count": 29,
   "id": "6bb493e5-60b9-4ba7-baf6-856a1c507f12",
   "metadata": {},
   "outputs": [
    {
     "data": {
      "text/plain": [
       "((3, 1), (5, 1))"
      ]
     },
     "execution_count": 29,
     "metadata": {},
     "output_type": "execute_result"
    }
   ],
   "source": [
    "X1 = np.linspace(0, 1, 3)[:, None]\n",
    "X2 = np.linspace(0, 1, 5)[:, None]\n",
    "X1.shape, X2.shape"
   ]
  },
  {
   "cell_type": "code",
   "execution_count": 30,
   "id": "a76f6f5f-4a7f-4de9-996c-ec60d8d17fff",
   "metadata": {},
   "outputs": [
    {
     "data": {
      "text/plain": [
       "(15, 2)"
      ]
     },
     "execution_count": 30,
     "metadata": {},
     "output_type": "execute_result"
    }
   ],
   "source": [
    "X = pm.math.cartesian(X1, X2)\n",
    "X.shape"
   ]
  },
  {
   "cell_type": "code",
   "execution_count": 37,
   "id": "63c39e63-11c7-4a81-ad5e-7c5458953981",
   "metadata": {},
   "outputs": [],
   "source": [
    "with pm.Model() as model:\n",
    "    # Kernel: K_1(x,x')\n",
    "    ell = pm.Gamma(\"ell\", alpha=2, beta=0.5)\n",
    "    eta = pm.Gamma(\"eta\", alpha=3, beta=1)\n",
    "    cov = eta**2 * pm.gp.cov.ExpQuad(input_dim=1, ls=ell)\n",
    "\n",
    "    # Coregion B matrix: K_2(o,o')\n",
    "    W = pm.Normal(\"W\", mu=0, sigma=3, shape=(3,2), initval=np.random.randn(3,2))\n",
    "    kappa = pm.Gamma(\"kappa\", alpha=1.5, beta=1, shape=3)\n",
    "    coreg = pm.gp.cov.Coregion(input_dim=1, kappa=kappa, W=W)\n",
    "    \n",
    "    kron = pm.gp.cov.Kron([cov, coreg])"
   ]
  },
  {
   "cell_type": "code",
   "execution_count": 45,
   "id": "da75e533-f00f-4a2c-9cb4-ecaa48afd043",
   "metadata": {},
   "outputs": [
    {
     "data": {
      "text/plain": [
       "((3, 3), (5, 5), (15, 15))"
      ]
     },
     "execution_count": 45,
     "metadata": {},
     "output_type": "execute_result"
    }
   ],
   "source": [
    "# Check shape\n",
    "cov(X1).eval().shape, coreg(X2).eval().shape, kron(X).eval().shape"
   ]
  },
  {
   "cell_type": "code",
   "execution_count": 43,
   "id": "8cda826b-e131-4cd1-be0b-e1f27384c6a5",
   "metadata": {},
   "outputs": [],
   "source": [
    "npt.assert_allclose(kron(X).eval(), pm.math.kronecker(cov(X1).eval(), coreg(X2).eval()).eval())"
   ]
  },
  {
   "cell_type": "code",
   "execution_count": null,
   "id": "12468643-d014-4718-a436-c165c71d0e57",
   "metadata": {},
   "outputs": [],
   "source": []
  }
 ],
 "metadata": {
  "kernelspec": {
   "display_name": "Python 3 (ipykernel)",
   "language": "python",
   "name": "python3"
  },
  "language_info": {
   "codemirror_mode": {
    "name": "ipython",
    "version": 3
   },
   "file_extension": ".py",
   "mimetype": "text/x-python",
   "name": "python",
   "nbconvert_exporter": "python",
   "pygments_lexer": "ipython3",
   "version": "3.9.12"
  }
 },
 "nbformat": 4,
 "nbformat_minor": 5
}

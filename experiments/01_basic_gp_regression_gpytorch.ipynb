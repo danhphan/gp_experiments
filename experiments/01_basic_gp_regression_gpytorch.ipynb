{
 "cells": [
  {
   "cell_type": "markdown",
   "id": "6c0a0c69-096d-4cc1-887a-ea2ea5a6dc18",
   "metadata": {},
   "source": [
    "# Simple GP Regression\n",
    "Source: https://docs.gpytorch.ai/en/latest/examples/01_Exact_GPs/Simple_GP_Regression.html"
   ]
  },
  {
   "cell_type": "code",
   "execution_count": 1,
   "id": "d1beabb7-b9c2-4500-86d6-aa59abdb8e7c",
   "metadata": {
    "tags": []
   },
   "outputs": [],
   "source": [
    "import math\n",
    "import torch\n",
    "import gpytorch as gpt\n",
    "from matplotlib import pyplot as plt\n",
    "\n",
    "%matplotlib inline\n",
    "%load_ext autoreload\n",
    "%autoreload 2"
   ]
  },
  {
   "cell_type": "code",
   "execution_count": 2,
   "id": "485fac9b-66ae-42bf-afad-248b918e8486",
   "metadata": {},
   "outputs": [],
   "source": [
    "# Training data is 100 points in [0,1] inclusive regularly spaced\n",
    "train_x = torch.linspace(0, 1, 100)\n",
    "# True function is sin(2*pi*x) with Gaussian noise\n",
    "train_y = torch.sin(train_x * (2 * math.pi)) + torch.randn(train_x.size()) * math.sqrt(0.04)"
   ]
  },
  {
   "cell_type": "code",
   "execution_count": 3,
   "id": "1c2bbb28-2e1e-4b2e-bb98-62839dfd5933",
   "metadata": {},
   "outputs": [
    {
     "data": {
      "text/plain": [
       "(torch.Size([100]), torch.Size([100]))"
      ]
     },
     "execution_count": 3,
     "metadata": {},
     "output_type": "execute_result"
    }
   ],
   "source": [
    "train_x.shape, train_y.shape"
   ]
  },
  {
   "cell_type": "markdown",
   "id": "f3332a4d-b801-417d-997e-08d1e4b38b36",
   "metadata": {},
   "source": [
    "### Setting up the model"
   ]
  },
  {
   "cell_type": "code",
   "execution_count": 4,
   "id": "e85c6aee-21e5-49f5-9db5-edf2222135d0",
   "metadata": {},
   "outputs": [],
   "source": [
    "from IPython.core.debugger import set_trace"
   ]
  },
  {
   "cell_type": "code",
   "execution_count": 5,
   "id": "36b0dacb-4885-462e-b529-29f35d04cbed",
   "metadata": {},
   "outputs": [],
   "source": [
    "# A basic GP model with exact inference\n",
    "\n",
    "class ExactGPModel(gpt.models.ExactGP):\n",
    "    def __init__(self, train_x, train_y, likelihood):\n",
    "        super(ExactGPModel, self).__init__(train_x, train_y, likelihood)\n",
    "        self.mean_module = gpt.means.ConstantMean()\n",
    "        self.covar_module = gpt.kernels.ScaleKernel(gpt.kernels.RBFKernel())\n",
    "        \n",
    "    def forward(self, x):\n",
    "        #set_trace()\n",
    "        mean_x = self.mean_module(x)\n",
    "        covar_x = self.covar_module(x)\n",
    "        return gpt.distributions.MultivariateNormal(mean_x, covar_x)\n",
    "    \n",
    "# Initialize likelihood and model\n",
    "likelihood = gpt.likelihoods.GaussianLikelihood(\n",
    "    noise_constraint=gpt.constraints.GreaterThan(1e-2),\n",
    ")\n",
    "model = ExactGPModel(train_x, train_y, likelihood)"
   ]
  },
  {
   "cell_type": "code",
   "execution_count": 6,
   "id": "202cae80-8c86-432d-8a90-656f5d239bf8",
   "metadata": {},
   "outputs": [
    {
     "data": {
      "text/plain": [
       "(ConstantMean(),\n",
       " ScaleKernel(\n",
       "   (base_kernel): RBFKernel(\n",
       "     (raw_lengthscale_constraint): Positive()\n",
       "   )\n",
       "   (raw_outputscale_constraint): Positive()\n",
       " ))"
      ]
     },
     "execution_count": 6,
     "metadata": {},
     "output_type": "execute_result"
    }
   ],
   "source": [
    "model.mean_module, model.covar_module"
   ]
  },
  {
   "cell_type": "code",
   "execution_count": 7,
   "id": "1366b0ea-d836-47d6-9b05-6ab68450793f",
   "metadata": {},
   "outputs": [
    {
     "name": "stdout",
     "output_type": "stream",
     "text": [
      "Parameter name: likelihood.noise_covar.raw_noise           value = 0.0\n",
      "Parameter name: mean_module.constant                       value = 0.0\n",
      "Parameter name: covar_module.raw_outputscale               value = 0.0\n",
      "Parameter name: covar_module.base_kernel.raw_lengthscale   value = 0.0\n"
     ]
    }
   ],
   "source": [
    "# View model hyper parameters\n",
    "for param_name, param in model.named_parameters():\n",
    "    print(f'Parameter name: {param_name:42} value = {param.item()}')"
   ]
  },
  {
   "cell_type": "code",
   "execution_count": 8,
   "id": "80dba989-5b7f-41e5-99da-b62104d5b52e",
   "metadata": {},
   "outputs": [
    {
     "name": "stdout",
     "output_type": "stream",
     "text": [
      "1.0 0.5 2.0\n"
     ]
    }
   ],
   "source": [
    "# Initializing hyperparameters in One Call\n",
    "hypers = {\n",
    "    'likelihood.noise_covar.noise': torch.tensor(1.),\n",
    "    'covar_module.base_kernel.lengthscale': torch.tensor(0.5),\n",
    "    'covar_module.outputscale': torch.tensor(2.),\n",
    "}\n",
    "\n",
    "model.initialize(**hypers)\n",
    "print(\n",
    "    model.likelihood.noise_covar.noise.item(),\n",
    "    model.covar_module.base_kernel.lengthscale.item(),\n",
    "    model.covar_module.outputscale.item()\n",
    ")"
   ]
  },
  {
   "cell_type": "markdown",
   "id": "6c8ec6da-633c-44b7-8e4f-04db90f7ca1e",
   "metadata": {},
   "source": [
    "### Training the model"
   ]
  },
  {
   "cell_type": "code",
   "execution_count": 9,
   "id": "eb09ca14-28eb-4442-a7dd-7c00877b2db7",
   "metadata": {},
   "outputs": [
    {
     "name": "stdout",
     "output_type": "stream",
     "text": [
      "Iter 1/50 - Loss: 1.057   lengthscale: 0.500   noise: 1.000\n",
      "Iter 2/50 - Loss: 1.021   lengthscale: 0.462   noise: 0.938\n",
      "Iter 3/50 - Loss: 0.983   lengthscale: 0.426   noise: 0.879\n",
      "Iter 4/50 - Loss: 0.946   lengthscale: 0.392   noise: 0.822\n",
      "Iter 5/50 - Loss: 0.910   lengthscale: 0.361   noise: 0.767\n",
      "Iter 6/50 - Loss: 0.875   lengthscale: 0.334   noise: 0.715\n",
      "Iter 7/50 - Loss: 0.842   lengthscale: 0.310   noise: 0.665\n",
      "Iter 8/50 - Loss: 0.810   lengthscale: 0.290   noise: 0.618\n",
      "Iter 9/50 - Loss: 0.778   lengthscale: 0.275   noise: 0.573\n",
      "Iter 10/50 - Loss: 0.745   lengthscale: 0.263   noise: 0.531\n",
      "Iter 11/50 - Loss: 0.712   lengthscale: 0.255   noise: 0.491\n",
      "Iter 12/50 - Loss: 0.677   lengthscale: 0.251   noise: 0.453\n",
      "Iter 13/50 - Loss: 0.642   lengthscale: 0.249   noise: 0.418\n",
      "Iter 14/50 - Loss: 0.607   lengthscale: 0.250   noise: 0.385\n",
      "Iter 15/50 - Loss: 0.571   lengthscale: 0.253   noise: 0.354\n",
      "Iter 16/50 - Loss: 0.534   lengthscale: 0.257   noise: 0.325\n",
      "Iter 17/50 - Loss: 0.497   lengthscale: 0.263   noise: 0.298\n",
      "Iter 18/50 - Loss: 0.461   lengthscale: 0.271   noise: 0.274\n",
      "Iter 19/50 - Loss: 0.425   lengthscale: 0.279   noise: 0.251\n",
      "Iter 20/50 - Loss: 0.389   lengthscale: 0.288   noise: 0.230\n",
      "Iter 21/50 - Loss: 0.355   lengthscale: 0.297   noise: 0.210\n",
      "Iter 22/50 - Loss: 0.322   lengthscale: 0.305   noise: 0.192\n",
      "Iter 23/50 - Loss: 0.290   lengthscale: 0.311   noise: 0.176\n",
      "Iter 24/50 - Loss: 0.258   lengthscale: 0.315   noise: 0.161\n",
      "Iter 25/50 - Loss: 0.228   lengthscale: 0.315   noise: 0.148\n",
      "Iter 26/50 - Loss: 0.199   lengthscale: 0.313   noise: 0.135\n",
      "Iter 27/50 - Loss: 0.170   lengthscale: 0.309   noise: 0.124\n",
      "Iter 28/50 - Loss: 0.143   lengthscale: 0.302   noise: 0.114\n",
      "Iter 29/50 - Loss: 0.118   lengthscale: 0.295   noise: 0.105\n",
      "Iter 30/50 - Loss: 0.094   lengthscale: 0.287   noise: 0.096\n",
      "Iter 31/50 - Loss: 0.073   lengthscale: 0.281   noise: 0.089\n",
      "Iter 32/50 - Loss: 0.054   lengthscale: 0.275   noise: 0.082\n",
      "Iter 33/50 - Loss: 0.037   lengthscale: 0.270   noise: 0.076\n"
     ]
    },
    {
     "name": "stderr",
     "output_type": "stream",
     "text": [
      "/home/danh/WORK/codes/oss/temp/gpytorch/gpytorch/lazy/triangular_lazy_tensor.py:136: UserWarning: torch.triangular_solve is deprecated in favor of torch.linalg.solve_triangularand will be removed in a future PyTorch release.\n",
      "torch.linalg.solve_triangular has its arguments reversed and does not return a copy of one of the inputs.\n",
      "X = torch.triangular_solve(B, A).solution\n",
      "should be replaced with\n",
      "X = torch.linalg.solve_triangular(A, B). (Triggered internally at  ../aten/src/ATen/native/BatchLinearAlgebra.cpp:1672.)\n",
      "  res = torch.triangular_solve(right_tensor, self.evaluate(), upper=self.upper).solution\n"
     ]
    },
    {
     "name": "stdout",
     "output_type": "stream",
     "text": [
      "Iter 34/50 - Loss: 0.022   lengthscale: 0.267   noise: 0.071\n",
      "Iter 35/50 - Loss: 0.009   lengthscale: 0.266   noise: 0.066\n",
      "Iter 36/50 - Loss: -0.002   lengthscale: 0.266   noise: 0.062\n",
      "Iter 37/50 - Loss: -0.012   lengthscale: 0.267   noise: 0.058\n",
      "Iter 38/50 - Loss: -0.019   lengthscale: 0.269   noise: 0.054\n",
      "Iter 39/50 - Loss: -0.025   lengthscale: 0.272   noise: 0.051\n",
      "Iter 40/50 - Loss: -0.030   lengthscale: 0.275   noise: 0.049\n",
      "Iter 41/50 - Loss: -0.032   lengthscale: 0.278   noise: 0.046\n",
      "Iter 42/50 - Loss: -0.034   lengthscale: 0.280   noise: 0.044\n",
      "Iter 43/50 - Loss: -0.035   lengthscale: 0.281   noise: 0.042\n",
      "Iter 44/50 - Loss: -0.035   lengthscale: 0.281   noise: 0.041\n",
      "Iter 45/50 - Loss: -0.034   lengthscale: 0.280   noise: 0.040\n",
      "Iter 46/50 - Loss: -0.034   lengthscale: 0.278   noise: 0.038\n",
      "Iter 47/50 - Loss: -0.032   lengthscale: 0.275   noise: 0.037\n",
      "Iter 48/50 - Loss: -0.031   lengthscale: 0.273   noise: 0.037\n",
      "Iter 49/50 - Loss: -0.030   lengthscale: 0.271   noise: 0.036\n",
      "Iter 50/50 - Loss: -0.029   lengthscale: 0.270   noise: 0.035\n"
     ]
    }
   ],
   "source": [
    "training_iter = 50\n",
    "\n",
    "# Find optimal model hyperparameters\n",
    "model.train()\n",
    "likelihood.train()\n",
    "\n",
    "optimizer = torch.optim.Adam(model.parameters(), lr=0.1)\n",
    "\n",
    "# \"Loss\" for GPs - The marginal log likelihood\n",
    "mll = gpt.mlls.ExactMarginalLogLikelihood(likelihood, model)\n",
    "\n",
    "for i in range(training_iter):\n",
    "    optimizer.zero_grad()\n",
    "    output = model(train_x)\n",
    "    \n",
    "    loss = -mll(output, train_y)\n",
    "    loss.backward()\n",
    "    print('Iter %d/%d - Loss: %.3f   lengthscale: %.3f   noise: %.3f' % (\n",
    "        i + 1, training_iter, loss.item(),\n",
    "        model.covar_module.base_kernel.lengthscale.item(),\n",
    "        model.likelihood.noise.item()\n",
    "    ))\n",
    "    optimizer.step()"
   ]
  },
  {
   "cell_type": "code",
   "execution_count": 10,
   "id": "28508ad0-711a-47ae-86c3-99f4eb7b781a",
   "metadata": {},
   "outputs": [
    {
     "name": "stdout",
     "output_type": "stream",
     "text": [
      "Parameter name: likelihood.noise_covar.raw_noise           value = -3.68184494972229\n",
      "Parameter name: mean_module.constant                       value = -0.10513433814048767\n",
      "Parameter name: covar_module.raw_outputscale               value = 0.29086971282958984\n",
      "Parameter name: covar_module.base_kernel.raw_lengthscale   value = -1.1709681749343872\n"
     ]
    }
   ],
   "source": [
    "# View model hyper parameters after training\n",
    "for param_name, param in model.named_parameters():\n",
    "    print(f'Parameter name: {param_name:42} value = {param.item()}')"
   ]
  },
  {
   "cell_type": "code",
   "execution_count": 11,
   "id": "4b8cde01-c06c-4646-82b9-199ea0ed3bd5",
   "metadata": {},
   "outputs": [
    {
     "data": {
      "text/plain": [
       "OrderedDict([('likelihood.noise_covar.raw_noise', tensor([-3.6818])),\n",
       "             ('likelihood.noise_covar.raw_noise_constraint.lower_bound',\n",
       "              tensor(0.0100)),\n",
       "             ('likelihood.noise_covar.raw_noise_constraint.upper_bound',\n",
       "              tensor(inf)),\n",
       "             ('mean_module.constant', tensor([-0.1051])),\n",
       "             ('covar_module.raw_outputscale', tensor(0.2909)),\n",
       "             ('covar_module.base_kernel.raw_lengthscale', tensor([[-1.1710]])),\n",
       "             ('covar_module.base_kernel.raw_lengthscale_constraint.lower_bound',\n",
       "              tensor(0.)),\n",
       "             ('covar_module.base_kernel.raw_lengthscale_constraint.upper_bound',\n",
       "              tensor(inf)),\n",
       "             ('covar_module.raw_outputscale_constraint.lower_bound',\n",
       "              tensor(0.)),\n",
       "             ('covar_module.raw_outputscale_constraint.upper_bound',\n",
       "              tensor(inf))])"
      ]
     },
     "execution_count": 11,
     "metadata": {},
     "output_type": "execute_result"
    }
   ],
   "source": [
    "# Getting Model State\n",
    "model.state_dict()"
   ]
  },
  {
   "cell_type": "markdown",
   "id": "0894e402-287c-43c2-a0c1-69526dd8132b",
   "metadata": {},
   "source": [
    "### Make predictions with the model"
   ]
  },
  {
   "cell_type": "code",
   "execution_count": 12,
   "id": "4f501cc7-f5c3-4b3e-b4f8-a1744efcf0f2",
   "metadata": {},
   "outputs": [],
   "source": [
    "# Get into evaluation - posterior predictive - mode\n",
    "model.eval()\n",
    "likelihood.eval()\n",
    "\n",
    "with torch.no_grad(), gpt.settings.fast_pred_var():\n",
    "    test_x = torch.linspace(0, 1, 51)\n",
    "    observed_pred = likelihood(model(test_x))"
   ]
  },
  {
   "cell_type": "code",
   "execution_count": 13,
   "id": "d52bca78-8bb9-4855-b0e6-43bcd742ea6b",
   "metadata": {},
   "outputs": [],
   "source": [
    "with torch.no_grad():\n",
    "    f_preds = model(test_x)"
   ]
  },
  {
   "cell_type": "markdown",
   "id": "830ea1ca-1422-4d48-9279-275351535901",
   "metadata": {},
   "source": [
    "### Plot the model fit"
   ]
  },
  {
   "cell_type": "code",
   "execution_count": 14,
   "id": "a4414d20-e459-4903-81c5-9d1d4eb3ed54",
   "metadata": {},
   "outputs": [
    {
     "data": {
      "text/plain": [
       "MultivariateNormal(loc: torch.Size([51]))"
      ]
     },
     "execution_count": 14,
     "metadata": {},
     "output_type": "execute_result"
    }
   ],
   "source": [
    "observed_pred"
   ]
  },
  {
   "cell_type": "code",
   "execution_count": 15,
   "id": "f3a0cb7a-f134-4a3b-8580-0192f236530c",
   "metadata": {},
   "outputs": [
    {
     "data": {
      "image/png": "[encoded data removed]",
      "text/plain": [
       "<Figure size 288x216 with 1 Axes>"
      ]
     },
     "metadata": {
      "needs_background": "light"
     },
     "output_type": "display_data"
    }
   ],
   "source": [
    "with torch.no_grad():\n",
    "    f, ax = plt.subplots(1,1,figsize=(4,3))\n",
    "    lower, upper = observed_pred.confidence_region()\n",
    "    ax.plot(train_x.numpy(), train_y.numpy(), 'k*')\n",
    "    ax.plot(test_x.numpy(), observed_pred.mean.numpy(), 'b')\n",
    "    ax.fill_between(test_x.numpy(), lower.numpy(), upper.numpy(), alpha=0.5)\n",
    "    ax.set_ylim([-3,3])\n",
    "    ax.legend([\"Observed Data\", \"Mean\", \"Confidence\"])"
   ]
  },
  {
   "cell_type": "code",
   "execution_count": 18,
   "id": "4bd0f1f3-0740-468e-b900-820575c40f95",
   "metadata": {},
   "outputs": [
    {
     "name": "stdout",
     "output_type": "stream",
     "text": [
      "Last updated: Sun Sep 04 2022\n",
      "\n",
      "Python implementation: CPython\n",
      "Python version       : 3.8.13\n",
      "IPython version      : 8.4.0\n",
      "\n",
      "torch     : 1.11.0\n",
      "gpytorch  : 1.8.0\n",
      "matplotlib: 3.5.2\n",
      "\n",
      "Watermark: 2.3.1\n",
      "\n"
     ]
    }
   ],
   "source": [
    "%load_ext watermark\n",
    "%watermark -n -u -v -iv -w"
   ]
  },
  {
   "cell_type": "code",
   "execution_count": null,
   "id": "73db45c4-3374-42f0-9eb8-847ee521e789",
   "metadata": {},
   "outputs": [],
   "source": []
  }
 ],
 "metadata": {
  "kernelspec": {
   "display_name": "Python 3 (ipykernel)",
   "language": "python",
   "name": "python3"
  },
  "language_info": {
   "codemirror_mode": {
    "name": "ipython",
    "version": 3
   },
   "file_extension": ".py",
   "mimetype": "text/x-python",
   "name": "python",
   "nbconvert_exporter": "python",
   "pygments_lexer": "ipython3",
   "version": "3.8.13"
  }
 },
 "nbformat": 4,
 "nbformat_minor": 5
}

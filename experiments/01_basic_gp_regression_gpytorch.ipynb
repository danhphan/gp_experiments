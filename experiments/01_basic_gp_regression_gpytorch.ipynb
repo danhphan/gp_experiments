{
 "cells": [
  {
   "cell_type": "markdown",
   "id": "6c0a0c69-096d-4cc1-887a-ea2ea5a6dc18",
   "metadata": {},
   "source": [
    "# Simple GP Regression\n",
    "Source: https://docs.gpytorch.ai/en/latest/examples/01_Exact_GPs/Simple_GP_Regression.html"
   ]
  },
  {
   "cell_type": "code",
   "execution_count": 1,
   "id": "d1beabb7-b9c2-4500-86d6-aa59abdb8e7c",
   "metadata": {
    "tags": []
   },
   "outputs": [],
   "source": [
    "import math\n",
    "import torch\n",
    "import gpytorch as gpt\n",
    "from matplotlib import pyplot as plt\n",
    "\n",
    "%matplotlib inline\n",
    "%load_ext autoreload\n",
    "%autoreload 2"
   ]
  },
  {
   "cell_type": "code",
   "execution_count": 2,
   "id": "485fac9b-66ae-42bf-afad-248b918e8486",
   "metadata": {},
   "outputs": [],
   "source": [
    "# Training data is 100 points in [0,1] inclusive regularly spaced\n",
    "train_x = torch.linspace(0, 1, 100)\n",
    "# True function is sin(2*pi*x) with Gaussian noise\n",
    "train_y = torch.sin(train_x * (2 * math.pi)) + torch.randn(train_x.size()) * math.sqrt(0.04)"
   ]
  },
  {
   "cell_type": "code",
   "execution_count": 3,
   "id": "1c2bbb28-2e1e-4b2e-bb98-62839dfd5933",
   "metadata": {},
   "outputs": [
    {
     "data": {
      "text/plain": [
       "(torch.Size([100]), torch.Size([100]))"
      ]
     },
     "execution_count": 3,
     "metadata": {},
     "output_type": "execute_result"
    }
   ],
   "source": [
    "train_x.shape, train_y.shape"
   ]
  },
  {
   "cell_type": "markdown",
   "id": "f3332a4d-b801-417d-997e-08d1e4b38b36",
   "metadata": {},
   "source": [
    "### Setting up the model"
   ]
  },
  {
   "cell_type": "code",
   "execution_count": 17,
   "id": "e85c6aee-21e5-49f5-9db5-edf2222135d0",
   "metadata": {},
   "outputs": [],
   "source": [
    "from IPython.core.debugger import set_trace"
   ]
  },
  {
   "cell_type": "code",
   "execution_count": 18,
   "id": "36b0dacb-4885-462e-b529-29f35d04cbed",
   "metadata": {},
   "outputs": [],
   "source": [
    "# A basic GP model with exact inference\n",
    "\n",
    "class ExactGPModel(gpt.models.ExactGP):\n",
    "    def __init__(self, train_x, train_y, likelihood):\n",
    "        super(ExactGPModel, self).__init__(train_x, train_y, likelihood)\n",
    "        self.mean_module = gpt.means.ConstantMean()\n",
    "        self.covar_module = gpt.kernels.ScaleKernel(gpt.kernels.RBFKernel())\n",
    "        \n",
    "    def forward(self, x):\n",
    "        #set_trace()\n",
    "        mean_x = self.mean_module(x)\n",
    "        covar_x = self.covar_module(x)\n",
    "        return gpt.distributions.MultivariateNormal(mean_x, covar_x)\n",
    "    \n",
    "# Initialize likelihood and model\n",
    "likelihood = gpt.likelihoods.GaussianLikelihood(\n",
    "    noise_constraint=gpt.constraints.GreaterThan(1e-2),\n",
    ")\n",
    "model = ExactGPModel(train_x, train_y, likelihood)"
   ]
  },
  {
   "cell_type": "code",
   "execution_count": 19,
   "id": "202cae80-8c86-432d-8a90-656f5d239bf8",
   "metadata": {},
   "outputs": [
    {
     "data": {
      "text/plain": [
       "(ConstantMean(),\n",
       " ScaleKernel(\n",
       "   (base_kernel): RBFKernel(\n",
       "     (raw_lengthscale_constraint): Positive()\n",
       "   )\n",
       "   (raw_outputscale_constraint): Positive()\n",
       " ))"
      ]
     },
     "execution_count": 19,
     "metadata": {},
     "output_type": "execute_result"
    }
   ],
   "source": [
    "model.mean_module, model.covar_module"
   ]
  },
  {
   "cell_type": "code",
   "execution_count": 20,
   "id": "1366b0ea-d836-47d6-9b05-6ab68450793f",
   "metadata": {},
   "outputs": [
    {
     "name": "stdout",
     "output_type": "stream",
     "text": [
      "Parameter name: likelihood.noise_covar.raw_noise           value = 0.0\n",
      "Parameter name: mean_module.constant                       value = 0.0\n",
      "Parameter name: covar_module.raw_outputscale               value = 0.0\n",
      "Parameter name: covar_module.base_kernel.raw_lengthscale   value = 0.0\n"
     ]
    }
   ],
   "source": [
    "# View model hyper parameters\n",
    "for param_name, param in model.named_parameters():\n",
    "    print(f'Parameter name: {param_name:42} value = {param.item()}')"
   ]
  },
  {
   "cell_type": "code",
   "execution_count": 21,
   "id": "80dba989-5b7f-41e5-99da-b62104d5b52e",
   "metadata": {},
   "outputs": [
    {
     "name": "stdout",
     "output_type": "stream",
     "text": [
      "1.0 0.5 2.0\n"
     ]
    }
   ],
   "source": [
    "# Initializing hyperparameters in One Call\n",
    "hypers = {\n",
    "    'likelihood.noise_covar.noise': torch.tensor(1.),\n",
    "    'covar_module.base_kernel.lengthscale': torch.tensor(0.5),\n",
    "    'covar_module.outputscale': torch.tensor(2.),\n",
    "}\n",
    "\n",
    "model.initialize(**hypers)\n",
    "print(\n",
    "    model.likelihood.noise_covar.noise.item(),\n",
    "    model.covar_module.base_kernel.lengthscale.item(),\n",
    "    model.covar_module.outputscale.item()\n",
    ")"
   ]
  },
  {
   "cell_type": "markdown",
   "id": "6c8ec6da-633c-44b7-8e4f-04db90f7ca1e",
   "metadata": {},
   "source": [
    "### Training the model"
   ]
  },
  {
   "cell_type": "code",
   "execution_count": 22,
   "id": "eb09ca14-28eb-4442-a7dd-7c00877b2db7",
   "metadata": {},
   "outputs": [
    {
     "name": "stdout",
     "output_type": "stream",
     "text": [
      "Iter 1/50 - Loss: 1.052   lengthscale: 0.500   noise: 1.000\n",
      "Iter 2/50 - Loss: 1.015   lengthscale: 0.462   noise: 0.938\n",
      "Iter 3/50 - Loss: 0.977   lengthscale: 0.426   noise: 0.879\n",
      "Iter 4/50 - Loss: 0.940   lengthscale: 0.392   noise: 0.822\n",
      "Iter 5/50 - Loss: 0.903   lengthscale: 0.361   noise: 0.767\n",
      "Iter 6/50 - Loss: 0.868   lengthscale: 0.334   noise: 0.715\n",
      "Iter 7/50 - Loss: 0.835   lengthscale: 0.310   noise: 0.665\n",
      "Iter 8/50 - Loss: 0.802   lengthscale: 0.290   noise: 0.618\n",
      "Iter 9/50 - Loss: 0.769   lengthscale: 0.275   noise: 0.573\n",
      "Iter 10/50 - Loss: 0.736   lengthscale: 0.264   noise: 0.531\n",
      "Iter 11/50 - Loss: 0.701   lengthscale: 0.256   noise: 0.491\n",
      "Iter 12/50 - Loss: 0.666   lengthscale: 0.252   noise: 0.453\n",
      "Iter 13/50 - Loss: 0.630   lengthscale: 0.250   noise: 0.418\n",
      "Iter 14/50 - Loss: 0.594   lengthscale: 0.250   noise: 0.385\n",
      "Iter 15/50 - Loss: 0.556   lengthscale: 0.253   noise: 0.354\n",
      "Iter 16/50 - Loss: 0.519   lengthscale: 0.257   noise: 0.325\n",
      "Iter 17/50 - Loss: 0.481   lengthscale: 0.263   noise: 0.298\n",
      "Iter 18/50 - Loss: 0.443   lengthscale: 0.270   noise: 0.273\n",
      "Iter 19/50 - Loss: 0.405   lengthscale: 0.278   noise: 0.250\n",
      "Iter 20/50 - Loss: 0.367   lengthscale: 0.287   noise: 0.229\n",
      "Iter 21/50 - Loss: 0.331   lengthscale: 0.295   noise: 0.210\n",
      "Iter 22/50 - Loss: 0.295   lengthscale: 0.303   noise: 0.192\n",
      "Iter 23/50 - Loss: 0.260   lengthscale: 0.310   noise: 0.175\n",
      "Iter 24/50 - Loss: 0.226   lengthscale: 0.314   noise: 0.160\n",
      "Iter 25/50 - Loss: 0.193   lengthscale: 0.315   noise: 0.147\n",
      "Iter 26/50 - Loss: 0.160   lengthscale: 0.313   noise: 0.134\n",
      "Iter 27/50 - Loss: 0.128   lengthscale: 0.309   noise: 0.123\n",
      "Iter 28/50 - Loss: 0.097   lengthscale: 0.303   noise: 0.113\n",
      "Iter 29/50 - Loss: 0.068   lengthscale: 0.296   noise: 0.103\n",
      "Iter 30/50 - Loss: 0.040   lengthscale: 0.288   noise: 0.095\n",
      "Iter 31/50 - Loss: 0.014   lengthscale: 0.281   noise: 0.087\n",
      "Iter 32/50 - Loss: -0.011   lengthscale: 0.275   noise: 0.081\n",
      "Iter 33/50 - Loss: -0.033   lengthscale: 0.269   noise: 0.074\n",
      "Iter 34/50 - Loss: -0.054   lengthscale: 0.265   noise: 0.069\n",
      "Iter 35/50 - Loss: -0.072   lengthscale: 0.262   noise: 0.064\n",
      "Iter 36/50 - Loss: -0.089   lengthscale: 0.260   noise: 0.059\n",
      "Iter 37/50 - Loss: -0.105   lengthscale: 0.259   noise: 0.055\n",
      "Iter 38/50 - Loss: -0.118   lengthscale: 0.259   noise: 0.052\n",
      "Iter 39/50 - Loss: -0.129   lengthscale: 0.259   noise: 0.049\n",
      "Iter 40/50 - Loss: -0.139   lengthscale: 0.259   noise: 0.046\n",
      "Iter 41/50 - Loss: -0.147   lengthscale: 0.260   noise: 0.043\n",
      "Iter 42/50 - Loss: -0.154   lengthscale: 0.260   noise: 0.041\n",
      "Iter 43/50 - Loss: -0.159   lengthscale: 0.260   noise: 0.039\n",
      "Iter 44/50 - Loss: -0.163   lengthscale: 0.259   noise: 0.037\n",
      "Iter 45/50 - Loss: -0.166   lengthscale: 0.258   noise: 0.036\n",
      "Iter 46/50 - Loss: -0.168   lengthscale: 0.256   noise: 0.034\n",
      "Iter 47/50 - Loss: -0.170   lengthscale: 0.254   noise: 0.033\n",
      "Iter 48/50 - Loss: -0.170   lengthscale: 0.250   noise: 0.032\n",
      "Iter 49/50 - Loss: -0.171   lengthscale: 0.247   noise: 0.031\n",
      "Iter 50/50 - Loss: -0.171   lengthscale: 0.243   noise: 0.030\n"
     ]
    }
   ],
   "source": [
    "training_iter = 50\n",
    "\n",
    "# Find optimal model hyperparameters\n",
    "model.train()\n",
    "likelihood.train()\n",
    "\n",
    "optimizer = torch.optim.Adam(model.parameters(), lr=0.1)\n",
    "\n",
    "# \"Loss\" for GPs - The marginal log likelihood\n",
    "mll = gpt.mlls.ExactMarginalLogLikelihood(likelihood, model)\n",
    "\n",
    "for i in range(training_iter):\n",
    "    optimizer.zero_grad()\n",
    "    output = model(train_x)\n",
    "    \n",
    "    loss = -mll(output, train_y)\n",
    "    loss.backward()\n",
    "    print('Iter %d/%d - Loss: %.3f   lengthscale: %.3f   noise: %.3f' % (\n",
    "        i + 1, training_iter, loss.item(),\n",
    "        model.covar_module.base_kernel.lengthscale.item(),\n",
    "        model.likelihood.noise.item()\n",
    "    ))\n",
    "    optimizer.step()"
   ]
  },
  {
   "cell_type": "code",
   "execution_count": 23,
   "id": "28508ad0-711a-47ae-86c3-99f4eb7b781a",
   "metadata": {},
   "outputs": [
    {
     "name": "stdout",
     "output_type": "stream",
     "text": [
      "Parameter name: likelihood.noise_covar.raw_noise           value = -3.9291610717773438\n",
      "Parameter name: mean_module.constant                       value = -0.041656024754047394\n",
      "Parameter name: covar_module.raw_outputscale               value = -0.02796330861747265\n",
      "Parameter name: covar_module.base_kernel.raw_lengthscale   value = -1.308680534362793\n"
     ]
    }
   ],
   "source": [
    "# View model hyper parameters after training\n",
    "for param_name, param in model.named_parameters():\n",
    "    print(f'Parameter name: {param_name:42} value = {param.item()}')"
   ]
  },
  {
   "cell_type": "code",
   "execution_count": 24,
   "id": "4b8cde01-c06c-4646-82b9-199ea0ed3bd5",
   "metadata": {},
   "outputs": [
    {
     "data": {
      "text/plain": [
       "OrderedDict([('likelihood.noise_covar.raw_noise', tensor([-3.9292])),\n",
       "             ('likelihood.noise_covar.raw_noise_constraint.lower_bound',\n",
       "              tensor(0.0100)),\n",
       "             ('likelihood.noise_covar.raw_noise_constraint.upper_bound',\n",
       "              tensor(inf)),\n",
       "             ('mean_module.constant', tensor([-0.0417])),\n",
       "             ('covar_module.raw_outputscale', tensor(-0.0280)),\n",
       "             ('covar_module.base_kernel.raw_lengthscale', tensor([[-1.3087]])),\n",
       "             ('covar_module.base_kernel.raw_lengthscale_constraint.lower_bound',\n",
       "              tensor(0.)),\n",
       "             ('covar_module.base_kernel.raw_lengthscale_constraint.upper_bound',\n",
       "              tensor(inf)),\n",
       "             ('covar_module.raw_outputscale_constraint.lower_bound',\n",
       "              tensor(0.)),\n",
       "             ('covar_module.raw_outputscale_constraint.upper_bound',\n",
       "              tensor(inf))])"
      ]
     },
     "execution_count": 24,
     "metadata": {},
     "output_type": "execute_result"
    }
   ],
   "source": [
    "# Getting Model State\n",
    "model.state_dict()"
   ]
  },
  {
   "cell_type": "markdown",
   "id": "0894e402-287c-43c2-a0c1-69526dd8132b",
   "metadata": {},
   "source": [
    "### Make predictions with the model"
   ]
  },
  {
   "cell_type": "code",
   "execution_count": 25,
   "id": "4f501cc7-f5c3-4b3e-b4f8-a1744efcf0f2",
   "metadata": {},
   "outputs": [],
   "source": [
    "# Get into evaluation - posterior predictive - mode\n",
    "model.eval()\n",
    "likelihood.eval()\n",
    "\n",
    "with torch.no_grad(), gpt.settings.fast_pred_var():\n",
    "    test_x = torch.linspace(0, 1, 51)\n",
    "    observed_pred = likelihood(model(test_x))"
   ]
  },
  {
   "cell_type": "code",
   "execution_count": 26,
   "id": "d52bca78-8bb9-4855-b0e6-43bcd742ea6b",
   "metadata": {},
   "outputs": [],
   "source": [
    "with torch.no_grad():\n",
    "    f_preds = model(test_x)"
   ]
  },
  {
   "cell_type": "markdown",
   "id": "830ea1ca-1422-4d48-9279-275351535901",
   "metadata": {},
   "source": [
    "### Plot the model fit"
   ]
  },
  {
   "cell_type": "code",
   "execution_count": 27,
   "id": "a4414d20-e459-4903-81c5-9d1d4eb3ed54",
   "metadata": {},
   "outputs": [
    {
     "data": {
      "text/plain": [
       "MultivariateNormal(loc: torch.Size([51]))"
      ]
     },
     "execution_count": 27,
     "metadata": {},
     "output_type": "execute_result"
    }
   ],
   "source": [
    "observed_pred"
   ]
  },
  {
   "cell_type": "code",
   "execution_count": 28,
   "id": "f3a0cb7a-f134-4a3b-8580-0192f236530c",
   "metadata": {},
   "outputs": [
    {
     "data": {
      "image/png": "[encoded data removed]",
      "text/plain": [
       "<Figure size 288x216 with 1 Axes>"
      ]
     },
     "metadata": {
      "needs_background": "light"
     },
     "output_type": "display_data"
    }
   ],
   "source": [
    "with torch.no_grad():\n",
    "    f, ax = plt.subplots(1,1,figsize=(4,3))\n",
    "    lower, upper = observed_pred.confidence_region()\n",
    "    ax.plot(train_x.numpy(), train_y.numpy(), 'k*')\n",
    "    ax.plot(test_x.numpy(), observed_pred.mean.numpy(), 'b')\n",
    "    ax.fill_between(test_x.numpy(), lower.numpy(), upper.numpy(), alpha=0.5)\n",
    "    ax.set_ylim([-3,3])\n",
    "    ax.legend([\"Observed Data\", \"Mean\", \"Confidence\"])"
   ]
  },
  {
   "cell_type": "code",
   "execution_count": null,
   "id": "4bd0f1f3-0740-468e-b900-820575c40f95",
   "metadata": {},
   "outputs": [],
   "source": []
  }
 ],
 "metadata": {
  "kernelspec": {
   "display_name": "Python 3",
   "language": "python",
   "name": "python3"
  },
  "language_info": {
   "codemirror_mode": {
    "name": "ipython",
    "version": 3
   },
   "file_extension": ".py",
   "mimetype": "text/x-python",
   "name": "python",
   "nbconvert_exporter": "python",
   "pygments_lexer": "ipython3",
   "version": "3.8.5"
  }
 },
 "nbformat": 4,
 "nbformat_minor": 5
}

{
 "cells": [
  {
   "cell_type": "code",
   "execution_count": 1,
   "id": "d4eb6cee-8284-41bf-b9bb-f2a4d1ef61a9",
   "metadata": {},
   "outputs": [],
   "source": [
    "import numpy as np\n",
    "import pandas as pd\n",
    "import pymc as pm"
   ]
  },
  {
   "cell_type": "code",
   "execution_count": 2,
   "id": "43f270d3-4e96-4c47-8950-af0f936ad4e3",
   "metadata": {},
   "outputs": [
    {
     "data": {
      "text/plain": [
       "(96, 6)"
      ]
     },
     "execution_count": 2,
     "metadata": {},
     "output_type": "execute_result"
    }
   ],
   "source": [
    "df = pd.read_csv(\"../data/economy/econ_metrics.csv\")\n",
    "df.shape"
   ]
  },
  {
   "cell_type": "code",
   "execution_count": 3,
   "id": "553f65cf-e717-41aa-b8ae-ec2244a07884",
   "metadata": {},
   "outputs": [
    {
     "data": {
      "text/html": [
       "<div>\n",
       "<style scoped>\n",
       "    .dataframe tbody tr th:only-of-type {\n",
       "        vertical-align: middle;\n",
       "    }\n",
       "\n",
       "    .dataframe tbody tr th {\n",
       "        vertical-align: top;\n",
       "    }\n",
       "\n",
       "    .dataframe thead th {\n",
       "        text-align: right;\n",
       "    }\n",
       "</style>\n",
       "<table border=\"1\" class=\"dataframe\">\n",
       "  <thead>\n",
       "    <tr style=\"text-align: right;\">\n",
       "      <th></th>\n",
       "      <th>Date</th>\n",
       "      <th>Fed Rate</th>\n",
       "      <th>unemployment</th>\n",
       "      <th>sp500</th>\n",
       "      <th>nasdaq</th>\n",
       "      <th>bitcoin</th>\n",
       "    </tr>\n",
       "  </thead>\n",
       "  <tbody>\n",
       "    <tr>\n",
       "      <th>0</th>\n",
       "      <td>2014-09-01</td>\n",
       "      <td>0.09</td>\n",
       "      <td>5.9</td>\n",
       "      <td>1993.226190</td>\n",
       "      <td>4543.620019</td>\n",
       "      <td>365.504008</td>\n",
       "    </tr>\n",
       "    <tr>\n",
       "      <th>1</th>\n",
       "      <td>2014-10-01</td>\n",
       "      <td>0.09</td>\n",
       "      <td>5.7</td>\n",
       "      <td>1937.274348</td>\n",
       "      <td>4412.285156</td>\n",
       "      <td>362.172752</td>\n",
       "    </tr>\n",
       "    <tr>\n",
       "      <th>2</th>\n",
       "      <td>2014-11-01</td>\n",
       "      <td>0.09</td>\n",
       "      <td>5.8</td>\n",
       "      <td>2044.572105</td>\n",
       "      <td>4706.417481</td>\n",
       "      <td>374.191498</td>\n",
       "    </tr>\n",
       "    <tr>\n",
       "      <th>3</th>\n",
       "      <td>2014-12-01</td>\n",
       "      <td>0.12</td>\n",
       "      <td>5.6</td>\n",
       "      <td>2054.266364</td>\n",
       "      <td>4746.681934</td>\n",
       "      <td>325.800800</td>\n",
       "    </tr>\n",
       "    <tr>\n",
       "      <th>4</th>\n",
       "      <td>2015-01-01</td>\n",
       "      <td>0.11</td>\n",
       "      <td>5.7</td>\n",
       "      <td>2028.178500</td>\n",
       "      <td>4682.892456</td>\n",
       "      <td>239.172253</td>\n",
       "    </tr>\n",
       "  </tbody>\n",
       "</table>\n",
       "</div>"
      ],
      "text/plain": [
       "         Date  Fed Rate  unemployment        sp500       nasdaq     bitcoin\n",
       "0  2014-09-01      0.09           5.9  1993.226190  4543.620019  365.504008\n",
       "1  2014-10-01      0.09           5.7  1937.274348  4412.285156  362.172752\n",
       "2  2014-11-01      0.09           5.8  2044.572105  4706.417481  374.191498\n",
       "3  2014-12-01      0.12           5.6  2054.266364  4746.681934  325.800800\n",
       "4  2015-01-01      0.11           5.7  2028.178500  4682.892456  239.172253"
      ]
     },
     "execution_count": 3,
     "metadata": {},
     "output_type": "execute_result"
    }
   ],
   "source": [
    "df.head()"
   ]
  },
  {
   "cell_type": "code",
   "execution_count": 5,
   "id": "d2589b9e-b974-4154-9b5b-7a84ac35fb67",
   "metadata": {},
   "outputs": [],
   "source": [
    "df = df.set_index(\"Date\")"
   ]
  },
  {
   "cell_type": "code",
   "execution_count": 6,
   "id": "b839ee04-1b9d-4d98-ae66-9dfd4d853568",
   "metadata": {},
   "outputs": [],
   "source": [
    "columns = [\"sp500\", \"nasdaq\", \"bitcoin\"]\n",
    "df[columns] = (df[columns] - df[columns].mean()) / df[columns].std()"
   ]
  },
  {
   "cell_type": "code",
   "execution_count": 7,
   "id": "f1979e43-876f-451c-aba6-08c4787af67c",
   "metadata": {},
   "outputs": [
    {
     "data": {
      "text/html": [
       "<div>\n",
       "<style scoped>\n",
       "    .dataframe tbody tr th:only-of-type {\n",
       "        vertical-align: middle;\n",
       "    }\n",
       "\n",
       "    .dataframe tbody tr th {\n",
       "        vertical-align: top;\n",
       "    }\n",
       "\n",
       "    .dataframe thead th {\n",
       "        text-align: right;\n",
       "    }\n",
       "</style>\n",
       "<table border=\"1\" class=\"dataframe\">\n",
       "  <thead>\n",
       "    <tr style=\"text-align: right;\">\n",
       "      <th></th>\n",
       "      <th>Fed Rate</th>\n",
       "      <th>unemployment</th>\n",
       "      <th>sp500</th>\n",
       "      <th>nasdaq</th>\n",
       "      <th>bitcoin</th>\n",
       "    </tr>\n",
       "    <tr>\n",
       "      <th>Date</th>\n",
       "      <th></th>\n",
       "      <th></th>\n",
       "      <th></th>\n",
       "      <th></th>\n",
       "      <th></th>\n",
       "    </tr>\n",
       "  </thead>\n",
       "  <tbody>\n",
       "    <tr>\n",
       "      <th>2014-09-01</th>\n",
       "      <td>0.09</td>\n",
       "      <td>5.9</td>\n",
       "      <td>-1.117986</td>\n",
       "      <td>-1.107527</td>\n",
       "      <td>-0.745027</td>\n",
       "    </tr>\n",
       "    <tr>\n",
       "      <th>2014-10-01</th>\n",
       "      <td>0.09</td>\n",
       "      <td>5.7</td>\n",
       "      <td>-1.186684</td>\n",
       "      <td>-1.146440</td>\n",
       "      <td>-0.745230</td>\n",
       "    </tr>\n",
       "    <tr>\n",
       "      <th>2014-11-01</th>\n",
       "      <td>0.09</td>\n",
       "      <td>5.8</td>\n",
       "      <td>-1.054943</td>\n",
       "      <td>-1.059293</td>\n",
       "      <td>-0.744497</td>\n",
       "    </tr>\n",
       "    <tr>\n",
       "      <th>2014-12-01</th>\n",
       "      <td>0.12</td>\n",
       "      <td>5.6</td>\n",
       "      <td>-1.043040</td>\n",
       "      <td>-1.047364</td>\n",
       "      <td>-0.747449</td>\n",
       "    </tr>\n",
       "    <tr>\n",
       "      <th>2015-01-01</th>\n",
       "      <td>0.11</td>\n",
       "      <td>5.7</td>\n",
       "      <td>-1.075071</td>\n",
       "      <td>-1.066263</td>\n",
       "      <td>-0.752733</td>\n",
       "    </tr>\n",
       "  </tbody>\n",
       "</table>\n",
       "</div>"
      ],
      "text/plain": [
       "            Fed Rate  unemployment     sp500    nasdaq   bitcoin\n",
       "Date                                                            \n",
       "2014-09-01      0.09           5.9 -1.117986 -1.107527 -0.745027\n",
       "2014-10-01      0.09           5.7 -1.186684 -1.146440 -0.745230\n",
       "2014-11-01      0.09           5.8 -1.054943 -1.059293 -0.744497\n",
       "2014-12-01      0.12           5.6 -1.043040 -1.047364 -0.747449\n",
       "2015-01-01      0.11           5.7 -1.075071 -1.066263 -0.752733"
      ]
     },
     "execution_count": 7,
     "metadata": {},
     "output_type": "execute_result"
    }
   ],
   "source": [
    "df.head()"
   ]
  },
  {
   "cell_type": "code",
   "execution_count": 8,
   "id": "5a95a5ac-e410-48b0-b398-2d2562310b87",
   "metadata": {},
   "outputs": [
    {
     "data": {
      "text/plain": [
       "<AxesSubplot:xlabel='Date'>"
      ]
     },
     "execution_count": 8,
     "metadata": {},
     "output_type": "execute_result"
    },
    {
     "data": {
      "image/png": "[encoded data removed]",
      "text/plain": [
       "<Figure size 432x288 with 1 Axes>"
      ]
     },
     "metadata": {
      "needs_background": "light"
     },
     "output_type": "display_data"
    }
   ],
   "source": [
    "df.plot()"
   ]
  },
  {
   "cell_type": "code",
   "execution_count": null,
   "id": "a930189f-e002-45eb-aaa6-78dd263cb77e",
   "metadata": {},
   "outputs": [],
   "source": []
  }
 ],
 "metadata": {
  "kernelspec": {
   "display_name": "Python 3 (ipykernel)",
   "language": "python",
   "name": "python3"
  },
  "language_info": {
   "codemirror_mode": {
    "name": "ipython",
    "version": 3
   },
   "file_extension": ".py",
   "mimetype": "text/x-python",
   "name": "python",
   "nbconvert_exporter": "python",
   "pygments_lexer": "ipython3",
   "version": "3.9.12"
  }
 },
 "nbformat": 4,
 "nbformat_minor": 5
}

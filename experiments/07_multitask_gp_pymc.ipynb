{
 "cells": [
  {
   "cell_type": "markdown",
   "id": "dbafafc7-b5a9-4ee7-922f-0886efe5a7ac",
   "metadata": {},
   "source": [
    "## Spatial prediction of soil pollutants with multi-output Gaussian processes\n",
    "Source: https://nextjournal.com/essicolo/spatial-prediction-of-soil-pollutants-with-multi-output-gaussian-processes?version=latest"
   ]
  },
  {
   "cell_type": "code",
   "execution_count": 40,
   "id": "f5515663-d761-4fcc-8bf1-73f9d436e9b6",
   "metadata": {},
   "outputs": [],
   "source": [
    "import numpy as np\n",
    "import pandas as pd\n",
    "import pymc3 as pm\n",
    "import matplotlib.pyplot as plt\n",
    "np.random.seed(123)"
   ]
  },
  {
   "cell_type": "code",
   "execution_count": 41,
   "id": "5e462545-23a5-4e56-8d57-74520bd103ef",
   "metadata": {},
   "outputs": [
    {
     "name": "stdout",
     "output_type": "stream",
     "text": [
      "3.11.4\n"
     ]
    }
   ],
   "source": [
    "print(pm.__version__)"
   ]
  },
  {
   "cell_type": "code",
   "execution_count": 42,
   "id": "24125fa0-e4ff-44cf-ad3b-b972613d8243",
   "metadata": {},
   "outputs": [
    {
     "data": {
      "text/html": [
       "<div>\n",
       "<style scoped>\n",
       "    .dataframe tbody tr th:only-of-type {\n",
       "        vertical-align: middle;\n",
       "    }\n",
       "\n",
       "    .dataframe tbody tr th {\n",
       "        vertical-align: top;\n",
       "    }\n",
       "\n",
       "    .dataframe thead th {\n",
       "        text-align: right;\n",
       "    }\n",
       "</style>\n",
       "<table border=\"1\" class=\"dataframe\">\n",
       "  <thead>\n",
       "    <tr style=\"text-align: right;\">\n",
       "      <th></th>\n",
       "      <th>x</th>\n",
       "      <th>y</th>\n",
       "      <th>cadmium</th>\n",
       "      <th>copper</th>\n",
       "      <th>lead</th>\n",
       "      <th>zinc</th>\n",
       "      <th>elev</th>\n",
       "      <th>dist</th>\n",
       "      <th>om</th>\n",
       "      <th>ffreq</th>\n",
       "      <th>soil</th>\n",
       "      <th>lime</th>\n",
       "      <th>landuse</th>\n",
       "      <th>dist.m</th>\n",
       "    </tr>\n",
       "  </thead>\n",
       "  <tbody>\n",
       "    <tr>\n",
       "      <th>0</th>\n",
       "      <td>181072</td>\n",
       "      <td>333611</td>\n",
       "      <td>11.7</td>\n",
       "      <td>85</td>\n",
       "      <td>299</td>\n",
       "      <td>1022</td>\n",
       "      <td>7.909</td>\n",
       "      <td>0.001358</td>\n",
       "      <td>13.6</td>\n",
       "      <td>1</td>\n",
       "      <td>1</td>\n",
       "      <td>1</td>\n",
       "      <td>Ah</td>\n",
       "      <td>50</td>\n",
       "    </tr>\n",
       "    <tr>\n",
       "      <th>1</th>\n",
       "      <td>181025</td>\n",
       "      <td>333558</td>\n",
       "      <td>8.6</td>\n",
       "      <td>81</td>\n",
       "      <td>277</td>\n",
       "      <td>1141</td>\n",
       "      <td>6.983</td>\n",
       "      <td>0.012224</td>\n",
       "      <td>14.0</td>\n",
       "      <td>1</td>\n",
       "      <td>1</td>\n",
       "      <td>1</td>\n",
       "      <td>Ah</td>\n",
       "      <td>30</td>\n",
       "    </tr>\n",
       "    <tr>\n",
       "      <th>2</th>\n",
       "      <td>181165</td>\n",
       "      <td>333537</td>\n",
       "      <td>6.5</td>\n",
       "      <td>68</td>\n",
       "      <td>199</td>\n",
       "      <td>640</td>\n",
       "      <td>7.800</td>\n",
       "      <td>0.103029</td>\n",
       "      <td>13.0</td>\n",
       "      <td>1</td>\n",
       "      <td>1</td>\n",
       "      <td>1</td>\n",
       "      <td>Ah</td>\n",
       "      <td>150</td>\n",
       "    </tr>\n",
       "    <tr>\n",
       "      <th>3</th>\n",
       "      <td>181298</td>\n",
       "      <td>333484</td>\n",
       "      <td>2.6</td>\n",
       "      <td>81</td>\n",
       "      <td>116</td>\n",
       "      <td>257</td>\n",
       "      <td>7.655</td>\n",
       "      <td>0.190094</td>\n",
       "      <td>8.0</td>\n",
       "      <td>1</td>\n",
       "      <td>2</td>\n",
       "      <td>0</td>\n",
       "      <td>Ga</td>\n",
       "      <td>270</td>\n",
       "    </tr>\n",
       "    <tr>\n",
       "      <th>4</th>\n",
       "      <td>181307</td>\n",
       "      <td>333330</td>\n",
       "      <td>2.8</td>\n",
       "      <td>48</td>\n",
       "      <td>117</td>\n",
       "      <td>269</td>\n",
       "      <td>7.480</td>\n",
       "      <td>0.277090</td>\n",
       "      <td>8.7</td>\n",
       "      <td>1</td>\n",
       "      <td>2</td>\n",
       "      <td>0</td>\n",
       "      <td>Ah</td>\n",
       "      <td>380</td>\n",
       "    </tr>\n",
       "  </tbody>\n",
       "</table>\n",
       "</div>"
      ],
      "text/plain": [
       "        x       y  cadmium  copper  lead  zinc   elev      dist    om  ffreq  \\\n",
       "0  181072  333611     11.7      85   299  1022  7.909  0.001358  13.6      1   \n",
       "1  181025  333558      8.6      81   277  1141  6.983  0.012224  14.0      1   \n",
       "2  181165  333537      6.5      68   199   640  7.800  0.103029  13.0      1   \n",
       "3  181298  333484      2.6      81   116   257  7.655  0.190094   8.0      1   \n",
       "4  181307  333330      2.8      48   117   269  7.480  0.277090   8.7      1   \n",
       "\n",
       "   soil  lime landuse  dist.m  \n",
       "0     1     1      Ah      50  \n",
       "1     1     1      Ah      30  \n",
       "2     1     1      Ah     150  \n",
       "3     2     0      Ga     270  \n",
       "4     2     0      Ah     380  "
      ]
     },
     "execution_count": 42,
     "metadata": {},
     "output_type": "execute_result"
    }
   ],
   "source": [
    "meuse_df = pd.read_csv(\"../data/meuse.csv\")\n",
    "meuse_df.head()"
   ]
  },
  {
   "cell_type": "code",
   "execution_count": 43,
   "id": "2cb8de16-45e4-4753-9368-e5a9afd0e849",
   "metadata": {},
   "outputs": [],
   "source": [
    "obs_id = meuse_df.index\n",
    "n_train = np.round(obs_id.shape[0] * 0.7, 0).astype(\"int\")\n",
    "id_train = np.random.choice(obs_id, size = n_train, replace = False)\n",
    "id_test = obs_id[~obs_id.isin(id_train)].values"
   ]
  },
  {
   "cell_type": "code",
   "execution_count": 44,
   "id": "971c259a-e7d3-4706-bd13-b3a514a5ef38",
   "metadata": {},
   "outputs": [
    {
     "data": {
      "text/plain": [
       "(108, 47)"
      ]
     },
     "execution_count": 44,
     "metadata": {},
     "output_type": "execute_result"
    }
   ],
   "source": [
    "len(id_train), len(id_test)"
   ]
  },
  {
   "cell_type": "code",
   "execution_count": 45,
   "id": "6515c8b3-8b84-46d7-9779-1a0516c0e61d",
   "metadata": {},
   "outputs": [],
   "source": [
    "targets = [\"cadmium\", \"copper\", \"lead\", \"zinc\"]\n",
    "features = [\"x\", \"y\", \"dist\"]"
   ]
  },
  {
   "cell_type": "code",
   "execution_count": 46,
   "id": "154ba958-3e1b-4d15-bf63-4e4806a5b6c2",
   "metadata": {},
   "outputs": [],
   "source": [
    "XY = meuse_df[targets + features]"
   ]
  },
  {
   "cell_type": "code",
   "execution_count": 47,
   "id": "8022be10-17f3-4868-a31d-4a67efe78aa9",
   "metadata": {},
   "outputs": [],
   "source": [
    "mean_sc = XY.loc[XY.index.isin(id_train), :].mean(axis = 0)\n",
    "std_sc = XY.loc[XY.index.isin(id_train), :].std(axis = 0)\n",
    "XY_sc = XY.apply(lambda x: (x-mean_sc)/std_sc, axis = 1)"
   ]
  },
  {
   "cell_type": "code",
   "execution_count": 48,
   "id": "7e79777f-5268-410f-8781-a591566654c3",
   "metadata": {},
   "outputs": [
    {
     "data": {
      "text/plain": [
       "((155, 7), (155, 7))"
      ]
     },
     "execution_count": 48,
     "metadata": {},
     "output_type": "execute_result"
    }
   ],
   "source": [
    "XY.shape, XY_sc.shape"
   ]
  },
  {
   "cell_type": "code",
   "execution_count": 49,
   "id": "7230785c-c8c8-497c-8730-8d8641b9282f",
   "metadata": {},
   "outputs": [
    {
     "data": {
      "text/html": [
       "<div>\n",
       "<style scoped>\n",
       "    .dataframe tbody tr th:only-of-type {\n",
       "        vertical-align: middle;\n",
       "    }\n",
       "\n",
       "    .dataframe tbody tr th {\n",
       "        vertical-align: top;\n",
       "    }\n",
       "\n",
       "    .dataframe thead th {\n",
       "        text-align: right;\n",
       "    }\n",
       "</style>\n",
       "<table border=\"1\" class=\"dataframe\">\n",
       "  <thead>\n",
       "    <tr style=\"text-align: right;\">\n",
       "      <th></th>\n",
       "      <th>cadmium</th>\n",
       "      <th>copper</th>\n",
       "      <th>lead</th>\n",
       "      <th>zinc</th>\n",
       "      <th>x</th>\n",
       "      <th>y</th>\n",
       "      <th>dist</th>\n",
       "    </tr>\n",
       "  </thead>\n",
       "  <tbody>\n",
       "    <tr>\n",
       "      <th>0</th>\n",
       "      <td>2.341026</td>\n",
       "      <td>1.897420</td>\n",
       "      <td>1.265781</td>\n",
       "      <td>1.432640</td>\n",
       "      <td>1.335194</td>\n",
       "      <td>1.794602</td>\n",
       "      <td>-1.173337</td>\n",
       "    </tr>\n",
       "    <tr>\n",
       "      <th>1</th>\n",
       "      <td>1.467739</td>\n",
       "      <td>1.724563</td>\n",
       "      <td>1.071949</td>\n",
       "      <td>1.749590</td>\n",
       "      <td>1.274062</td>\n",
       "      <td>1.744386</td>\n",
       "      <td>-1.116452</td>\n",
       "    </tr>\n",
       "    <tr>\n",
       "      <th>2</th>\n",
       "      <td>0.876157</td>\n",
       "      <td>1.162780</td>\n",
       "      <td>0.384727</td>\n",
       "      <td>0.415202</td>\n",
       "      <td>1.456158</td>\n",
       "      <td>1.724489</td>\n",
       "      <td>-0.641089</td>\n",
       "    </tr>\n",
       "    <tr>\n",
       "      <th>3</th>\n",
       "      <td>-0.222495</td>\n",
       "      <td>1.724563</td>\n",
       "      <td>-0.346548</td>\n",
       "      <td>-0.604899</td>\n",
       "      <td>1.629150</td>\n",
       "      <td>1.674274</td>\n",
       "      <td>-0.185304</td>\n",
       "    </tr>\n",
       "    <tr>\n",
       "      <th>4</th>\n",
       "      <td>-0.166154</td>\n",
       "      <td>0.298498</td>\n",
       "      <td>-0.337737</td>\n",
       "      <td>-0.572937</td>\n",
       "      <td>1.640856</td>\n",
       "      <td>1.528363</td>\n",
       "      <td>0.270120</td>\n",
       "    </tr>\n",
       "    <tr>\n",
       "      <th>...</th>\n",
       "      <td>...</td>\n",
       "      <td>...</td>\n",
       "      <td>...</td>\n",
       "      <td>...</td>\n",
       "      <td>...</td>\n",
       "      <td>...</td>\n",
       "      <td>...</td>\n",
       "    </tr>\n",
       "    <tr>\n",
       "      <th>150</th>\n",
       "      <td>-0.729566</td>\n",
       "      <td>-0.911498</td>\n",
       "      <td>-0.936854</td>\n",
       "      <td>-0.847273</td>\n",
       "      <td>-1.120508</td>\n",
       "      <td>-1.454268</td>\n",
       "      <td>1.038340</td>\n",
       "    </tr>\n",
       "    <tr>\n",
       "      <th>151</th>\n",
       "      <td>-0.081642</td>\n",
       "      <td>-0.090430</td>\n",
       "      <td>0.155653</td>\n",
       "      <td>0.031665</td>\n",
       "      <td>-1.249276</td>\n",
       "      <td>-1.350046</td>\n",
       "      <td>1.038340</td>\n",
       "    </tr>\n",
       "    <tr>\n",
       "      <th>152</th>\n",
       "      <td>-0.363348</td>\n",
       "      <td>-0.436143</td>\n",
       "      <td>-0.320116</td>\n",
       "      <td>-0.378506</td>\n",
       "      <td>-1.522421</td>\n",
       "      <td>-1.332044</td>\n",
       "      <td>0.270120</td>\n",
       "    </tr>\n",
       "    <tr>\n",
       "      <th>153</th>\n",
       "      <td>-0.729566</td>\n",
       "      <td>-0.868284</td>\n",
       "      <td>-0.919233</td>\n",
       "      <td>-0.857926</td>\n",
       "      <td>-0.753714</td>\n",
       "      <td>-1.265722</td>\n",
       "      <td>0.696856</td>\n",
       "    </tr>\n",
       "    <tr>\n",
       "      <th>154</th>\n",
       "      <td>-0.194325</td>\n",
       "      <td>-0.608999</td>\n",
       "      <td>-0.276064</td>\n",
       "      <td>-0.290612</td>\n",
       "      <td>0.756387</td>\n",
       "      <td>-1.446688</td>\n",
       "      <td>-1.116452</td>\n",
       "    </tr>\n",
       "  </tbody>\n",
       "</table>\n",
       "<p>155 rows × 7 columns</p>\n",
       "</div>"
      ],
      "text/plain": [
       "      cadmium    copper      lead      zinc         x         y      dist\n",
       "0    2.341026  1.897420  1.265781  1.432640  1.335194  1.794602 -1.173337\n",
       "1    1.467739  1.724563  1.071949  1.749590  1.274062  1.744386 -1.116452\n",
       "2    0.876157  1.162780  0.384727  0.415202  1.456158  1.724489 -0.641089\n",
       "3   -0.222495  1.724563 -0.346548 -0.604899  1.629150  1.674274 -0.185304\n",
       "4   -0.166154  0.298498 -0.337737 -0.572937  1.640856  1.528363  0.270120\n",
       "..        ...       ...       ...       ...       ...       ...       ...\n",
       "150 -0.729566 -0.911498 -0.936854 -0.847273 -1.120508 -1.454268  1.038340\n",
       "151 -0.081642 -0.090430  0.155653  0.031665 -1.249276 -1.350046  1.038340\n",
       "152 -0.363348 -0.436143 -0.320116 -0.378506 -1.522421 -1.332044  0.270120\n",
       "153 -0.729566 -0.868284 -0.919233 -0.857926 -0.753714 -1.265722  0.696856\n",
       "154 -0.194325 -0.608999 -0.276064 -0.290612  0.756387 -1.446688 -1.116452\n",
       "\n",
       "[155 rows x 7 columns]"
      ]
     },
     "execution_count": 49,
     "metadata": {},
     "output_type": "execute_result"
    }
   ],
   "source": [
    "XY_sc"
   ]
  },
  {
   "cell_type": "code",
   "execution_count": 50,
   "id": "2f684947-76da-44bc-815b-595a5b6aedbe",
   "metadata": {},
   "outputs": [
    {
     "data": {
      "text/html": [
       "<div>\n",
       "<style scoped>\n",
       "    .dataframe tbody tr th:only-of-type {\n",
       "        vertical-align: middle;\n",
       "    }\n",
       "\n",
       "    .dataframe tbody tr th {\n",
       "        vertical-align: top;\n",
       "    }\n",
       "\n",
       "    .dataframe thead th {\n",
       "        text-align: right;\n",
       "    }\n",
       "</style>\n",
       "<table border=\"1\" class=\"dataframe\">\n",
       "  <thead>\n",
       "    <tr style=\"text-align: right;\">\n",
       "      <th></th>\n",
       "      <th>index</th>\n",
       "      <th>x</th>\n",
       "      <th>y</th>\n",
       "      <th>dist</th>\n",
       "      <th>variable</th>\n",
       "      <th>value</th>\n",
       "    </tr>\n",
       "  </thead>\n",
       "  <tbody>\n",
       "    <tr>\n",
       "      <th>182</th>\n",
       "      <td>27</td>\n",
       "      <td>1.206426</td>\n",
       "      <td>0.919141</td>\n",
       "      <td>0.497759</td>\n",
       "      <td>copper</td>\n",
       "      <td>-0.738641</td>\n",
       "    </tr>\n",
       "    <tr>\n",
       "      <th>318</th>\n",
       "      <td>8</td>\n",
       "      <td>1.319586</td>\n",
       "      <td>1.434564</td>\n",
       "      <td>-0.213992</td>\n",
       "      <td>lead</td>\n",
       "      <td>-0.196769</td>\n",
       "    </tr>\n",
       "    <tr>\n",
       "      <th>198</th>\n",
       "      <td>43</td>\n",
       "      <td>0.474138</td>\n",
       "      <td>0.297602</td>\n",
       "      <td>0.497748</td>\n",
       "      <td>copper</td>\n",
       "      <td>-0.868284</td>\n",
       "    </tr>\n",
       "    <tr>\n",
       "      <th>588</th>\n",
       "      <td>123</td>\n",
       "      <td>0.285538</td>\n",
       "      <td>0.549628</td>\n",
       "      <td>-0.926609</td>\n",
       "      <td>zinc</td>\n",
       "      <td>0.926584</td>\n",
       "    </tr>\n",
       "    <tr>\n",
       "      <th>444</th>\n",
       "      <td>134</td>\n",
       "      <td>-0.167102</td>\n",
       "      <td>-0.371311</td>\n",
       "      <td>1.152165</td>\n",
       "      <td>lead</td>\n",
       "      <td>-0.998528</td>\n",
       "    </tr>\n",
       "    <tr>\n",
       "      <th>438</th>\n",
       "      <td>128</td>\n",
       "      <td>1.062049</td>\n",
       "      <td>1.325605</td>\n",
       "      <td>-0.755263</td>\n",
       "      <td>lead</td>\n",
       "      <td>-0.064611</td>\n",
       "    </tr>\n",
       "    <tr>\n",
       "      <th>74</th>\n",
       "      <td>74</td>\n",
       "      <td>-1.318213</td>\n",
       "      <td>-1.015590</td>\n",
       "      <td>-0.128337</td>\n",
       "      <td>cadmium</td>\n",
       "      <td>-0.137984</td>\n",
       "    </tr>\n",
       "    <tr>\n",
       "      <th>55</th>\n",
       "      <td>55</td>\n",
       "      <td>-0.466261</td>\n",
       "      <td>0.420773</td>\n",
       "      <td>-1.152009</td>\n",
       "      <td>cadmium</td>\n",
       "      <td>1.355056</td>\n",
       "    </tr>\n",
       "  </tbody>\n",
       "</table>\n",
       "</div>"
      ],
      "text/plain": [
       "     index         x         y      dist variable     value\n",
       "182     27  1.206426  0.919141  0.497759   copper -0.738641\n",
       "318      8  1.319586  1.434564 -0.213992     lead -0.196769\n",
       "198     43  0.474138  0.297602  0.497748   copper -0.868284\n",
       "588    123  0.285538  0.549628 -0.926609     zinc  0.926584\n",
       "444    134 -0.167102 -0.371311  1.152165     lead -0.998528\n",
       "438    128  1.062049  1.325605 -0.755263     lead -0.064611\n",
       "74      74 -1.318213 -1.015590 -0.128337  cadmium -0.137984\n",
       "55      55 -0.466261  0.420773 -1.152009  cadmium  1.355056"
      ]
     },
     "execution_count": 50,
     "metadata": {},
     "output_type": "execute_result"
    }
   ],
   "source": [
    "XY_m = XY_sc.reset_index().melt(id_vars = [\"index\"] + features, value_vars = targets)\n",
    "XY_m.sample(8)"
   ]
  },
  {
   "cell_type": "code",
   "execution_count": 51,
   "id": "95b99f67-60e5-4161-8911-929308e11962",
   "metadata": {},
   "outputs": [
    {
     "data": {
      "text/plain": [
       "(620, 6)"
      ]
     },
     "execution_count": 51,
     "metadata": {},
     "output_type": "execute_result"
    }
   ],
   "source": [
    "XY_m.shape"
   ]
  },
  {
   "cell_type": "code",
   "execution_count": 52,
   "id": "a286c33d-ce6b-4e54-836c-8a086d7f4f19",
   "metadata": {},
   "outputs": [
    {
     "data": {
      "text/html": [
       "<div>\n",
       "<style scoped>\n",
       "    .dataframe tbody tr th:only-of-type {\n",
       "        vertical-align: middle;\n",
       "    }\n",
       "\n",
       "    .dataframe tbody tr th {\n",
       "        vertical-align: top;\n",
       "    }\n",
       "\n",
       "    .dataframe thead th {\n",
       "        text-align: right;\n",
       "    }\n",
       "</style>\n",
       "<table border=\"1\" class=\"dataframe\">\n",
       "  <thead>\n",
       "    <tr style=\"text-align: right;\">\n",
       "      <th></th>\n",
       "      <th>variable</th>\n",
       "      <th>variable_id</th>\n",
       "    </tr>\n",
       "  </thead>\n",
       "  <tbody>\n",
       "    <tr>\n",
       "      <th>0</th>\n",
       "      <td>cadmium</td>\n",
       "      <td>0</td>\n",
       "    </tr>\n",
       "    <tr>\n",
       "      <th>1</th>\n",
       "      <td>copper</td>\n",
       "      <td>1</td>\n",
       "    </tr>\n",
       "    <tr>\n",
       "      <th>2</th>\n",
       "      <td>lead</td>\n",
       "      <td>2</td>\n",
       "    </tr>\n",
       "    <tr>\n",
       "      <th>3</th>\n",
       "      <td>zinc</td>\n",
       "      <td>3</td>\n",
       "    </tr>\n",
       "  </tbody>\n",
       "</table>\n",
       "</div>"
      ],
      "text/plain": [
       "  variable  variable_id\n",
       "0  cadmium            0\n",
       "1   copper            1\n",
       "2     lead            2\n",
       "3     zinc            3"
      ]
     },
     "execution_count": 52,
     "metadata": {},
     "output_type": "execute_result"
    }
   ],
   "source": [
    "variable_ids = pd.DataFrame(dict(\n",
    "    variable = targets,\n",
    "    variable_id = np.arange(0, len(targets))\n",
    "))\n",
    "variable_ids"
   ]
  },
  {
   "cell_type": "code",
   "execution_count": 53,
   "id": "57ab8018-db31-4f6b-a36e-3018e146b21a",
   "metadata": {},
   "outputs": [
    {
     "data": {
      "text/html": [
       "<div>\n",
       "<style scoped>\n",
       "    .dataframe tbody tr th:only-of-type {\n",
       "        vertical-align: middle;\n",
       "    }\n",
       "\n",
       "    .dataframe tbody tr th {\n",
       "        vertical-align: top;\n",
       "    }\n",
       "\n",
       "    .dataframe thead th {\n",
       "        text-align: right;\n",
       "    }\n",
       "</style>\n",
       "<table border=\"1\" class=\"dataframe\">\n",
       "  <thead>\n",
       "    <tr style=\"text-align: right;\">\n",
       "      <th></th>\n",
       "      <th>index</th>\n",
       "      <th>x</th>\n",
       "      <th>y</th>\n",
       "      <th>dist</th>\n",
       "      <th>variable</th>\n",
       "      <th>value</th>\n",
       "      <th>variable_id</th>\n",
       "    </tr>\n",
       "  </thead>\n",
       "  <tbody>\n",
       "    <tr>\n",
       "      <th>236</th>\n",
       "      <td>81</td>\n",
       "      <td>0.137259</td>\n",
       "      <td>-1.292251</td>\n",
       "      <td>-0.898948</td>\n",
       "      <td>copper</td>\n",
       "      <td>1.508493</td>\n",
       "      <td>1</td>\n",
       "    </tr>\n",
       "    <tr>\n",
       "      <th>18</th>\n",
       "      <td>18</td>\n",
       "      <td>0.753786</td>\n",
       "      <td>1.070736</td>\n",
       "      <td>-1.180446</td>\n",
       "      <td>cadmium</td>\n",
       "      <td>1.495909</td>\n",
       "      <td>0</td>\n",
       "    </tr>\n",
       "    <tr>\n",
       "      <th>211</th>\n",
       "      <td>56</td>\n",
       "      <td>-0.329689</td>\n",
       "      <td>0.301392</td>\n",
       "      <td>-0.413110</td>\n",
       "      <td>copper</td>\n",
       "      <td>-0.220072</td>\n",
       "      <td>1</td>\n",
       "    </tr>\n",
       "    <tr>\n",
       "      <th>221</th>\n",
       "      <td>66</td>\n",
       "      <td>-0.748511</td>\n",
       "      <td>-0.560805</td>\n",
       "      <td>-0.071432</td>\n",
       "      <td>copper</td>\n",
       "      <td>1.465279</td>\n",
       "      <td>1</td>\n",
       "    </tr>\n",
       "    <tr>\n",
       "      <th>73</th>\n",
       "      <td>73</td>\n",
       "      <td>-1.216759</td>\n",
       "      <td>-0.908526</td>\n",
       "      <td>-0.128337</td>\n",
       "      <td>cadmium</td>\n",
       "      <td>-0.081642</td>\n",
       "      <td>0</td>\n",
       "    </tr>\n",
       "    <tr>\n",
       "      <th>357</th>\n",
       "      <td>47</td>\n",
       "      <td>0.307649</td>\n",
       "      <td>0.136532</td>\n",
       "      <td>1.038283</td>\n",
       "      <td>lead</td>\n",
       "      <td>-0.179148</td>\n",
       "      <td>2</td>\n",
       "    </tr>\n",
       "    <tr>\n",
       "      <th>53</th>\n",
       "      <td>53</td>\n",
       "      <td>-0.094264</td>\n",
       "      <td>0.509835</td>\n",
       "      <td>-1.152009</td>\n",
       "      <td>cadmium</td>\n",
       "      <td>2.425538</td>\n",
       "      <td>0</td>\n",
       "    </tr>\n",
       "    <tr>\n",
       "      <th>359</th>\n",
       "      <td>49</td>\n",
       "      <td>0.199692</td>\n",
       "      <td>-0.119285</td>\n",
       "      <td>1.977437</td>\n",
       "      <td>lead</td>\n",
       "      <td>0.058737</td>\n",
       "      <td>2</td>\n",
       "    </tr>\n",
       "  </tbody>\n",
       "</table>\n",
       "</div>"
      ],
      "text/plain": [
       "     index         x         y      dist variable     value  variable_id\n",
       "236     81  0.137259 -1.292251 -0.898948   copper  1.508493            1\n",
       "18      18  0.753786  1.070736 -1.180446  cadmium  1.495909            0\n",
       "211     56 -0.329689  0.301392 -0.413110   copper -0.220072            1\n",
       "221     66 -0.748511 -0.560805 -0.071432   copper  1.465279            1\n",
       "73      73 -1.216759 -0.908526 -0.128337  cadmium -0.081642            0\n",
       "357     47  0.307649  0.136532  1.038283     lead -0.179148            2\n",
       "53      53 -0.094264  0.509835 -1.152009  cadmium  2.425538            0\n",
       "359     49  0.199692 -0.119285  1.977437     lead  0.058737            2"
      ]
     },
     "execution_count": 53,
     "metadata": {},
     "output_type": "execute_result"
    }
   ],
   "source": [
    "XY_m = XY_m.merge(variable_ids, on = \"variable\")\n",
    "XY_m.sample(8)"
   ]
  },
  {
   "cell_type": "markdown",
   "id": "d19056c8-3344-450e-82cb-48d17d870873",
   "metadata": {},
   "source": [
    "### Create the model"
   ]
  },
  {
   "cell_type": "code",
   "execution_count": 54,
   "id": "e51045d8-ca5f-47f8-bbfd-54518c4df4a2",
   "metadata": {},
   "outputs": [
    {
     "data": {
      "text/plain": [
       "['variable_id', 'x', 'y', 'dist']"
      ]
     },
     "execution_count": 54,
     "metadata": {},
     "output_type": "execute_result"
    }
   ],
   "source": [
    "[\"variable_id\"] + features"
   ]
  },
  {
   "cell_type": "code",
   "execution_count": 55,
   "id": "1cfa9b43-7a0d-42a8-9251-0a80e751b1f0",
   "metadata": {},
   "outputs": [],
   "source": [
    "X_mod = XY_m.loc[XY_m[\"index\"].isin(id_train), [\"variable_id\"] + features].values\n",
    "id_col = 0\n",
    "n_mod = n_train\n",
    "y_mod = XY_m.loc[XY_m[\"index\"].isin(id_train), \"value\"].values"
   ]
  },
  {
   "cell_type": "code",
   "execution_count": 56,
   "id": "d25a8ee7-c64a-434f-9ce5-cd69daf92f75",
   "metadata": {},
   "outputs": [
    {
     "data": {
      "text/plain": [
       "((432, 4), (432,), 108, 432)"
      ]
     },
     "execution_count": 56,
     "metadata": {},
     "output_type": "execute_result"
    }
   ],
   "source": [
    "X_mod.shape, y_mod.shape, n_mod, n_mod*4"
   ]
  },
  {
   "cell_type": "code",
   "execution_count": 58,
   "id": "d3b08cc7-fbbb-4f98-936d-06aeb6d56efd",
   "metadata": {},
   "outputs": [
    {
     "data": {
      "text/plain": [
       "0"
      ]
     },
     "execution_count": 58,
     "metadata": {},
     "output_type": "execute_result"
    }
   ],
   "source": [
    "id_col"
   ]
  },
  {
   "cell_type": "code",
   "execution_count": 59,
   "id": "b0ffefb7-b209-4b8e-b52e-b0bdbf4c38de",
   "metadata": {},
   "outputs": [],
   "source": [
    "with pm.Model() as model:\n",
    "    # GP\n",
    "    ## Feature covariance\n",
    "    length_scale = pm.HalfCauchy(\"length_scale\", beta = 10)\n",
    "    amplitude = pm.HalfCauchy(\"amplitude\", beta = 10)\n",
    "    cov_feature = amplitude ** 2 * pm.gp.cov.Matern52(\n",
    "        input_dim = X_mod.shape[1],\n",
    "        ls = length_scale,\n",
    "        active_dims = np.arange(1, X_mod.shape[1]) # all except index\n",
    "    )\n",
    "\n",
    "    ## Coregion covariance\n",
    "    W = pm.Normal(\n",
    "        \"W\", mu = 0, sd = 5,\n",
    "        shape = (n_mod, n_mod)\n",
    "    )\n",
    "    kappa = pm.HalfCauchy(\"kappa\", beta = 10, shape = n_mod)\n",
    "    coreg = pm.gp.cov.Coregion(\n",
    "        input_dim = X_mod.shape[1],\n",
    "        active_dims = [id_col], # only index\n",
    "        kappa = kappa,\n",
    "        W = W\n",
    "    )\n",
    "\n",
    "    ## Combined covariance\n",
    "    cov_f = coreg * cov_feature\n",
    "\n",
    "    ## GP noise\n",
    "    σ = pm.HalfCauchy(\"σ\", beta = 10)\n",
    "\n",
    "    ## Gaussian process\n",
    "    gp = pm.gp.Marginal(cov_func = cov_f)\n",
    "\n",
    "    ## Marginal likelihood\n",
    "    y_ = gp.marginal_likelihood(\"y\", X = X_mod, y = y_mod, noise = σ)"
   ]
  },
  {
   "cell_type": "code",
   "execution_count": 60,
   "id": "26f2c054-070d-4bfa-8ade-001ecaf96e3b",
   "metadata": {},
   "outputs": [
    {
     "data": {
      "text/plain": [
       "[dot.0, AllocDiag{offset=0, axis1=0, axis2=1}.0]"
      ]
     },
     "execution_count": 60,
     "metadata": {},
     "output_type": "execute_result"
    }
   ],
   "source": [
    "coreg.B.owner.inputs"
   ]
  },
  {
   "cell_type": "code",
   "execution_count": 61,
   "id": "8dd32691-3922-45fd-9ab8-b2eb8349cf03",
   "metadata": {},
   "outputs": [
    {
     "data": {
      "text/plain": [
       "<pymc3.gp.cov.Prod at 0x7fafa2b7b4f0>"
      ]
     },
     "execution_count": 61,
     "metadata": {},
     "output_type": "execute_result"
    }
   ],
   "source": [
    "cov_feature"
   ]
  },
  {
   "cell_type": "code",
   "execution_count": 62,
   "id": "3d8d50c2-1174-4ae7-90ad-ab4b7afbb91b",
   "metadata": {},
   "outputs": [
    {
     "data": {
      "text/latex": [
       "$\\text{W} \\sim \\text{Normal}(\\mathit{mu}=0.0,~\\mathit{sigma}=5.0)$"
      ],
      "text/plain": [
       "W ~ Normal"
      ]
     },
     "execution_count": 62,
     "metadata": {},
     "output_type": "execute_result"
    }
   ],
   "source": [
    "coreg.W"
   ]
  },
  {
   "cell_type": "code",
   "execution_count": 63,
   "id": "86e98f8d-f4bb-4864-84e0-0cbcefff63ec",
   "metadata": {},
   "outputs": [
    {
     "data": {
      "text/html": [
       "\n",
       "    <div>\n",
       "        <style>\n",
       "            /* Turns off some styling */\n",
       "            progress {\n",
       "                /* gets rid of default border in Firefox and Opera. */\n",
       "                border: none;\n",
       "                /* Needs to be in here for Safari polyfill so background images work as expected. */\n",
       "                background-size: auto;\n",
       "            }\n",
       "            .progress-bar-interrupted, .progress-bar-interrupted::-webkit-progress-bar {\n",
       "                background: #F44336;\n",
       "            }\n",
       "        </style>\n",
       "      <progress value='45' class='' max='45' style='width:300px; height:20px; vertical-align: middle;'></progress>\n",
       "      100.00% [45/45 00:02<00:00 logp = -30,242, ||grad|| = 0.42245]\n",
       "    </div>\n",
       "    "
      ],
      "text/plain": [
       "<IPython.core.display.HTML object>"
      ]
     },
     "metadata": {},
     "output_type": "display_data"
    },
    {
     "name": "stdout",
     "output_type": "stream",
     "text": [
      "\n",
      "CPU times: user 14.3 s, sys: 11.5 s, total: 25.8 s\n",
      "Wall time: 4.58 s\n"
     ]
    }
   ],
   "source": [
    "%%time\n",
    "with model:\n",
    "    # Fit\n",
    "    # trace = pm.sample(2000, tune = 500, chains = 4, cores = 4, return_inferencedata = True) # long\n",
    "    mp = pm.find_MAP() # quick"
   ]
  },
  {
   "cell_type": "code",
   "execution_count": 64,
   "id": "28317b68-a445-43fb-a1e2-651e8b2437f8",
   "metadata": {},
   "outputs": [
    {
     "data": {
      "text/html": [
       "\n",
       "    <div>\n",
       "        <style>\n",
       "            /* Turns off some styling */\n",
       "            progress {\n",
       "                /* gets rid of default border in Firefox and Opera. */\n",
       "                border: none;\n",
       "                /* Needs to be in here for Safari polyfill so background images work as expected. */\n",
       "                background-size: auto;\n",
       "            }\n",
       "            .progress-bar-interrupted, .progress-bar-interrupted::-webkit-progress-bar {\n",
       "                background: #F44336;\n",
       "            }\n",
       "        </style>\n",
       "      <progress value='200' class='' max='200' style='width:300px; height:20px; vertical-align: middle;'></progress>\n",
       "      100.00% [200/200 00:14<00:00]\n",
       "    </div>\n",
       "    "
      ],
      "text/plain": [
       "<IPython.core.display.HTML object>"
      ]
     },
     "metadata": {},
     "output_type": "display_data"
    },
    {
     "name": "stdout",
     "output_type": "stream",
     "text": [
      "CPU times: user 1min 8s, sys: 46.2 s, total: 1min 54s\n",
      "Wall time: 15.2 s\n"
     ]
    }
   ],
   "source": [
    "%%time\n",
    "with model:\n",
    "    pred_ = gp.conditional(\"pred_\", XY_m[[\"variable_id\"] + features].values)\n",
    "    pred_samples = pm.sample_posterior_predictive([mp], var_names=[\"pred_\"], samples = 200)"
   ]
  },
  {
   "cell_type": "code",
   "execution_count": 65,
   "id": "44c99938-605d-4843-b9fe-928d5cd8cbd7",
   "metadata": {},
   "outputs": [
    {
     "data": {
      "text/plain": [
       "{'pred_': array([[ 2.38038787,  1.98626389,  0.7084253 , ..., -0.56707096,\n",
       "         -1.18848328,  0.02461363],\n",
       "        [ 2.01980058,  1.58821731,  0.61798865, ...,  0.45129277,\n",
       "         -1.11394631, -0.45484847],\n",
       "        [ 1.98645959,  2.05956292,  0.34680478, ..., -0.09792503,\n",
       "         -0.74530485, -0.43835727],\n",
       "        ...,\n",
       "        [ 1.99734253,  1.96951582,  1.37579278, ..., -0.20442146,\n",
       "         -1.41400666,  0.2522819 ],\n",
       "        [ 1.54553537,  1.36936326, -0.44869083, ..., -0.12507816,\n",
       "         -0.70986375,  0.02783579],\n",
       "        [ 1.63923958,  1.61366226,  0.9862756 , ..., -0.57483491,\n",
       "         -1.1130442 , -0.41851767]])}"
      ]
     },
     "execution_count": 65,
     "metadata": {},
     "output_type": "execute_result"
    }
   ],
   "source": [
    "pred_samples"
   ]
  },
  {
   "cell_type": "code",
   "execution_count": null,
   "id": "9603f96f-51a9-4c40-8b23-07ba6b4ef9b7",
   "metadata": {},
   "outputs": [],
   "source": [
    "### Check Kron_dot"
   ]
  },
  {
   "cell_type": "code",
   "execution_count": 68,
   "id": "315ee9bc-d1f0-4970-bffd-5daf4bcdd327",
   "metadata": {},
   "outputs": [
    {
     "ename": "AttributeError",
     "evalue": "'Prod' object has no attribute 'ndim'",
     "output_type": "error",
     "traceback": [
      "\u001b[0;31m---------------------------------------------------------------------------\u001b[0m",
      "\u001b[0;31mAttributeError\u001b[0m                            Traceback (most recent call last)",
      "\u001b[0;32m<ipython-input-68-ae6f26dc5ad0>\u001b[0m in \u001b[0;36m<module>\u001b[0;34m\u001b[0m\n\u001b[1;32m     24\u001b[0m \u001b[0;34m\u001b[0m\u001b[0m\n\u001b[1;32m     25\u001b[0m     \u001b[0;31m## Combined covariance\u001b[0m\u001b[0;34m\u001b[0m\u001b[0;34m\u001b[0m\u001b[0;34m\u001b[0m\u001b[0m\n\u001b[0;32m---> 26\u001b[0;31m     \u001b[0mcov_f\u001b[0m \u001b[0;34m=\u001b[0m \u001b[0mpm\u001b[0m\u001b[0;34m.\u001b[0m\u001b[0mmath\u001b[0m\u001b[0;34m.\u001b[0m\u001b[0mkron_dot\u001b[0m\u001b[0;34m(\u001b[0m\u001b[0mcoreg\u001b[0m\u001b[0;34m,\u001b[0m \u001b[0mcov_feature\u001b[0m\u001b[0;34m)\u001b[0m \u001b[0;31m#coreg ⊗ cov_feature\u001b[0m\u001b[0;34m\u001b[0m\u001b[0;34m\u001b[0m\u001b[0m\n\u001b[0m\u001b[1;32m     27\u001b[0m \u001b[0;34m\u001b[0m\u001b[0m\n\u001b[1;32m     28\u001b[0m     \u001b[0;31m## GP noise\u001b[0m\u001b[0;34m\u001b[0m\u001b[0;34m\u001b[0m\u001b[0;34m\u001b[0m\u001b[0m\n",
      "\u001b[0;32m~/.pyenv/versions/miniconda3-4.7.10/envs/.dcm/lib/python3.9/site-packages/pymc3/math.py\u001b[0m in \u001b[0;36mkron_matrix_op\u001b[0;34m(krons, m, op)\u001b[0m\n\u001b[1;32m    141\u001b[0m         \u001b[0;32mreturn\u001b[0m \u001b[0mreduce\u001b[0m\u001b[0;34m(\u001b[0m\u001b[0mflat_matrix_op\u001b[0m\u001b[0;34m,\u001b[0m \u001b[0mkrons\u001b[0m\u001b[0;34m,\u001b[0m \u001b[0mv\u001b[0m\u001b[0;34m)\u001b[0m\u001b[0;34m\u001b[0m\u001b[0;34m\u001b[0m\u001b[0m\n\u001b[1;32m    142\u001b[0m \u001b[0;34m\u001b[0m\u001b[0m\n\u001b[0;32m--> 143\u001b[0;31m     \u001b[0;32mif\u001b[0m \u001b[0mm\u001b[0m\u001b[0;34m.\u001b[0m\u001b[0mndim\u001b[0m \u001b[0;34m==\u001b[0m \u001b[0;36m1\u001b[0m\u001b[0;34m:\u001b[0m\u001b[0;34m\u001b[0m\u001b[0;34m\u001b[0m\u001b[0m\n\u001b[0m\u001b[1;32m    144\u001b[0m         \u001b[0mm\u001b[0m \u001b[0;34m=\u001b[0m \u001b[0mm\u001b[0m\u001b[0;34m[\u001b[0m\u001b[0;34m:\u001b[0m\u001b[0;34m,\u001b[0m \u001b[0;32mNone\u001b[0m\u001b[0;34m]\u001b[0m  \u001b[0;31m# Treat 1D array as Nx1 matrix\u001b[0m\u001b[0;34m\u001b[0m\u001b[0;34m\u001b[0m\u001b[0m\n\u001b[1;32m    145\u001b[0m     \u001b[0;32mif\u001b[0m \u001b[0mm\u001b[0m\u001b[0;34m.\u001b[0m\u001b[0mndim\u001b[0m \u001b[0;34m!=\u001b[0m \u001b[0;36m2\u001b[0m\u001b[0;34m:\u001b[0m  \u001b[0;31m# Has not been tested otherwise\u001b[0m\u001b[0;34m\u001b[0m\u001b[0;34m\u001b[0m\u001b[0m\n",
      "\u001b[0;31mAttributeError\u001b[0m: 'Prod' object has no attribute 'ndim'"
     ]
    }
   ],
   "source": [
    "with pm.Model() as model:\n",
    "    # GP\n",
    "    ## Feature covariance\n",
    "    length_scale = pm.HalfCauchy(\"length_scale\", beta = 10)\n",
    "    amplitude = pm.HalfCauchy(\"amplitude\", beta = 10)\n",
    "    cov_feature = amplitude ** 2 * pm.gp.cov.Matern52(\n",
    "        input_dim = X_mod.shape[1],\n",
    "        ls = length_scale,\n",
    "        active_dims = np.arange(1, X_mod.shape[1]) # all except index\n",
    "    )\n",
    "\n",
    "    ## Coregion covariance\n",
    "    W = pm.Normal(\n",
    "        \"W\", mu = 0, sd = 5,\n",
    "        shape = (n_mod, n_mod)\n",
    "    )\n",
    "    kappa = pm.HalfCauchy(\"kappa\", beta = 10, shape = n_mod)\n",
    "    coreg = pm.gp.cov.Coregion(\n",
    "        input_dim = X_mod.shape[1],\n",
    "        active_dims = [id_col], # only index\n",
    "        kappa = kappa,\n",
    "        W = W\n",
    "    )\n",
    "\n",
    "    ## Combined covariance\n",
    "    cov_f = pm.math.kron_dot(coreg, cov_feature) #coreg ⊗ cov_feature\n",
    "\n",
    "    ## GP noise\n",
    "    σ = pm.HalfCauchy(\"σ\", beta = 10)\n",
    "\n",
    "    ## Gaussian process\n",
    "    gp = pm.gp.Marginal(cov_func = cov_f)\n",
    "\n",
    "    ## Marginal likelihood\n",
    "    y_ = gp.marginal_likelihood(\"y\", X = X_mod, y = y_mod, noise = σ)"
   ]
  },
  {
   "cell_type": "code",
   "execution_count": null,
   "id": "ef5e2585-588b-4a04-b047-71a859550f61",
   "metadata": {},
   "outputs": [],
   "source": []
  }
 ],
 "metadata": {
  "kernelspec": {
   "display_name": "Python 3",
   "language": "python",
   "name": "python3"
  },
  "language_info": {
   "codemirror_mode": {
    "name": "ipython",
    "version": 3
   },
   "file_extension": ".py",
   "mimetype": "text/x-python",
   "name": "python",
   "nbconvert_exporter": "python",
   "pygments_lexer": "ipython3",
   "version": "3.9.5"
  }
 },
 "nbformat": 4,
 "nbformat_minor": 5
}

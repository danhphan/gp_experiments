{
 "cells": [
  {
   "cell_type": "code",
   "execution_count": 1,
   "id": "1e05ab3a-c05f-4f49-8477-4dc4cc914dc7",
   "metadata": {},
   "outputs": [],
   "source": [
    "import pandas as pd"
   ]
  },
  {
   "cell_type": "code",
   "execution_count": 2,
   "id": "add79388-1776-4230-ad25-c3cbeb8345c1",
   "metadata": {},
   "outputs": [
    {
     "data": {
      "text/plain": [
       "(4845, 4)"
      ]
     },
     "execution_count": 2,
     "metadata": {},
     "output_type": "execute_result"
    }
   ],
   "source": [
    "df = pd.read_csv(\"../data/fastball_spin_rates_2021.csv\")\n",
    "df.shape"
   ]
  },
  {
   "cell_type": "code",
   "execution_count": 3,
   "id": "3fde568e-a509-4cac-aaa9-63d3d3bd5431",
   "metadata": {},
   "outputs": [
    {
     "data": {
      "text/html": [
       "<div>\n",
       "<style scoped>\n",
       "    .dataframe tbody tr th:only-of-type {\n",
       "        vertical-align: middle;\n",
       "    }\n",
       "\n",
       "    .dataframe tbody tr th {\n",
       "        vertical-align: top;\n",
       "    }\n",
       "\n",
       "    .dataframe thead th {\n",
       "        text-align: right;\n",
       "    }\n",
       "</style>\n",
       "<table border=\"1\" class=\"dataframe\">\n",
       "  <thead>\n",
       "    <tr style=\"text-align: right;\">\n",
       "      <th></th>\n",
       "      <th>pitcher_name</th>\n",
       "      <th>game_date</th>\n",
       "      <th>avg_spin_rate</th>\n",
       "      <th>n_pitches</th>\n",
       "    </tr>\n",
       "  </thead>\n",
       "  <tbody>\n",
       "    <tr>\n",
       "      <th>0</th>\n",
       "      <td>Wainwright, Adam</td>\n",
       "      <td>2021-04-03</td>\n",
       "      <td>2127.415000</td>\n",
       "      <td>12</td>\n",
       "    </tr>\n",
       "    <tr>\n",
       "      <th>1</th>\n",
       "      <td>Wainwright, Adam</td>\n",
       "      <td>2021-04-08</td>\n",
       "      <td>2179.723000</td>\n",
       "      <td>11</td>\n",
       "    </tr>\n",
       "    <tr>\n",
       "      <th>2</th>\n",
       "      <td>Wainwright, Adam</td>\n",
       "      <td>2021-04-14</td>\n",
       "      <td>2297.968571</td>\n",
       "      <td>7</td>\n",
       "    </tr>\n",
       "    <tr>\n",
       "      <th>3</th>\n",
       "      <td>Wainwright, Adam</td>\n",
       "      <td>2021-04-20</td>\n",
       "      <td>2159.150000</td>\n",
       "      <td>13</td>\n",
       "    </tr>\n",
       "    <tr>\n",
       "      <th>4</th>\n",
       "      <td>Wainwright, Adam</td>\n",
       "      <td>2021-04-26</td>\n",
       "      <td>2314.515455</td>\n",
       "      <td>11</td>\n",
       "    </tr>\n",
       "  </tbody>\n",
       "</table>\n",
       "</div>"
      ],
      "text/plain": [
       "       pitcher_name   game_date  avg_spin_rate  n_pitches\n",
       "0  Wainwright, Adam  2021-04-03    2127.415000         12\n",
       "1  Wainwright, Adam  2021-04-08    2179.723000         11\n",
       "2  Wainwright, Adam  2021-04-14    2297.968571          7\n",
       "3  Wainwright, Adam  2021-04-20    2159.150000         13\n",
       "4  Wainwright, Adam  2021-04-26    2314.515455         11"
      ]
     },
     "execution_count": 3,
     "metadata": {},
     "output_type": "execute_result"
    }
   ],
   "source": [
    "df.head()"
   ]
  },
  {
   "cell_type": "code",
   "execution_count": 4,
   "id": "0c373fc2-f8ba-415d-b8ce-119ceb8abba7",
   "metadata": {},
   "outputs": [
    {
     "data": {
      "text/plain": [
       "pitcher_name     0\n",
       "game_date        0\n",
       "avg_spin_rate    7\n",
       "n_pitches        0\n",
       "dtype: int64"
      ]
     },
     "execution_count": 4,
     "metadata": {},
     "output_type": "execute_result"
    }
   ],
   "source": [
    "df.isna().sum()"
   ]
  },
  {
   "cell_type": "code",
   "execution_count": 7,
   "id": "036ed1c6-d339-4f9e-8b06-b3ea1348d9f3",
   "metadata": {},
   "outputs": [
    {
     "data": {
      "text/plain": [
       "262"
      ]
     },
     "execution_count": 7,
     "metadata": {},
     "output_type": "execute_result"
    }
   ],
   "source": [
    "df['pitcher_name'].nunique()"
   ]
  },
  {
   "cell_type": "code",
   "execution_count": 8,
   "id": "d1122f38-41f1-45fe-b8a3-23b048c8a886",
   "metadata": {},
   "outputs": [
    {
     "data": {
      "text/plain": [
       "182"
      ]
     },
     "execution_count": 8,
     "metadata": {},
     "output_type": "execute_result"
    }
   ],
   "source": [
    "df['game_date'].nunique()"
   ]
  },
  {
   "cell_type": "code",
   "execution_count": 9,
   "id": "a74f565a-aba0-4f8c-8d16-a77863be58db",
   "metadata": {},
   "outputs": [
    {
     "data": {
      "text/plain": [
       "count    4838.000000\n",
       "mean     2262.381625\n",
       "std       169.895006\n",
       "min      1642.870000\n",
       "25%      2146.792611\n",
       "50%      2263.186250\n",
       "75%      2378.541008\n",
       "max      2899.950000\n",
       "Name: avg_spin_rate, dtype: float64"
      ]
     },
     "execution_count": 9,
     "metadata": {},
     "output_type": "execute_result"
    }
   ],
   "source": [
    "df[\"avg_spin_rate\"].describe()"
   ]
  },
  {
   "cell_type": "code",
   "execution_count": 10,
   "id": "324bd896-2094-4931-8ed9-1317e236d4c3",
   "metadata": {},
   "outputs": [
    {
     "data": {
      "text/plain": [
       "count    4845.000000\n",
       "mean       26.978328\n",
       "std        16.687643\n",
       "min         1.000000\n",
       "25%        12.000000\n",
       "50%        27.000000\n",
       "75%        40.000000\n",
       "max        82.000000\n",
       "Name: n_pitches, dtype: float64"
      ]
     },
     "execution_count": 10,
     "metadata": {},
     "output_type": "execute_result"
    }
   ],
   "source": [
    "df[\"n_pitches\"].describe()"
   ]
  },
  {
   "cell_type": "code",
   "execution_count": null,
   "id": "253f872c-75b6-41c4-9201-ee7cb0a23948",
   "metadata": {},
   "outputs": [],
   "source": []
  }
 ],
 "metadata": {
  "kernelspec": {
   "display_name": "Python 3 (ipykernel)",
   "language": "python",
   "name": "python3"
  },
  "language_info": {
   "codemirror_mode": {
    "name": "ipython",
    "version": 3
   },
   "file_extension": ".py",
   "mimetype": "text/x-python",
   "name": "python",
   "nbconvert_exporter": "python",
   "pygments_lexer": "ipython3",
   "version": "3.9.12"
  }
 },
 "nbformat": 4,
 "nbformat_minor": 5
}

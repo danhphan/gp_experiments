{
 "cells": [
  {
   "cell_type": "code",
   "execution_count": 1,
   "id": "f29a6452",
   "metadata": {},
   "outputs": [],
   "source": [
    "import numpy as np"
   ]
  },
  {
   "cell_type": "code",
   "execution_count": 2,
   "id": "a5aeaaa8",
   "metadata": {},
   "outputs": [],
   "source": [
    "from numpy.linalg import eigh, norm"
   ]
  },
  {
   "cell_type": "markdown",
   "id": "7a684672",
   "metadata": {},
   "source": [
    "# Singular value decomposition (SVD)"
   ]
  },
  {
   "cell_type": "code",
   "execution_count": 20,
   "id": "226f8585",
   "metadata": {},
   "outputs": [],
   "source": [
    "# A = U@D@V.T is the SVD"
   ]
  },
  {
   "cell_type": "code",
   "execution_count": 21,
   "id": "246ae961",
   "metadata": {},
   "outputs": [],
   "source": [
    "A = np.array([\n",
    "    [-5, 2, 3],\n",
    "    [2, 5, 1],\n",
    "    [-3, 1, -5]\n",
    "])"
   ]
  },
  {
   "cell_type": "code",
   "execution_count": 22,
   "id": "ef614c1e",
   "metadata": {},
   "outputs": [
    {
     "data": {
      "text/plain": [
       "array([[38, -3,  2],\n",
       "       [-3, 30,  6],\n",
       "       [ 2,  6, 35]])"
      ]
     },
     "execution_count": 22,
     "metadata": {},
     "output_type": "execute_result"
    }
   ],
   "source": [
    "A.T @ A"
   ]
  },
  {
   "cell_type": "code",
   "execution_count": 23,
   "id": "c6b0c8b2",
   "metadata": {},
   "outputs": [],
   "source": [
    "ev, V = eigh(A.T@A)"
   ]
  },
  {
   "cell_type": "code",
   "execution_count": 24,
   "id": "ab3054f0",
   "metadata": {},
   "outputs": [
    {
     "data": {
      "text/plain": [
       "array([25., 39., 39.])"
      ]
     },
     "execution_count": 24,
     "metadata": {},
     "output_type": "execute_result"
    }
   ],
   "source": [
    "ev"
   ]
  },
  {
   "cell_type": "code",
   "execution_count": 25,
   "id": "944f4412",
   "metadata": {},
   "outputs": [
    {
     "data": {
      "text/plain": [
       "array([[ 0.26726124, -0.96362411,  0.        ],\n",
       "       [ 0.80178373,  0.22237479,  0.5547002 ],\n",
       "       [-0.53452248, -0.14824986,  0.83205029]])"
      ]
     },
     "execution_count": 25,
     "metadata": {},
     "output_type": "execute_result"
    }
   ],
   "source": [
    "V"
   ]
  },
  {
   "cell_type": "code",
   "execution_count": 26,
   "id": "0001dea4",
   "metadata": {},
   "outputs": [
    {
     "data": {
      "text/plain": [
       "array([ 0.26726124,  0.80178373, -0.53452248])"
      ]
     },
     "execution_count": 26,
     "metadata": {},
     "output_type": "execute_result"
    }
   ],
   "source": [
    "V[:,0] # First column - first egein vector"
   ]
  },
  {
   "cell_type": "code",
   "execution_count": 27,
   "id": "dc822b3b",
   "metadata": {},
   "outputs": [],
   "source": [
    "u0 = A@V[:,0] / norm(A@V[:,0])\n",
    "u1 = A@V[:,1] / norm(A@V[:,1])\n",
    "u2 = A@V[:,2] / norm(A@V[:,2])"
   ]
  },
  {
   "cell_type": "code",
   "execution_count": 33,
   "id": "fa73ffe1",
   "metadata": {},
   "outputs": [
    {
     "data": {
      "text/plain": [
       "array([[-0.26726124,  0.77151675,  0.57735027],\n",
       "       [ 0.80178373, -0.15430335,  0.57735027],\n",
       "       [ 0.53452248,  0.6172134 , -0.57735027]])"
      ]
     },
     "execution_count": 33,
     "metadata": {},
     "output_type": "execute_result"
    }
   ],
   "source": [
    "U = np.array([u0, u1, u2]).T\n",
    "U"
   ]
  },
  {
   "cell_type": "code",
   "execution_count": 32,
   "id": "8893e575",
   "metadata": {},
   "outputs": [
    {
     "data": {
      "text/plain": [
       "array([[ 5.   ,  0.   , -0.   ],\n",
       "       [-0.   ,  6.245, -0.   ],\n",
       "       [-0.   , -0.   ,  6.245]])"
      ]
     },
     "execution_count": 32,
     "metadata": {},
     "output_type": "execute_result"
    }
   ],
   "source": [
    "D = np.round(U.T@A@V, decimals=5)\n",
    "D"
   ]
  },
  {
   "cell_type": "code",
   "execution_count": 36,
   "id": "9eeefb38",
   "metadata": {},
   "outputs": [
    {
     "data": {
      "text/plain": [
       "array([[-5.,  2.,  3.],\n",
       "       [ 2.,  5.,  1.],\n",
       "       [-3.,  1., -5.]])"
      ]
     },
     "execution_count": 36,
     "metadata": {},
     "output_type": "execute_result"
    }
   ],
   "source": [
    "A_hat = np.round(U@D@V.T, decimals=0)\n",
    "A_hat"
   ]
  },
  {
   "cell_type": "markdown",
   "id": "16d31632",
   "metadata": {},
   "source": [
    "## Cholesky Decomposition"
   ]
  },
  {
   "cell_type": "code",
   "execution_count": null,
   "id": "fb0d453b",
   "metadata": {},
   "outputs": [],
   "source": []
  }
 ],
 "metadata": {
  "kernelspec": {
   "display_name": "Python 3 (ipykernel)",
   "language": "python",
   "name": "python3"
  },
  "language_info": {
   "codemirror_mode": {
    "name": "ipython",
    "version": 3
   },
   "file_extension": ".py",
   "mimetype": "text/x-python",
   "name": "python",
   "nbconvert_exporter": "python",
   "pygments_lexer": "ipython3",
   "version": "3.9.12"
  }
 },
 "nbformat": 4,
 "nbformat_minor": 5
}

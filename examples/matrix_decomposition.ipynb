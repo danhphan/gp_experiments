{
 "cells": [
  {
   "cell_type": "code",
   "execution_count": 87,
   "id": "a1864608",
   "metadata": {},
   "outputs": [],
   "source": [
    "import numpy as np"
   ]
  },
  {
   "cell_type": "code",
   "execution_count": 88,
   "id": "607e5547",
   "metadata": {},
   "outputs": [],
   "source": [
    "from numpy.linalg import eigh, norm\n",
    "from scipy.linalg import cho_factor, cho_solve"
   ]
  },
  {
   "cell_type": "markdown",
   "id": "82d1b72b",
   "metadata": {},
   "source": [
    "## 1. Eigen-decomposition"
   ]
  },
  {
   "cell_type": "markdown",
   "id": "d4ceebf9",
   "metadata": {},
   "source": [
    "A@V = Lambda@V"
   ]
  },
  {
   "cell_type": "code",
   "execution_count": 89,
   "id": "26d79de6",
   "metadata": {},
   "outputs": [
    {
     "data": {
      "text/plain": [
       "array([[ 4,  2],\n",
       "       [-5, -3]])"
      ]
     },
     "execution_count": 89,
     "metadata": {},
     "output_type": "execute_result"
    }
   ],
   "source": [
    "A = np.array([\n",
    "    [4, 2],\n",
    "    [-5, -3]\n",
    "])\n",
    "A"
   ]
  },
  {
   "cell_type": "code",
   "execution_count": 90,
   "id": "ff8067e1",
   "metadata": {},
   "outputs": [],
   "source": [
    "lambdas, V = np.linalg.eig(A)"
   ]
  },
  {
   "cell_type": "code",
   "execution_count": 91,
   "id": "12bc85f3",
   "metadata": {},
   "outputs": [
    {
     "data": {
      "text/plain": [
       "array([ 2., -1.])"
      ]
     },
     "execution_count": 91,
     "metadata": {},
     "output_type": "execute_result"
    }
   ],
   "source": [
    "lambdas"
   ]
  },
  {
   "cell_type": "code",
   "execution_count": 92,
   "id": "bc86c750",
   "metadata": {},
   "outputs": [
    {
     "data": {
      "text/plain": [
       "array([[ 0.70710678, -0.37139068],\n",
       "       [-0.70710678,  0.92847669]])"
      ]
     },
     "execution_count": 92,
     "metadata": {},
     "output_type": "execute_result"
    }
   ],
   "source": [
    "V"
   ]
  },
  {
   "cell_type": "code",
   "execution_count": 93,
   "id": "c3857808",
   "metadata": {},
   "outputs": [
    {
     "data": {
      "text/plain": [
       "array([[2.3570226 , 0.94280904],\n",
       "       [1.79505494, 1.79505494]])"
      ]
     },
     "execution_count": 93,
     "metadata": {},
     "output_type": "execute_result"
    }
   ],
   "source": [
    "Vinv = np.linalg.inv(V)\n",
    "Vinv"
   ]
  },
  {
   "cell_type": "code",
   "execution_count": 94,
   "id": "859736e7",
   "metadata": {},
   "outputs": [
    {
     "data": {
      "text/plain": [
       "array([[ 2.,  0.],\n",
       "       [ 0., -1.]])"
      ]
     },
     "execution_count": 94,
     "metadata": {},
     "output_type": "execute_result"
    }
   ],
   "source": [
    "Lambda = np.diag(lambdas)\n",
    "Lambda"
   ]
  },
  {
   "cell_type": "code",
   "execution_count": 95,
   "id": "53b69d70",
   "metadata": {},
   "outputs": [
    {
     "data": {
      "text/plain": [
       "array([[ 4.,  2.],\n",
       "       [-5., -3.]])"
      ]
     },
     "execution_count": 95,
     "metadata": {},
     "output_type": "execute_result"
    }
   ],
   "source": [
    "A_hat = V@Lambda@Vinv\n",
    "A_hat"
   ]
  },
  {
   "cell_type": "code",
   "execution_count": 96,
   "id": "dd9f51a1",
   "metadata": {},
   "outputs": [
    {
     "data": {
      "text/plain": [
       "True"
      ]
     },
     "execution_count": 96,
     "metadata": {},
     "output_type": "execute_result"
    }
   ],
   "source": [
    "np.allclose(A, A_hat)"
   ]
  },
  {
   "cell_type": "markdown",
   "id": "633f2ec5",
   "metadata": {},
   "source": [
    "## 2. Singular value decomposition (SVD)"
   ]
  },
  {
   "cell_type": "code",
   "execution_count": 97,
   "id": "e2873c9d",
   "metadata": {},
   "outputs": [],
   "source": [
    "# A = U@D@V.T is the SVD"
   ]
  },
  {
   "cell_type": "code",
   "execution_count": 98,
   "id": "8717c413",
   "metadata": {},
   "outputs": [],
   "source": [
    "A = np.array([\n",
    "    [-5, 2, 3],\n",
    "    [2, 5, 1],\n",
    "    [-3, 1, -5]\n",
    "])"
   ]
  },
  {
   "cell_type": "code",
   "execution_count": 99,
   "id": "858f633c",
   "metadata": {},
   "outputs": [
    {
     "data": {
      "text/plain": [
       "array([[38, -3,  2],\n",
       "       [-3, 30,  6],\n",
       "       [ 2,  6, 35]])"
      ]
     },
     "execution_count": 99,
     "metadata": {},
     "output_type": "execute_result"
    }
   ],
   "source": [
    "A.T @ A"
   ]
  },
  {
   "cell_type": "code",
   "execution_count": 100,
   "id": "6d13c0cd",
   "metadata": {},
   "outputs": [],
   "source": [
    "ev, V = eigh(A.T@A)"
   ]
  },
  {
   "cell_type": "code",
   "execution_count": 101,
   "id": "5b87cf0d",
   "metadata": {},
   "outputs": [
    {
     "data": {
      "text/plain": [
       "array([25., 39., 39.])"
      ]
     },
     "execution_count": 101,
     "metadata": {},
     "output_type": "execute_result"
    }
   ],
   "source": [
    "ev"
   ]
  },
  {
   "cell_type": "code",
   "execution_count": 102,
   "id": "1d6d5258",
   "metadata": {},
   "outputs": [
    {
     "data": {
      "text/plain": [
       "array([[ 0.26726124, -0.96362411,  0.        ],\n",
       "       [ 0.80178373,  0.22237479,  0.5547002 ],\n",
       "       [-0.53452248, -0.14824986,  0.83205029]])"
      ]
     },
     "execution_count": 102,
     "metadata": {},
     "output_type": "execute_result"
    }
   ],
   "source": [
    "V"
   ]
  },
  {
   "cell_type": "code",
   "execution_count": 103,
   "id": "2e0c3bff",
   "metadata": {},
   "outputs": [
    {
     "data": {
      "text/plain": [
       "array([ 0.26726124,  0.80178373, -0.53452248])"
      ]
     },
     "execution_count": 103,
     "metadata": {},
     "output_type": "execute_result"
    }
   ],
   "source": [
    "V[:,0] # First column - first egein vector"
   ]
  },
  {
   "cell_type": "code",
   "execution_count": 104,
   "id": "b83c3a7d",
   "metadata": {},
   "outputs": [],
   "source": [
    "u0 = A@V[:,0] / norm(A@V[:,0])\n",
    "u1 = A@V[:,1] / norm(A@V[:,1])\n",
    "u2 = A@V[:,2] / norm(A@V[:,2])"
   ]
  },
  {
   "cell_type": "code",
   "execution_count": 105,
   "id": "8833cc2e",
   "metadata": {},
   "outputs": [
    {
     "data": {
      "text/plain": [
       "array([[-0.26726124,  0.77151675,  0.57735027],\n",
       "       [ 0.80178373, -0.15430335,  0.57735027],\n",
       "       [ 0.53452248,  0.6172134 , -0.57735027]])"
      ]
     },
     "execution_count": 105,
     "metadata": {},
     "output_type": "execute_result"
    }
   ],
   "source": [
    "U = np.array([u0, u1, u2]).T\n",
    "U"
   ]
  },
  {
   "cell_type": "code",
   "execution_count": 106,
   "id": "ac5fea36",
   "metadata": {},
   "outputs": [
    {
     "data": {
      "text/plain": [
       "array([[ 5.   ,  0.   , -0.   ],\n",
       "       [-0.   ,  6.245, -0.   ],\n",
       "       [-0.   , -0.   ,  6.245]])"
      ]
     },
     "execution_count": 106,
     "metadata": {},
     "output_type": "execute_result"
    }
   ],
   "source": [
    "D = np.round(U.T@A@V, decimals=5)\n",
    "D"
   ]
  },
  {
   "cell_type": "code",
   "execution_count": 107,
   "id": "283ae1b5",
   "metadata": {},
   "outputs": [
    {
     "data": {
      "text/plain": [
       "array([[-5.,  2.,  3.],\n",
       "       [ 2.,  5.,  1.],\n",
       "       [-3.,  1., -5.]])"
      ]
     },
     "execution_count": 107,
     "metadata": {},
     "output_type": "execute_result"
    }
   ],
   "source": [
    "A_hat = np.round(U@D@V.T, decimals=0)\n",
    "A_hat"
   ]
  },
  {
   "cell_type": "markdown",
   "id": "f66770c9",
   "metadata": {},
   "source": [
    "##### np.linalg.eig vs np.linalg.eigh\n",
    "https://stackoverflow.com/questions/45434989/numpy-difference-between-linalg-eig-and-linalg-eigh"
   ]
  },
  {
   "cell_type": "code",
   "execution_count": 126,
   "id": "140b2508",
   "metadata": {},
   "outputs": [
    {
     "name": "stdout",
     "output_type": "stream",
     "text": [
      "[1.31367001 0.47909889 0.15672581]\n",
      "[0.15672581 0.47909889 1.31367001]\n",
      "[[ 0.6599121   0.74008385  0.12958363]\n",
      " [ 0.42772861 -0.22825489 -0.87461302]\n",
      " [ 0.61770888 -0.63259434  0.4671832 ]]\n",
      "[[ 0.12958363 -0.74008385 -0.6599121 ]\n",
      " [-0.87461302  0.22825489 -0.42772861]\n",
      " [ 0.4671832   0.63259434 -0.61770888]]\n"
     ]
    }
   ],
   "source": [
    "a = np.random.rand(3,3)  # generate a random array shaped (3,3)\n",
    "a = (a + a.T)/2  # a becomes a random simmetric matrix   \n",
    "# a = a@a.T\n",
    "evalues1, evectors1 = np.linalg.eig(a)\n",
    "evalues2, evectors2 = np.linalg.eigh(a)\n",
    "print(evalues1)\n",
    "print(evalues2)\n",
    "print(evectors1)\n",
    "print(evectors2)"
   ]
  },
  {
   "cell_type": "markdown",
   "id": "b9b5d2f0",
   "metadata": {},
   "source": [
    "## 3. Cholesky Decomposition"
   ]
  },
  {
   "cell_type": "markdown",
   "id": "395776da",
   "metadata": {},
   "source": [
    "Decompose a diagnal matrix A into the product of a lower triangle maxtrix L and its transpose.\n",
    "\n",
    "A = L@L.T"
   ]
  },
  {
   "cell_type": "code",
   "execution_count": 108,
   "id": "20263f99",
   "metadata": {},
   "outputs": [
    {
     "data": {
      "text/plain": [
       "array([[ 4.2964,  0.0863,  1.5847,  0.6336, -0.1578],\n",
       "       [ 0.0863,  6.9593,  1.9657,  3.6654, -3.813 ],\n",
       "       [ 1.5847,  1.9657,  7.3944, -1.4735, -2.2495],\n",
       "       [ 0.6336,  3.6654, -1.4735,  4.3971, -1.5355],\n",
       "       [-0.1578, -3.813 , -2.2495, -1.5355,  2.5566]])"
      ]
     },
     "execution_count": 108,
     "metadata": {},
     "output_type": "execute_result"
    }
   ],
   "source": [
    "np.random.seed(1234)\n",
    "X = np.round(np.random.normal(size=(5,5)), decimals=2)\n",
    "A = X@X.T\n",
    "A"
   ]
  },
  {
   "cell_type": "code",
   "execution_count": 109,
   "id": "c499c9cf",
   "metadata": {},
   "outputs": [
    {
     "data": {
      "text/plain": [
       "array([[ 2.07277592,  0.        ,  0.        ,  0.        ,  0.        ],\n",
       "       [ 0.04163499,  2.63771995,  0.        ,  0.        ,  0.        ],\n",
       "       [ 0.7645303 ,  0.73315925,  2.50447019,  0.        ,  0.        ],\n",
       "       [ 0.30567704,  1.38478429, -1.08704299,  1.09743863,  0.        ],\n",
       "       [-0.07612979, -1.44436499, -0.45213032, -0.00326217,  0.51007997]])"
      ]
     },
     "execution_count": 109,
     "metadata": {},
     "output_type": "execute_result"
    }
   ],
   "source": [
    "L = np.linalg.cholesky(A)\n",
    "L"
   ]
  },
  {
   "cell_type": "code",
   "execution_count": 110,
   "id": "3ac2efa4",
   "metadata": {},
   "outputs": [
    {
     "data": {
      "text/plain": [
       "array([[ 4.2964,  0.0863,  1.5847,  0.6336, -0.1578],\n",
       "       [ 0.0863,  6.9593,  1.9657,  3.6654, -3.813 ],\n",
       "       [ 1.5847,  1.9657,  7.3944, -1.4735, -2.2495],\n",
       "       [ 0.6336,  3.6654, -1.4735,  4.3971, -1.5355],\n",
       "       [-0.1578, -3.813 , -2.2495, -1.5355,  2.5566]])"
      ]
     },
     "execution_count": 110,
     "metadata": {},
     "output_type": "execute_result"
    }
   ],
   "source": [
    "L@L.T"
   ]
  },
  {
   "cell_type": "code",
   "execution_count": 111,
   "id": "fe24d0fc",
   "metadata": {},
   "outputs": [
    {
     "data": {
      "text/plain": [
       "8.881784197001252e-16"
      ]
     },
     "execution_count": 111,
     "metadata": {},
     "output_type": "execute_result"
    }
   ],
   "source": [
    "(A - L@L.T).sum()"
   ]
  },
  {
   "cell_type": "code",
   "execution_count": 112,
   "id": "1dd0cfa8",
   "metadata": {},
   "outputs": [
    {
     "data": {
      "text/plain": [
       "array([[-0.46930528],\n",
       "       [ 0.67555409],\n",
       "       [-1.81702723],\n",
       "       [-0.18310854],\n",
       "       [ 1.05896919]])"
      ]
     },
     "execution_count": 112,
     "metadata": {},
     "output_type": "execute_result"
    }
   ],
   "source": [
    "b = np.random.normal(size=(5,1))\n",
    "b"
   ]
  },
  {
   "cell_type": "markdown",
   "id": "df2f1501",
   "metadata": {},
   "source": [
    "#### Solve x (a column vector) for: A@x = b"
   ]
  },
  {
   "cell_type": "code",
   "execution_count": 113,
   "id": "68fd3738",
   "metadata": {},
   "outputs": [
    {
     "name": "stdout",
     "output_type": "stream",
     "text": [
      "[[ 0.13624971]\n",
      " [ 2.92071015]\n",
      " [ 0.00602437]\n",
      " [-1.04186471]\n",
      " [ 4.15822019]]\n",
      "[[ 0.13624971]\n",
      " [ 2.92071015]\n",
      " [ 0.00602437]\n",
      " [-1.04186471]\n",
      " [ 4.15822019]]\n"
     ]
    },
    {
     "data": {
      "text/plain": [
       "True"
      ]
     },
     "execution_count": 113,
     "metadata": {},
     "output_type": "execute_result"
    }
   ],
   "source": [
    "# Option 1 with numpy\n",
    "x1 = np.linalg.solve(A, b)\n",
    "print(x1)\n",
    "# Option 2 with scipy\n",
    "L = cho_factor(A, lower=True)\n",
    "x2 = cho_solve(L, b)\n",
    "print(x2)\n",
    "\n",
    "np.allclose(x1, x2)"
   ]
  },
  {
   "cell_type": "markdown",
   "id": "68caed2a",
   "metadata": {},
   "source": [
    "#### A set of correlated variables to covariance matrix "
   ]
  },
  {
   "cell_type": "markdown",
   "id": "08c87ad2",
   "metadata": {},
   "source": [
    "The covariance of a random variable $X$ and $Y$ (mean - and variance 1) is given by, \n",
    "\n",
    "$$\n",
    "\\mbox{cov}(X, Y) = \\mathbb{E}(XY^\\dagger).\n",
    "$$\n",
    "\n",
    "So if we have a collection of uncorrelated, noramlly distributed random variables,\n",
    "\n",
    "$$\n",
    "\\mbox{cov}(X_i, X_j) = \\delta_{i,j} = I\n",
    "$$\n",
    "\n",
    "Suppose we have a set of correlated variables to covariance matrix $C$.  We can do a Cholesky decomposition and write $C = LL^\\dagger$.\n",
    "\n",
    "Suppose we have two random variables in $V$ and $U$ is defined such that $U = LV$.  What is the covariance?\n",
    "\n",
    "\n",
    "$$\n",
    "\\mathbb{E}(UU^\\dagger) = \\mathbb{E}( (LV)(LV)^\\dagger) ) = \\mathbb{E}(LVV^\\dagger L^\\dagger)\n",
    "$$\n",
    "We can factor out $L$,\n",
    "\n",
    "$$\n",
    "L\\mathbb{E}(VV^\\dagger)L^\\dagger = LIL^\\dagger = LL^\\dagger = C\n",
    "$$"
   ]
  },
  {
   "cell_type": "code",
   "execution_count": 114,
   "id": "009787cb",
   "metadata": {},
   "outputs": [
    {
     "data": {
      "text/plain": [
       "array([[ 9.99689376e-01, -4.13407355e-04],\n",
       "       [-4.13407355e-04,  9.99733468e-01]])"
      ]
     },
     "execution_count": 114,
     "metadata": {},
     "output_type": "execute_result"
    }
   ],
   "source": [
    "np.random.seed(18)\n",
    "\n",
    "X = np.random.normal(size=(1000_000, ))\n",
    "Y = np.random.normal(size=(1000_000, ))\n",
    "\n",
    "np.cov(X, Y)"
   ]
  },
  {
   "cell_type": "code",
   "execution_count": 115,
   "id": "4b109181",
   "metadata": {},
   "outputs": [],
   "source": [
    "C = np.array([\n",
    "    [1, 0.5],\n",
    "    [0.5, 1]\n",
    "])"
   ]
  },
  {
   "cell_type": "code",
   "execution_count": 116,
   "id": "71a8574f",
   "metadata": {},
   "outputs": [
    {
     "data": {
      "text/plain": [
       "(2, 1000000)"
      ]
     },
     "execution_count": 116,
     "metadata": {},
     "output_type": "execute_result"
    }
   ],
   "source": [
    "X.shape = (1, X.size)\n",
    "Y.shape = (1, Y.size)\n",
    "XY = np.vstack((X,Y))\n",
    "XY.shape"
   ]
  },
  {
   "cell_type": "code",
   "execution_count": 117,
   "id": "9546c969",
   "metadata": {},
   "outputs": [],
   "source": [
    "L = np.linalg.cholesky(C)"
   ]
  },
  {
   "cell_type": "code",
   "execution_count": 118,
   "id": "b05f2301",
   "metadata": {},
   "outputs": [
    {
     "name": "stdout",
     "output_type": "stream",
     "text": [
      "[[0.99968938 0.49948667]\n",
      " [0.49948667 0.99936442]]\n"
     ]
    }
   ],
   "source": [
    "UV = L @ XY\n",
    "\n",
    "U = UV[0, :]\n",
    "V = UV[1, :]\n",
    "\n",
    "print(np.cov(U, V))"
   ]
  },
  {
   "cell_type": "markdown",
   "id": "085937f0",
   "metadata": {},
   "source": [
    "References:\n",
    "\n",
    "https://github.com/kpmooney/numerical_methods_youtube/blob/master/matrix_decomposition/Cholesky%20Decomposition.ipynb"
   ]
  },
  {
   "cell_type": "code",
   "execution_count": null,
   "id": "9877bbe3",
   "metadata": {},
   "outputs": [],
   "source": []
  }
 ],
 "metadata": {
  "kernelspec": {
   "display_name": "Python 3 (ipykernel)",
   "language": "python",
   "name": "python3"
  },
  "language_info": {
   "codemirror_mode": {
    "name": "ipython",
    "version": 3
   },
   "file_extension": ".py",
   "mimetype": "text/x-python",
   "name": "python",
   "nbconvert_exporter": "python",
   "pygments_lexer": "ipython3",
   "version": "3.9.12"
  }
 },
 "nbformat": 4,
 "nbformat_minor": 5
}

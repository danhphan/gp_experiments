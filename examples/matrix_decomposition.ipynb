{
 "cells": [
  {
   "cell_type": "code",
   "execution_count": 1,
   "id": "da2594e9",
   "metadata": {},
   "outputs": [],
   "source": [
    "import numpy as np"
   ]
  },
  {
   "cell_type": "code",
   "execution_count": 2,
   "id": "88aad343",
   "metadata": {},
   "outputs": [],
   "source": [
    "from numpy.linalg import eigh, norm"
   ]
  },
  {
   "cell_type": "markdown",
   "id": "6ddfde0b",
   "metadata": {},
   "source": [
    "## 1. Singular value decomposition (SVD)"
   ]
  },
  {
   "cell_type": "code",
   "execution_count": 20,
   "id": "f7a4254c",
   "metadata": {},
   "outputs": [],
   "source": [
    "# A = U@D@V.T is the SVD"
   ]
  },
  {
   "cell_type": "code",
   "execution_count": 21,
   "id": "19feffdb",
   "metadata": {},
   "outputs": [],
   "source": [
    "A = np.array([\n",
    "    [-5, 2, 3],\n",
    "    [2, 5, 1],\n",
    "    [-3, 1, -5]\n",
    "])"
   ]
  },
  {
   "cell_type": "code",
   "execution_count": 22,
   "id": "231c56f7",
   "metadata": {},
   "outputs": [
    {
     "data": {
      "text/plain": [
       "array([[38, -3,  2],\n",
       "       [-3, 30,  6],\n",
       "       [ 2,  6, 35]])"
      ]
     },
     "execution_count": 22,
     "metadata": {},
     "output_type": "execute_result"
    }
   ],
   "source": [
    "A.T @ A"
   ]
  },
  {
   "cell_type": "code",
   "execution_count": 23,
   "id": "6159b88a",
   "metadata": {},
   "outputs": [],
   "source": [
    "ev, V = eigh(A.T@A)"
   ]
  },
  {
   "cell_type": "code",
   "execution_count": 24,
   "id": "6daaf055",
   "metadata": {},
   "outputs": [
    {
     "data": {
      "text/plain": [
       "array([25., 39., 39.])"
      ]
     },
     "execution_count": 24,
     "metadata": {},
     "output_type": "execute_result"
    }
   ],
   "source": [
    "ev"
   ]
  },
  {
   "cell_type": "code",
   "execution_count": 25,
   "id": "6f53da6d",
   "metadata": {},
   "outputs": [
    {
     "data": {
      "text/plain": [
       "array([[ 0.26726124, -0.96362411,  0.        ],\n",
       "       [ 0.80178373,  0.22237479,  0.5547002 ],\n",
       "       [-0.53452248, -0.14824986,  0.83205029]])"
      ]
     },
     "execution_count": 25,
     "metadata": {},
     "output_type": "execute_result"
    }
   ],
   "source": [
    "V"
   ]
  },
  {
   "cell_type": "code",
   "execution_count": 26,
   "id": "9cc907b9",
   "metadata": {},
   "outputs": [
    {
     "data": {
      "text/plain": [
       "array([ 0.26726124,  0.80178373, -0.53452248])"
      ]
     },
     "execution_count": 26,
     "metadata": {},
     "output_type": "execute_result"
    }
   ],
   "source": [
    "V[:,0] # First column - first egein vector"
   ]
  },
  {
   "cell_type": "code",
   "execution_count": 27,
   "id": "d15cdbc1",
   "metadata": {},
   "outputs": [],
   "source": [
    "u0 = A@V[:,0] / norm(A@V[:,0])\n",
    "u1 = A@V[:,1] / norm(A@V[:,1])\n",
    "u2 = A@V[:,2] / norm(A@V[:,2])"
   ]
  },
  {
   "cell_type": "code",
   "execution_count": 33,
   "id": "c0684261",
   "metadata": {},
   "outputs": [
    {
     "data": {
      "text/plain": [
       "array([[-0.26726124,  0.77151675,  0.57735027],\n",
       "       [ 0.80178373, -0.15430335,  0.57735027],\n",
       "       [ 0.53452248,  0.6172134 , -0.57735027]])"
      ]
     },
     "execution_count": 33,
     "metadata": {},
     "output_type": "execute_result"
    }
   ],
   "source": [
    "U = np.array([u0, u1, u2]).T\n",
    "U"
   ]
  },
  {
   "cell_type": "code",
   "execution_count": 32,
   "id": "283352cf",
   "metadata": {},
   "outputs": [
    {
     "data": {
      "text/plain": [
       "array([[ 5.   ,  0.   , -0.   ],\n",
       "       [-0.   ,  6.245, -0.   ],\n",
       "       [-0.   , -0.   ,  6.245]])"
      ]
     },
     "execution_count": 32,
     "metadata": {},
     "output_type": "execute_result"
    }
   ],
   "source": [
    "D = np.round(U.T@A@V, decimals=5)\n",
    "D"
   ]
  },
  {
   "cell_type": "code",
   "execution_count": 36,
   "id": "ef6e37a8",
   "metadata": {},
   "outputs": [
    {
     "data": {
      "text/plain": [
       "array([[-5.,  2.,  3.],\n",
       "       [ 2.,  5.,  1.],\n",
       "       [-3.,  1., -5.]])"
      ]
     },
     "execution_count": 36,
     "metadata": {},
     "output_type": "execute_result"
    }
   ],
   "source": [
    "A_hat = np.round(U@D@V.T, decimals=0)\n",
    "A_hat"
   ]
  },
  {
   "cell_type": "markdown",
   "id": "2407f1d8",
   "metadata": {},
   "source": [
    "## 2. Cholesky Decomposition"
   ]
  },
  {
   "cell_type": "markdown",
   "id": "3346d87e",
   "metadata": {},
   "source": [
    "Decompose a diagnal matrix A into the product of a lower triangle maxtrix L and its transpose.\n",
    "\n",
    "A = L@L.T"
   ]
  },
  {
   "cell_type": "code",
   "execution_count": 40,
   "id": "473b5948",
   "metadata": {},
   "outputs": [],
   "source": [
    "import numpy as np\n",
    "from scipy.linalg import cho_factor, cho_solve"
   ]
  },
  {
   "cell_type": "code",
   "execution_count": 51,
   "id": "7968b3cd",
   "metadata": {},
   "outputs": [
    {
     "data": {
      "text/plain": [
       "array([[ 4.2964,  0.0863,  1.5847,  0.6336, -0.1578],\n",
       "       [ 0.0863,  6.9593,  1.9657,  3.6654, -3.813 ],\n",
       "       [ 1.5847,  1.9657,  7.3944, -1.4735, -2.2495],\n",
       "       [ 0.6336,  3.6654, -1.4735,  4.3971, -1.5355],\n",
       "       [-0.1578, -3.813 , -2.2495, -1.5355,  2.5566]])"
      ]
     },
     "execution_count": 51,
     "metadata": {},
     "output_type": "execute_result"
    }
   ],
   "source": [
    "np.random.seed(1234)\n",
    "X = np.round(np.random.normal(size=(5,5)), decimals=2)\n",
    "A = X@X.T\n",
    "A"
   ]
  },
  {
   "cell_type": "code",
   "execution_count": 52,
   "id": "27ab9334",
   "metadata": {},
   "outputs": [
    {
     "data": {
      "text/plain": [
       "array([[ 2.07277592,  0.        ,  0.        ,  0.        ,  0.        ],\n",
       "       [ 0.04163499,  2.63771995,  0.        ,  0.        ,  0.        ],\n",
       "       [ 0.7645303 ,  0.73315925,  2.50447019,  0.        ,  0.        ],\n",
       "       [ 0.30567704,  1.38478429, -1.08704299,  1.09743863,  0.        ],\n",
       "       [-0.07612979, -1.44436499, -0.45213032, -0.00326217,  0.51007997]])"
      ]
     },
     "execution_count": 52,
     "metadata": {},
     "output_type": "execute_result"
    }
   ],
   "source": [
    "L = np.linalg.cholesky(A)\n",
    "L"
   ]
  },
  {
   "cell_type": "code",
   "execution_count": 53,
   "id": "c11b8a09",
   "metadata": {},
   "outputs": [
    {
     "data": {
      "text/plain": [
       "array([[ 4.2964,  0.0863,  1.5847,  0.6336, -0.1578],\n",
       "       [ 0.0863,  6.9593,  1.9657,  3.6654, -3.813 ],\n",
       "       [ 1.5847,  1.9657,  7.3944, -1.4735, -2.2495],\n",
       "       [ 0.6336,  3.6654, -1.4735,  4.3971, -1.5355],\n",
       "       [-0.1578, -3.813 , -2.2495, -1.5355,  2.5566]])"
      ]
     },
     "execution_count": 53,
     "metadata": {},
     "output_type": "execute_result"
    }
   ],
   "source": [
    "L@L.T"
   ]
  },
  {
   "cell_type": "code",
   "execution_count": 58,
   "id": "df3e11fc",
   "metadata": {},
   "outputs": [
    {
     "data": {
      "text/plain": [
       "8.881784197001252e-16"
      ]
     },
     "execution_count": 58,
     "metadata": {},
     "output_type": "execute_result"
    }
   ],
   "source": [
    "(A - L@L.T).sum()"
   ]
  },
  {
   "cell_type": "code",
   "execution_count": 60,
   "id": "fdaaf24c",
   "metadata": {},
   "outputs": [
    {
     "data": {
      "text/plain": [
       "array([[-0.39784023],\n",
       "       [ 0.33743765],\n",
       "       [ 1.04757857],\n",
       "       [ 1.04593826],\n",
       "       [ 0.86371729]])"
      ]
     },
     "execution_count": 60,
     "metadata": {},
     "output_type": "execute_result"
    }
   ],
   "source": [
    "b = np.random.normal(size=(5,1))\n",
    "b"
   ]
  },
  {
   "cell_type": "markdown",
   "id": "7cc130d7",
   "metadata": {},
   "source": [
    "#### Solve x (a column vector) for: A@x = b"
   ]
  },
  {
   "cell_type": "code",
   "execution_count": 75,
   "id": "6794ecd9",
   "metadata": {},
   "outputs": [
    {
     "name": "stdout",
     "output_type": "stream",
     "text": [
      "[[-0.69384777]\n",
      " [ 1.61323158]\n",
      " [ 1.54665403]\n",
      " [ 1.1765828 ]\n",
      " [ 4.76856813]]\n",
      "[[-0.69384777]\n",
      " [ 1.61323158]\n",
      " [ 1.54665403]\n",
      " [ 1.1765828 ]\n",
      " [ 4.76856813]]\n"
     ]
    },
    {
     "data": {
      "text/plain": [
       "True"
      ]
     },
     "execution_count": 75,
     "metadata": {},
     "output_type": "execute_result"
    }
   ],
   "source": [
    "# Option 1 with numpy\n",
    "x1 = np.linalg.solve(A, b)\n",
    "print(x1)\n",
    "# Option 2 with scipy\n",
    "L = cho_factor(A, lower=True)\n",
    "x2 = cho_solve(L, b)\n",
    "print(x2)\n",
    "\n",
    "np.allclose(x1, x2)"
   ]
  },
  {
   "cell_type": "markdown",
   "id": "9a13a4f2",
   "metadata": {},
   "source": [
    "#### A set of correlated variables to covariance matrix "
   ]
  },
  {
   "cell_type": "markdown",
   "id": "f4e40f1f",
   "metadata": {},
   "source": [
    "The covariance of a random variable $X$ and $Y$ (mean - and variance 1) is given by, \n",
    "\n",
    "$$\n",
    "\\mbox{cov}(X, Y) = \\mathbb{E}(XY^\\dagger).\n",
    "$$\n",
    "\n",
    "So if we have a collection of uncorrelated, noramlly distributed random variables,\n",
    "\n",
    "$$\n",
    "\\mbox{cov}(X_i, X_j) = \\delta_{i,j} = I\n",
    "$$\n",
    "\n",
    "Suppose we have a set of correlated variables to covariance matrix $C$.  We can do a Cholesky decomposition and write $C = LL^\\dagger$.\n",
    "\n",
    "Suppose we have two random variables in $V$ and $U$ is defined such that $U = LV$.  What is the covariance?\n",
    "\n",
    "\n",
    "$$\n",
    "\\mathbb{E}(UU^\\dagger) = \\mathbb{E}( (LV)(LV)^\\dagger) ) = \\mathbb{E}(LVV^\\dagger L^\\dagger)\n",
    "$$\n",
    "We can factor out $L$,\n",
    "\n",
    "$$\n",
    "L\\mathbb{E}(VV^\\dagger)L^\\dagger = LIL^\\dagger = LL^\\dagger = C\n",
    "$$"
   ]
  },
  {
   "cell_type": "code",
   "execution_count": 67,
   "id": "b9ebb77b",
   "metadata": {},
   "outputs": [
    {
     "data": {
      "text/plain": [
       "array([[ 9.99689376e-01, -4.13407355e-04],\n",
       "       [-4.13407355e-04,  9.99733468e-01]])"
      ]
     },
     "execution_count": 67,
     "metadata": {},
     "output_type": "execute_result"
    }
   ],
   "source": [
    "np.random.seed(18)\n",
    "\n",
    "X = np.random.normal(size=(1000_000, ))\n",
    "Y = np.random.normal(size=(1000_000, ))\n",
    "\n",
    "np.cov(X, Y)"
   ]
  },
  {
   "cell_type": "code",
   "execution_count": 68,
   "id": "a222e4b6",
   "metadata": {},
   "outputs": [],
   "source": [
    "C = np.array([\n",
    "    [1, 0.5],\n",
    "    [0.5, 1]\n",
    "])"
   ]
  },
  {
   "cell_type": "code",
   "execution_count": 71,
   "id": "2fdb5270",
   "metadata": {},
   "outputs": [
    {
     "data": {
      "text/plain": [
       "(2, 1000000)"
      ]
     },
     "execution_count": 71,
     "metadata": {},
     "output_type": "execute_result"
    }
   ],
   "source": [
    "X.shape = (1, X.size)\n",
    "Y.shape = (1, Y.size)\n",
    "XY = np.vstack((X,Y))\n",
    "XY.shape"
   ]
  },
  {
   "cell_type": "code",
   "execution_count": 72,
   "id": "15793422",
   "metadata": {},
   "outputs": [],
   "source": [
    "L = np.linalg.cholesky(C)"
   ]
  },
  {
   "cell_type": "code",
   "execution_count": 74,
   "id": "1c08e6ff",
   "metadata": {},
   "outputs": [
    {
     "name": "stdout",
     "output_type": "stream",
     "text": [
      "[[0.99968938 0.49948667]\n",
      " [0.49948667 0.99936442]]\n"
     ]
    }
   ],
   "source": [
    "UV = L @ XY\n",
    "\n",
    "U = UV[0, :]\n",
    "V = UV[1, :]\n",
    "\n",
    "print(np.cov(U, V))"
   ]
  },
  {
   "cell_type": "code",
   "execution_count": null,
   "id": "77735bf0",
   "metadata": {},
   "outputs": [],
   "source": []
  },
  {
   "cell_type": "code",
   "execution_count": null,
   "id": "6e3b9be2",
   "metadata": {},
   "outputs": [],
   "source": []
  },
  {
   "cell_type": "markdown",
   "id": "e2227576",
   "metadata": {},
   "source": [
    "https://github.com/kpmooney/numerical_methods_youtube/blob/master/matrix_decomposition/Cholesky%20Decomposition.ipynb"
   ]
  },
  {
   "cell_type": "code",
   "execution_count": null,
   "id": "ab2e852b",
   "metadata": {},
   "outputs": [],
   "source": []
  }
 ],
 "metadata": {
  "kernelspec": {
   "display_name": "Python 3 (ipykernel)",
   "language": "python",
   "name": "python3"
  },
  "language_info": {
   "codemirror_mode": {
    "name": "ipython",
    "version": 3
   },
   "file_extension": ".py",
   "mimetype": "text/x-python",
   "name": "python",
   "nbconvert_exporter": "python",
   "pygments_lexer": "ipython3",
   "version": "3.9.12"
  }
 },
 "nbformat": 4,
 "nbformat_minor": 5
}
